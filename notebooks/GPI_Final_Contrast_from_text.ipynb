{
 "cells": [
  {
   "cell_type": "code",
   "execution_count": null,
   "metadata": {
    "collapsed": true
   },
   "outputs": [],
   "source": [
    "import glob\n",
    "import pandas as pd\n",
    "import os\n",
    "from astropy.io import ascii\n",
    "import time\n",
    "import numpy as np"
   ]
  },
  {
   "cell_type": "code",
   "execution_count": null,
   "metadata": {
    "collapsed": false
   },
   "outputs": [],
   "source": [
    "targdirs = glob.glob('/data/Dropbox (GPI)/GPIDATA/'+'/*')\n",
    "if not targdirs:\n",
    "    raise Exception('%s has not contents')\n",
    "\n",
    "ct = 1\n",
    "ct2 = 0\n",
    "\n",
    "allfinaldat = pd.DataFrame();\n",
    "\n",
    "for targdir in targdirs:\n",
    "    dname = targdir.split('/')[-1]\n",
    "    if (ct-1)%20 == 0:\n",
    "        print(\"Starting %s, which is directory %g of %g...\" % (dname,ct,len(targdirs)))\n",
    "\n",
    "    # let's only look at H spec data\n",
    "    txtlist = glob.glob(targdir+'/autoreduced/*H_Spec/contrast-*.txt')\n",
    "\n",
    "    # create a dictionary of values for each target, then append to master Pandas DF\n",
    "    tmpdict = {}\n",
    "    for txtpath in txtlist:\n",
    "        txtname = txtpath.split('/')[-1]  # contrast-Syyyymmdd-H.txt\n",
    "        txtname1 = txtname.split('.')[-2] # contrast-Syyymmdd-H\n",
    "        autodir = txtpath.split('/')[-2]  # yyyymmdd_H_Spec\n",
    "        ifsmode = autodir.split('_')[-1]  # Spec\n",
    "\n",
    "        dat = ascii.read(txtpath)\n",
    "\n",
    "        # observation parameters\n",
    "        tmpdict['datestr'] = dat.meta['Date']\n",
    "        tmpdict['band'] = dat.meta['Band']\n",
    "        tmpdict['mode'] = ifsmode\n",
    "        tmpdict['fov_rot'] = dat.meta['Field Rotation']\n",
    "        tmpdict['object']  = dat.meta['Object']\n",
    "        tmpdict['object_'] = targdir.split('/')[-1]\n",
    "        tmpdict['n_imgs'] = len(dat.meta['InputFiles'].split(','))\n",
    "\n",
    "        # contrasts\n",
    "        for sep in [0.25, 0.4, 0.8, 1.1]:\n",
    "            #print sep\n",
    "            tmp = np.abs(dat['Seps'] - sep)\n",
    "            sepidx = tmp==tmp.min()\n",
    "            if sum(sepidx) == 1:\n",
    "                tmpdict['C%i_flat'%(sep*100)] = dat['L-Type'][sepidx][0]\n",
    "                tmpdict['C%i_CH4'%(sep*100)] = dat['T-Type'][sepidx][0]\n",
    "            else:\n",
    "                print('WTF? 0 or >1 seps found for '+str(sep))\n",
    "                tmpdict['C%i_flat'%(sep*100)] = np.nan\n",
    "                tmpdict['C%i_CH4'%(sep*100)] = np.nan\n",
    "\n",
    "        # append to master dataframe\n",
    "        df = pd.DataFrame(tmpdict, index=[ct2])\n",
    "        if len(allfinaldat) != 0:\n",
    "            allfinaldat = allfinaldat.append(df)\n",
    "        else:\n",
    "            allfinaldat = df\n",
    "        ct2+=1\n",
    "\n",
    "    ct+=1\n",
    "\n",
    "savedir = os.environ[\"HOME\"]+'/Results/datatables/'\n",
    "\n",
    "todaydate = time.strftime('%Y%m%d')\n",
    "print('saving files to '+savedir)\n",
    "#allfinaldat.to_excel(savedir+\"Final_HSpec_Contrasts_\"+todaydate+\".xls\", index=False,float_format='%.3e')\n",
    "allfinaldat.to_csv(savedir+\"Final_HSpec_Contrasts_\"+todaydate+\".txt\", index=False,float_format='%.3e')\n",
    "print('done')"
   ]
  },
  {
   "cell_type": "code",
   "execution_count": null,
   "metadata": {
    "collapsed": true
   },
   "outputs": [],
   "source": []
  }
 ],
 "metadata": {
  "kernelspec": {
   "display_name": "Python [anaconda3]",
   "language": "python",
   "name": "Python [anaconda3]"
  },
  "language_info": {
   "codemirror_mode": {
    "name": "ipython",
    "version": 3
   },
   "file_extension": ".py",
   "mimetype": "text/x-python",
   "name": "python",
   "nbconvert_exporter": "python",
   "pygments_lexer": "ipython3",
   "version": "3.5.6"
  }
 },
 "nbformat": 4,
 "nbformat_minor": 2
}
