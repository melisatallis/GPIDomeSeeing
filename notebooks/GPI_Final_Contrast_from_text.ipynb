{
 "cells": [
  {
   "cell_type": "code",
   "execution_count": 1,
   "metadata": {},
   "outputs": [],
   "source": [
    "import glob\n",
    "import pandas as pd\n",
    "import os\n",
    "from astropy.io import ascii\n",
    "import time\n",
    "import numpy as np"
   ]
  },
  {
   "cell_type": "code",
   "execution_count": null,
   "metadata": {},
   "outputs": [],
   "source": [
    "targdirs = glob.glob('/data/Dropbox (GPI)/GPIDATA/')"
   ]
  },
  {
   "cell_type": "code",
   "execution_count": null,
   "metadata": {},
   "outputs": [],
   "source": [
    "targdirs = glob.glob(os.environ['GPI_DROPBOX_GPIDATA']+'/*')\n",
    "if not targdirs:\n",
    "    raise Exception('%s has not contents')\n",
    "\n",
    "ct = 1\n",
    "ct2 = 0\n",
    "\n",
    "allfinaldat = pd.DataFrame();\n",
    "\n",
    "for targdir in targdirs:\n",
    "    dname = targdir.split('/')[-1]\n",
    "    if (ct-1)%20 == 0:\n",
    "        print \"Starting %s, which is directory %g of %g...\" % (dname,ct,len(targdirs))\n",
    "\n",
    "    # let's only look at H spec data\n",
    "    txtlist = glob.glob(targdir+'/autoreduced/*H_Spec/contrast-*.txt')\n",
    "\n",
    "    # create a dictionary of values for each target, then append to master Pandas DF\n",
    "    tmpdict = {}\n",
    "    for txtpath in txtlist:\n",
    "        txtname = txtpath.split('/')[-1]  # contrast-Syyyymmdd-H.txt\n",
    "        txtname1 = txtname.split('.')[-2] # contrast-Syyymmdd-H\n",
    "        autodir = txtpath.split('/')[-2]  # yyyymmdd_H_Spec\n",
    "        ifsmode = autodir.split('_')[-1]  # Spec\n",
    "\n",
    "        dat = ascii.read(txtpath)\n",
    "\n",
    "        # observation parameters\n",
    "        tmpdict['datestr'] = dat.meta['Date']\n",
    "        tmpdict['band'] = dat.meta['Band']\n",
    "        tmpdict['mode'] = ifsmode\n",
    "        tmpdict['fov_rot'] = dat.meta['Field Rotation']\n",
    "        tmpdict['object']  = dat.meta['Object']\n",
    "        tmpdict['object_'] = targdir.split('/')[-1]\n",
    "        tmpdict['n_imgs'] = len(dat.meta['InputFiles'].split(','))\n",
    "\n",
    "        # contrasts\n",
    "        for sep in [0.25, 0.4, 0.8, 1.1]:\n",
    "            #print sep\n",
    "            tmp = np.abs(dat['Seps'] - sep)\n",
    "            sepidx = tmp==tmp.min()\n",
    "            if sum(sepidx) == 1:\n",
    "                tmpdict['C%i_flat'%(sep*100)] = dat['L-Type'][sepidx][0]\n",
    "                tmpdict['C%i_CH4'%(sep*100)] = dat['T-Type'][sepidx][0]\n",
    "            else:\n",
    "                print 'WTF? 0 or >1 seps found for '+str(sep)\n",
    "                tmpdict['C%i_flat'%(sep*100)] = np.nan\n",
    "                tmpdict['C%i_CH4'%(sep*100)] = np.nan\n",
    "\n",
    "        # append to master dataframe\n",
    "        df = pd.DataFrame(tmpdict, index=[ct2])\n",
    "        if len(allfinaldat) != 0:\n",
    "            allfinaldat = allfinaldat.append(df)\n",
    "        else:\n",
    "            allfinaldat = df\n",
    "        ct2+=1\n",
    "\n",
    "    ct+=1\n",
    "\n",
    "savedir = os.environ[\"HOME\"]+'/gpi_data/Contrasts/'\n",
    "\n",
    "todaydate = time.strftime('%Y%m%d')\n",
    "print 'saving files to '+savedir\n",
    "allfinaldat.to_excel(savedir+\"Final_HSpec_Contrasts_\"+todaydate+\".xls\", index=False,float_format='%.3e')\n",
    "allfinaldat.to_csv(savedir+\"Final_HSpec_Contrasts_\"+todaydate+\".txt\", index=False,float_format='%.3e')\n",
    "print 'done'"
   ]
  },
  {
   "cell_type": "code",
   "execution_count": 6,
   "metadata": {},
   "outputs": [
    {
     "name": "stdout",
     "output_type": "stream",
     "text": [
      "environ({'TERM_PROGRAM': 'Apple_Terminal', 'SHELL': '/bin/bash', 'TERM': 'xterm-color', 'TMPDIR': '/var/folders/l1/311bzmy97hzdl408qzdn73m40000gs/T/', 'Apple_PubSub_Socket_Render': '/private/tmp/com.apple.launchd.ykTe9GlHnP/Render', 'TERM_PROGRAM_VERSION': '404.1', 'OLDPWD': '/Users/MelisaT', 'TERM_SESSION_ID': '11C2508C-9057-45CB-94F3-CBA5435C32EA', 'USER': 'MelisaT', 'SSH_AUTH_SOCK': '/private/tmp/com.apple.launchd.IatbnLiNWn/Listeners', 'PATH': '/Users/MelisaT/anaconda/bin:/Users/MelisaT/anaconda/bin:/usr/local/bin:/usr/bin:/bin:/usr/sbin:/sbin:/opt/X11/bin:/usr/local/Cellar/mysql/5.7.21/bin', 'PWD': '/Users/MelisaT/Documents/Research/GPIDomeSeeing/GPIDomeSeeing/notebooks', 'LANG': 'en_US.UTF-8', 'XPC_FLAGS': '0x0', 'XPC_SERVICE_NAME': '0', 'SHLVL': '1', 'HOME': '/Users/MelisaT', 'PYTHONPATH': ':/Users/MelisaT/GPI/database', 'LOGNAME': 'MelisaT', 'DISPLAY': '/private/tmp/com.apple.launchd.yetcTrbKT2/org.macosforge.xquartz:0', '_': '/Users/MelisaT/anaconda/bin/jupyter', '__CF_USER_TEXT_ENCODING': '0x1F9:0x0:0x0', 'JPY_PARENT_PID': '2905', 'CLICOLOR': '1', 'PAGER': 'cat', 'GIT_PAGER': 'cat', 'MPLBACKEND': 'module://ipykernel.pylab.backend_inline'})\n"
     ]
    }
   ],
   "source": [
    "print(os.environ)"
   ]
  },
  {
   "cell_type": "code",
   "execution_count": null,
   "metadata": {},
   "outputs": [],
   "source": []
  }
 ],
 "metadata": {
  "kernelspec": {
   "display_name": "Python 3",
   "language": "python",
   "name": "python3"
  },
  "language_info": {
   "codemirror_mode": {
    "name": "ipython",
    "version": 3
   },
   "file_extension": ".py",
   "mimetype": "text/x-python",
   "name": "python",
   "nbconvert_exporter": "python",
   "pygments_lexer": "ipython3",
   "version": "3.6.0"
  }
 },
 "nbformat": 4,
 "nbformat_minor": 2
}
