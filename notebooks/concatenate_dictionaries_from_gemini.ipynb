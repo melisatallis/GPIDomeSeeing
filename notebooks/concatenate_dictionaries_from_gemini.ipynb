{
 "cells": [
  {
   "cell_type": "markdown",
   "metadata": {},
   "source": [
    "# Concatantae dictionaries from Gemini"
   ]
  },
  {
   "cell_type": "markdown",
   "metadata": {},
   "source": [
    "We have two .pkl files contain telemetry data taken by sensors that are placed throughout the telescope and dome from different years. The file contains dictionaries with the following hierarchy.  \n",
    "\n",
    "Example: \n",
    "\n",
    "level1 --> ['T_M1+Y','T_M1-Y','T_TrussAirLow+X',....] \n",
    "\n",
    "level2 --> [u'units', u'dts', u'secs', u'vals',.....] \n",
    "\n",
    "level3 --> [0.0, 11.4, 11.42, 11.35, .....] \n",
    "\n",
    "We combine the values of the two outer dictionaries to a single dictionary of the exact same structure. We dump the new dictionary into a pkl file and read it in. After reading in the file, we convert it to a pandas dataframe. "
   ]
  },
  {
   "cell_type": "markdown",
   "metadata": {},
   "source": [
    "Import modules"
   ]
  },
  {
   "cell_type": "code",
   "execution_count": 1,
   "metadata": {
    "collapsed": true
   },
   "outputs": [],
   "source": [
    "import numpy as np\n",
    "import pandas as pd\n",
    "import matplotlib.pyplot as plt\n",
    "import astropy.time as aptime\n",
    "from scipy import interpolate\n",
    "from pandas import Index\n",
    "import copy\n",
    "from scipy import stats\n",
    "import cPickle as pickle"
   ]
  },
  {
   "cell_type": "markdown",
   "metadata": {},
   "source": [
    "Load all the pkl files. pkl files have to be in python2 format. See notebook \"Outputting_to_python_2_compatible_pickle_file.ipynb\" to convert .pkl files from python3 to python2 format."
   ]
  },
  {
   "cell_type": "code",
   "execution_count": 16,
   "metadata": {
    "collapsed": true
   },
   "outputs": [],
   "source": [
    "pkl = open('GS-env-2014_p2.pkl', 'rb')\n",
    "dic1 = pickle.load(pkl)\n",
    "\n",
    "pkl = open('GS-env-2015_p2.pkl', 'rb')\n",
    "dic2 = pickle.load(pkl)\n",
    "\n",
    "pkl = open('GS-env-2016_p2.pkl', 'rb')\n",
    "dic3 = pickle.load(pkl)\n",
    "\n",
    "pkl = open('GS-env-2017_p2.pkl', 'rb')\n",
    "dic4 = pickle.load(pkl)\n",
    "\n",
    "pkl = open('GS-env-2018_p2.pkl', 'rb')\n",
    "dic5 = pickle.load(pkl)\n",
    "\n",
    "pkl.close()"
   ]
  },
  {
   "cell_type": "markdown",
   "metadata": {},
   "source": [
    "Concatenate the dictionaries in a way that maintains origibal collumn format"
   ]
  },
  {
   "cell_type": "code",
   "execution_count": 5,
   "metadata": {
    "collapsed": false
   },
   "outputs": [],
   "source": [
    "from itertools import chain\n",
    "from collections import defaultdict\n",
    "\n",
    "df = {}\n",
    "\n",
    "for sensor in dic1:\n",
    "    df[sensor] = defaultdict(list)\n",
    "    for k, v in chain(dic1[sensor].items(), dic2[sensor].items(), dic3[sensor].items(), dic4[sensor].items(),dic5[sensor].items()):\n",
    "        if type(v) is list:\n",
    "            df[sensor][k].extend(v)\n",
    "        else: df[sensor][k].append(v)        "
   ]
  },
  {
   "cell_type": "markdown",
   "metadata": {},
   "source": [
    "Dump dataframe into pkl. file"
   ]
  },
  {
   "cell_type": "code",
   "execution_count": 6,
   "metadata": {
    "collapsed": true
   },
   "outputs": [],
   "source": [
    "pickle.dump(df, open( \"GS-env-2014-19_p2.pkl\", \"wb\" ))"
   ]
  },
  {
   "cell_type": "code",
   "execution_count": null,
   "metadata": {
    "collapsed": true
   },
   "outputs": [],
   "source": []
  }
 ],
 "metadata": {
  "kernelspec": {
   "display_name": "Python 2",
   "language": "python",
   "name": "python2"
  },
  "language_info": {
   "codemirror_mode": {
    "name": "ipython",
    "version": 2
   },
   "file_extension": ".py",
   "mimetype": "text/x-python",
   "name": "python",
   "nbconvert_exporter": "python",
   "pygments_lexer": "ipython2",
   "version": "2.7.13"
  }
 },
 "nbformat": 4,
 "nbformat_minor": 2
}
