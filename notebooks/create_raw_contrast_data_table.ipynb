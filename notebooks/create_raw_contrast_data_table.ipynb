{
 "cells": [
  {
   "cell_type": "markdown",
   "metadata": {},
   "source": [
    "# Import modules"
   ]
  },
  {
   "cell_type": "code",
   "execution_count": 1,
   "metadata": {
    "collapsed": true
   },
   "outputs": [],
   "source": [
    "import numpy as np\n",
    "import pandas as pd\n",
    "import matplotlib.pyplot as plt\n",
    "import matplotlib.dates as mdates\n",
    "import copy\n",
    "import pytz\n",
    "import datetime \n",
    "import cPickle as pickle\n",
    "import astral\n",
    "import astropy.time as aptime\n",
    "from scipy import stats\n",
    "from scipy import interpolate\n",
    "import os\n",
    "import glob"
   ]
  },
  {
   "cell_type": "markdown",
   "metadata": {},
   "source": [
    "# Load GPI raw data"
   ]
  },
  {
   "cell_type": "code",
   "execution_count": 5,
   "metadata": {
    "collapsed": false,
    "scrolled": false
   },
   "outputs": [
    {
     "name": "stdout",
     "output_type": "stream",
     "text": [
      "27538\n"
     ]
    }
   ],
   "source": [
    "txt_file1 = pd.read_csv('IFS_AllOnSky_RawDistorcorr_CleanSee30_20190212.txt')\n",
    "txt_file1_copy = copy.copy(txt_file1)\n",
    "raw_contrast_data= pd.DataFrame(txt_file1_copy)\n",
    "print len(raw_contrast_data)\n",
    "\n",
    "raw_contrast_data['dts'] = aptime.Time(raw_contrast_data['MJDOBS'], format='mjd').datetime \n",
    "raw_contrast_data['dts'] = raw_contrast_data['dts'].dt.tz_localize(pytz.UTC)"
   ]
  },
  {
   "cell_type": "markdown",
   "metadata": {},
   "source": [
    "# GPI logs"
   ]
  },
  {
   "cell_type": "code",
   "execution_count": 8,
   "metadata": {
    "collapsed": false
   },
   "outputs": [],
   "source": [
    "#  Get list of all the datafiles we want to read in  \n",
    "path = os.environ[\"HOME\"] + r'/Downloads/individual/'  \n",
    "all_data_files = pd.Series(glob.glob(os.path.join(path, \"*.log\")))\n",
    "data_files = all_data_files[all_data_files.str.contains('OMSS_AO_Bench_temperature|OE_Interior_Air_temperature|OMSS_Interface_Structure_temperature|OMSS_Mounting_Frame_temperature|Outside_OE_temperature')]\n",
    "\n",
    "#  load and concat csv files \n",
    "gpi_logs = pd.concat(map(lambda file: pd.read_csv(file, header=None, dtype={'0':object,'1': np.float64}, \n",
    "        names = ['dts',os.path.splitext(os.path.basename(file))[0]]), data_files),axis = 1)\n",
    "\n",
    "#  remove duplicated columns and sort by date\n",
    "gpi_logs = gpi_logs.iloc[:, ~gpi_logs.columns.duplicated()] # remove duplicate columns\n",
    "gpi_logs['dts'] = pd.to_datetime(gpi_logs['dts']).dt.tz_localize(pytz.UTC) \n",
    "gpi_logs = gpi_logs.sort_values(by='dts').set_index(np.arange(len(gpi_logs)))\n",
    "\n",
    "#  Remove outlier points using a mask\n",
    "mask = (gpi_logs.loc[:,list(gpi_logs.columns != 'dts')] < 40.) & (gpi_logs.loc[:,list(gpi_logs.columns != 'dts')] != 0) & (gpi_logs.loc[:,list(gpi_logs.columns != 'dts')] > -40.)\n",
    "mask['dts'] = True\n",
    "gpi_logs = gpi_logs[mask]\n"
   ]
  },
  {
   "cell_type": "markdown",
   "metadata": {},
   "source": [
    "merge gpi logs with raw contrast data"
   ]
  },
  {
   "cell_type": "code",
   "execution_count": 9,
   "metadata": {
    "collapsed": true
   },
   "outputs": [],
   "source": [
    "raw_contrast_data = pd.merge_asof(raw_contrast_data,gpi_logs, on='dts',tolerance=pd.Timedelta('60min'))"
   ]
  },
  {
   "cell_type": "code",
   "execution_count": 10,
   "metadata": {
    "collapsed": false
   },
   "outputs": [
    {
     "name": "stdout",
     "output_type": "stream",
     "text": [
      "24155\n",
      "OE_Interior_Air_temperature 3114\n",
      "OMSS_AO_Bench_temperature 7573\n",
      "OMSS_Interface_Structure_temperature 3114\n",
      "OMSS_Mounting_Frame_temperature 3114\n",
      "Outside_OE_temperature 3983\n"
     ]
    }
   ],
   "source": [
    "sensor_list = raw_contrast_data.columns[-5:]\n",
    "\n",
    "print len(raw_contrast_data)\n",
    "for sensor in sensor_list:\n",
    "    print sensor,sum(~np.isfinite(pd.to_numeric(raw_contrast_data[sensor],errors='coerce')))  "
   ]
  },
  {
   "cell_type": "markdown",
   "metadata": {},
   "source": [
    "# Load GS env data"
   ]
  },
  {
   "cell_type": "code",
   "execution_count": 11,
   "metadata": {
    "collapsed": false,
    "scrolled": true
   },
   "outputs": [
    {
     "name": "stdout",
     "output_type": "stream",
     "text": [
      "320689\n"
     ]
    }
   ],
   "source": [
    "txt_file2 = pd.read_csv('GS_env_20180527.csv')\n",
    "txt_file2_copy = copy.copy(txt_file2)\n",
    "GS_env_data = pd.DataFrame(txt_file2_copy)\n",
    "print len(GS_env_data)\n",
    "\n",
    "GS_env_data['dts'] = aptime.Time(GS_env_data['MJDOBS'], format='mjd').datetime \n",
    "GS_env_data['dts'] = GS_env_data['dts'].dt.tz_localize(pytz.UTC)"
   ]
  },
  {
   "cell_type": "code",
   "execution_count": 13,
   "metadata": {
    "collapsed": true
   },
   "outputs": [],
   "source": [
    "GS_env_data = GS_env_data.drop(['MJDOBS'], axis=1)"
   ]
  },
  {
   "cell_type": "markdown",
   "metadata": {},
   "source": [
    "# Calibrate raw WFE measurements"
   ]
  },
  {
   "cell_type": "code",
   "execution_count": 14,
   "metadata": {
    "collapsed": true
   },
   "outputs": [],
   "source": [
    "raw_contrast_data['cal_wfe']= raw_contrast_data['RawDPwfe']*.81 - 20.06"
   ]
  },
  {
   "cell_type": "markdown",
   "metadata": {},
   "source": [
    "# Merge GS and GPI data"
   ]
  },
  {
   "cell_type": "code",
   "execution_count": 15,
   "metadata": {
    "collapsed": true
   },
   "outputs": [],
   "source": [
    "GS_GPI_data = pd.merge_asof(raw_contrast_data,GS_env_data,on='dts',tolerance=pd.Timedelta('30min'))"
   ]
  },
  {
   "cell_type": "code",
   "execution_count": 16,
   "metadata": {
    "collapsed": false
   },
   "outputs": [
    {
     "data": {
      "text/plain": [
       "Index([u'DATAFILE', u'DATALAB', u'OBJNAME', u'DATESTR', u'UTSTART', u'MJDOBS',\n",
       "       u'ITIME', u'COADDS', u'OBSMODE', u'DISPERSR', u'IFSFILT', u'AOFRAMES',\n",
       "       u'AOSPATIA', u'HMAG', u'IMAG', u'AOFLUX', u'RawDPwfe', u'PAR_ANG',\n",
       "       u'PA', u'IAA', u'AZIMUTH', u'ELEVATIO', u'AIRMASS', u'AMSTART',\n",
       "       u'AMEND', u'WINDM2', u'WINDM2DR', u'WINDDIRE', u'WINDSPEE', u'TAMBIENT',\n",
       "       u'OMSATEMP', u'GLITEMP', u'GLOTEMP', u'MASSSEE', u'MASSTAU', u'DIMMSEE',\n",
       "       u'MASS05CN', u'MASS1CN2', u'MASS2CN2', u'MASS4CN2', u'MASS8CN2',\n",
       "       u'MASS16CN', u'MASSISOP', u'DRPDATE', u'CONTR025', u'CONTR040',\n",
       "       u'CONTR080', u'dts', u'OE_Interior_Air_temperature',\n",
       "       u'OMSS_AO_Bench_temperature', u'OMSS_Interface_Structure_temperature',\n",
       "       u'OMSS_Mounting_Frame_temperature', u'Outside_OE_temperature',\n",
       "       u'cal_wfe', u'T_M1+Y', u'T_M1-Y', u'T_TrussAirLow+X',\n",
       "       u'T_TrussAirMid+X', u'T_TrussAirTop+X', u'T_TrussSurLow+X',\n",
       "       u'T_TrussSurMid+X', u'T_TrussSurTop+X', u'T_twr', u'M1_avg', u'dome',\n",
       "       u'dome_low', u'dome_mid', u'dome_top'],\n",
       "      dtype='object')"
      ]
     },
     "execution_count": 16,
     "metadata": {},
     "output_type": "execute_result"
    }
   ],
   "source": [
    "GS_GPI_data.keys()"
   ]
  },
  {
   "cell_type": "markdown",
   "metadata": {},
   "source": [
    "# Add sunset, sunrise, night number columns to raw gpi data"
   ]
  },
  {
   "cell_type": "markdown",
   "metadata": {},
   "source": [
    "Need to include a description of the astral package and how it's used to compute dates..."
   ]
  },
  {
   "cell_type": "code",
   "execution_count": 17,
   "metadata": {
    "collapsed": true
   },
   "outputs": [],
   "source": [
    "def sunrise_and_sunset_info(dataframe):\n",
    "    #  Create colums with datetimes and make them timezone aware\n",
    "    #dataframe['dts'] = aptime.Time(dataframe['MJDOBS'], format='mjd').datetime \n",
    "    #dataframe['dts'] = dataframe['dts'].dt.tz_localize(pytz.UTC)\n",
    "\n",
    "    #  Create colums with sunrise and sunset times in UTC time\n",
    "    location = astral.Astral()['Santiago']\n",
    "    timezone=location.timezone\n",
    "    dataframe['sunset_utc'] = dataframe['dts'].apply(astral.Astral().sunset_utc,args=(location.latitude,location.longitude))\n",
    "    dataframe['sunrise_utc'] = dataframe['dts'].apply(astral.Astral().sunrise_utc,args=(location.latitude,location.longitude))\n",
    "\n",
    "    #  Calculate time difference from sunset in hours\n",
    "    dataframe['time_from_sunset'] = dataframe['dts']-dataframe['sunset_utc']\n",
    "\n",
    "    #  Dates that use sunsets of the following day\n",
    "    ind = np.where(dataframe['time_from_sunset'].dt.days == -1)[0]\n",
    "    dataframe.loc[ind,'sunset_utc'] = (dataframe['dts'][ind]-datetime.timedelta(days =1)).apply(astral.Astral().sunset_utc,args=(location.latitude,location.longitude))\n",
    "\n",
    "    #  Calculate time difference of observation from sunset after adjusting sunset times\n",
    "    #  Calculate time difference of observation from sunset in hours\n",
    "    dataframe['time_from_sunset'] = (dataframe['dts']-dataframe['sunset_utc'])\n",
    "    dataframe['hours_from_sunset'] = dataframe['time_from_sunset'].dt.seconds/3600.\n",
    "\n",
    "    #  Make changes when dates that use sunsets of following date\n",
    "    ind1 = np.where(dataframe['sunset_utc'] > dataframe['dts'])[0]\n",
    "    dataframe.loc[ind1,'sunset_utc'] = (dataframe.loc[ind1,'dts']-datetime.timedelta(days =1)).apply(astral.Astral().sunset_utc,args=(location.latitude,location.longitude))\n",
    "\n",
    "    #  Make changes when dates that use sunrise of following date\n",
    "    ind2 = np.where(dataframe['sunrise_utc'] > dataframe['dts'])[0]\n",
    "    dataframe.loc[ind2,'sunrise_utc'] = (dataframe.loc[ind2,'dts']-datetime.timedelta(days =1)).apply(astral.Astral().sunrise_utc,args=(location.latitude,location.longitude))\n",
    "\n",
    "    #  Calculate time difference of observation from sunset after adjusting sunset times\n",
    "    #  Calculate time difference of observation from sunset in hours\n",
    "    dataframe['time_from_sunset'] = (dataframe['dts']-dataframe['sunset_utc'])\n",
    "    dataframe['hours_from_sunset'] = dataframe['time_from_sunset'].dt.seconds/3600.\n",
    "\n",
    "    #  Calculate time difference of observation from sunrise after adjusting sunset times\n",
    "    #  Calculate time difference of observation from sunrise in hours\n",
    "    dataframe['time_from_sunrise'] = (dataframe['dts']-dataframe['sunrise_utc'])\n",
    "    dataframe['hours_from_sunrise'] = dataframe['time_from_sunrise'].dt.seconds/3600.\n",
    "\n",
    "\n",
    "    #  Assign column with night number\n",
    "    dataframe['night_number'] = np.ones(len(dataframe))\n",
    "    d0 = dataframe['sunset_utc'].dt.date\n",
    "    d1 = np.roll(d0,-1)\n",
    "    d1[-1] = np.nan\n",
    "    extrema = np.where(d0 != d1)[0]\n",
    "    start = 0\n",
    "    val = 1\n",
    "\n",
    "    for new_night in extrema:\n",
    "        dataframe.loc[start:new_night,'night_number'] = val\n",
    "        start = new_night + 1\n",
    "        val = val + 1\n",
    "    \n",
    "    #  Select data only taken during night hours\n",
    "    night_hrs = np.where(dataframe['hours_from_sunset'] < dataframe['hours_from_sunrise'])[0]\n",
    "    dataframe = dataframe.iloc[night_hrs]\n",
    "    \n",
    "    new_ind = np.arange(len(dataframe))\n",
    "    dataframe = dataframe.set_index(new_ind)\n",
    "    \n",
    "    return dataframe"
   ]
  },
  {
   "cell_type": "code",
   "execution_count": 18,
   "metadata": {
    "collapsed": false
   },
   "outputs": [],
   "source": [
    "GS_GPI_data = sunrise_and_sunset_info(GS_GPI_data)"
   ]
  },
  {
   "cell_type": "code",
   "execution_count": 4,
   "metadata": {
    "collapsed": true
   },
   "outputs": [],
   "source": [
    "raw_contrast_data = sunrise_and_sunset_info(raw_contrast_data)"
   ]
  },
  {
   "cell_type": "markdown",
   "metadata": {},
   "source": [
    "# Compute dT for temparature column"
   ]
  },
  {
   "cell_type": "markdown",
   "metadata": {},
   "source": [
    "The purpose of this function is to compute derivatives of temperature data that are sampled unevenly. I accompish this by interpolating temperatures for each night of data and then taking the derivative of that interpolated function. The input for the function is the name of the IFS dataframe and the name of the temperature sensor. The output is a list of rates of temperature change for all the nights in order.   \n",
    "\n",
    "1. I create an empty dataframe where I will append derivative values for all nights of data in order. \n",
    "\n",
    "2. I seperate the IFS data frame into single night dataframes. Each single night dataframe consists of the exact same columns as the IFS dataframe.\n",
    "\n",
    "3. I itterate over each night of data and check whether there are enough data points to interpolate over. If there are less than four data points, then I append nans in the empty dataframe as placeholders.\n",
    "\n",
    "4. If there are more than four data points, I store the time stamps(MJD format) in one variable and the temperature values in another variable.\n",
    "\n",
    "5. I calculate the number of knots to interpolate over by inputing the list of time stamps, the list of temperature values, and the list of weights calculated by taking the standard deviation of temperatures and diving it from 1. Documentation of the function I used to calculate knots is listed below. \n",
    "http://man.hubwiz.com/docset/SciPy.docset/Contents/Resources/Documents/doc/generated/scipy.interpolate.splrep.html\n",
    "\n",
    "6. I interpolate over the data points using a spline fit and then I take it's derivative. Documentation of the function I used to interpolate through knots is listed below.  \n",
    "http://man.hubwiz.com/docset/SciPy.docset/Contents/Resources/Documents/doc/generated/scipy.interpolate.splev.html#scipy.interpolate.splev\n",
    "\n",
    "7. I append each night of  derivative values in the empty dataframe I had previously created. \n",
    "\n",
    "8. I return the dataframe consiting of one column with derivative values for all the nights in order. "
   ]
  },
  {
   "cell_type": "code",
   "execution_count": 19,
   "metadata": {
    "collapsed": true
   },
   "outputs": [],
   "source": [
    "def calc_dspline_fit(dataframe,temp):\n",
    "    grouped = dataframe.groupby(['OBJNAME','DATESTR'])\n",
    "    \n",
    "    for i in dataframe.groupby(['OBJNAME','DATESTR']):\n",
    "        x = i[1]['MJDOBS']*24\n",
    "        y = pd.to_numeric(i[1][temp],errors='coerce')\n",
    "        \n",
    "        if len(x)>4:\n",
    "            tck = interpolate.splrep(x,y,w = np.ones(len(np.isfinite(y))) * 1/(np.std(y)+.001))\n",
    "            dspline_fit = interpolate.splev(x, tck, der=1)#  evaluates the derivative of the spline\n",
    "            dataframe.loc[i[1].index,temp +'_dT'] =  dspline_fit\n",
    "        else:\n",
    "            dataframe.loc[i[1].index,temp +'_dT'] =  np.nan\n",
    "    return dataframe\n",
    "         "
   ]
  },
  {
   "cell_type": "markdown",
   "metadata": {},
   "source": [
    "Make a column for the temperature difference and for the temperature rates of change for the AO bench in the IFS dataframe. "
   ]
  },
  {
   "cell_type": "code",
   "execution_count": 23,
   "metadata": {
    "collapsed": false,
    "scrolled": true
   },
   "outputs": [],
   "source": [
    "col = list(gpi_logs.columns)[1:6] + ['OMSATEMP']\n",
    " \n",
    "for i in col:    \n",
    "    GS_GPI_data = calc_dspline_fit(GS_GPI_data,i) "
   ]
  },
  {
   "cell_type": "markdown",
   "metadata": {},
   "source": [
    "Create seperate data tables for each sensor"
   ]
  },
  {
   "cell_type": "markdown",
   "metadata": {},
   "source": [
    "# Filter data using conditions (optional)"
   ]
  },
  {
   "cell_type": "code",
   "execution_count": 20,
   "metadata": {
    "collapsed": false
   },
   "outputs": [
    {
     "name": "stdout",
     "output_type": "stream",
     "text": [
      "2639\n",
      "2639\n"
     ]
    }
   ],
   "source": [
    "date1 = datetime.date(year = 2014, month = 1, day =1)\n",
    "#date2 = datetime.date(year = 2017, month = 8, day =1)\n",
    "\n",
    "#  AO system requirements\n",
    "#cond1 = (merge_data['dts'] > date1) & (merge_data['dts'] < date2)\n",
    "cond1 = (merge_data['dts'] > date1)\n",
    "cond2 = merge_data['COADDS'] == 1\n",
    "cond3 = merge_data['IFSFILT'] == 'H'\n",
    "cond4 = merge_data['OBSMODE'] == 'H_coron'\n",
    "cond5 = merge_data['AOFRAMES'] == 1000\n",
    "\n",
    "#  Good seeing conditions\n",
    "cond6 = merge_data['IMAG'] < 7  #Bright Stars\n",
    "cond7 = merge_data['MASSTAU'] > 1.0  #Good seeing\n",
    "#cond8 = merge_data['DIMMSEE'] < 2.0  #Good seeing\n",
    "\n",
    "#  dT outliers\n",
    "#cond9 = np.abs(merge_data['OMSA_dT']) < .5\n",
    "#cond10 = np.abs(merge_data['M1_low_dT']) < .5\n",
    "\n",
    "ind = np.where(cond1 & cond2 & cond3 & cond4 & cond5 & cond6 & cond7)[0]  # encorporates seeing\n",
    "print len(ind)\n",
    "\n",
    "filtered_merge_data = merge_data.iloc[ind]\n",
    "new_ind = np.arange(len(filtered_merge_data))\n",
    "filtered_merge_data = filtered_merge_data.set_index(new_ind)\n",
    "\n",
    "print len(filtered_merge_data)"
   ]
  },
  {
   "cell_type": "code",
   "execution_count": 21,
   "metadata": {
    "collapsed": false
   },
   "outputs": [
    {
     "data": {
      "text/plain": [
       "6183"
      ]
     },
     "execution_count": 21,
     "metadata": {},
     "output_type": "execute_result"
    }
   ],
   "source": [
    "np.sum(np.isfinite(raw_contrast_data['MASSTAU']))"
   ]
  },
  {
   "cell_type": "markdown",
   "metadata": {},
   "source": [
    "# Save data table as CSV file"
   ]
  },
  {
   "cell_type": "code",
   "execution_count": 23,
   "metadata": {
    "collapsed": false
   },
   "outputs": [
    {
     "data": {
      "text/plain": [
       "Index([u'DATAFILE', u'DATALAB', u'OBJNAME', u'DATESTR', u'UTSTART', u'MJDOBS',\n",
       "       u'ITIME', u'COADDS', u'OBSMODE', u'DISPERSR', u'IFSFILT', u'AOFRAMES',\n",
       "       u'AOSPATIA', u'HMAG', u'IMAG', u'AOFLUX', u'RawDPwfe', u'PAR_ANG',\n",
       "       u'PA', u'IAA', u'AZIMUTH', u'ELEVATIO', u'AIRMASS', u'AMSTART',\n",
       "       u'AMEND', u'WINDM2', u'WINDM2DR', u'WINDDIRE', u'WINDSPEE', u'TAMBIENT',\n",
       "       u'OMSATEMP', u'GLITEMP', u'GLOTEMP', u'MASSSEE', u'MASSTAU', u'DIMMSEE',\n",
       "       u'MASS05CN', u'MASS1CN2', u'MASS2CN2', u'MASS4CN2', u'MASS8CN2',\n",
       "       u'MASS16CN', u'MASSISOP', u'DRPDATE', u'CONTR025', u'CONTR040',\n",
       "       u'CONTR080', u'dts', u'cal_wfe', u'T_M1+Y', u'T_M1-Y',\n",
       "       u'T_TrussAirLow+X', u'T_TrussAirMid+X', u'T_TrussAirTop+X',\n",
       "       u'T_TrussSurLow+X', u'T_TrussSurMid+X', u'T_TrussSurTop+X', u'T_twr',\n",
       "       u'OE_Interior_Air_temperature', u'OMSS_AO_Bench_temperature',\n",
       "       u'OMSS_Interface_Structure_temperature',\n",
       "       u'OMSS_Mounting_Frame_temperature', u'Outside_OE_temperature',\n",
       "       u'M1_avg', u'dome', u'dome_low', u'dome_mid', u'dome_top',\n",
       "       u'sunset_utc', u'sunrise_utc', u'time_from_sunset',\n",
       "       u'hours_from_sunset', u'time_from_sunrise', u'hours_from_sunrise',\n",
       "       u'night_number', u'year', u'month', u'hour',\n",
       "       u'OE_Interior_Air_temperature_dT', u'OMSS_AO_Bench_temperature_dT',\n",
       "       u'OMSS_Interface_Structure_temperature_dT',\n",
       "       u'OMSS_Mounting_Frame_temperature_dT', u'Outside_OE_temperature_dT',\n",
       "       u'OMSA_dT'],\n",
       "      dtype='object')"
      ]
     },
     "execution_count": 23,
     "metadata": {},
     "output_type": "execute_result"
    }
   ],
   "source": [
    "GS_GPI_data.keys()"
   ]
  },
  {
   "cell_type": "code",
   "execution_count": 31,
   "metadata": {
    "collapsed": false
   },
   "outputs": [],
   "source": [
    "GS_GPI_data.to_csv('IFS_RawContrast_Gemini_env_20180530_all_seeing.csv',index=False)"
   ]
  },
  {
   "cell_type": "code",
   "execution_count": null,
   "metadata": {
    "collapsed": true
   },
   "outputs": [],
   "source": []
  }
 ],
 "metadata": {
  "kernelspec": {
   "display_name": "Python 2",
   "language": "python",
   "name": "python2"
  },
  "language_info": {
   "codemirror_mode": {
    "name": "ipython",
    "version": 2
   },
   "file_extension": ".py",
   "mimetype": "text/x-python",
   "name": "python",
   "nbconvert_exporter": "python",
   "pygments_lexer": "ipython2",
   "version": "2.7.13"
  }
 },
 "nbformat": 4,
 "nbformat_minor": 2
}
