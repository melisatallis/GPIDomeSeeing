{
 "cells": [
  {
   "cell_type": "markdown",
   "metadata": {},
   "source": [
    "# Import modules"
   ]
  },
  {
   "cell_type": "code",
   "execution_count": null,
   "metadata": {
    "collapsed": true
   },
   "outputs": [],
   "source": [
    "import numpy as np\n",
    "import pandas as pd\n",
    "import matplotlib.pyplot as plt\n",
    "import matplotlib.dates as mdates\n",
    "import copy\n",
    "import pytz\n",
    "import datetime \n",
    "import astral\n",
    "import astropy.time as aptime\n",
    "import os\n",
    "import glob\n",
    "from scipy import stats"
   ]
  },
  {
   "cell_type": "code",
   "execution_count": null,
   "metadata": {
    "collapsed": true
   },
   "outputs": [],
   "source": [
    "from matplotlib import rc\n",
    "from matplotlib import rcParams\n",
    "rc('xtick', labelsize=15) \n",
    "rc('ytick', labelsize=15)\n",
    "\n",
    "rc('axes', labelsize=20) \n",
    "rc('axes', linewidth=2)\n",
    "\n",
    "rcParams['axes.titlesize'] = 15\n",
    "rcParams['legend.fontsize'] = 15\n",
    "rcParams['patch.linewidth'] = 1\n",
    "#rcParams['axes.titlepad'] = 30\n",
    "rcParams['axes.labelpad'] = 10"
   ]
  },
  {
   "cell_type": "markdown",
   "metadata": {},
   "source": [
    "# file paths & save paths"
   ]
  },
  {
   "cell_type": "code",
   "execution_count": null,
   "metadata": {
    "collapsed": true
   },
   "outputs": [],
   "source": [
    "data_path = '/Users/MelisaT/Documents/Research/GPIDomeSeeing/data/datatables/'"
   ]
  },
  {
   "cell_type": "code",
   "execution_count": null,
   "metadata": {
    "collapsed": true
   },
   "outputs": [],
   "source": [
    "save_path = '/Users/MelisaT/Documents/Research/GPIDomeSeeing/data/Results/sp_psd_slope_correlations'"
   ]
  },
  {
   "cell_type": "code",
   "execution_count": null,
   "metadata": {
    "collapsed": true
   },
   "outputs": [],
   "source": [
    "txt_file1 = pd.read_csv(data_path + 'IFS_RawContrast_Gemini_env_20180530_all_seeing.csv')\n",
    "txt_file1_copy = copy.copy(txt_file1)\n",
    "raw_contrast_data= pd.DataFrame(txt_file1_copy)\n",
    "print len(raw_contrast_data)\n",
    "\n",
    "raw_contrast_data['dts'] = aptime.Time(raw_contrast_data['MJDOBS'], format='mjd').datetime \n",
    "raw_contrast_data['dts'] = raw_contrast_data['dts'].dt.tz_localize(pytz.UTC)"
   ]
  },
  {
   "cell_type": "markdown",
   "metadata": {},
   "source": [
    "# Read all the CSV files and concatentae all of them"
   ]
  },
  {
   "cell_type": "code",
   "execution_count": null,
   "metadata": {
    "collapsed": true
   },
   "outputs": [],
   "source": [
    "allFiles = glob.glob(data_path + \"/sp_psd_summary*.csv\")\n",
    "\n",
    "list_ = []\n",
    "\n",
    "for file_ in allFiles[0:3]:\n",
    "    df = pd.read_csv(file_,index_col=0)\n",
    "    list_.append(df)\n",
    "\n",
    "frame = pd.concat(list_, axis = 0, ignore_index = True)"
   ]
  },
  {
   "cell_type": "code",
   "execution_count": null,
   "metadata": {
    "collapsed": true
   },
   "outputs": [],
   "source": [
    "txt_file2 = pd.read_csv(data_path + 'sp_psd_summary20181204.csv',index_col=0) \n",
    "txt_file2_copy = copy.copy(txt_file2)\n",
    "\n",
    "sp_psd_data = pd.DataFrame(txt_file2_copy)\n",
    "sp_psd_data['dts'] = pd.to_datetime(sp_psd_data.loc[:,'filename'].str.split('_').str.get(2) + '_' + sp_psd_data.loc[:,'filename'].str.split('_').str.get(3),\n",
    "              utc=True, format = '%Y.%m.%d_%H.%M.%S')\n",
    "\n",
    "sp_psd_data['dts'] = sp_psd_data['dts'].dt.tz_localize(pytz.UTC)"
   ]
  },
  {
   "cell_type": "code",
   "execution_count": null,
   "metadata": {
    "collapsed": true
   },
   "outputs": [],
   "source": [
    "sp_psd_data"
   ]
  },
  {
   "cell_type": "markdown",
   "metadata": {},
   "source": [
    "# Filter data"
   ]
  },
  {
   "cell_type": "code",
   "execution_count": null,
   "metadata": {
    "collapsed": true
   },
   "outputs": [],
   "source": [
    "def filter_data(data, imag = 10., tau = 1., see = 2., all_cond = True):\n",
    "    \"This selects all rows of input dataframe that satisfy conditions set by the user\"\n",
    "    \n",
    "    date1 = datetime.date(year = 2014, month = 1, day =1)\n",
    "    \n",
    "    #  AO system requirements\n",
    "    cond1 = data['dts'] > date1 \n",
    "    cond2 = data['COADDS'] == 1\n",
    "    cond3 = (data['OBSMODE'] == 'H_coron')|(data['OBSMODE'] == 'Spec')\n",
    "    cond4 = data['AOFRAMES'] == 1000\n",
    "\n",
    "    #  Good seeing conditions\n",
    "    cond5 = data['IMAG'] < imag #Bright Stars\n",
    "    cond6 = data['MASSTAU'] > tau  # slow moving turbulence [ms]\n",
    "    cond7 = data['DIMMSEE'] < see  # smaller scale turbulence [\"]\n",
    "    \n",
    "    if all_cond:\n",
    "        ind = np.where(cond1 & cond2 & cond3 & cond4 & cond5 & cond6 & cond7)[0]  \n",
    "        print len(ind)\n",
    "    else:\n",
    "        ind = np.where(cond1 & cond2 & cond3 & cond4 & cond5)[0]  \n",
    "        print len(ind)\n",
    "\n",
    "    filtered_data = data.iloc[ind]\n",
    "    #filtered_data = filtered_data.dropna(subset = ['CONTR040','cal_wfe','M1_avg','TAMBIENT','Outside_OE_temperature'])\n",
    "    \n",
    "    new_ind = np.arange(len(filtered_data))\n",
    "    filtered_data = filtered_data.set_index(new_ind)\n",
    "        \n",
    "    return filtered_data"
   ]
  },
  {
   "cell_type": "code",
   "execution_count": null,
   "metadata": {
    "collapsed": true
   },
   "outputs": [],
   "source": [
    "r = filter_data(raw_contrast_data,all_cond=True)"
   ]
  },
  {
   "cell_type": "markdown",
   "metadata": {},
   "source": [
    "# Merge PSD data with IFS data"
   ]
  },
  {
   "cell_type": "code",
   "execution_count": null,
   "metadata": {
    "collapsed": true
   },
   "outputs": [],
   "source": [
    "sp_psd_raw_IFS_data =  pd.merge_asof(sp_psd_data[['slope','dts','filename','path']].sort_values('dts'),raw_contrast_data, on='dts',tolerance=pd.Timedelta('1min'))"
   ]
  },
  {
   "cell_type": "code",
   "execution_count": null,
   "metadata": {
    "collapsed": true
   },
   "outputs": [],
   "source": [
    "sp_psd_raw_IFS_data = sp_psd_raw_IFS_data.dropna(subset=['slope','M1_avg'])"
   ]
  },
  {
   "cell_type": "code",
   "execution_count": null,
   "metadata": {
    "collapsed": true,
    "scrolled": false
   },
   "outputs": [],
   "source": [
    "print sum(np.isfinite(sp_psd_raw_IFS_data['TAMBIENT']))"
   ]
  },
  {
   "cell_type": "markdown",
   "metadata": {},
   "source": [
    "# Plotting"
   ]
  },
  {
   "cell_type": "code",
   "execution_count": null,
   "metadata": {
    "collapsed": true
   },
   "outputs": [],
   "source": []
  },
  {
   "cell_type": "markdown",
   "metadata": {},
   "source": [
    "No grouping"
   ]
  },
  {
   "cell_type": "code",
   "execution_count": null,
   "metadata": {
    "collapsed": true
   },
   "outputs": [],
   "source": [
    "%matplotlib notebook\n",
    "\n",
    "plt.figure(figsize=[8,6])\n",
    "x = (sp_psd_raw_IFS_data['M1_avg']-sp_psd_raw_IFS_data['TAMBIENT'])\n",
    "y = sp_psd_raw_IFS_data['slope']\n",
    "\n",
    "print(sum(np.isfinite(y)))\n",
    "plt.scatter(x,y,alpha=.5,c='navy')\n",
    "\n",
    "plt.ylabel('log of Spatial PSD Slope',fontsize=15)\n",
    "plt.xlabel('Primary - Outside air [C]',fontsize=15)\n",
    "\n",
    "#plt.savefig(save_path+'sp_psd_slope_vs_delT_20181205.png')\n",
    "#plt.plot(sp_psd_raw_IFS_data['slope'],'.',alpha=.5)"
   ]
  },
  {
   "cell_type": "markdown",
   "metadata": {},
   "source": [
    "Number of unique objects and nights"
   ]
  },
  {
   "cell_type": "code",
   "execution_count": null,
   "metadata": {
    "collapsed": true
   },
   "outputs": [],
   "source": [
    "print(len(pd.unique(sp_psd_raw_IFS_data['OBJNAME'])))\n",
    "print(len(pd.unique(sp_psd_raw_IFS_data['night_number'])))"
   ]
  },
  {
   "cell_type": "code",
   "execution_count": null,
   "metadata": {
    "collapsed": true
   },
   "outputs": [],
   "source": [
    "sp_psd_raw_IFS_data.keys()"
   ]
  },
  {
   "cell_type": "markdown",
   "metadata": {},
   "source": [
    "With grouping"
   ]
  },
  {
   "cell_type": "code",
   "execution_count": null,
   "metadata": {
    "collapsed": true,
    "scrolled": true
   },
   "outputs": [],
   "source": [
    "grouped = sp_psd_raw_IFS_data.groupby(['night_number', 'OBJNAME'], as_index= False).mean().dropna(subset = ['slope','M1_avg'])"
   ]
  },
  {
   "cell_type": "code",
   "execution_count": null,
   "metadata": {
    "collapsed": true
   },
   "outputs": [],
   "source": [
    "less = np.where(np.abs(grouped['M1_avg']-grouped['T_twr'])<1.)[0]\n",
    "more = np.where(np.abs(grouped['M1_avg']-grouped['T_twr'])>=1.)[0]\n",
    "\n",
    "grouped.loc[more,'slope'].mean()"
   ]
  },
  {
   "cell_type": "code",
   "execution_count": null,
   "metadata": {
    "collapsed": true,
    "scrolled": false
   },
   "outputs": [],
   "source": [
    "%matplotlib notebook\n",
    "\n",
    "x = grouped['M1_avg']-grouped['TAMBIENT']\n",
    "y = grouped['slope']\n",
    "print(sum(np.isfinite(y)))\n",
    "\n",
    "\n",
    "plt.figure(figsize=[8,6])\n",
    "plt.scatter(x,y,c='red',marker='s')\n",
    "plt.ylabel('log of Spatial PSD Slope',fontsize=15)\n",
    "plt.xlabel('Primary - Outside air [C]',fontsize=15)\n",
    "#plt.colorbar()\n",
    "\n",
    "\n",
    "#plt.savefig(save_path+'sp_psd_slope_vs_delT_grouped_20181205.pdf')\n",
    "\n",
    "\n",
    "#plt.savefig(save_path+'sp_psd_slope_vs_delT_night_20181201.pdf')\n",
    "#plt.plot(sp_psd_raw_IFS_data['slope'],'.',alpha=.5)"
   ]
  },
  {
   "cell_type": "code",
   "execution_count": null,
   "metadata": {
    "collapsed": true
   },
   "outputs": [],
   "source": [
    "ind = np.where(grouped['slope'] == np.max(grouped['slope']))[0]"
   ]
  },
  {
   "cell_type": "code",
   "execution_count": null,
   "metadata": {
    "collapsed": true
   },
   "outputs": [],
   "source": [
    "def search_for_dome_seeing(data, sample_size, presence = True):\n",
    "    \n",
    "    cut = 0\n",
    "    sample = set()\n",
    "    \n",
    "    if presence:\n",
    "        \n",
    "        while len(sample) <= sample_size:\n",
    "            tau0 = data.MASSTAU.sort_values(ascending = False)[0:cut]\n",
    "            mirror_to_air_temp = np.abs(data.M1_avg - data.T_twr).sort_values(ascending = False)[0:cut]\n",
    "            contrast = data.CONTR040.sort_values(ascending = False)[0:cut]\n",
    "            psd_slope = data.slope.sort_values(ascending = False)[0:cut]\n",
    "            sample = set(tau0.index) & set(mirror_to_air_temp.index) & set(contrast.index) & set(psd_slope.index)\n",
    "            cut = cut + 1\n",
    "            \n",
    "    else:\n",
    "        \n",
    "        while len(sample) <= sample_size:\n",
    "            tau0 = data.MASSTAU.sort_values(ascending = False)[0:cut]\n",
    "            mirror_to_air_temp = np.abs(data.M1_avg - data.T_twr).sort_values()[0:cut]\n",
    "            contrast = data.CONTR040.sort_values()[0:cut]\n",
    "            psd_slope = data.slope.sort_values(ascending = True)[0:cut]\n",
    "            sample = set(tau0.index) & set(mirror_to_air_temp.index) & set(contrast.index) & set(psd_slope.index)\n",
    "            cut = cut + 1\n",
    "    return list(sample)  "
   ]
  },
  {
   "cell_type": "code",
   "execution_count": null,
   "metadata": {
    "collapsed": true
   },
   "outputs": [],
   "source": [
    "sp_psd_raw_IFS_data.loc[search_for_dome_seeing(sp_psd_raw_IFS_data,10,presence=True),\n",
    "                       ['dts','CONTR040','M1_avg','TAMBIENT','MASSTAU','slope','IMAG','filename']].sort_values(\"CONTR040\",ascending = True)"
   ]
  },
  {
   "cell_type": "code",
   "execution_count": null,
   "metadata": {
    "collapsed": true
   },
   "outputs": [],
   "source": [
    "sp_psd_raw_IFS_data.loc[search_for_dome_seeing(sp_psd_raw_IFS_data,10,presence=False),\n",
    "                       ['dts','CONTR040','M1_avg','TAMBIENT','MASSTAU','slope','filename']].sort_values(\"CONTR040\",ascending = False)"
   ]
  },
  {
   "cell_type": "code",
   "execution_count": null,
   "metadata": {
    "collapsed": true
   },
   "outputs": [],
   "source": []
  }
 ],
 "metadata": {
  "kernelspec": {
   "display_name": "Python [anaconda3]",
   "language": "python",
   "name": "Python [anaconda3]"
  },
  "language_info": {
   "codemirror_mode": {
    "name": "ipython",
    "version": 3
   },
   "file_extension": ".py",
   "mimetype": "text/x-python",
   "name": "python",
   "nbconvert_exporter": "python",
   "pygments_lexer": "ipython3",
   "version": "3.5.6"
  }
 },
 "nbformat": 4,
 "nbformat_minor": 2
}
