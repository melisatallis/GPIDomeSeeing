{
 "cells": [
  {
   "cell_type": "markdown",
   "metadata": {},
   "source": [
    "# Import modules"
   ]
  },
  {
   "cell_type": "code",
   "execution_count": null,
   "metadata": {},
   "outputs": [],
   "source": [
    "import numpy as np\n",
    "import pandas as pd\n",
    "import matplotlib.pyplot as plt\n",
    "import matplotlib.dates as mdates\n",
    "import copy\n",
    "import pytz\n",
    "import datetime \n",
    "import cPickle as pickle\n",
    "import astral\n",
    "import astropy.time as aptime\n",
    "from scipy import stats\n",
    "from scipy import interpolate\n",
    "import os\n",
    "import glob"
   ]
  },
  {
   "cell_type": "markdown",
   "metadata": {},
   "source": [
    "# Load env Data"
   ]
  },
  {
   "cell_type": "code",
   "execution_count": null,
   "metadata": {},
   "outputs": [],
   "source": [
    "pkl_file = open(\"GS-env-2014-19_p2.pkl\", 'rb')\n",
    "dictionary = pickle.load(pkl_file)\n",
    "pkl_file.close()\n",
    "dictionary_copy = copy.copy(dictionary)"
   ]
  },
  {
   "cell_type": "markdown",
   "metadata": {},
   "source": [
    "# Merge GS env sensors"
   ]
  },
  {
   "cell_type": "code",
   "execution_count": null,
   "metadata": {},
   "outputs": [],
   "source": [
    "GS_env_data = dictionary_copy\n",
    "\n",
    "sensor_list = ['T_M1+Y','T_M1-Y','T_TrussAirLow+X','T_TrussAirMid+X','T_TrussAirTop+X',\n",
    "                 'T_TrussSurLow+X','T_TrussSurMid+X','T_TrussSurTop+X','T_twr']\n",
    "    \n",
    "n=0\n",
    "for sensor in sensor_list:\n",
    "    \n",
    "    #  convert list to arrays and make an MJDOBS column\n",
    "    GS_env_data[sensor]['vals'] = np.array(GS_env_data[sensor]['vals'])\n",
    "    GS_env_data[sensor]['dts'] = np.array(GS_env_data[sensor]['dts'])\n",
    "    GS_env_data[sensor]['MJDOBS'] = aptime.Time(GS_env_data[sensor]['dts'], format='datetime').mjd\n",
    "    \n",
    "    #  Get rid of zeros and outliers \n",
    "    cond1 = GS_env_data[sensor]['vals'] != 0.\n",
    "    cond2 = np.abs(GS_env_data[sensor]['vals']) < 20.\n",
    "    \n",
    "    ind = np.where(cond1 & cond2)[0]\n",
    "    \n",
    "    GS_env_data[sensor]['vals'] = GS_env_data[sensor]['vals'][ind]\n",
    "    GS_env_data[sensor]['dts'] = GS_env_data[sensor]['dts'][ind]\n",
    "    GS_env_data[sensor]['MJDOBS'] = GS_env_data[sensor]['MJDOBS'][ind]\n",
    "    \n",
    "    #  merge other sensor data columns to M1+Y data table\n",
    "    if n==0:\n",
    "        df = pd.DataFrame(columns = ['dts','MJDOBS',sensor])\n",
    "        df[sensor] = pd.Series(GS_env_data[sensor]['vals'])\n",
    "        df['dts'] = pd.Series(GS_env_data[sensor]['dts'])\n",
    "        df['MJDOBS'] = pd.Series(GS_env_data[sensor]['MJDOBS'])\n",
    "        df = df.sort_values(by = ['dts'])\n",
    "        n=1\n",
    "   \n",
    "    else:\n",
    "        newdf = pd.DataFrame(columns = [sensor,'dts'])\n",
    "        newdf[sensor] = pd.Series(GS_env_data[sensor]['vals'])\n",
    "        newdf['dts'] = pd.Series(GS_env_data[sensor]['dts'])\n",
    "        newdf = newdf.sort_values(by = ['dts'])\n",
    "        \n",
    "        df = pd.merge_asof(df,newdf, on='dts',tolerance=pd.Timedelta('30min'))\n",
    "        \n",
    "GS_env_data = df\n",
    "GS_env_data['dts'] = GS_env_data['dts'].dt.tz_localize(pytz.UTC)"
   ]
  },
  {
   "cell_type": "code",
   "execution_count": null,
   "metadata": {
    "scrolled": true
   },
   "outputs": [],
   "source": [
    "print len(GS_env_data)\n",
    "for sensor in sensor_list:\n",
    "    print sensor,sum(np.isfinite(GS_env_data[sensor]))  "
   ]
  },
  {
   "cell_type": "markdown",
   "metadata": {},
   "source": [
    "# Merge with GPI logs"
   ]
  },
  {
   "cell_type": "code",
   "execution_count": null,
   "metadata": {},
   "outputs": [],
   "source": [
    "path = os.environ[\"HOME\"] + r'/Downloads/individual/'  \n",
    "all_data_files = pd.Series(glob.glob(os.path.join(path, \"*.log\")))\n",
    "data_files = all_data_files[all_data_files.str.contains('OMSS_AO_Bench_temperature|OE_Interior_Air_temperature|OMSS_Interface_Structure_temperature|OMSS_Mounting_Frame_temperature|Outside_OE_temperature')]"
   ]
  },
  {
   "cell_type": "code",
   "execution_count": null,
   "metadata": {},
   "outputs": [],
   "source": [
    "gpi_logs = pd.concat(map(lambda file: pd.read_csv(file, header=None, dtype={'0':object,'1': np.float64}, \n",
    "        names = ['dts',os.path.splitext(os.path.basename(file))[0]]), data_files),axis = 1)\n",
    "\n",
    "gpi_logs = gpi_logs.iloc[:, ~gpi_logs.columns.duplicated()] # remove duplicate columns\n",
    "#gpi_logs = gpi_logs.dropna(how = 'any')\n",
    "gpi_logs['dts'] = pd.to_datetime(gpi_logs['dts']).dt.tz_localize(pytz.UTC) \n",
    "gpi_logs = gpi_logs.sort_values(by='dts').set_index(np.arange(len(gpi_logs)))"
   ]
  },
  {
   "cell_type": "code",
   "execution_count": null,
   "metadata": {},
   "outputs": [],
   "source": [
    "mask = (gpi_logs.loc[:,list(gpi_logs.columns != 'dts')] < 20.) & (gpi_logs.loc[:,list(gpi_logs.columns != 'dts')] != 0) & (gpi_logs.loc[:,list(gpi_logs.columns != 'dts')] > -20.)\n",
    "\n",
    "mask['dts'] = True\n",
    "gpi_logs = gpi_logs[mask]"
   ]
  },
  {
   "cell_type": "code",
   "execution_count": null,
   "metadata": {},
   "outputs": [],
   "source": [
    "GS_env_data = pd.merge_asof(GS_env_data,gpi_logs, on='dts',tolerance=pd.Timedelta('30min'))"
   ]
  },
  {
   "cell_type": "markdown",
   "metadata": {},
   "source": [
    "Check values"
   ]
  },
  {
   "cell_type": "code",
   "execution_count": null,
   "metadata": {},
   "outputs": [],
   "source": [
    "GS_env_data.keys()"
   ]
  },
  {
   "cell_type": "code",
   "execution_count": null,
   "metadata": {
    "scrolled": true
   },
   "outputs": [],
   "source": [
    "%matplotlib notebook\n",
    "\n",
    "plt.figure(1)\n",
    "plt.plot(GS_env_data['dts'],GS_env_data['OE_Interior_Air_temperature_dT'],'.')\n",
    "plt.xticks(rotation = 30)"
   ]
  },
  {
   "cell_type": "markdown",
   "metadata": {},
   "source": [
    "# Apply offsets "
   ]
  },
  {
   "cell_type": "code",
   "execution_count": null,
   "metadata": {},
   "outputs": [],
   "source": [
    "date = datetime.date(year = 2017, month = 8, day =3)\n",
    "\n",
    "#  AO system requirements\n",
    "cond1 = (GS_env_data['dts'] < date) \n",
    "ind = np.where(cond1)[0]\n",
    "\n",
    "GS_env_data.loc[ind,'T_M1+Y'] = GS_env_data.loc[ind,'T_M1+Y'] + 4.67\n",
    "GS_env_data.loc[ind,'T_M1-Y'] = GS_env_data.loc[ind,'T_M1-Y'] + 2.86\n",
    "GS_env_data.loc[ind,'T_TrussAirLow+X'] = GS_env_data.loc[ind,'T_TrussAirLow+X'] + 1.5\n",
    "GS_env_data.loc[ind,'T_TrussAirMid+X'] = GS_env_data.loc[ind,'T_TrussAirMid+X'] \n",
    "GS_env_data.loc[ind,'T_TrussAirTop+X'] = GS_env_data.loc[ind,'T_TrussAirTop+X'] \n",
    "GS_env_data.loc[ind,'T_TrussSurLow+X'] = GS_env_data.loc[ind,'T_TrussSurLow+X'] \n",
    "GS_env_data.loc[ind,'T_TrussSurMid+X'] = GS_env_data.loc[ind,'T_TrussSurMid+X'] \n",
    "GS_env_data.loc[ind,'T_TrussSurTop+X'] = GS_env_data.loc[ind,'T_TrussSurTop+X'] "
   ]
  },
  {
   "cell_type": "markdown",
   "metadata": {},
   "source": [
    "# Average mirror temperature"
   ]
  },
  {
   "cell_type": "code",
   "execution_count": null,
   "metadata": {},
   "outputs": [],
   "source": [
    "GS_env_data['M1_avg'] = (GS_env_data['T_M1+Y'] + GS_env_data['T_M1-Y'])/2"
   ]
  },
  {
   "cell_type": "markdown",
   "metadata": {},
   "source": [
    "# Median dome temperature"
   ]
  },
  {
   "cell_type": "markdown",
   "metadata": {},
   "source": [
    "Calculate dome temperature by computing mediam of all of the air temperture sensors. I also computed a median top, mid, and low dome temperatures. "
   ]
  },
  {
   "cell_type": "code",
   "execution_count": null,
   "metadata": {},
   "outputs": [],
   "source": [
    "GS_env_data['dome'] = np.nanmedian(GS_env_data[['T_TrussAirLow+X','T_TrussAirMid+X','T_TrussAirTop+X']],axis = 1)\n",
    "\n",
    "GS_env_data['dome_low'] = np.nanmedian(GS_env_data[['T_TrussAirLow+X']],axis = 1)\n",
    "\n",
    "GS_env_data['dome_mid'] = np.nanmedian(GS_env_data[['T_TrussAirMid+X']],axis = 1)\n",
    "\n",
    "GS_env_data['dome_top'] = np.nanmedian(GS_env_data[['T_TrussAirTop+X']],axis = 1)"
   ]
  },
  {
   "cell_type": "markdown",
   "metadata": {},
   "source": [
    "# Remove dates when GPI was off telescope"
   ]
  },
  {
   "cell_type": "code",
   "execution_count": null,
   "metadata": {},
   "outputs": [],
   "source": [
    "cond = (np.abs(GS_env_data['dome']-GS_env_data['T_twr']) < 5.) \n",
    "ind = np.where(cond)[0]\n",
    "\n",
    "GS_env_data = GS_env_data.iloc[ind]\n",
    "new_ind = np.arange(len(GS_env_data))\n",
    "GS_env_data = GS_env_data.set_index(new_ind)  "
   ]
  },
  {
   "cell_type": "markdown",
   "metadata": {},
   "source": [
    "# Add sunset, sunrise, night number columns to raw gpi data"
   ]
  },
  {
   "cell_type": "code",
   "execution_count": null,
   "metadata": {},
   "outputs": [],
   "source": [
    "def sunrise_and_sunset_info(dataframe):    \n",
    "    \n",
    "    #  Create colums with sunrise and sunset times in UTC time\n",
    "    location = astral.Astral()['Santiago']\n",
    "    timezone=location.timezone\n",
    "    dataframe['sunset_utc'] = dataframe['dts'].apply(astral.Astral().sunset_utc,args=(location.latitude,location.longitude))\n",
    "    dataframe['noon_utc'] = dataframe['dts'].apply(astral.Astral().solar_noon_utc,args=(location.longitude,))\n",
    "    dataframe['sunrise_utc'] = dataframe['dts'].apply(astral.Astral().sunrise_utc,args=(location.latitude,location.longitude))\n",
    "\n",
    "    #  Calculate time difference from sunset in hours\n",
    "    dataframe['time_from_sunset'] = dataframe['dts']-dataframe['sunset_utc']\n",
    "\n",
    "    #  Dates that use sunsets of the following day\n",
    "    ind = np.where(dataframe['time_from_sunset'].dt.days == -1)[0]\n",
    "    dataframe.loc[ind,'sunset_utc'] = (dataframe['dts'][ind]-datetime.timedelta(days =1)).apply(astral.Astral().sunset_utc,args=(location.latitude,location.longitude))\n",
    "\n",
    "    #  Calculate time difference of observation from sunset after adjusting sunset times\n",
    "    #  Calculate time difference of observation from sunset in hours\n",
    "    dataframe['time_from_sunset'] = (dataframe['dts']-dataframe['sunset_utc'])\n",
    "    dataframe['hours_from_sunset'] = dataframe['time_from_sunset'].dt.seconds/3600.\n",
    "\n",
    "    #  Make changes when dates that use sunsets of following date\n",
    "    ind1 = np.where(dataframe['sunset_utc'] > dataframe['dts'])[0]\n",
    "    dataframe.loc[ind1,'sunset_utc'] = (dataframe.loc[ind1,'dts']-datetime.timedelta(days =1)).apply(astral.Astral().sunset_utc,args=(location.latitude,location.longitude))\n",
    "\n",
    "    #  Make changes when dates that use sunrise of following date\n",
    "    ind2 = np.where(dataframe['sunrise_utc'] > dataframe['dts'])[0]\n",
    "    dataframe.loc[ind2,'sunrise_utc'] = (dataframe.loc[ind2,'dts']-datetime.timedelta(days =1)).apply(astral.Astral().sunrise_utc,args=(location.latitude,location.longitude))\n",
    "\n",
    "    #  Make changes when dates that use noon of following date\n",
    "    ind3 = np.where(dataframe['noon_utc'] > dataframe['dts'])[0]\n",
    "    dataframe.loc[ind3,'noon_utc'] = (dataframe.loc[ind3,'dts']-datetime.timedelta(days =1)).apply(astral.Astral().solar_noon_utc,args=(location.longitude,))\n",
    "    \n",
    "    #  Calculate time difference of observation from sunset after adjusting sunset times\n",
    "    #  Calculate time difference of observation from sunset in hours\n",
    "    dataframe['time_from_sunset'] = (dataframe['dts']-dataframe['sunset_utc'])\n",
    "    dataframe['hours_from_sunset'] = dataframe['time_from_sunset'].dt.seconds/3600.\n",
    "\n",
    "    #  Calculate time difference of observation from sunrise after adjusting sunset times\n",
    "    #  Calculate time difference of observation from sunrise in hours\n",
    "    dataframe['time_from_sunrise'] = (dataframe['dts']-dataframe['sunrise_utc'])\n",
    "    dataframe['hours_from_sunrise'] = dataframe['time_from_sunrise'].dt.seconds/3600.\n",
    "\n",
    "    #  Calculate time difference of observation from noon after adjusting sunset times\n",
    "    #  Calculate time difference of observation from noon in hours\n",
    "    dataframe['time_from_noon'] = (dataframe['dts']-dataframe['noon_utc'])\n",
    "    dataframe['hours_from_noon'] = dataframe['time_from_noon'].dt.seconds/3600.\n",
    "\n",
    "    #  Assign column with night number\n",
    "    dataframe['night_number'] = np.ones(len(dataframe))\n",
    "    d0 = dataframe['sunset_utc'].dt.date\n",
    "    d1 = np.roll(d0,-1)\n",
    "    d1[-1] = np.nan\n",
    "    extrema = np.where(d0 != d1)[0]\n",
    "    start = 0\n",
    "    val = 1\n",
    "\n",
    "    for new_night in extrema:\n",
    "        dataframe.loc[start:new_night,'night_number'] = val\n",
    "        start = new_night + 1\n",
    "        val = val + 1\n",
    "        \n",
    "    #  Create colums with  date information\n",
    "    dataframe.loc[:,'year'] = dataframe.loc[:,'dts'].dt.year.values\n",
    "    dataframe.loc[:,'month'] = dataframe.loc[:,'dts'].dt.month.values\n",
    "    dataframe.loc[:,'hour'] = dataframe.loc[:,'hours_from_noon'].values.round(0)\n",
    "\n",
    "    #  Select data only taken during night hours\n",
    "    #night_hrs = np.where(dataframe['hours_from_sunset'] < dataframe['hours_from_sunrise'])[0]\n",
    "    #dataframe = dataframe.iloc[night_hrs]\n",
    "    \n",
    "    #new_ind = np.arange(len(dataframe))\n",
    "    dataframe = dataframe.set_index(new_ind)\n",
    "    \n",
    "    return dataframe"
   ]
  },
  {
   "cell_type": "code",
   "execution_count": null,
   "metadata": {},
   "outputs": [],
   "source": [
    "GS_env_data = sunrise_and_sunset_info(GS_env_data)"
   ]
  },
  {
   "cell_type": "code",
   "execution_count": null,
   "metadata": {},
   "outputs": [],
   "source": [
    "GS_env_data.columns\n"
   ]
  },
  {
   "cell_type": "markdown",
   "metadata": {},
   "source": [
    "# Temperature drift"
   ]
  },
  {
   "cell_type": "code",
   "execution_count": null,
   "metadata": {},
   "outputs": [],
   "source": [
    "%matplotlib notebook \n",
    "\n",
    "def calc_dspline_fit(dataframe,temp):\n",
    "    nights = pd.unique(dataframe['night_number'].values)\n",
    "    df_dspline_fit = pd.DataFrame({'dspline_fit':[]})\n",
    "    \n",
    "    for night in nights:\n",
    "        ind_night = np.where(dataframe['night_number']==night)[0]\n",
    "        df_night = dataframe.iloc[ind_night]\n",
    "        \n",
    "        if len(df_night) < 4:\n",
    "            dspline_fit = np.nan * np.ones(len(df_night))\n",
    "            s = pd.DataFrame(dspline_fit,columns = ['dspline_fit']) #  used to append chunks at a time\n",
    "            df_dspline_fit = df_dspline_fit.append(s, ignore_index=True)\n",
    "                        \n",
    "        else:    \n",
    "            #  x and y data for nights with outliers removed      \n",
    "            x = (df_night.loc[:,'MJDOBS']-df_night.loc[df_night.index[0],'MJDOBS'])*24\n",
    "            y = pd.to_numeric(df_night[temp],errors='coerce')\n",
    "            \n",
    "            tck = interpolate.splrep(x,y,w = np.ones(len(np.isfinite(y))) * 1/(np.std(y)+.001))\n",
    "            spline_fit = interpolate.splev(x, tck, der=0)#  evaluates the spline\n",
    "            dspline_fit = interpolate.splev(x, tck, der=1)#  evaluates the derivative of the spline\n",
    "            \n",
    "            #  Append dspline_fit values and corresponding contrast values to df_dspline_fit for later use with plotting       \n",
    "            s = pd.DataFrame(dspline_fit,columns = ['dspline_fit']) #  used to append chunks at a time\n",
    "            df_dspline_fit = df_dspline_fit.append(s, ignore_index=True)  \n",
    "    print('done with:', temp)\n",
    "            \n",
    "    return df_dspline_fit"
   ]
  },
  {
   "cell_type": "code",
   "execution_count": null,
   "metadata": {},
   "outputs": [],
   "source": [
    "col = list(gpi_logs.columns)[1:6] \n",
    "new_col = [x + '_dT' for x in col]\n",
    " \n",
    "for i,j in zip(col,new_col):    \n",
    "    GS_env_data[j] = calc_dspline_fit(GS_env_data,i) "
   ]
  },
  {
   "cell_type": "code",
   "execution_count": null,
   "metadata": {},
   "outputs": [],
   "source": [
    "d = copy.copy(GS_env_data)\n",
    "print len(d)\n",
    "print sum(np.isfinite(d['OE_Interior_Air_temperature_dT']))  "
   ]
  },
  {
   "cell_type": "markdown",
   "metadata": {},
   "source": [
    "# Save to CSV file"
   ]
  },
  {
   "cell_type": "code",
   "execution_count": null,
   "metadata": {},
   "outputs": [],
   "source": [
    "GS_env_data.to_csv('GS_env_20190211.csv',index=False)"
   ]
  },
  {
   "cell_type": "code",
   "execution_count": null,
   "metadata": {},
   "outputs": [],
   "source": []
  }
 ],
 "metadata": {
  "kernelspec": {
   "display_name": "Python 3",
   "language": "python",
   "name": "python3"
  },
  "language_info": {
   "codemirror_mode": {
    "name": "ipython",
    "version": 3
   },
   "file_extension": ".py",
   "mimetype": "text/x-python",
   "name": "python",
   "nbconvert_exporter": "python",
   "pygments_lexer": "ipython3",
   "version": "3.6.5"
  }
 },
 "nbformat": 4,
 "nbformat_minor": 2
}
