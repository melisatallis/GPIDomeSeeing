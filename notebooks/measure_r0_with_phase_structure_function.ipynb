{
 "cells": [
  {
   "cell_type": "code",
   "execution_count": null,
   "metadata": {},
   "outputs": [],
   "source": [
    "import numpy as np\n",
    "import matplotlib.pyplot as plt\n",
    "import pandas as pd\n",
    "import scipy.fftpack as fft\n",
    "from astropy.io import fits\n",
    "from scipy import optimize\n",
    "import poppy\n",
    "import gpipsfs\n",
    "from scipy import signal\n",
    "import os\n",
    "import pytz\n",
    "import time\n",
    "import re"
   ]
  },
  {
   "cell_type": "markdown",
   "metadata": {},
   "source": [
    "Kipac paths"
   ]
  },
  {
   "cell_type": "code",
   "execution_count": null,
   "metadata": {},
   "outputs": [],
   "source": [
    "file1 =  '/Users/MelisaT/Documents/Research/GPIDomeSeeing/data/Reduced/20160229/aored_When_2016.2.29_5.33.19_poldm_phase.fits'\n",
    "file2 =  '/Users/MelisaT/Documents/Research/GPIDomeSeeing/data/Reduced/20160227/aored_When_2016.2.27_0.2.8_poldm_phase.fits'"
   ]
  },
  {
   "cell_type": "markdown",
   "metadata": {},
   "source": [
    "laptop paths"
   ]
  },
  {
   "cell_type": "code",
   "execution_count": null,
   "metadata": {},
   "outputs": [],
   "source": [
    "file1 =  '/Users/melisatallis/Documents/Research/GPIDomeSeeing/data/aotelem/aored_When_2016.2.27_0.40.14_poldm_phase.fits'\n",
    "file2 =  '/Users/melisatallis/Documents/Research/GPIDomeSeeing/data/aotelem/aored_When_2016.2.29_22.52.44_poldm_phase.fits'"
   ]
  },
  {
   "cell_type": "markdown",
   "metadata": {},
   "source": [
    "Import images & remove static aberrations"
   ]
  },
  {
   "cell_type": "code",
   "execution_count": null,
   "metadata": {},
   "outputs": [],
   "source": [
    "def import_fits(filepath):\n",
    "\n",
    "    hdulist = fits.open(filepath,memmap=True)\n",
    "    phase = hdulist[0].data.astype('float')\n",
    "\n",
    "    return phase\n",
    "\n",
    "def remove_zernikes(phase):\n",
    "    \n",
    "    m1 = gpipsfs.GeminiPrimary().sample(npix=48)\n",
    "    avg_phase = np.mean(phase*m1,axis=0)\n",
    "    \n",
    "    z_basis = poppy.zernike.zernike_basis_faster(nterms= 6, npix = 48)\n",
    "    z_coeff = poppy.zernike.opd_expand_nonorthonormal(avg_phase, aperture=m1, nterms=6)\n",
    "    thin_lens = np.sum(z_coeff[:,None,None]*z_basis[:,:,:],axis=0)\n",
    "    c_phase = (phase - thin_lens[None,:,:])*m1\n",
    "    c_phase[c_phase==0]=np.nan\n",
    "\n",
    "    return c_phase"
   ]
  },
  {
   "cell_type": "code",
   "execution_count": null,
   "metadata": {},
   "outputs": [],
   "source": [
    "phase = import_fits(file1)\n",
    "c_phase = remove_zernikes(phase)\n",
    "img = c_phase[0,:,:]"
   ]
  },
  {
   "cell_type": "code",
   "execution_count": null,
   "metadata": {},
   "outputs": [],
   "source": [
    "%matplotlib notebook \n",
    "\n",
    "plt.imshow(c_phase[0])"
   ]
  },
  {
   "cell_type": "markdown",
   "metadata": {},
   "source": [
    "Indexing "
   ]
  },
  {
   "cell_type": "code",
   "execution_count": null,
   "metadata": {},
   "outputs": [],
   "source": [
    "from scipy import spatial\n",
    "\n",
    "%matplotlib notebook\n",
    "\n",
    "df = pd.DataFrame(columns=['r','D'])\n",
    "\n",
    "r = []\n",
    "D = []\n",
    "coord = []\n",
    "for m0 in np.arange(5):\n",
    "    for n in np.arange(5):\n",
    "        coord.append([m,n])\n",
    "        \n",
    "for i in np.arange(len(coord)-1):\n",
    "    r.append(np.hypot(coord[i+1][0]-coord[i][0],coord[i+1][1]-coord[i][1]))\n",
    "        \n",
    "df['r'] = r\n",
    "df['D'] = D\n",
    "df\n",
    "#r = spatial.distance.cdist(coord,coord)        \n",
    "r"
   ]
  },
  {
   "cell_type": "code",
   "execution_count": null,
   "metadata": {},
   "outputs": [],
   "source": [
    "m = np.array([[0,1,2],[3,4,5],[6,7,8]])\n",
    "m"
   ]
  },
  {
   "cell_type": "code",
   "execution_count": null,
   "metadata": {
    "scrolled": false
   },
   "outputs": [],
   "source": [
    "df = pd.DataFrame(columns=['r','D'])\n",
    "\n",
    "coord = [(i,j) for i in range(48) for j in range(48)]\n",
    "r = []\n",
    "D = []\n",
    "for s in range(48*48):\n",
    "    p0 = coord[0]\n",
    "    for i in range(48):\n",
    "        for j in range(48):\n",
    "            #print(i,j,p0[0],p0[1])\n",
    "            r.append(np.hypot(i-p0[0],j-p0[1]))\n",
    "            D.append((img[i,j]-img[p0[0],p0[1]])**2)\n",
    "    coord = np.roll(coord,-2)\n",
    "df['r'] = r\n",
    "df['D'] = D\n",
    "df.groupby('r').mean()"
   ]
  },
  {
   "cell_type": "code",
   "execution_count": null,
   "metadata": {},
   "outputs": [],
   "source": [
    "from scipy import spatial"
   ]
  },
  {
   "cell_type": "code",
   "execution_count": null,
   "metadata": {},
   "outputs": [],
   "source": [
    "coord = [(i,j) for i in range(48) for j in range(48)\n",
    "         \n",
    "D = spatial.distance.cdist(coord,coord,metric='correlation')\n",
    "D"
   ]
  },
  {
   "cell_type": "code",
   "execution_count": null,
   "metadata": {},
   "outputs": [],
   "source": []
  }
 ],
 "metadata": {
  "kernelspec": {
   "display_name": "Python 3",
   "language": "python",
   "name": "python3"
  },
  "language_info": {
   "codemirror_mode": {
    "name": "ipython",
    "version": 3
   },
   "file_extension": ".py",
   "mimetype": "text/x-python",
   "name": "python",
   "nbconvert_exporter": "python",
   "pygments_lexer": "ipython3",
   "version": "3.6.5"
  }
 },
 "nbformat": 4,
 "nbformat_minor": 2
}
