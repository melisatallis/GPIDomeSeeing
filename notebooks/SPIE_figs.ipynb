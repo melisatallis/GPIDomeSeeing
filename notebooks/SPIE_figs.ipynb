{
 "cells": [
  {
   "cell_type": "code",
   "execution_count": null,
   "metadata": {},
   "outputs": [],
   "source": [
    "import numpy as np\n",
    "import pandas as pd\n",
    "import matplotlib.pyplot as plt\n",
    "import copy\n",
    "import pytz\n",
    "import datetime \n",
    "import astral\n",
    "import astropy.time as aptime\n",
    "from scipy import stats\n",
    "from scipy import optimize\n",
    "import os\n",
    "import time\n",
    "\n",
    "%matplotlib inline\n",
    "from matplotlib import rc\n",
    "from matplotlib import rcParams\n",
    "rc('xtick', labelsize=15) \n",
    "rc('ytick', labelsize=15)\n",
    "\n",
    "rc('axes', labelsize=20) \n",
    "rc('axes', linewidth=2)\n",
    "\n",
    "rcParams['axes.titlesize'] = 15\n",
    "rcParams['legend.fontsize'] = 15\n",
    "rcParams['patch.linewidth'] = 1\n",
    "#rcParams['axes.titlepad'] = 30\n",
    "rcParams['axes.labelpad'] = 10\n",
    "\n",
    "savedir = os.environ[\"HOME\"]+'/Dropbox (GPI)/TEST_SCRATCH/scratch/mtallis/plots/SPIE_poster_figs/'\n",
    "dstr = time.strftime('%Y%m%d')"
   ]
  },
  {
   "cell_type": "markdown",
   "metadata": {},
   "source": [
    "# Load data"
   ]
  },
  {
   "cell_type": "markdown",
   "metadata": {},
   "source": [
    "raw contrast data"
   ]
  },
  {
   "cell_type": "code",
   "execution_count": null,
   "metadata": {},
   "outputs": [],
   "source": [
    "csv_file1 = pd.read_csv('IFS_RawContrast_Gemini_env_20180530_all_seeing.csv')\n",
    "csv_file1_copy = copy.copy(csv_file1)\n",
    "raw_contrast_data= pd.DataFrame(csv_file1_copy)\n",
    "print len(raw_contrast_data)\n",
    "\n",
    "#  Create colums with datetimes and make them timezone aware\n",
    "raw_contrast_data['dts'] = pd.to_datetime(raw_contrast_data['dts'])\n",
    "raw_contrast_data['dts']=raw_contrast_data['dts'].dt.tz_localize(pytz.UTC)\n",
    "raw_contrast_data['wfe_sq'] = raw_contrast_data['cal_wfe']**2"
   ]
  },
  {
   "cell_type": "code",
   "execution_count": null,
   "metadata": {
    "scrolled": true
   },
   "outputs": [],
   "source": [
    "print sum(~np.isfinite(raw_contrast_data['MASSTAU']))\n",
    "print sum(~np.isfinite(raw_contrast_data['DIMMSEE']))"
   ]
  },
  {
   "cell_type": "markdown",
   "metadata": {},
   "source": [
    "environmental data"
   ]
  },
  {
   "cell_type": "code",
   "execution_count": null,
   "metadata": {},
   "outputs": [],
   "source": [
    "txt_file1 = pd.read_csv('GS_env_20180625.csv')\n",
    "txt_file1_copy = copy.copy(txt_file1)\n",
    "GS_env_data= pd.DataFrame(txt_file1_copy)\n",
    "print len(GS_env_data)\n",
    "\n",
    "GS_env_data['dts'] = aptime.Time(GS_env_data['MJDOBS'], format='mjd').datetime \n",
    "GS_env_data['dts'] = GS_env_data['dts'].dt.tz_localize(pytz.UTC)\n",
    "\n",
    "txt_file2 = pd.read_csv('GS_env_20180601_night.csv')\n",
    "txt_file2_copy = copy.copy(txt_file2)\n",
    "GS_env_data_night= pd.DataFrame(txt_file2_copy)\n",
    "print len(GS_env_data_night)\n",
    "\n",
    "GS_env_data_night['dts'] = aptime.Time(GS_env_data_night['MJDOBS'], format='mjd').datetime \n",
    "GS_env_data_night['dts'] = GS_env_data_night['dts'].dt.tz_localize(pytz.UTC)"
   ]
  },
  {
   "cell_type": "markdown",
   "metadata": {},
   "source": [
    "final contrast data"
   ]
  },
  {
   "cell_type": "code",
   "execution_count": null,
   "metadata": {},
   "outputs": [],
   "source": [
    "csv_file2 = pd.read_csv('IFS_FinalContrast_20180530.csv')\n",
    "csv_file2_copy = copy.copy(csv_file2)\n",
    "final_contrast_data= pd.DataFrame(csv_file2_copy)\n",
    "print len(final_contrast_data)\n",
    "\n",
    "#  Create colums with datetimes and make them timezone aware\n",
    "final_contrast_data['dts'] = pd.to_datetime(final_contrast_data['dts'])\n",
    "final_contrast_data['dts']=final_contrast_data['dts'].dt.tz_localize(pytz.UTC)"
   ]
  },
  {
   "cell_type": "markdown",
   "metadata": {},
   "source": [
    "# Set conditions to data"
   ]
  },
  {
   "cell_type": "code",
   "execution_count": null,
   "metadata": {},
   "outputs": [],
   "source": [
    "def filter_data(data, imag = 7., tau = 1., see = 2., all_cond = True):\n",
    "    \"This selects all rows of input dataframe that satisfy conditions set by the user\"\n",
    "    \n",
    "    date1 = datetime.date(year = 2014, month = 1, day =1)\n",
    "    \n",
    "    #  AO system requirements\n",
    "    cond1 = data['dts'] > date1 \n",
    "    cond2 = data['COADDS'] == 1\n",
    "    cond3 = (data['OBSMODE'] == 'H_coron')|(data['OBSMODE'] == 'Spec')\n",
    "    cond4 = data['AOFRAMES'] == 1000\n",
    "\n",
    "    #  Good seeing conditions\n",
    "    cond5 = data['IMAG'] < imag #Bright Stars\n",
    "    cond6 = data['MASSTAU'] > tau  # slow moving turbulence [ms]\n",
    "    cond7 = data['DIMMSEE'] < see  # smaller scale turbulence [\"]\n",
    "    \n",
    "    if all_cond:\n",
    "        ind = np.where(cond1 & cond2 & cond3 & cond4 & cond5 & cond6 & cond7)[0]  \n",
    "        print len(ind)\n",
    "    else:\n",
    "        ind = np.where(cond1 & cond2 & cond3 & cond4 & cond5)[0]  \n",
    "        print len(ind)\n",
    "\n",
    "    filtered_data = data.iloc[ind]\n",
    "    #filtered_data = filtered_data.dropna(subset = ['CONTR040','cal_wfe','M1_avg','TAMBIENT','Outside_OE_temperature'])\n",
    "    \n",
    "    new_ind = np.arange(len(filtered_data))\n",
    "    filtered_data = filtered_data.set_index(new_ind)\n",
    "        \n",
    "    return filtered_data"
   ]
  },
  {
   "cell_type": "code",
   "execution_count": null,
   "metadata": {
    "scrolled": true
   },
   "outputs": [],
   "source": [
    "r = filter_data(raw_contrast_data,imag = 7)\n",
    "f = filter_data(final_contrast_data,imag=7)"
   ]
  },
  {
   "cell_type": "code",
   "execution_count": null,
   "metadata": {},
   "outputs": [],
   "source": [
    "r"
   ]
  },
  {
   "cell_type": "markdown",
   "metadata": {},
   "source": [
    "# Select floor of data"
   ]
  },
  {
   "cell_type": "code",
   "execution_count": null,
   "metadata": {},
   "outputs": [],
   "source": [
    "def floor(data,parval = 'cal_wfe', percent = .25, temp1 = 'M1_avg', temp2 = 'TAMBIENT',temp3 ='',binedges = 'auto'):\n",
    "    \"Select points below a percentile\"\n",
    "    \n",
    "    if temp3 != '':\n",
    "        mask = (data.loc[:,temp3] < .6) & (data.loc[:,temp3] > -.6) & (data.loc[:,temp3] != 0)\n",
    "        data = data[mask]\n",
    "        x = pd.to_numeric(data[temp3],errors = 'coerce')\n",
    "    else:\n",
    "        x = data[temp1] - data[temp2]\n",
    "    \n",
    "    # compute bins\n",
    "    numdat, binedges = np.histogram(x, bins = binedges) \n",
    "    data['bin'] = np.digitize(x, binedges)\n",
    "    \n",
    "    # dataframe containing rows with floor points \n",
    "    df_floor = data.groupby(by ='bin').apply(lambda x: x.loc[x[parval] <= x[parval].quantile(percent)])\n",
    "    \n",
    "    return df_floor"
   ]
  },
  {
   "cell_type": "code",
   "execution_count": null,
   "metadata": {},
   "outputs": [],
   "source": [
    "r_floor = floor(r, percent = .1)"
   ]
  },
  {
   "cell_type": "markdown",
   "metadata": {},
   "source": [
    "# Scatter plot"
   ]
  },
  {
   "cell_type": "code",
   "execution_count": null,
   "metadata": {},
   "outputs": [],
   "source": [
    "def find_offset(data, temp1 = 'M1_avg', temp2 = 'T_twr', parval = 'cal_wfe'):\n",
    "    \n",
    "    #  Define the x and y data  \n",
    "    offset = np.linspace(-2,2, 1000)\n",
    "    x = np.abs(data[temp1][None,:] - data[temp2][None,:] + offset[:,None])\n",
    "    y = data[parval]\n",
    "    \n",
    "    if parval != 'cal_wfe':\n",
    "        y = np.log10(data[parval])\n",
    "        \n",
    "    result = [np.round(stats.linregress(r,y),3) for r in x]\n",
    "    slopes, intercepts, r_values, p_values, stderrs = zip(*result)\n",
    "    r2 = [ r**2 for r in r_values]\n",
    "    idx = np.argmax(r2)\n",
    "    \n",
    "    return offset[idx], result[idx]\n",
    "    "
   ]
  },
  {
   "cell_type": "code",
   "execution_count": null,
   "metadata": {},
   "outputs": [],
   "source": [
    "def plot_fit(ax,data,temp1 = 'M1_avg', temp2 = 'T_twr',parval = 'CONTR040', offset = 0, b = 'auto',col = plt.cm.Blues_r(0)):\n",
    "    \n",
    "    def func(x,a,b,c):\n",
    "        return a*x**2 + b*x + c\n",
    "    \n",
    "    x = data[temp1] - data[temp2] + offset\n",
    "    y = data[parval]\n",
    "    \n",
    "    n, nbins = np.histogram(x, bins = b) \n",
    "    data['bin'] = np.digitize(x, nbins,right=True)\n",
    "\n",
    "    bin_cent = (nbins[1:] + nbins[:-1])/2\n",
    "    sumy,binedges = np.histogram(x, nbins, weights=y)\n",
    "    sumy2,binedges = np.histogram(x, nbins, weights=y*y)\n",
    "    bin_means = sumy/n\n",
    "    bin_std = np.sqrt(sumy2/n - bin_means*bin_means)\n",
    "    #biny = data.groupby(by = 'bin')[parval].mean()\n",
    "    #bin_std = data.groupby(by = 'bin')[parval].std()\n",
    "    \n",
    "    popt,pcov = optimize.curve_fit(func,bin_cent,bin_means,sigma = bin_std, absolute_sigma = True)\n",
    "    print popt\n",
    "    \n",
    "    x_fit = np.linspace(-5,7,1200)\n",
    "    m = func(x_fit,*popt)\n",
    "    \n",
    "    out = ax.plot(x_fit,m,color = col,lw=3)\n",
    "    \n",
    "    if parval == 'wfe_sq':\n",
    "        print(np.sqrt(func(4,*popt))-np.sqrt(func(0,*popt)))\n",
    "        \n",
    "    else:\n",
    "        print(func(4,*popt)/func(0,*popt))\n",
    "    \n",
    "    return out   "
   ]
  },
  {
   "cell_type": "code",
   "execution_count": null,
   "metadata": {},
   "outputs": [],
   "source": [
    "def plot_linear_fit(ax,data,col,temp1 = 'M1_avg', temp2 = 'TAMBIENT',temp3 ='', parval = 'cal_wfe', offset = 0):\n",
    "    \n",
    "    #  select x data to fit\n",
    "    if temp3 != '':\n",
    "        mask = (data.loc[:,temp3] < .6) & (data.loc[:,temp3] > -.6) & (data.loc[:,temp3] != 0)\n",
    "        data = data[mask]\n",
    "        x = pd.to_numeric(data[temp3],errors = 'coerce')\n",
    "    else:\n",
    "        x = np.abs(data[temp1] - data[temp2] + offset)\n",
    "    \n",
    "    #  select y data to fit\n",
    "    if (parval == 'CONTR040')|(parval == 'C40_CH4_scaled'):\n",
    "        y = np.log10(data[parval])\n",
    "        \n",
    "        def func(x, m, i):\n",
    "            return 10**(x*m+i)\n",
    "    else:\n",
    "        y = data[parval]\n",
    "        def func(x, m, i):\n",
    "            return x*m+i\n",
    "    \n",
    "    # Do a linear regression fit\n",
    "    slope, intercept, r_value, p_value, stderr = stats.linregress(x,y)\n",
    "    x_fit = np.linspace(-4,7,1100)\n",
    "    y_fit = func(x_fit, slope, intercept)\n",
    "    \n",
    "    print('slope: ',(slope))\n",
    "    print('err: ', stderr)\n",
    "    print('intercept: ', intercept)\n",
    "    print('r2: ', r_value**2)\n",
    "    \n",
    "    out = ax.plot(x_fit,y_fit,color = col,lw=2)\n",
    "    return out\n",
    "    "
   ]
  },
  {
   "cell_type": "code",
   "execution_count": null,
   "metadata": {},
   "outputs": [],
   "source": [
    "def scatter_plot(ax, data, color = False, parval1 = 'cal_wfe', temp1 = 'M1_avg', temp2 = 'TAMBIENT',\n",
    "                 temp3 = '', size = 10, parval2 = 'MASSTAU', absolute = False, offset = 0,alph = .2,\n",
    "                 col = 'navy',mar = 'o',cm =plt.cm.Blues ):\n",
    "    \n",
    "    ## x - axis is temperature rate of change, temperature difference, or absolute temperature difference\n",
    "    if temp3 != '':\n",
    "        mask = (data.loc[:,temp3] < .6) & (data.loc[:,temp3] > -.6) & (data.loc[:,temp3] != 0)\n",
    "        data = data[mask]\n",
    "        x = data[temp3]\n",
    "        ax.set_xlabel(r'AO bench temperature drift rate  $[\\frac{C^\\circ}{hr}]$')\n",
    "        ax.set_xlim(-.6,.6)\n",
    "        \n",
    "    else:\n",
    "        x = data[temp1] - data[temp2]\n",
    "        ax.set_xlabel('Primary - Outside air [$C^\\circ$]')\n",
    "\n",
    "    if absolute: \n",
    "        x = np.abs(x + offset)\n",
    "        ax.set_xlabel('|Primary - Outside air| [$C^\\circ$]')\n",
    "        ax.set_xlim(-1,x.max()+1.)\n",
    "   \n",
    "    y = data[parval1]\n",
    "    \n",
    "    if parval1 == 'cal_wfe':\n",
    "        ax.set_ylabel('Residual WFE [RMS nm]')\n",
    "        #out = ax.scatter(x,y,c='k',s = size)\n",
    "    \n",
    "    ## y - axis either log scale  or not\n",
    "    if parval1 == 'CONTR040':\n",
    "        ax.set_ylabel('Raw 5-$\\sigma$ contrast')\n",
    "        #ax.set_yscale('log',basey=10)\n",
    "        #ax.set_ylim(10**-4.7,10**-2.8)\n",
    "        #out = ax.scatter(x,y,c='k',s = size)\n",
    "\n",
    "    if parval1 == 'C40_CH4_scaled':\n",
    "        ax.set_ylabel('Final 5-$\\sigma$ contrast')\n",
    "        #ax.set_yscale('log',basey=10)\n",
    "        #ax.set_ylim(10**-5.7,10**-4.7)\n",
    "        #out = ax.scatter(x,y,c='k',s = size,marker = 's')\n",
    "\n",
    "    ## Plot a third variable as color of points    \n",
    "    if color:\n",
    "        n = data[parval2]\n",
    "        out = ax.scatter(x,y,c=n,cmap=cm,marker = mar,lw=.5,s=size,alpha = .5)\n",
    "    else:\n",
    "        out = ax.scatter(x,y,c=col,s = size,marker = mar,alpha = alph)\n",
    "    \n",
    "    return out   \n"
   ]
  },
  {
   "cell_type": "markdown",
   "metadata": {},
   "source": [
    "# 24 hr plot"
   ]
  },
  {
   "cell_type": "code",
   "execution_count": null,
   "metadata": {
    "scrolled": true
   },
   "outputs": [],
   "source": [
    "GS_env_data['hour'] = np.round(GS_env_data['hours_from_sunset'])"
   ]
  },
  {
   "cell_type": "code",
   "execution_count": null,
   "metadata": {},
   "outputs": [],
   "source": [
    "def plot_med_temp_over_time(ax,data,interval = 'hour',  mean = True, sensors = [], drift_rate = False,\n",
    "                            temp = 'OMSS_AO_Bench_temperature_dT'):\n",
    "    \n",
    "    if drift_rate == True:\n",
    "        if mean:\n",
    "            m = data.groupby(by = interval)[temp].mean()\n",
    "        else:\n",
    "            m = data.groupby(by = interval)[temp].median()\n",
    "\n",
    "        ax.plot(m.index,m,'o-', color = 'cornflowerblue')\n",
    "    \n",
    "        # plot labels \n",
    "        ax.set_ylabel(r'AO bench temp drift rate  $[\\frac{C^\\circ}{hr}]$')\n",
    "        ax.set_xticks(np.linspace(0,24,13))\n",
    "        #ax.grid(axis='y', alpha = .5)\n",
    "        ax.legend(loc=4,frameon=False)\n",
    "    \n",
    "    else:\n",
    "        #ax.set_color_cycle([plt.cm.magma_r(i) for i in np.linspace(0, 1, 4)])\n",
    "\n",
    "        labels = ['AO bench','Dome air','Primary','Outside air']\n",
    "        colors = ['grey','red','k','darkorange',]\n",
    "        fmt = ['-.','-','-','-.'] \n",
    "        i = 0\n",
    "    \n",
    "        for s in sensors:\n",
    "            if mean:\n",
    "                m = data.groupby(by = interval)[str(s)].mean()\n",
    "                std = data.groupby(by = interval)[str(s)].std()\n",
    "                q1 = m-std\n",
    "                q3 = m+std\n",
    "            else:\n",
    "                m = data.groupby(by = interval)[str(s)].median()\n",
    "                q1 =  data.groupby(by = interval)[str(s)].quantile(.25)\n",
    "                q3 =  data.groupby(by = interval)[str(s)].quantile(.75)\n",
    "                \n",
    "            ax.plot(m.index,m,fmt[i], label = labels[i],lw = 3,color = colors[i])\n",
    "            #ax.fill_between(m.index, q1, q3, facecolor=colors[i], alpha=0.5,label='envelope')\n",
    "            ax.set_ylabel('Median Temperature [$C^\\circ$]')\n",
    "\n",
    "            i = i + 1\n",
    "    \n",
    "    # plot labels \n",
    "    ax.set_xlabel('Hours after sunset')\n",
    "    ax.set_xticks(np.linspace(0,24,13))\n",
    "    #ax.grid(axis='y', alpha = .5)\n",
    "    ax.legend(labels,loc=3,frameon=False,ncol=2)\n",
    "    \n",
    "    return"
   ]
  },
  {
   "cell_type": "markdown",
   "metadata": {},
   "source": [
    "# Histogram plot"
   ]
  },
  {
   "cell_type": "code",
   "execution_count": null,
   "metadata": {},
   "outputs": [],
   "source": [
    "def histogram(ax,data,temp1 = 'M1_avg', temp2 = 'T_twr', temp3 = 'dome_low',temp4 = 'OMSS_AO_Bench_temperature', bins = 'auto'):\n",
    "    \n",
    "    n_bins = bins\n",
    "    x = (data[temp1] - data[temp2]).dropna()\n",
    "    y = (data[temp3]- data[temp2]).dropna()\n",
    "    z = (data[temp4]- data[temp2]).dropna()\n",
    "    \n",
    "    ax.hist(x, n_bins, normed=True , stacked=True, color = 'k',alpha=.2)\n",
    "    ax.hist(y, n_bins, normed=True , stacked=True, color = 'b',alpha=.2)\n",
    "    #ax.hist(z, n_bins, normed=True , stacked=True, color = 'royalblue',alpha=.2)\n",
    "\n",
    "\n",
    "    ax.set_ylabel('Normalized Counts')\n",
    "    ax.set_xlabel('Temperature Difference [$C^\\circ$]')\n",
    "    ax.legend(['Primary - Outside air','Dome air - Outside air'],fontsize=15, frameon = False)\n",
    "    ax.set_xlim(-5,10)\n",
    "\n",
    "    return"
   ]
  },
  {
   "cell_type": "code",
   "execution_count": null,
   "metadata": {},
   "outputs": [],
   "source": [
    "night_number= GS_env_data.groupby(by='night_number')\n",
    "range_temp = (night_number['T_twr'].max() - night_number['T_twr'].min()).dropna()"
   ]
  },
  {
   "cell_type": "code",
   "execution_count": null,
   "metadata": {},
   "outputs": [],
   "source": [
    "%matplotlib notebook\n",
    "\n",
    "fig,(ax1,ax2) = plt.subplots(nrows=1,ncols =2, figsize=(13,6))\n",
    "\n",
    "ax1.hist(range_temp,bins='auto',color='purple')\n",
    "ax1.set_ylabel('Number of Nights')\n",
    "ax1.set_xlabel('Outside Air Temperature Range [$C^\\circ$]')\n",
    "ax1.tick_params(axis='both',which = 'both',direction='in', width=2,top=True,right=True)\n",
    "ax1.axvline(x = range_temp.median(),linestyle = '--',color = 'magenta',linewidth=3)\n",
    "ax1.legend(['Median = 3.5 $C^\\circ$'],fontsize=15, frameon = False)\n",
    "\n",
    "hist = histogram(ax2,GS_env_data_night,bins = 'auto')\n",
    "ax2.tick_params(axis='both',which = 'both',direction='in', width=2,top=True,right=True)\n",
    "\n",
    "\n",
    "fig.tight_layout()       \n",
    "\n",
    "plt.savefig(savedir+'out_temp_hist_'+dstr+'.png',dpi = 300)\n",
    "\n"
   ]
  },
  {
   "cell_type": "markdown",
   "metadata": {},
   "source": [
    "# Fig 2. Histogram & Temperature over time "
   ]
  },
  {
   "cell_type": "code",
   "execution_count": null,
   "metadata": {
    "scrolled": false
   },
   "outputs": [],
   "source": [
    "% matplotlib notebook\n",
    "\n",
    "g = GS_env_data.groupby(['night_number'])\n",
    "\n",
    "fig,ax2 = plt.subplots(1,1,figsize = [10,5])\n",
    "\n",
    "#fig,(ax1,ax2) = plt.subplots(1,2,figsize = [12,4],gridspec_kw = {'width_ratios':[1.2, 2]})\n",
    "#hist = histogram(ax1,GS_env_data_night,bins = 'auto')\n",
    "t24 = plot_med_temp_over_time(ax2,GS_env_data,sensors = ['OMSS_AO_Bench_temperature','dome_low','M1_avg','T_twr'],mean = False)\n",
    "ax2.tick_params(axis='both',which = 'both',direction='in', width=2,top=True,right=True)\n",
    "\n",
    "#sunsets\n",
    "ax2.axvline(x=10,linestyle = ':',color = 'mediumpurple',linewidth = 2)\n",
    "\n",
    "#sunrise\n",
    "ax2.axvline(x=14,linestyle = ':',color = 'purple',linewidth = 2)\n",
    "\n",
    "ax2.annotate('Summer \\nsolstice\\nsunrise',[10.5,13.5],fontsize =15,color = 'mediumpurple')\n",
    "#ax2.axvline(x=5,linestyle = ':',color = 'skyblue')\n",
    "ax2.annotate('Winter \\nsolstice\\nsunrise',[14.5,13.5],fontsize=15,color = 'purple')\n",
    "ax2.set_ylim(9,15)\n",
    "\n",
    "'''ax2.set_color_cycle([plt.cm.magma(i) for i in np.linspace(0, .75, 4)])\n",
    "\n",
    "i = 0\n",
    "for name, group in g:\n",
    "    if name % 65 == 4:\n",
    "        i = i+1\n",
    "        ax2.plot(group.hours_from_sunset[:-1], group.M1_avg[:-1], alpha =.2,lw =1)\n",
    "        ax2.plot(group.hours_from_sunset[:-1], group.T_twr[:-1], alpha =.2,lw =1)\n",
    "        ax2.plot(group.hours_from_sunset[:-1], group.OMSS_AO_Bench_temperature[:-1], alpha =.2,lw =1)\n",
    "'''\n",
    "fig.tight_layout()       \n",
    "plt.savefig(savedir+'24_hr_temp_hist_'+dstr+'.png',dpi = 300)\n",
    "\n"
   ]
  },
  {
   "cell_type": "code",
   "execution_count": null,
   "metadata": {
    "scrolled": false
   },
   "outputs": [],
   "source": [
    "% matplotlib notebook\n",
    "\n",
    "g = GS_env_data.groupby(['night_number'])\n",
    "\n",
    "fig,(ax1,ax2) = plt.subplots(1,2,figsize = [12,4],gridspec_kw = {'width_ratios':[1.2, 2]})\n",
    "hist = histogram(ax1,GS_env_data_night,bins = 'auto')\n",
    "t24 = plot_med_temp_over_time(ax2,GS_env_data,sensors = ['OMSS_AO_Bench_temperature','dome_low','M1_avg','T_twr'],mean = False)\n",
    "#ax2.set_color_cycle([plt.cm.Set1(i) for i in np.linspace(0, 1, 6)])\n",
    "\n",
    "'''i = 0\n",
    "for name, group in g:\n",
    "    if name % 65 == 4:\n",
    "        i = i+1\n",
    "        ax2.plot(group.hours_from_sunset[:-1], group.M1_avg[:-1], alpha =.2,lw =1,color='k')\n",
    "        ax2.plot(group.hours_from_sunset[:-1], group.T_twr[:-1], alpha =.2,lw =1,color='yellow')\n",
    "        ax2.plot(group.hours_from_sunset[:-1], group.OMSS_AO_Bench_temperature[:-1], alpha =.2,lw =1,color='red')\n",
    "        ax2.plot(group.hours_from_sunset[:-1], group.dome_low[:-1], alpha =.2,lw =1,color='purple')'''\n",
    "\n",
    "#sunsets\n",
    "ax2.axvline(x=5,linestyle = ':',color = 'navy')\n",
    "\n",
    "#sunrise\n",
    "ax2.axvline(x=19,linestyle = ':',color = 'skyblue')\n",
    "\n",
    "ax2.annotate('Summer solstice\\nsunset',[5.5,15])\n",
    "#ax2.axvline(x=5,linestyle = ':',color = 'skyblue')\n",
    "ax2.annotate('Summer solstice\\nsunrise',[19.5,15])\n",
    "ax2.set_ylim(10,15)\n",
    "\n",
    "fig.tight_layout()       \n",
    "#plt.savefig(savedir+'24_hr_temp_hist_'+dstr+'.png',dpi = 300)\n",
    "\n"
   ]
  },
  {
   "cell_type": "markdown",
   "metadata": {},
   "source": [
    "# Fig 3. 4 raw & final contrasts vs. temp"
   ]
  },
  {
   "cell_type": "code",
   "execution_count": null,
   "metadata": {},
   "outputs": [],
   "source": [
    "r_cont_floor = floor(r,parval='CONTR040',percent=.01)\n",
    "f_cont_floor = floor(f,parval='C40_CH4_scaled',percent=.01)"
   ]
  },
  {
   "cell_type": "code",
   "execution_count": null,
   "metadata": {
    "scrolled": false
   },
   "outputs": [],
   "source": [
    "%matplotlib notebook\n",
    "\n",
    "\n",
    "fig,(ax1,ax2) = plt.subplots(nrows=1,ncols =2, figsize=(12,5))\n",
    "im_r = scatter_plot(ax1,r,temp1 = 'M1_avg',parval1 = 'CONTR040',col = plt.cm.Blues_r(150),alph =.3,size=15)\n",
    "fit_r = plot_fit(ax1,r_cont_floor,parval = 'CONTR040')\n",
    "#ax1.yaxis.set_major_formatter(mtick.FormatStrFormatter('%.e'))\n",
    "#ax1.set_ylim(10**-4.7,10**-3.3)\n",
    "ax1.set_xlim(-4,5.5)\n",
    "ax1.set_ylim(2*10**-5,11*10**-4)\n",
    "ax1.set_yscale('log')\n",
    "ax1.tick_params(axis='both',which = 'both',direction='in', width=2,top=True,right=True)\n",
    "\n",
    "\n",
    "\n",
    "im_f = scatter_plot(ax2,f,temp1 = 'M1_avg',parval1 = 'C40_CH4_scaled',col = plt.cm.Blues_r(120),alph=1,size = 30)\n",
    "fit_f = plot_fit(ax2,f_cont_floor,parval = 'C40_CH4_scaled')\n",
    "#ax2.yaxis.set_major_formatter(mtick.FormatStrFormatter('%.e'))\n",
    "ax2.set_ylim(2*10**-6.5,5*10**-5)\n",
    "ax2.set_xlim(-4,5.5)\n",
    "ax2.set_yscale('log')\n",
    "ax2.tick_params(axis='both',which = 'both',direction='in', width=2,top=True,right=True)\n",
    "\n",
    "fig.tight_layout()\n",
    "fig.subplots_adjust(wspace=0.4)\n",
    "#plt.savefig(savedir+'raw_final_M1_amb_floor_fit_'+dstr+'.png',dpi = 300)\n",
    "\n"
   ]
  },
  {
   "cell_type": "code",
   "execution_count": null,
   "metadata": {},
   "outputs": [],
   "source": [
    "%matplotlib notebook\n",
    "\n",
    "fig,((ax1, ax3), (ax2, ax4)) = plt.subplots(nrows=2,ncols =2, figsize=(14,10))\n",
    "\n",
    "imr = scatter_plot(ax1,raw_contrast_data,temp1 = 'M1_avg',parval1 = 'CONTR040',parval2 = 'MASSTAU',color=True)\n",
    "absr = scatter_plot(ax2,r,col = plt.cm.Blues_r(0),temp1 = 'M1_avg',parval1 = 'CONTR040',parval2 = 'MASSTAU',absolute=True,color = True)\n",
    "fitr = plot_linear_fit(ax2,r,col = plt.cm.Blues_r(0),temp1 = 'M1_avg',parval = 'CONTR040')\n",
    "\n",
    "absr.set_clim(.5,1.5)\n",
    "imr.set_clim(.5,1.5)\n",
    "ax1.set_xlim(-3.5,6)\n",
    "ax2.set_xlim(-3.5,6)\n",
    "\n",
    "imf = scatter_plot(ax3,final_contrast_data,temp1 = 'M1_avg',parval1 = 'C40_CH4_scaled',parval2 = 'MASSTAU',color=True,  mar = 's', size = 20)\n",
    "absf = scatter_plot(ax4,f,col = plt.cm.Blues_r(0),temp1 = 'M1_avg',parval1 = 'C40_CH4_scaled',parval2 = 'MASSTAU',absolute=True,color = True,size = 20,  mar = 's')\n",
    "fitf = plot_linear_fit(ax4,f,col = plt.cm.Blues_r(0),temp1 = 'M1_avg',parval = 'C40_CH4_scaled')\n",
    "\n",
    "absf.set_clim(.5,1.5)\n",
    "imf.set_clim(.5,1.5)\n",
    "ax3.set_xlim(-3.5,6)\n",
    "ax4.set_xlim(-3.5,6)\n",
    "\n",
    "fig.tight_layout()\n",
    "plt.subplots_adjust(wspace=0.3)\n",
    "\n",
    "fig.subplots_adjust(right=0.8)\n",
    "#cbar = fig.add_axes([0.85, 0.57, 0.05, 0.41])\n",
    "cbar = fig.add_axes([0.85, 0.15, 0.03, 0.7])\n",
    "\n",
    "fig.colorbar(imr, cax=cbar,label=r'MASS $\\tau_0$ [ms]')\n",
    "\n",
    "plt.savefig(savedir+'raw_final_M1_tau_fit_'+dstr+'.png',dpi = 300)\n",
    "\n"
   ]
  },
  {
   "cell_type": "markdown",
   "metadata": {},
   "source": [
    "# Fig 5. WFE fit "
   ]
  },
  {
   "cell_type": "code",
   "execution_count": null,
   "metadata": {},
   "outputs": [],
   "source": [
    "r_wfe_floor = floor(r,parval='wfe_sq',percent=.01)"
   ]
  },
  {
   "cell_type": "code",
   "execution_count": null,
   "metadata": {},
   "outputs": [],
   "source": [
    "len(r_wfe_floor)"
   ]
  },
  {
   "cell_type": "code",
   "execution_count": null,
   "metadata": {
    "scrolled": false
   },
   "outputs": [],
   "source": [
    "% matplotlib notebook\n",
    "\n",
    "fig,ax = plt.subplots(1,1,figsize = [7,7])\n",
    "im = scatter_plot(ax,r,temp1 = 'M1_avg',parval1 ='wfe_sq',col = 'yellowgreen',size = 15,alph = .3)\n",
    "fit = plot_fit(ax,r_wfe_floor,temp1 = 'M1_avg',parval = 'wfe_sq',col = 'green',b = 6)\n",
    "#im.set_clim(.5,1.5)\n",
    "\n",
    "#fig.subplots_adjust(right=0.8)\n",
    "#cbar = fig.add_axes([0.85, 0.15, 0.05, 0.7])\n",
    "#fig.colorbar(im, cax=cbar,label=r'MASS $\\tau_0$ [ms]')\n",
    "\n",
    "\n",
    "\n",
    "#ax.legend(['hello'],frameon=False)\n",
    "ax.tick_params(axis='both',which = 'both',direction='in', width=2,top=True,right=True)\n",
    "ax.set_xlim(-3.5,5.5)\n",
    "ax.set_ylim(0,35000)\n",
    "ax.set_ylabel('$\\sigma_{WFE}^2$ $[nm^2]$')\n",
    "ax.ticklabel_format(axis = 'y',style = 'sci',scilimits=(0,0))\n",
    "#plt.savefig(savedir+'wfe_M1_ambient_fit_'+dstr+'.png',dpi = 300)\n",
    "\n"
   ]
  },
  {
   "cell_type": "markdown",
   "metadata": {},
   "source": [
    "# Fig 6. Temperature drift"
   ]
  },
  {
   "cell_type": "code",
   "execution_count": null,
   "metadata": {},
   "outputs": [],
   "source": [
    "%matplotlib notebook\n",
    "\n",
    "fig,ax = plt.subplots(1,1,figsize = [9,8])\n",
    "im = scatter_plot(ax,r,col ='grey',parval1 ='CONTR040',temp3 = 'OMSATEMP_dT')\n",
    "fit = plot_linear_fit(ax,f,col='k', temp3='OMSATEMP_dT',parval = 'CONTR040')\n",
    "#ax.set_ylim(-.5,.3)\n",
    "\n",
    "plt.savefig(savedir+'raw_ao_bench_drift_'+dstr+'.png',dpi = 300)"
   ]
  }
 ],
 "metadata": {
  "kernelspec": {
   "display_name": "Python 3",
   "language": "python",
   "name": "python3"
  },
  "language_info": {
   "codemirror_mode": {
    "name": "ipython",
    "version": 3
   },
   "file_extension": ".py",
   "mimetype": "text/x-python",
   "name": "python",
   "nbconvert_exporter": "python",
   "pygments_lexer": "ipython3",
   "version": "3.6.5"
  }
 },
 "nbformat": 4,
 "nbformat_minor": 2
}
