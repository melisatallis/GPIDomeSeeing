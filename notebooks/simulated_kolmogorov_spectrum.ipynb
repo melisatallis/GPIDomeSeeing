{
 "cells": [
  {
   "cell_type": "code",
   "execution_count": null,
   "metadata": {},
   "outputs": [],
   "source": [
    "import galsim\n",
    "import numpy as np\n",
    "import matplotlib.pyplot as plt\n",
    "import pandas as pd\n",
    "import poppy\n",
    "import gpipsfs\n",
    "import scipy.fftpack as fft"
   ]
  },
  {
   "cell_type": "code",
   "execution_count": null,
   "metadata": {},
   "outputs": [],
   "source": [
    "ap = gpipsfs.GeminiPrimary().sample(npix=npix)\n",
    "apod = gpipsfs.GPI_Apodizer().sample(npix=npix)"
   ]
  },
  {
   "cell_type": "code",
   "execution_count": null,
   "metadata": {},
   "outputs": [],
   "source": [
    "r0_500 = .2\n",
    "npix = 48\n",
    "screen_scale=0.18\n",
    "layer0 = galsim.AtmosphericScreen(screen_size=screen_scale*npix,r0_500=r0_500,screen_scale=screen_scale,altitude=10,L0 = np.inf)\n",
    "\n",
    "x = np.linspace(-(npix)/2,(npix)/2,npix)*screen_scale \n",
    "y = np.linspace(-(npix)/2,(npix)/2,npix)*screen_scale\n",
    "mg = np.meshgrid(x,y)\n",
    "\n",
    "wf = layer0.wavefront(u=mg[0],v=mg[1])"
   ]
  },
  {
   "cell_type": "markdown",
   "metadata": {},
   "source": [
    "Make Frequency grid"
   ]
  },
  {
   "cell_type": "code",
   "execution_count": null,
   "metadata": {},
   "outputs": [],
   "source": [
    "kx = fft.fftshift(fft.fftfreq(npix,screen_scale))\n",
    "ky = fft.fftshift(fft.fftfreq(npix,screen_scale))\n",
    "mg = np.meshgrid(kx,ky)\n",
    "kr = np.sqrt(np.sum((m**2 for m in mg))) "
   ]
  },
  {
   "cell_type": "markdown",
   "metadata": {},
   "source": [
    "Fourier analysis"
   ]
  },
  {
   "cell_type": "code",
   "execution_count": null,
   "metadata": {},
   "outputs": [],
   "source": [
    "def radialProfile(image, center=None):\n",
    "    \"\"\"\n",
    "    Calculate the avearge radial profile.\n",
    "\n",
    "    image - The 2D image\n",
    "    center - The [x,y] pixel coordinates used as the center. The default is \n",
    "             None, which then uses the center of the image (including \n",
    "             fracitonal pixels).\n",
    "    \n",
    "    \"\"\"\n",
    "    ## Calculate the indices from the image\n",
    "    y,x = np.indices((image.shape)) # first determine radii of all pixels\n",
    "    \n",
    "    if not center:\n",
    "        center = np.array([(x.max()-x.min())/2.0, (y.max()-y.min())/2.0])\n",
    "     \n",
    "    r = np.hypot(x - center[0], y - center[1]).astype(np.int) \n",
    "    \n",
    "    n = np.bincount(r.ravel())\n",
    "    sy = np.bincount(r.ravel(), image.ravel())\n",
    "    mean = sy/n\n",
    "    \n",
    "    return mean\n",
    "\n",
    "def linear_fit(k,Y,low_b,up_b):\n",
    "\n",
    "    par = np.polyfit(np.log10(k[(k>low_b) & (k<up_b)]), np.log10(Y[(k>low_b) & (k<up_b)]), 1)\n",
    "    slope = par[0]\n",
    "    intercept = par[1]\n",
    "    \n",
    "    return slope, intercept   "
   ]
  },
  {
   "cell_type": "code",
   "execution_count": null,
   "metadata": {},
   "outputs": [],
   "source": [
    "k = radialProfile(kr)\n",
    "ft = np.fft.fftshift(fft.fft2(wf))\n",
    "y2_psd = np.square(np.abs(ft))\n",
    "y1_psd = radialProfile(y2_psd)\n",
    "\n",
    "m,yint = linear_fit(k,y1_psd,.33,1.)\n",
    "print(m,yint)\n",
    "\n",
    "plt.loglog(k,y1_psd)\n",
    "plt.plot(k[(k>.33) & (k<1)],10**yint*k[(k>.33) & (k<1)]**m)"
   ]
  },
  {
   "cell_type": "markdown",
   "metadata": {},
   "source": [
    "Home made simulation"
   ]
  },
  {
   "cell_type": "code",
   "execution_count": null,
   "metadata": {},
   "outputs": [],
   "source": [
    "k = np.sqrt(kr)\n",
    "k[k==0] = 1\n",
    "Phi = k**(-11./3.)\n",
    "f = (np.random.randn(npix,npix)+1j*np.random.randn(npix,npix))*np.sqrt(Phi)\n",
    "f = np.fft.ifftshift(f)\n",
    "f = np.fft.ifft2(f)\n",
    "dN = np.real(f)*100"
   ]
  },
  {
   "cell_type": "code",
   "execution_count": null,
   "metadata": {},
   "outputs": [],
   "source": [
    "%matplotlib notebook\n",
    "plt.imshow(dN*ap)"
   ]
  },
  {
   "cell_type": "code",
   "execution_count": null,
   "metadata": {},
   "outputs": [],
   "source": []
  }
 ],
 "metadata": {
  "kernelspec": {
   "display_name": "Python 3",
   "language": "python",
   "name": "python3"
  },
  "language_info": {
   "codemirror_mode": {
    "name": "ipython",
    "version": 3
   },
   "file_extension": ".py",
   "mimetype": "text/x-python",
   "name": "python",
   "nbconvert_exporter": "python",
   "pygments_lexer": "ipython3",
   "version": "3.6.7"
  }
 },
 "nbformat": 4,
 "nbformat_minor": 2
}
