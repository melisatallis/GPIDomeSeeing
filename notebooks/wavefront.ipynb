{
 "cells": [
  {
   "cell_type": "code",
   "execution_count": 6,
   "metadata": {},
   "outputs": [],
   "source": [
    "import numpy as np\n",
    "import matplotlib.pyplot as plt\n",
    "import scipy.fftpack as fft\n",
    "from astropy.io import fits"
   ]
  },
  {
   "cell_type": "markdown",
   "metadata": {},
   "source": [
    "# Import fits"
   ]
  },
  {
   "cell_type": "code",
   "execution_count": 17,
   "metadata": {},
   "outputs": [],
   "source": [
    "def import_fits(file_path):\n",
    "    \"\"\"Create an Image class from a FITs file. Can process a 2-D single \n",
    "    image data array or a 3-D image datacube.  Return is a single Image\n",
    "    object or a list of Image objects, respectively.\"\"\"\n",
    "\n",
    "    ## Read fits file\n",
    "    hdulist = fits.open(file_path, memmap=True)\n",
    "    data = hdulist[0].data\n",
    "\n",
    "    shape = data.shape\n",
    "\n",
    "    ## Create Image objects\n",
    "    if len(shape) == 2:\n",
    "        return data\n",
    "    elif len(shape) == 3:\n",
    "        image_list = []\n",
    "        \n",
    "    ## Iterate over datacube and initialize Image objects\n",
    "        for i in range(data.shape[0]):\n",
    "            single_image_data = data[i,:,:]\n",
    "            image_list.append(single_image_data)  \n",
    "        return image_list\n",
    "    else:\n",
    "        print(shape)\n",
    "        sys.exit(\"FITs Read Error: Must be 2-D or 3-D Image datacube\")"
   ]
  },
  {
   "cell_type": "code",
   "execution_count": 23,
   "metadata": {},
   "outputs": [],
   "source": [
    "file_name = \"/Users/MelisaT/Documents/Research/GPIDomeSeeing/data/Reduced/20160227/aored_When_2016.2.27_5.53.56_poldm_phase.fits\""
   ]
  },
  {
   "cell_type": "code",
   "execution_count": 25,
   "metadata": {},
   "outputs": [],
   "source": [
    "image_list = import_fits(file_name)\n",
    "single_image = image_list[0]"
   ]
  },
  {
   "cell_type": "code",
   "execution_count": 27,
   "metadata": {},
   "outputs": [
    {
     "data": {
      "text/plain": [
       "(48, 48)"
      ]
     },
     "execution_count": 27,
     "metadata": {},
     "output_type": "execute_result"
    }
   ],
   "source": [
    "single_image.shape"
   ]
  },
  {
   "cell_type": "code",
   "execution_count": null,
   "metadata": {},
   "outputs": [],
   "source": []
  }
 ],
 "metadata": {
  "kernelspec": {
   "display_name": "Python 3",
   "language": "python",
   "name": "python3"
  },
  "language_info": {
   "codemirror_mode": {
    "name": "ipython",
    "version": 3
   },
   "file_extension": ".py",
   "mimetype": "text/x-python",
   "name": "python",
   "nbconvert_exporter": "python",
   "pygments_lexer": "ipython3",
   "version": "3.6.0"
  }
 },
 "nbformat": 4,
 "nbformat_minor": 2
}
