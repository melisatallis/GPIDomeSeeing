{
 "cells": [
  {
   "cell_type": "code",
   "execution_count": 6,
   "metadata": {},
   "outputs": [],
   "source": [
    "import numpy as np\n",
    "import matplotlib.pyplot as plt\n",
    "import scipy.fftpack as fft\n",
    "from astropy.io import fits"
   ]
  },
  {
   "cell_type": "markdown",
   "metadata": {},
   "source": [
    "# Import fits"
   ]
  },
  {
   "cell_type": "code",
   "execution_count": 28,
   "metadata": {},
   "outputs": [],
   "source": [
    "def import_fits(file_path):\n",
    "    \"\"\"Import a FITs file. Can process a 2-D single \n",
    "    image data array or a 3-D image datacube.  Return is a single Image\n",
    "    object or a list of Image objects.\"\"\"\n",
    "\n",
    "    ## Read fits file\n",
    "    hdulist = fits.open(file_path, memmap=True)\n",
    "    data = hdulist[0].data\n",
    "\n",
    "    shape = data.shape\n",
    "\n",
    "    ## Create Image objects\n",
    "    if len(shape) == 2:\n",
    "        return data\n",
    "    elif len(shape) == 3:\n",
    "        image_list = []\n",
    "        \n",
    "    ## Iterate over datacube and initialize Image objects\n",
    "        for i in range(data.shape[0]):\n",
    "            single_image_data = data[i,:,:]\n",
    "            image_list.append(single_image_data)  \n",
    "        return image_list\n",
    "    else:\n",
    "        print(shape)\n",
    "        sys.exit(\"FITs Read Error: Must be 2-D or 3-D Image datacube\")"
   ]
  },
  {
   "cell_type": "code",
   "execution_count": 23,
   "metadata": {},
   "outputs": [],
   "source": [
    "file_name = \"/Users/MelisaT/Documents/Research/GPIDomeSeeing/data/Reduced/20160227/aored_When_2016.2.27_5.53.56_poldm_phase.fits\""
   ]
  },
  {
   "cell_type": "code",
   "execution_count": 25,
   "metadata": {},
   "outputs": [],
   "source": [
    "image_list = import_fits(file_name)\n",
    "single_image = image_list[0]"
   ]
  },
  {
   "cell_type": "markdown",
   "metadata": {},
   "source": [
    "# Plot image array"
   ]
  },
  {
   "cell_type": "code",
   "execution_count": 38,
   "metadata": {},
   "outputs": [],
   "source": [
    "def implot(image, display=True, **kwargs):\n",
    "    \"\"\"Plot an image with colorbar.\"\"\"\n",
    "\n",
    "    ## Create matplotlib figure \n",
    "    fig = plt.figure()\n",
    "    ax = fig.add_subplot(1,1,1)\n",
    "    cax = ax.imshow(image, cmap = plt.cm.Greys, origin='lower', interpolation='none')\n",
    "    cbar = fig.colorbar(cax, orientation='vertical')\n",
    "\n",
    "    ## Modify plot based on keyword arguments\n",
    "    if 'title' in kwargs: ax.set_title(kwargs['title'], fontsize=24)\n",
    "    if 'xlabel' in kwargs: ax.set_xlabel(kwargs['xlabel'], fontsize=16)\n",
    "    if 'ylabel' in kwargs: ax.set_ylabel(kwargs['ylabel'], fontsize=16)\n",
    "    if 'cbar_label' in kwargs: cbar.set_label(kwargs['cbar_label'], \n",
    "                                              fontsize=18)\n",
    "    if 'save_image' in kwargs: plt.savefig(kwargs['save_image'])\n",
    "\n",
    "    if display: plt.show()"
   ]
  },
  {
   "cell_type": "code",
   "execution_count": 43,
   "metadata": {},
   "outputs": [
    {
     "data": {
      "image/png": "[encoded data removed]",
      "text/plain": [
       "<matplotlib.figure.Figure at 0x1093af160>"
      ]
     },
     "metadata": {},
     "output_type": "display_data"
    }
   ],
   "source": [
    "implot(single_image,title = 'Raw Image')"
   ]
  },
  {
   "cell_type": "markdown",
   "metadata": {},
   "source": [
    "# Get pupil"
   ]
  },
  {
   "cell_type": "code",
   "execution_count": 44,
   "metadata": {},
   "outputs": [],
   "source": [
    "# To do:\n",
    "# Zero pad array to get a smooth fourier tranform (check check_ar_atmos.py)\n",
    "\n",
    "def get_pupil(image, pixscale=7.77/43, whole=False, freqshift=False):\n",
    "    \"\"\"Create an array mask representing the telescope pupil\n",
    "    for a given image size and pixel scale.\n",
    "    \"\"\"\n",
    "\n",
    "    ## Initial variables for pupil size and scale\n",
    "    n = image.shape[0]\n",
    "    outD = 7.7\n",
    "    inD = 1.024\n",
    "\n",
    "    xgrid = np.zeros((n,n))\n",
    "\n",
    "    ## Check if frequency scale flag is set\n",
    "    if freqshift:\n",
    "        for j in np.arange(n):\n",
    "            xgrid[:,j] = j - (j > n/2)*n\n",
    "    else:\n",
    "        for j in np.arange(n):\n",
    "            xgrid[:,j] = j\n",
    "        if (n % 2):\n",
    "            if whole:\n",
    "                offset = (n-1)/2.0\n",
    "            else:\n",
    "                offset = 0.\n",
    "        else:\n",
    "            if whole:\n",
    "                offset = n/2.0\n",
    "            else:\n",
    "                offset = (n-1)/2.0\n",
    "        xgrid = xgrid - offset\n",
    "    \n",
    "    ## Construct grid of radial distances from center\n",
    "    ax = xgrid * pixscale\n",
    "    ay = ax.transpose()\n",
    "    ar = np.sqrt(ax**2 + ay**2)\n",
    "\n",
    "    ## Construct boolean array to characterize pupil\n",
    "    ap_outer = (ar < outD/2)\n",
    "    ap_inner = (ar < inD/2)        \n",
    "    pupil = ap_outer ^ ap_inner\n",
    "\n",
    "    ## Return boolean array for use as array mask\n",
    "    return pupil"
   ]
  },
  {
   "cell_type": "code",
   "execution_count": 50,
   "metadata": {},
   "outputs": [],
   "source": [
    "pupil = get_pupil(single_image)\n",
    "pupil_image =  pupil * single_image "
   ]
  },
  {
   "cell_type": "code",
   "execution_count": 48,
   "metadata": {},
   "outputs": [
    {
     "data": {
      "image/png": "[encoded data removed]",
      "text/plain": [
       "<matplotlib.figure.Figure at 0x1093a02b0>"
      ]
     },
     "metadata": {},
     "output_type": "display_data"
    }
   ],
   "source": [
    "implot(pupil,title='GPI pupil')"
   ]
  },
  {
   "cell_type": "code",
   "execution_count": 54,
   "metadata": {},
   "outputs": [
    {
     "data": {
      "image/png": "[encoded data removed]",
      "text/plain": [
       "<matplotlib.figure.Figure at 0x108ec21d0>"
      ]
     },
     "metadata": {},
     "output_type": "display_data"
    }
   ],
   "source": [
    "implot(pupil_image)"
   ]
  },
  {
   "cell_type": "markdown",
   "metadata": {},
   "source": [
    "# Fourier transform of physicsal image "
   ]
  },
  {
   "cell_type": "code",
   "execution_count": 52,
   "metadata": {},
   "outputs": [],
   "source": [
    "## Take the fourier transform of the image.\n",
    "F1 = fft.fft2(pupil_image)\n",
    "\n",
    "## Now shift the quadrants around so that low spatial frequencies are in\n",
    "## the center of the 2D fourier transformed image.\n",
    "F2 = fftpack.fftshift( F1 )\n",
    "\n",
    "# Calculate a 2D power spectrum\n",
    "psd2D = np.abs( F2 )**2"
   ]
  },
  {
   "cell_type": "code",
   "execution_count": null,
   "metadata": {},
   "outputs": [],
   "source": []
  }
 ],
 "metadata": {
  "kernelspec": {
   "display_name": "Python 3",
   "language": "python",
   "name": "python3"
  },
  "language_info": {
   "codemirror_mode": {
    "name": "ipython",
    "version": 3
   },
   "file_extension": ".py",
   "mimetype": "text/x-python",
   "name": "python",
   "nbconvert_exporter": "python",
   "pygments_lexer": "ipython3",
   "version": "3.6.0"
  }
 },
 "nbformat": 4,
 "nbformat_minor": 2
}
