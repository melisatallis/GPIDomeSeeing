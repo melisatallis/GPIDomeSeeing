{
 "cells": [
  {
   "cell_type": "markdown",
   "metadata": {},
   "source": [
    "# Import modules"
   ]
  },
  {
   "cell_type": "code",
   "execution_count": null,
   "metadata": {},
   "outputs": [],
   "source": [
    "import numpy as np\n",
    "import pandas as pd\n",
    "import matplotlib.pyplot as plt\n",
    "import matplotlib.dates as mdates\n",
    "import copy\n",
    "import pytz\n",
    "import datetime \n",
    "import cPickle as pickle\n",
    "import astral\n",
    "import astropy.time as aptime\n",
    "from scipy import stats\n",
    "from scipy import interpolate\n",
    "from scipy import optimize\n",
    "import os\n",
    "import time\n",
    "from matplotlib import gridspec"
   ]
  },
  {
   "cell_type": "code",
   "execution_count": null,
   "metadata": {},
   "outputs": [],
   "source": [
    "from matplotlib import rc\n",
    "from matplotlib import rcParams\n",
    "rc('xtick', labelsize=15) \n",
    "rc('ytick', labelsize=15) \n",
    "rc('axes', labelsize=20) \n",
    "rc('axes', linewidth=2)\n",
    "\n",
    "rcParams['axes.titlesize'] = 25\n",
    "rcParams['legend.fontsize'] = 20\n",
    "rcParams['patch.linewidth'] = 1\n",
    "rcParams['axes.titlepad'] = 30"
   ]
  },
  {
   "cell_type": "code",
   "execution_count": null,
   "metadata": {},
   "outputs": [],
   "source": [
    "pkl_file = open(\"GS-env-2014-19_p2.pkl\", 'rb')\n",
    "dictionary = pickle.load(pkl_file)\n",
    "pkl_file.close()\n",
    "dictionary_copy = copy.copy(dictionary)"
   ]
  },
  {
   "cell_type": "markdown",
   "metadata": {},
   "source": [
    "# Merge sensors"
   ]
  },
  {
   "cell_type": "code",
   "execution_count": null,
   "metadata": {},
   "outputs": [],
   "source": [
    "env_data = dictionary_copy\n",
    "\n",
    "sensor_list = ['T_M1+Y','T_M1-Y','T_TrussAirLow+X','T_TrussAirMid+X','T_TrussAirTop+X',\n",
    "               'T_TrussSurLow+X','T_TrussSurMid+X','T_TrussSurTop+X','T_twr']\n",
    "\n",
    "n=0\n",
    "for sensor in sensor_list:\n",
    "    \n",
    "    #  convert list to arrays and make an MJDOBS column\n",
    "    env_data[sensor]['vals'] = np.array(env_data[sensor]['vals'])\n",
    "    env_data[sensor]['dts'] = np.array(env_data[sensor]['dts'])\n",
    "    env_data[sensor]['MJDOBS'] = aptime.Time(env_data[sensor]['dts'], format='datetime').mjd\n",
    "    \n",
    "    #  Get rid of zeros and outliers \n",
    "    cond1 = env_data[sensor]['vals'] != 0.\n",
    "    cond2 = np.abs(env_data[sensor]['vals']) < 20.\n",
    "    \n",
    "    ind = np.where(cond1 & cond2)[0]\n",
    "    \n",
    "    env_data[sensor]['vals'] = env_data[sensor]['vals'][ind]\n",
    "    env_data[sensor]['dts'] = env_data[sensor]['dts'][ind]\n",
    "    env_data[sensor]['MJDOBS'] = env_data[sensor]['MJDOBS'][ind]\n",
    "    \n",
    "    #  merge other sensor data columns to M1+Y data table\n",
    "    if n==0:\n",
    "        df = pd.DataFrame(columns = ['dts','MJDOBS',sensor])\n",
    "        df[sensor] = pd.Series(env_data[sensor]['vals'])\n",
    "        df['dts'] = pd.Series(env_data[sensor]['dts'])\n",
    "        df['MJDOBS'] = pd.Series(env_data[sensor]['MJDOBS'])\n",
    "        df = df.sort_values(by = ['dts'])\n",
    "        n=1\n",
    "   \n",
    "    else:\n",
    "        newdf = pd.DataFrame(columns = [sensor,'dts'])\n",
    "        newdf[sensor] = pd.Series(env_data[sensor]['vals'])\n",
    "        newdf['dts'] = pd.Series(env_data[sensor]['dts'])\n",
    "        newdf = newdf.sort_values(by = ['dts'])\n",
    "        \n",
    "        df = pd.merge_asof(df,newdf, on='dts',tolerance=pd.Timedelta('30min')) #before it was 30min\n",
    "        \n",
    "env_data = df\n",
    "env_data['dts'] = env_data['dts'].dt.tz_localize(pytz.UTC)"
   ]
  },
  {
   "cell_type": "markdown",
   "metadata": {},
   "source": [
    "date upper limit "
   ]
  },
  {
   "cell_type": "code",
   "execution_count": null,
   "metadata": {},
   "outputs": [],
   "source": [
    "env_data.keys()"
   ]
  },
  {
   "cell_type": "code",
   "execution_count": null,
   "metadata": {},
   "outputs": [],
   "source": [
    "print len(env_data)\n",
    "for sensor in sensor_list:\n",
    "    print sum(~np.isfinite(env_data[sensor]))  "
   ]
  },
  {
   "cell_type": "markdown",
   "metadata": {},
   "source": [
    "date lower bound "
   ]
  },
  {
   "cell_type": "code",
   "execution_count": null,
   "metadata": {},
   "outputs": [],
   "source": [
    "%matplotlib notebook\n",
    "\n",
    "date = datetime.date(year = 2017, month = 8, day =3) #calibration date \n",
    "ind1 = np.where(env_data['dts'] == date)[0]\n",
    "ind2 = np.where(env_data['dts'] > date)[0]"
   ]
  },
  {
   "cell_type": "markdown",
   "metadata": {},
   "source": [
    "Checking right at the change date  "
   ]
  },
  {
   "cell_type": "code",
   "execution_count": null,
   "metadata": {},
   "outputs": [],
   "source": [
    "%matplotlib notebook\n",
    "\n",
    "date1 = datetime.datetime(year = 2017, month = 8, day =2)\n",
    "date2 = datetime.datetime(year = 2017, month = 8, day =4)\n",
    "\n",
    "cond1 = env_data['dts'] >= date1\n",
    "cond2  = env_data['dts'] <= date2\n",
    "\n",
    "ind = np.where(cond1 & cond2)[0]\n",
    "\n",
    "cp = env_data.iloc[ind]\n",
    "\n",
    "plt.plot(cp['dts'],cp['T_M1+Y'],'.')\n",
    "plt.plot(cp['dts'],cp['T_M1-Y'],'.')\n",
    "plt.xticks(rotation=30)"
   ]
  },
  {
   "cell_type": "code",
   "execution_count": null,
   "metadata": {},
   "outputs": [],
   "source": [
    "#print af.loc[0,'T_M1+Y']\n",
    "print bf.loc[len(bf)-1,'T_M1+Y'] \n",
    "\n",
    "#print af.loc[0,'T_M1-Y']\n",
    "print bf.loc[len(bf)-1,'T_M1-Y'] \n",
    "\n",
    "#print af.loc[0,'dts']\n",
    "print bf.loc[len(bf)-1,'dts'] "
   ]
  },
  {
   "cell_type": "markdown",
   "metadata": {},
   "source": [
    "# Calculating measurement offsets"
   ]
  },
  {
   "cell_type": "markdown",
   "metadata": {},
   "source": [
    "There is seasonal variation in each sensor so we will fold them over and subtract the last six months of data"
   ]
  },
  {
   "cell_type": "code",
   "execution_count": null,
   "metadata": {},
   "outputs": [],
   "source": [
    "''' plt.figure(1,figsize=[8,6])\n",
    "    plt.plot(x,y,'.',color='silver',markersize=3)\n",
    "    plt.plot(x2,y2,'.',color='b',markersize=3)\n",
    "    plt.plot(x,func(x,*popt),'r',lw=3)\n",
    "    plt.xticks([])\n",
    "    plt.xlabel('Time')\n",
    "    plt.ylabel('M+Y Temperature [$C^\\circ$]')\n",
    "    #plt.legend(['BF cal','AF cal', 'BF cal fit'],fontsize=15)\n",
    "    plt.tick_params(axis='both',which = 'both',direction='in', width=2,length = 7, bottom = False, top=True,)\n",
    "    plt.show()\n",
    "    \n",
    "    plt.savefig('/Users/melisaT/Dropbox (GPI)/TEST_SCRATCH/scratch/mtallis/plots/SPIE_poster_figs/cal_fit.png')'''\n"
   ]
  },
  {
   "cell_type": "markdown",
   "metadata": {},
   "source": [
    "# All years combined "
   ]
  },
  {
   "cell_type": "code",
   "execution_count": null,
   "metadata": {},
   "outputs": [],
   "source": [
    "def find_offset_yrs_combined(sensor):\n",
    "    \n",
    "    #  Split data into before and after calibration data frames. \n",
    "    date = datetime.date(year = 2017, month = 8, day =2)\n",
    "    ind1 = np.where(env_data['dts'] <= date)[0]\n",
    "    ind2 = np.where(env_data['dts'] > date)[0]\n",
    "\n",
    "    bf = env_data.iloc[ind1].sort_values(by='dts').set_index(np.arange(len(ind1)))\n",
    "    af = env_data.iloc[ind2].sort_values(by = 'dts').set_index(np.arange(len(ind2)))\n",
    "    \n",
    "    #  Replace year of dts to 2000\n",
    "    bf.loc[:,'dts'] = bf['dts'].apply(lambda dt: dt.replace(year = 2000 )) \n",
    "    bf.loc[:,'MJDOBS'] = aptime.Time(bf['dts'].dt.to_pydatetime(), format='datetime').mjd  # Calculate MJD date after changing year \n",
    "    bf = bf.sort_values(by ='dts').set_index(np.arange(len(bf))).dropna(subset=[sensor])  #  Sort the values in order by date\n",
    "\n",
    "    af.loc[:,'dts'] = af['dts'].apply(lambda dt: dt.replace(year = 2000 ))\n",
    "    af.loc[:,'MJDOBS'] = aptime.Time(af['dts'].dt.to_pydatetime(), format='datetime').mjd\n",
    "    af = af.sort_values(by ='dts').set_index(np.arange(len(af))).dropna(subset=[sensor])\n",
    "    \n",
    "    \n",
    "    #  function that fits a curve to data before calibration   \n",
    "    def func(x, a, b):\n",
    "        return a*x + b\n",
    "    \n",
    "    #date = datetime.date(year = 2000, month = 8, day =2)\n",
    "    date = datetime.date(year = 2000, month = 7, day =1)\n",
    "\n",
    "\n",
    "    ind = np.where(bf['dts'] < date)[0]\n",
    "\n",
    "    bf.loc[:,'dts'] = bf['dts'].apply(lambda dt: dt.replace(year = 2000 ))  #  Replace year of dts to 2000\n",
    "    bf.loc[:,'MJDOBS'] = aptime.Time(bf['dts'].dt.to_pydatetime(), format='datetime').mjd  # Calculate MJD date after changing year \n",
    "    bf = bf.sort_values(by ='dts').set_index(np.arange(len(bf))).dropna(subset=[sensor])  #  Sort the values in order by date\n",
    "\n",
    "    af.loc[:,'dts'] = af['dts'].apply(lambda dt: dt.replace(year = 2000 ))\n",
    "    af.loc[:,'MJDOBS'] = aptime.Time(af['dts'].dt.to_pydatetime(), format='datetime').mjd\n",
    "    af = af.sort_values(by ='dts').set_index(np.arange(len(af))).dropna(subset=[sensor])\n",
    "    \n",
    "\n",
    "#  Input arrays for curve fit\n",
    "    x = bf.loc[ind,'MJDOBS']\n",
    "    y = bf.loc[ind,sensor]\n",
    "    \n",
    "    x2 = af['MJDOBS']\n",
    "    y2 = af[sensor]\n",
    "     \n",
    "    #  model calibration model\n",
    "    popt,pcov = optimize.curve_fit(func,x,y)\n",
    "    \n",
    "    # minimize the error between the post calibration and the fit model of before calibration\n",
    "    def J(offset):\n",
    "        x = af['MJDOBS']  #  dates for fit\n",
    "        y = af[sensor]  # temp post calibration \n",
    "        m = func(x, *popt) # fit of pre-calibrated temp\n",
    "        return np.sum((y[None,:] - m[None,:] + offset[:,None])**2,axis=1) \n",
    "\n",
    "    l = np.linspace(-10,10,2000)\n",
    "    Jarr = J(l)\n",
    "    idx = np.argmin(Jarr) \n",
    "    return l[idx]    "
   ]
  },
  {
   "cell_type": "code",
   "execution_count": null,
   "metadata": {},
   "outputs": [],
   "source": [
    "find_offset_yrs_combined('T_M1-Y')"
   ]
  },
  {
   "cell_type": "markdown",
   "metadata": {},
   "source": [
    "# One year at a time"
   ]
  },
  {
   "cell_type": "code",
   "execution_count": null,
   "metadata": {},
   "outputs": [],
   "source": [
    "def find_offset(sensor,yr):\n",
    "    \n",
    "    if yr > 2016:\n",
    "        print('Data have already been recalibrated in 02/03/2017 so theoretically values shouls be accurate')\n",
    "    \n",
    "#  Split data into before and after calibration data frames. \n",
    "    date = datetime.date(year = 2017, month = 8, day =2) # last day before calibration\n",
    "    ind1 = np.where(env_data['dts'] <= date)[0]\n",
    "    ind2 = np.where(env_data['dts'] > date)[0]\n",
    "\n",
    "    bf = env_data.iloc[ind1].sort_values(by='dts').set_index(np.arange(len(ind1)))\n",
    "    af = env_data.iloc[ind2].sort_values(by = 'dts').set_index(np.arange(len(ind2)))\n",
    "    \n",
    "    # pick all points in specified year\n",
    "    bf_date1 = datetime.datetime(year = yr, month = 1, day =1) # lower bound of data beofre calibration\n",
    "    bf_date2 = datetime.datetime(year = yr, month = 12, day = 31)\n",
    "\n",
    "    cond1 = bf['dts'] > bf_date1\n",
    "    cond2  = bf['dts'] <= bf_date2\n",
    "    bf_ind = np.where(cond1 & cond2)[0]\n",
    "        \n",
    "    bf = bf.iloc[bf_ind].sort_values(by='dts').set_index(np.arange(len(bf_ind))).dropna(subset=[sensor])\n",
    "    \n",
    "    #  Replace year of after to coincide with year of before\n",
    "    af.loc[:,'dts'] = af['dts'].apply(lambda dt: dt.replace(year = yr))\n",
    "    af.loc[:,'MJDOBS'] = aptime.Time(af['dts'].dt.to_pydatetime(), format='datetime').mjd\n",
    "    af = af.sort_values(by ='dts').set_index(np.arange(len(af))).dropna(subset=[sensor])\n",
    "    \n",
    "    #  function that fits a curve to data before calibration   \n",
    "    def func(x, a, b):\n",
    "        return a*x + b\n",
    "\n",
    "#  Input arrays for curve fit\n",
    "    x = bf['MJDOBS']\n",
    "    y = bf[sensor]\n",
    "    \n",
    "    x2 = af['MJDOBS']\n",
    "    y2 = af[sensor]\n",
    "     \n",
    "    #  model calibration model\n",
    "    popt,pcov = optimize.curve_fit(func,x,y)\n",
    "    \n",
    "    # minimize the error between the post calibration and the fit model of before calibration\n",
    "    def J(offset):\n",
    "        x = af['MJDOBS']  #  dates for fit\n",
    "        y = af[sensor]  # temp post calibration \n",
    "        m = func(x, *popt) # fit of pre-calibrated temp\n",
    "        return np.sum((y[None,:] - m[None,:] + offset[:,None])**2,axis=1) \n",
    "\n",
    "    l = np.linspace(-10,10,2000)\n",
    "    Jarr = J(l)\n",
    "    idx = np.argmin(Jarr) \n",
    "    return l[idx]    "
   ]
  },
  {
   "cell_type": "code",
   "execution_count": null,
   "metadata": {},
   "outputs": [],
   "source": [
    "find_offset('T_M1+Y',2016)"
   ]
  },
  {
   "cell_type": "markdown",
   "metadata": {},
   "source": [
    "# Summary of Results"
   ]
  },
  {
   "cell_type": "markdown",
   "metadata": {},
   "source": [
    "Make an empty dataframe that will store values"
   ]
  },
  {
   "cell_type": "code",
   "execution_count": null,
   "metadata": {},
   "outputs": [],
   "source": [
    "yr_list = [2014,2015,2016]\n",
    "offset_summary = pd.DataFrame(columns=yr_list,index=sensor_list)\n",
    "offset_summary['combined'] = np.nan"
   ]
  },
  {
   "cell_type": "markdown",
   "metadata": {},
   "source": [
    "Fill values of dataframe"
   ]
  },
  {
   "cell_type": "code",
   "execution_count": null,
   "metadata": {},
   "outputs": [],
   "source": [
    "for s in sensor_list:\n",
    "    print s \n",
    "    offset_summary.loc[s,'combined'] = find_offset_yrs_combined(s)\n",
    "    for yr in yr_list:\n",
    "        print yr\n",
    "        offset_summary.loc[s,yr] = find_offset(s,yr)"
   ]
  },
  {
   "cell_type": "code",
   "execution_count": null,
   "metadata": {},
   "outputs": [],
   "source": [
    "print(offset_summary)"
   ]
  },
  {
   "cell_type": "code",
   "execution_count": null,
   "metadata": {
    "scrolled": false
   },
   "outputs": [],
   "source": [
    "offset_summary.loc[:,[2014,2015,2016]].mean(axis=1)"
   ]
  },
  {
   "cell_type": "code",
   "execution_count": null,
   "metadata": {},
   "outputs": [],
   "source": [
    "offset_summary.loc[:,[2014,2015,2016]].std(axis=1)"
   ]
  },
  {
   "cell_type": "markdown",
   "metadata": {},
   "source": [
    "# Figures"
   ]
  },
  {
   "cell_type": "markdown",
   "metadata": {},
   "source": [
    "Apply sensor offsets and calculate difference across primary mirror. "
   ]
  },
  {
   "cell_type": "code",
   "execution_count": null,
   "metadata": {},
   "outputs": [],
   "source": [
    "cp = copy.deepcopy(env_data)"
   ]
  },
  {
   "cell_type": "code",
   "execution_count": null,
   "metadata": {},
   "outputs": [],
   "source": [
    "%matplotlib notebook\n",
    "\n",
    "date = datetime.date(year = 2017, month = 8, day =3)\n",
    "\n",
    "#  AO system requirements\n",
    "cond1 = (env_data['dts'] > date) \n",
    "ind = np.where(cond1)[0]\n",
    "\n",
    "cond2 = (env_data['dts'] < date) \n",
    "ind2 = np.where(cond2)[0]\n",
    "\n",
    "af = cp.iloc[ind]\n",
    "bf = cp.iloc[ind2]\n",
    "\n",
    "bf.loc[ind2,'T_M1+Y'] = bf.loc[ind2,'T_M1+Y'] + 4.16\n",
    "bf.loc[ind2,'T_M1-Y'] = bf.loc[ind2,'T_M1-Y'] + 2.31\n",
    "\n",
    "fig = plt.figure(figsize=[12,4])\n",
    "plt.plot(bf['dts'],bf['T_M1+Y']-bf['T_M1-Y'],'.',markersize = 3,color='silver')\n",
    "plt.plot(af['dts'],af['T_M1+Y']-af['T_M1-Y'],'.',markersize = 3,color='b')\n",
    "plt.ylim(-2,2)\n",
    "plt.xlabel('Date')\n",
    "plt.ylabel(r'$\\Delta{T}_{M}$ [$C^\\circ$]')\n",
    "\n",
    "plt.tick_params(axis='both',which = 'both',direction='in', width=2,length = 7)\n",
    "plt.xticks([])\n",
    "\n",
    "#plt.savefig('/Users/melisa/Dropbox (GPI)/TEST_SCRATCH/scratch/mtallis/plots/SPIE_poster_figs/post_calibration.png')\n"
   ]
  },
  {
   "cell_type": "markdown",
   "metadata": {},
   "source": [
    "Show seasonal variation and results of operation"
   ]
  },
  {
   "cell_type": "code",
   "execution_count": null,
   "metadata": {
    "scrolled": false
   },
   "outputs": [],
   "source": [
    "%matplotlib notebook\n",
    "\n",
    "date = datetime.date(year = 2017, month = 8, day =3)\n",
    "\n",
    "#  AO system requirements\n",
    "cond1 = (env_data['dts'] > date) \n",
    "ind = np.where(cond1)[0]\n",
    "\n",
    "cond2 = (env_data['dts'] < date) \n",
    "ind2 = np.where(cond2)[0]\n",
    "\n",
    "af = cp.iloc[ind]\n",
    "bf = cp.iloc[ind2]\n",
    "\n",
    "#cp.loc[ind,'T_M1+Y'] = env_data.loc[ind,'T_M1+Y'] + 4.16\n",
    "#cp.loc[ind,'T_M1-Y'] = env_data.loc[ind,'T_M1-Y'] + 2.31\n",
    "\n",
    "fig = plt.figure(figsize=[16,9])\n",
    "gs = gridspec.GridSpec(3, 1, height_ratios=[3,2,2]) \n",
    "\n",
    "#fig, (ax1,ax2) = plt.subplots(2,1, sharex = True, figsize=[12,6])\n",
    "\n",
    "ax1 = plt.subplot(gs[0])\n",
    "ax1.plot(cp['dts'],cp['T_M1+Y'],'.',markersize = 3,color='silver')\n",
    "ax1.plot(af['dts'],af['T_M1+Y'],'.',markersize = 3,color='b')\n",
    "\n",
    "#ax1.legend(['Before','After'],loc=3,facecolor='white',markerscale=6,frameon=False)\n",
    "\n",
    "ax1.axvline(x=datetime.date(month=1,year = 2014, day =1),color = 'r',linewidth = 3,linestyle='--')\n",
    "ax1.axvline(x=datetime.date(month=1,year = 2015, day =1),color = 'r',linewidth = 3,linestyle='--')\n",
    "ax1.axvline(x=datetime.date(month=1,year = 2016, day =1),color = 'r',linewidth = 3,linestyle='--')\n",
    "ax1.axvline(x=datetime.date(month=1,year = 2017, day =1),color = 'r',linewidth = 3,linestyle='--')\n",
    "ax1.axvline(x=datetime.date(month=1,year = 2018, day =1),color = 'r',linewidth = 3,linestyle='--')\n",
    "ax1.axvline(x=datetime.date(month=1,year = 2019, day =1),color = 'r',linewidth = 3,linestyle='--')\n",
    "\n",
    "\n",
    "\n",
    "ax1.annotate('Year 1',[datetime.date(month=4,year = 2014, day =15),16],fontsize =20,color = 'r')\n",
    "ax1.annotate('Year 2',[datetime.date(month=4,year = 2015, day =15),16],fontsize =20,color = 'r')\n",
    "ax1.annotate('Year 3',[datetime.date(month=4,year = 2016, day =15),16],fontsize =20,color = 'r')\n",
    "ax1.annotate('Year 4',[datetime.date(month=4,year = 2017, day =15),16],fontsize =20,color = 'r')\n",
    "ax1.annotate('Year 5',[datetime.date(month=4,year = 2019, day =15),16],fontsize =20,color = 'r')\n",
    "\n",
    "\n",
    "\n",
    "ax1.tick_params(axis='both',which = 'both',direction='in', width=2,length = 7, bottom = False, top=True,)\n",
    "ax1.set_xticks([])\n",
    "#ax1.set_xticks()\n",
    "            \n",
    "ax1.set_ylabel('M+Y Temperature [$C^\\circ$]')\n",
    "\n",
    "ax2 = plt.subplot(gs[1])\n",
    "ax2.plot(cp['dts'],cp['T_M1+Y']-cp['T_M1-Y'],'.',markersize = 3,color='silver')\n",
    "ax2.plot(af['dts'],af['T_M1+Y']-af['T_M1-Y'],'.',markersize = 3,color='b')\n",
    "\n",
    "ax2.axvline(x=datetime.date(month=1,year = 2014, day =1),color = 'r',linewidth = 3,linestyle='--')\n",
    "ax2.axvline(x=datetime.date(month=1,year = 2015, day =1),color = 'r',linewidth = 3,linestyle='--')\n",
    "ax2.axvline(x=datetime.date(month=1,year = 2016, day =1),color = 'r',linewidth = 3,linestyle='--')\n",
    "ax2.axvline(x=datetime.date(month=1,year = 2017, day =1),color = 'r',linewidth = 3,linestyle='--')\n",
    "ax2.axvline(x=datetime.date(month=1,year = 2018, day =1),color = 'r',linewidth = 3,linestyle='--')\n",
    "ax2.axvline(x=datetime.date(month=1,year = 2019, day =1),color = 'r',linewidth = 3,linestyle='--')\n",
    "\n",
    "\n",
    "\n",
    "ax2.set_ylim(-5,2)\n",
    "ax2.set_ylabel(r'$\\Delta{T}_{M}$ [$C^\\circ$]')\n",
    "\n",
    "ax3 = plt.subplot(gs[2])\n",
    "ax3.plot(bf.loc[ind2,'dts'],(bf.loc[ind2,'T_M1+Y'] + 4.16) - (bf.loc[ind2,'T_M1-Y'] + 2.31),'.',markersize = 3,color='silver')\n",
    "ax3.plot(af['dts'],af['T_M1+Y']-af['T_M1-Y'],'.',markersize = 3,color='b')\n",
    "\n",
    "ax3.axvline(x=datetime.date(month=1,year = 2014, day =1),color = 'r',linewidth = 3,linestyle='--')\n",
    "ax3.axvline(x=datetime.date(month=1,year = 2015, day =1),color = 'r',linewidth = 3,linestyle='--')\n",
    "ax3.axvline(x=datetime.date(month=1,year = 2016, day =1),color = 'r',linewidth = 3,linestyle='--')\n",
    "ax3.axvline(x=datetime.date(month=1,year = 2017, day =1),color = 'r',linewidth = 3,linestyle='--')\n",
    "ax3.axvline(x=datetime.date(month=1,year = 2018, day =1),color = 'r',linewidth = 3,linestyle='--')\n",
    "ax3.axvline(x=datetime.date(month=1,year = 2019, day =1),color = 'r',linewidth = 3,linestyle='--')\n",
    "\n",
    "\n",
    "\n",
    "ax3.tick_params(axis='both',which = 'both',direction='in', width=2,length = 7)\n",
    "ax3.set_xticks([datetime.date(month=1,year = 2014, day =1),\n",
    "            datetime.date(month=1,year = 2015, day =1),\n",
    "            datetime.date(month=1,year = 2016, day =1),\n",
    "            datetime.date(month=1,year = 2017, day =1),\n",
    "            datetime.date(month=1,year = 2018, day =1),\n",
    "            datetime.date(month=6,year = 2014, day =1),\n",
    "            datetime.date(month=6,year = 2015, day =1),\n",
    "            datetime.date(month=6,year = 2016, day =1),\n",
    "            datetime.date(month=6,year = 2017, day =1),\n",
    "            datetime.date(month=6,year = 2018, day =1)])\n",
    "\n",
    "\n",
    "yearsFmt = mdates.DateFormatter('%Y/%m')\n",
    "ax3.xaxis.set_major_formatter(yearsFmt)\n",
    "ax3.set_ylim(-3,4)\n",
    "ax3.set_xlabel('Date')\n",
    "ax3.set_ylabel(r'$\\Delta{T}_{M}$ [$C^\\circ$]')\n",
    "plt.tight_layout()\n",
    "\n",
    "#plt.savefig('/Users/melisatallis/Dropbox (GPI)/TEST_SCRATCH/scratch/mtallis/plots/SPIE_poster_figs/calibration_proc.png')\n"
   ]
  },
  {
   "cell_type": "markdown",
   "metadata": {},
   "source": [
    "Show fit of bc data on af data "
   ]
  },
  {
   "cell_type": "markdown",
   "metadata": {},
   "source": [
    "One year at a time in between steps"
   ]
  },
  {
   "cell_type": "code",
   "execution_count": null,
   "metadata": {},
   "outputs": [],
   "source": [
    "date = datetime.date(year = 2017, month = 8, day =2)\n",
    "ind1 = np.where(env_data['dts'] <= date)[0]\n",
    "ind2 = np.where(env_data['dts'] > date)[0]\n",
    "\n",
    "bf = cp.iloc[ind1].sort_values(by='dts').set_index(np.arange(len(ind1)))\n",
    "af = cp.iloc[ind2].sort_values(by = 'dts').set_index(np.arange(len(ind2)))\n",
    "    \n",
    "#  Replace year of dts to 2000\n",
    "bf.loc[:,'dts'] = bf['dts'].apply(lambda dt: dt.replace(year = 2000 )) \n",
    "bf.loc[:,'MJDOBS'] = aptime.Time(bf['dts'].dt.to_pydatetime(), format='datetime').mjd  # Calculate MJD date after changing year \n",
    "bf = bf.sort_values(by ='dts').set_index(np.arange(len(bf))).dropna(subset=[sensor])  #  Sort the values in order by date\n",
    "\n",
    "af.loc[:,'dts'] = af['dts'].apply(lambda dt: dt.replace(year = 2000 ))\n",
    "af.loc[:,'MJDOBS'] = aptime.Time(af['dts'].dt.to_pydatetime(), format='datetime').mjd\n",
    "af = af.sort_values(by ='dts').set_index(np.arange(len(af))).dropna(subset=[sensor])"
   ]
  },
  {
   "cell_type": "markdown",
   "metadata": {},
   "source": [
    "All years combined steps"
   ]
  },
  {
   "cell_type": "code",
   "execution_count": null,
   "metadata": {},
   "outputs": [],
   "source": [
    "#  Split data into before and after calibration data frames. \n",
    "date = datetime.date(year = 2017, month = 8, day =2)\n",
    "ind1 = np.where(env_data['dts'] <= date)[0]\n",
    "ind2 = np.where(env_data['dts'] > date)[0]\n",
    "\n",
    "bf = env_data.iloc[ind1].sort_values(by='dts').set_index(np.arange(len(ind1)))\n",
    "af = env_data.iloc[ind2].sort_values(by = 'dts').set_index(np.arange(len(ind2)))\n",
    "    \n",
    "bf_date1 = datetime.datetime(year = yr, month = 8, day =2) # lower bound of data beofre calibration\n",
    "bf_date2 = datetime.datetime(year = yr, month = 12, day = 31)\n",
    "\n",
    "cond1 = bf['dts'] > bf_date1\n",
    "cond2  = bf['dts'] <= bf_date2\n",
    "bf_ind = np.where(cond1 & cond2)[0]\n",
    "        \n",
    "# pick points that overlap with af dates\n",
    "bf = bf.iloc[bf_ind].sort_values(by='dts').set_index(np.arange(len(bf_ind))).dropna(subset=[sensor])\n",
    "    \n",
    "#  Replace year of after to coincide with year of before\n",
    "af.loc[:,'dts'] = af['dts'].apply(lambda dt: dt.replace(year = yr))\n",
    "af.loc[:,'MJDOBS'] = aptime.Time(af['dts'].dt.to_pydatetime(), format='datetime').mjd\n",
    "af = af.sort_values(by ='dts').set_index(np.arange(len(af))).dropna(subset=[sensor])"
   ]
  },
  {
   "cell_type": "code",
   "execution_count": null,
   "metadata": {},
   "outputs": [],
   "source": [
    "%matplotlib notebook\n",
    "\n",
    "plt.figure(1,figsize = [12,8])\n",
    "plt.plot(bf['MJDOBS'],bf['T_M1+Y'],'.',markersize=2,color ='silver')\n",
    "plt.plot(af['MJDOBS'],af['T_M1+Y'],'.',markersize=2,color='b')\n",
    "\n",
    "def func(x, a, b):\n",
    "    return a*x + b\n",
    "    \n",
    "date = datetime.date(year = 2000, month = 8, day =2)\n",
    "\n",
    "#  Input arrays for curve fit\n",
    "x = bf.loc[ind,'MJDOBS']\n",
    "y = bf.loc[ind,sensor]\n",
    "     \n",
    "#  model calibration model\n",
    "popt,pcov = optimize.curve_fit(func,x,y)\n",
    "\n",
    "plt.plot(x,func(x))\n",
    "\n",
    "#yearsFmt = mdates.DateFormatter('%Y/%m')\n",
    "#plt.xaxis.set_major_formatter(yearsFmt)\n",
    "\n",
    "plt.ylabel('Temperature [C]')\n",
    "plt.xlabel('Date')\n",
    "plt.xticks(rotation = 20)\n",
    "\n",
    "#plt.savefig(savedir+'bf_cal'+dstr+'.png',dpi = 300)"
   ]
  },
  {
   "cell_type": "code",
   "execution_count": null,
   "metadata": {},
   "outputs": [],
   "source": [
    "savedir = os.environ[\"HOME\"]+'/Dropbox (GPI)/TEST_SCRATCH/scratch/mtallis/plots/calibration/'\n",
    "dstr = time.strftime('%Y%m%d')"
   ]
  },
  {
   "cell_type": "code",
   "execution_count": null,
   "metadata": {},
   "outputs": [],
   "source": []
  }
 ],
 "metadata": {
  "kernelspec": {
   "display_name": "Python 3",
   "language": "python",
   "name": "python3"
  },
  "language_info": {
   "codemirror_mode": {
    "name": "ipython",
    "version": 3
   },
   "file_extension": ".py",
   "mimetype": "text/x-python",
   "name": "python",
   "nbconvert_exporter": "python",
   "pygments_lexer": "ipython3",
   "version": "3.6.0"
  }
 },
 "nbformat": 4,
 "nbformat_minor": 2
}
