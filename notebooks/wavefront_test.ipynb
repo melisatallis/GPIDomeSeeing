{
 "cells": [
  {
   "cell_type": "code",
   "execution_count": 1,
   "metadata": {},
   "outputs": [],
   "source": [
    "import numpy as np\n",
    "import matplotlib.pyplot as plt\n",
    "import scipy.fftpack as fft\n",
    "from astropy.io import fits\n",
    "\n",
    "%matplotlib notebook"
   ]
  },
  {
   "cell_type": "markdown",
   "metadata": {},
   "source": [
    "Variables"
   ]
  },
  {
   "cell_type": "code",
   "execution_count": 73,
   "metadata": {},
   "outputs": [
    {
     "name": "stdout",
     "output_type": "stream",
     "text": [
      "384\n",
      "0.02248292824074074\n",
      "0.1798634259259259\n"
     ]
    }
   ],
   "source": [
    "outD = 7.77010  # primary diameter (m)\n",
    "inD = 1.024  # inner M2 diameter (m)\n",
    "m  = 8 # pad the array\n",
    "\n",
    "## GPI DM parameters\n",
    "N = 48          # number sample points across the screen \n",
    "                # (Not the number of subapertures across the aperture which is less)\n",
    "\n",
    "nacross = 43.2    # number of subapertures across the aperture\n",
    "    \n",
    "## phase sample parameters\n",
    "pscale = outD/(nacross)     #  pixel size (m) of samples in pupil plane"
   ]
  },
  {
   "cell_type": "markdown",
   "metadata": {},
   "source": [
    "aperture"
   ]
  },
  {
   "cell_type": "code",
   "execution_count": 74,
   "metadata": {},
   "outputs": [],
   "source": [
    "x         = np.linspace(-(pN)/2,(pN)/2,pN)*pscale \n",
    "y         = np.linspace(-(pN)/2,(pN)/2,pN)*pscale\n",
    "ax,ay     = np.meshgrid(x,y)\n",
    "ar        = np.sqrt(ax**2 +ay**2)  \n",
    "ap_outer  = (ar <= outD/2)\n",
    "ap_inner  = (ar <= inD/2)   \n",
    "a        = (ap_outer ^ ap_inner)"
   ]
  },
  {
   "cell_type": "code",
   "execution_count": null,
   "metadata": {},
   "outputs": [],
   "source": [
    " if blackman:\n",
    "        w  = np.blackman(48) \n",
    "        wx,wy = np.meshgrid(w,w)\n",
    "        wr  = np.sqrt(wx**2 + wy**2) ## window radius\n",
    "        "
   ]
  },
  {
   "cell_type": "markdown",
   "metadata": {},
   "source": [
    "open the file"
   ]
  },
  {
   "cell_type": "code",
   "execution_count": 36,
   "metadata": {},
   "outputs": [],
   "source": [
    "filename = \"/Users/MelisaT/Documents/Research/GPIDomeSeeing/data/Reduced/20160227/aored_When_2016.2.27_5.53.56_poldm_phase.fits\"\n",
    "\n",
    "hdulist = fits.open(filename,memmap=True)\n",
    "data = hdulist[0].data\n",
    "    \n",
    "# Get the phase dimensions\n",
    "phdim = hdulist[0].data.shape \n",
    "phx   = phdim[1]\n",
    "phy   = phdim[2]\n",
    "timesteps = phdim[0]"
   ]
  },
  {
   "cell_type": "markdown",
   "metadata": {},
   "source": [
    "Compute 2d fourier transform"
   ]
  },
  {
   "cell_type": "code",
   "execution_count": 64,
   "metadata": {},
   "outputs": [
    {
     "name": "stdout",
     "output_type": "stream",
     "text": [
      "Done with FT\n"
     ]
    }
   ],
   "source": [
    "phFT = np.zeros((timesteps,phx,phy), dtype=complex)\n",
    "for t in np.arange(timesteps):\n",
    "    phFT[t,:,:] = fft.fftshift(fft.fft2(data[t,:,:]*a))/(phx*phy)\n",
    "print('Done with FT')"
   ]
  },
  {
   "cell_type": "code",
   "execution_count": 39,
   "metadata": {},
   "outputs": [],
   "source": [
    "def implot(image, display=True, **kwargs):\n",
    "    \"\"\"Plot an image with colorbar.\n",
    "    \n",
    "    image - The 2d image\n",
    "    kwargs - settings for curstomizing plot\"\"\"\n",
    "\n",
    "    ## Create matplotlib figure \n",
    "    fig = plt.figure()\n",
    "    ax = fig.add_subplot(1,1,1)\n",
    "    cax = ax.imshow(image, cmap = plt.cm.Greys, origin='lower', interpolation='none')\n",
    "    cbar = fig.colorbar(cax, orientation='vertical')\n",
    "\n",
    "    ## Modify plot based on keyword arguments\n",
    "    if 'title' in kwargs: ax.set_title(kwargs['title'], fontsize=24)\n",
    "    if 'xlabel' in kwargs: ax.set_xlabel(kwargs['xlabel'], fontsize=16)\n",
    "    if 'ylabel' in kwargs: ax.set_ylabel(kwargs['ylabel'], fontsize=16)\n",
    "    if 'cbar_label' in kwargs: cbar.set_label(kwargs['cbar_label'], \n",
    "                                              fontsize=18)\n",
    "    if 'save_image' in kwargs: plt.savefig(kwargs['save_image'])\n",
    "\n",
    "    if display: plt.show()"
   ]
  },
  {
   "cell_type": "markdown",
   "metadata": {},
   "source": [
    "Psd "
   ]
  },
  {
   "cell_type": "code",
   "execution_count": 65,
   "metadata": {},
   "outputs": [],
   "source": [
    "#mft = np.sum(phFT, axis=0)\n",
    "   \n",
    "psd2D = np.zeros((timesteps, phx, phy),dtype=float)\n",
    "for k in np.arange(phx):\n",
    "    for l in np.arange(phy):\n",
    "        psd2D[:,k,l] = np.abs(phFT[:,k,l])**2\n",
    "        \n",
    "varpsd = np.sum(psd2D, axis=0)"
   ]
  },
  {
   "cell_type": "markdown",
   "metadata": {},
   "source": [
    "1d psd plot"
   ]
  },
  {
   "cell_type": "code",
   "execution_count": 66,
   "metadata": {},
   "outputs": [
    {
     "data": {
      "image/png": "[encoded data removed]",
      "text/plain": [
       "<matplotlib.figure.Figure at 0x38f3edd30>"
      ]
     },
     "metadata": {},
     "output_type": "display_data"
    }
   ],
   "source": [
    "kx = fft.fftshift(fft.fftfreq(phx,pscale))\n",
    "ky = fft.fftshift(fft.fftfreq(phx,pscale))\n",
    "mg = np.meshgrid(kx,ky)\n",
    "kr = np.sqrt(np.sum((m**2 for m in mg))) \n",
    "    \n",
    "plt.figure(1)\n",
    "plt.loglog(kr,varpsd,'b.')\n",
    "plt.grid(True)\n",
    "#plt.ylim(1e-8,1e2)\n",
    "plt.xlim(1,200)\n",
    "plt.show()"
   ]
  },
  {
   "cell_type": "code",
   "execution_count": null,
   "metadata": {},
   "outputs": [],
   "source": []
  }
 ],
 "metadata": {
  "kernelspec": {
   "display_name": "Python 3",
   "language": "python",
   "name": "python3"
  },
  "language_info": {
   "codemirror_mode": {
    "name": "ipython",
    "version": 3
   },
   "file_extension": ".py",
   "mimetype": "text/x-python",
   "name": "python",
   "nbconvert_exporter": "python",
   "pygments_lexer": "ipython3",
   "version": "3.6.0"
  }
 },
 "nbformat": 4,
 "nbformat_minor": 2
}
