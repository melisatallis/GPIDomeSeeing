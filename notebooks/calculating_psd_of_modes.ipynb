{
 "cells": [
  {
   "cell_type": "code",
   "execution_count": null,
   "metadata": {},
   "outputs": [],
   "source": [
    "import numpy as np\n",
    "import matplotlib.pyplot as plt\n",
    "import pandas as pd\n",
    "import scipy.fftpack as fft\n",
    "from astropy.io import fits\n",
    "from scipy import optimize\n",
    "import poppy\n",
    "import gpipsfs\n",
    "from scipy import signal\n",
    "import os\n",
    "import pytz\n",
    "import time\n",
    "import re"
   ]
  },
  {
   "cell_type": "code",
   "execution_count": null,
   "metadata": {},
   "outputs": [],
   "source": [
    "file1 =  '/Users/MelisaT/Documents/Research/GPIDomeSeeing/data/Reduced/20160229/aored_When_2016.2.29_5.33.19_poldm_phase.fits'\n",
    "file2 =  '/Users/MelisaT/Documents/Research/GPIDomeSeeing/data/Reduced/20160227/aored_When_2016.2.27_0.2.8_poldm_phase.fits'"
   ]
  },
  {
   "cell_type": "markdown",
   "metadata": {},
   "source": [
    "# Analysis Functions"
   ]
  },
  {
   "cell_type": "code",
   "execution_count": null,
   "metadata": {},
   "outputs": [],
   "source": [
    "def process_phase(filename):\n",
    "\n",
    "    # Import fits\n",
    "    hdulist = fits.open(filename,memmap=True)\n",
    "    phase = hdulist[0].data.astype('float')\n",
    "    avg_phase = np.mean(phase,axis=0) \n",
    "\n",
    "    # Estimate static aberrations\n",
    "    z_basis = poppy.zernike.zernike_basis_faster(nterms= 6, npix = 48)\n",
    "    z_coeff = poppy.zernike.opd_expand_nonorthonormal(avg_phase,aperture=M1,nterms=6)\n",
    "    thin_lens = np.sum(z_coeff[:,None,None]*z_basis[:,:,:],axis=0)\n",
    "\n",
    "    c_phase = (phase - thin_lens[None,:,:])*ap\n",
    "    c_phase[np.isnan(c_phase)]=0.\n",
    "    \n",
    "    return c_phase"
   ]
  },
  {
   "cell_type": "code",
   "execution_count": null,
   "metadata": {},
   "outputs": [],
   "source": [
    "def radialProfile(image, center=None):\n",
    "    \"\"\"\n",
    "    Calculate the avearge radial profile.\n",
    "\n",
    "    image - The 2D image\n",
    "    center - The [x,y] pixel coordinates used as the center. The default is \n",
    "             None, which then uses the center of the image (including \n",
    "             fracitonal pixels).\n",
    "    \n",
    "    \"\"\"\n",
    "    ## Calculate the indices from the image\n",
    "    y,x = np.indices((image.shape)) # first determine radii of all pixels\n",
    "    \n",
    "    if not center:\n",
    "        center = np.array([(x.max()-x.min())/2.0, (y.max()-y.min())/2.0])\n",
    "     \n",
    "    r = np.hypot(x - center[0], y - center[1]).astype(np.int) \n",
    "    \n",
    "    n = np.bincount(r.ravel())\n",
    "    sy = np.bincount(r.ravel(), image.ravel())\n",
    "    mean = sy/n\n",
    "    \n",
    "    return mean"
   ]
  },
  {
   "cell_type": "code",
   "execution_count": null,
   "metadata": {},
   "outputs": [],
   "source": [
    "def sp_power_spec(phase):    \n",
    "    \n",
    "    timesteps, phx, phy = phase.shape \n",
    "    phFT = np.zeros((timesteps,phx,phy), dtype=complex)\n",
    "    for t in np.arange(timesteps):\n",
    "        phFT[t,:,:] = fft.fftshift(fft.fft2(phase[t,:,:]))/ap.sum() # what happens if you remove the shift??????\n",
    "    print('Done with FT')\n",
    "    \n",
    "    # compute 2d psd cube\n",
    "    psd2D = np.zeros((timesteps, phx, phy),dtype=float)\n",
    "    for k in np.arange(phx):\n",
    "        for l in np.arange(phy):\n",
    "            psd2D[:,k,l] = np.square(np.abs(phFT[:,k,l]))\n",
    "    \n",
    "    avg_psd2D = np.sum(psd2D, axis=0)\n",
    "    print('Done with PSD')    \n",
    "    \n",
    "    # compute radial average of 2d psd cube and frequency\n",
    "    avg_psd1D =  radialProfile(avg_psd2D)\n",
    "    \n",
    "    return avg_psd1D"
   ]
  },
  {
   "cell_type": "code",
   "execution_count": null,
   "metadata": {},
   "outputs": [],
   "source": [
    "def sri_power_spec(mode, interval_length = 1024):\n",
    "    \n",
    "    total_len = len(mode)\n",
    "    per_len = interval_length\n",
    "    \n",
    "    # Define indices\n",
    "    num_intervals = np.floor(total_len/per_len).astype(int)\n",
    "    start_indices = np.arange(num_intervals,dtype=int)\n",
    "    ind = np.arange(per_len, dtype=float)\n",
    "    \n",
    "    # blackman window\n",
    "    window = 0.42 - 0.50 * np.cos(2 * np.pi * ind/(per_len-1)) + 0.08 * np.cos(4 * np.pi * ind/(per_len-1)) \n",
    "    \n",
    "    # psd calculation\n",
    "    psd = np.zeros(per_len)\n",
    "    for a in np.arange(num_intervals):\n",
    "        this_start = start_indices[a]\n",
    "        psd = psd + np.abs(fft.fftshift(fft.fft(mode[this_start:(this_start+per_len)]*window))/per_len)**2\n",
    "        \n",
    "    psd = psd/num_intervals\n",
    "    win2 = window**2\n",
    "    psd = psd * per_len/win2.sum()\n",
    "    \n",
    "    return psd"
   ]
  },
  {
   "cell_type": "code",
   "execution_count": null,
   "metadata": {},
   "outputs": [],
   "source": [
    "def temp_power_spec(Y):\n",
    "    \n",
    "    n = len(Y)\n",
    "    w = signal.blackman(n)\n",
    "    P = np.fft.rfft(Y*w)\n",
    "    norm = 2.0/w.sum()\n",
    "    P = P * norm\n",
    "\n",
    "    P2 = np.square(np.abs(P))\n",
    "    #k = np.fft.rfftfreq(n,dT)\n",
    "    \n",
    "    return P2"
   ]
  },
  {
   "cell_type": "code",
   "execution_count": null,
   "metadata": {},
   "outputs": [],
   "source": [
    "def linear_fit(k,Y,low_b,up_b):\n",
    "\n",
    "    par = np.polyfit(np.log10(k[(k>low_b) & (k<up_b)]), np.log10(Y[(k>low_b) & (k<up_b)]), 1)\n",
    "    slope = par[0]\n",
    "    intercept = par[1]\n",
    "    print(slope,intercept)\n",
    "    return slope, intercept   "
   ]
  },
  {
   "cell_type": "markdown",
   "metadata": {},
   "source": [
    "# Finding the PSD of modes"
   ]
  },
  {
   "cell_type": "code",
   "execution_count": null,
   "metadata": {},
   "outputs": [],
   "source": [
    "n = 48\n",
    "pscale = 0.18\n",
    "phase = process_phase(file2)\n",
    "timesteps, phx, phy = phase.shape \n",
    "\n",
    "# spatial frequncy grid\n",
    "kx = fft.fftshift(fft.fftfreq(n,pscale))\n",
    "ky = fft.fftshift(fft.fftfreq(n,pscale))\n",
    "mg = np.meshgrid(kx,ky)\n",
    "kr = np.sqrt(np.sum((m**2 for m in mg))) \n",
    "\n",
    "# obtain fourier modes\n",
    "phFT = np.zeros((timesteps,phx,phy), dtype=complex)\n",
    "for t in np.arange(timesteps):\n",
    "    phFT[t,:,:] = fft.fftshift(fft.fft2(phase[t,:,:]))/(phx*phy)\n",
    "print('Done with FT')\n",
    "    \n",
    "#compute 2d psd cube\n",
    "psd2D = np.zeros((1024, phx, phy),dtype=float)\n",
    "for k in np.arange(phx):\n",
    "    for l in np.arange(phy):\n",
    "        psd2D[:,k,l] = sri_power_spec(phFT[:,k,l])\n",
    "        \n",
    "varpsd = np.sum(psd2D, axis = 0)"
   ]
  },
  {
   "cell_type": "code",
   "execution_count": null,
   "metadata": {},
   "outputs": [],
   "source": [
    "%matplotlib notebook\n",
    "\n",
    "k = radialProfile(kr)\n",
    "psd1D = radialProfile(varpsd)\n",
    "slope, yint = linear_fit(k,psd1D,.33,1)\n",
    "\n",
    "plt.loglog(k,psd1D)\n",
    "plt.loglog(k,10**yint*k**slope,'rx')\n"
   ]
  },
  {
   "cell_type": "code",
   "execution_count": null,
   "metadata": {},
   "outputs": [],
   "source": [
    "%matplotlib notebook\n",
    "\n",
    "k = fft.fftshift(fft.fftfreq(1024,.001))\n",
    "psd1D = psd2D[:,4,4]\n",
    "smooth = 10**signal.savgol_filter(np.log10(psd1D), 101, 5)\n",
    "slope, yint = linear_fit(k,smooth,2,30)\n",
    "\n",
    "plt.loglog(smooth)\n",
    "#plt.loglog(k,10**yint*k**slope,'rx')\n"
   ]
  },
  {
   "cell_type": "markdown",
   "metadata": {},
   "source": [
    "# Measure PSD"
   ]
  },
  {
   "cell_type": "code",
   "execution_count": null,
   "metadata": {},
   "outputs": [],
   "source": [
    "# GPI optical elements\n",
    "ap = gpipsfs.GPI_Apodizer().sample(npix=48)\n",
    "M1 = gpipsfs.GeminiPrimary().sample(npix=48)\n",
    "n=48\n",
    "pscale = .18\n",
    "\n",
    "# frequency grid\n",
    "kx = fft.fftshift(fft.fftfreq(n,2*np.pi/(pscale)))\n",
    "ky = fft.fftshift(fft.fftfreq(n,2*np.pi/(pscale)))\n",
    "mg = np.meshgrid(kx,ky)\n",
    "kr = np.sqrt(np.sum((m**2 for m in mg))) \n",
    "\n",
    "k = radialProfile(kr)"
   ]
  },
  {
   "cell_type": "code",
   "execution_count": null,
   "metadata": {},
   "outputs": [],
   "source": [
    "y_2D = process_phase(file1)\n",
    "y_psd = sp_power_spec(y_2D)"
   ]
  },
  {
   "cell_type": "code",
   "execution_count": null,
   "metadata": {},
   "outputs": [],
   "source": [
    "m, yint = linear_fit(k,y_psd,.33,2.2)"
   ]
  },
  {
   "cell_type": "code",
   "execution_count": null,
   "metadata": {},
   "outputs": [],
   "source": [
    "y_1D = np.mean(y_2D,axis=(1,2))\n",
    "y_psd = temp_power_spec(y_1D)\n",
    "y_smoothed = 10**signal.savgol_filter(np.log10(y_psd), 101, 5)\n",
    "kt = fft.rfftfreq(len(y_smoothed),.001)"
   ]
  },
  {
   "cell_type": "code",
   "execution_count": null,
   "metadata": {},
   "outputs": [],
   "source": [
    "m, yint = linear_fit(kt,y_smoothed,5,30)"
   ]
  },
  {
   "cell_type": "code",
   "execution_count": null,
   "metadata": {},
   "outputs": [],
   "source": [
    "bounds = (kt>5) & (kt<30)"
   ]
  },
  {
   "cell_type": "code",
   "execution_count": null,
   "metadata": {
    "scrolled": false
   },
   "outputs": [],
   "source": [
    "%matplotlib notebook\n",
    "plt.loglog(kt,y_smoothed)\n",
    "plt.loglog(kt[bounds],10**yint*kt[bounds]**m,'x')"
   ]
  },
  {
   "cell_type": "code",
   "execution_count": null,
   "metadata": {},
   "outputs": [],
   "source": []
  }
 ],
 "metadata": {
  "kernelspec": {
   "display_name": "Python 3",
   "language": "python",
   "name": "python3"
  },
  "language_info": {
   "codemirror_mode": {
    "name": "ipython",
    "version": 3
   },
   "file_extension": ".py",
   "mimetype": "text/x-python",
   "name": "python",
   "nbconvert_exporter": "python",
   "pygments_lexer": "ipython3",
   "version": "3.6.0"
  }
 },
 "nbformat": 4,
 "nbformat_minor": 2
}
