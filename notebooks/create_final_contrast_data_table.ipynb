{
 "cells": [
  {
   "cell_type": "markdown",
   "metadata": {},
   "source": [
    "# Import modules"
   ]
  },
  {
   "cell_type": "code",
   "execution_count": null,
   "metadata": {},
   "outputs": [],
   "source": [
    "import numpy as np\n",
    "import pandas as pd\n",
    "import matplotlib.pyplot as plt\n",
    "import matplotlib.dates as mdates\n",
    "import copy\n",
    "import pytz\n",
    "import datetime \n",
    "import cPickle as pickle\n",
    "import astral\n",
    "import astropy.time as aptime\n",
    "from scipy import stats\n",
    "from scipy import interpolate"
   ]
  },
  {
   "cell_type": "markdown",
   "metadata": {},
   "source": [
    "# Load Data"
   ]
  },
  {
   "cell_type": "code",
   "execution_count": null,
   "metadata": {},
   "outputs": [],
   "source": [
    "csv_file1 = pd.read_csv('IFS_RawContrast_Gemini_env_20180530_all_seeing.csv')  # final contrast data\n",
    "csv_file1_copy = copy.copy(csv_file1)\n",
    "raw_contrast_data= pd.DataFrame(csv_file1_copy)\n",
    "raw_contrast_data['dts']=np.nan\n",
    "\n",
    "csv_file2 = pd.read_csv('Final_HSpec_Contrasts_20170828.txt')  # final contrast data\n",
    "csv_file2_copy = copy.copy(csv_file2)\n",
    "final_contrast_data= pd.DataFrame(csv_file2_copy)\n",
    "\n",
    "#  Create colums with datetimes and make them timezone aware\n",
    "raw_contrast_data['dts']= aptime.Time(raw_contrast_data['MJDOBS'], format='mjd').datetime \n",
    "raw_contrast_data['dts']=raw_contrast_data['dts'].dt.tz_localize(pytz.UTC)\n",
    "\n",
    "final_contrast_data['dts'] = pd.to_datetime(final_contrast_data['datestr'].values,yearfirst = True, format = '%y%m%d')\n",
    "final_contrast_data=final_contrast_data.rename(columns = {'object':'OBJNAME', 'datestr':'DATESTR','mode':'OBSMODE'})"
   ]
  },
  {
   "cell_type": "markdown",
   "metadata": {},
   "source": [
    "# Scale contrast with fov"
   ]
  },
  {
   "cell_type": "code",
   "execution_count": null,
   "metadata": {},
   "outputs": [],
   "source": [
    "cond = final_contrast_data['fov_rot'] > 12.2  # calculated min angle  \n",
    "final_contrast_data = final_contrast_data.loc[cond]\n",
    "final_contrast_data = final_contrast_data.set_index(np.arange(len(final_contrast_data)))"
   ]
  },
  {
   "cell_type": "markdown",
   "metadata": {},
   "source": [
    "Solve for differences"
   ]
  },
  {
   "cell_type": "code",
   "execution_count": null,
   "metadata": {},
   "outputs": [],
   "source": [
    "raw_contrast_data['OMSA_delT'] = raw_contrast_data['OMSATEMP'] - raw_contrast_data['TAMBIENT']\n",
    "raw_contrast_data['M1_avg_delT'] = raw_contrast_data['M1_avg'] - raw_contrast_data['TAMBIENT']\n",
    "raw_contrast_data['OE_Interior_Air_temperature_delT'] = raw_contrast_data['OE_Interior_Air_temperature'] - raw_contrast_data['TAMBIENT']"
   ]
  },
  {
   "cell_type": "markdown",
   "metadata": {},
   "source": [
    "Group the data by object and by dates "
   ]
  },
  {
   "cell_type": "code",
   "execution_count": null,
   "metadata": {},
   "outputs": [],
   "source": [
    "grouped = raw_contrast_data.groupby(['OBJNAME','DATESTR'],as_index=False).mean()"
   ]
  },
  {
   "cell_type": "code",
   "execution_count": null,
   "metadata": {},
   "outputs": [],
   "source": [
    "c = raw_contrast_data.groupby(['OBJNAME','DATESTR'],as_index=False).size().to_frame(name='counts')"
   ]
  },
  {
   "cell_type": "code",
   "execution_count": null,
   "metadata": {},
   "outputs": [],
   "source": [
    "grouped = grouped.join(c,on = ['OBJNAME','DATESTR'],how = 'inner')"
   ]
  },
  {
   "cell_type": "markdown",
   "metadata": {},
   "source": [
    "merge the grouped data with teh final contrast data"
   ]
  },
  {
   "cell_type": "code",
   "execution_count": null,
   "metadata": {},
   "outputs": [],
   "source": [
    "merge_data = pd.merge(final_contrast_data,grouped, on = ['OBJNAME','DATESTR'])"
   ]
  },
  {
   "cell_type": "code",
   "execution_count": null,
   "metadata": {},
   "outputs": [],
   "source": [
    "merge_data['C40_CH4_scaled'] = merge_data['C40_CH4'] * np.sqrt(merge_data['counts']/38.) "
   ]
  },
  {
   "cell_type": "code",
   "execution_count": null,
   "metadata": {},
   "outputs": [],
   "source": [
    "print len(pd.unique(merge_data['OBJNAME']))"
   ]
  },
  {
   "cell_type": "markdown",
   "metadata": {},
   "source": [
    "# Save data table as CSV file"
   ]
  },
  {
   "cell_type": "code",
   "execution_count": null,
   "metadata": {},
   "outputs": [],
   "source": [
    "merge_data.to_csv('IFS_FinalContrast_20180530.csv',index=False)"
   ]
  },
  {
   "cell_type": "code",
   "execution_count": null,
   "metadata": {},
   "outputs": [],
   "source": []
  }
 ],
 "metadata": {
  "kernelspec": {
   "display_name": "Python 3",
   "language": "python",
   "name": "python3"
  },
  "language_info": {
   "codemirror_mode": {
    "name": "ipython",
    "version": 3
   },
   "file_extension": ".py",
   "mimetype": "text/x-python",
   "name": "python",
   "nbconvert_exporter": "python",
   "pygments_lexer": "ipython3",
   "version": "3.6.5"
  }
 },
 "nbformat": 4,
 "nbformat_minor": 2
}
