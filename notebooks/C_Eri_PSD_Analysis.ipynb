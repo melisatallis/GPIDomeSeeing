{
 "cells": [
  {
   "cell_type": "code",
   "execution_count": 1,
   "metadata": {},
   "outputs": [],
   "source": [
    "import numpy as np\n",
    "import matplotlib.pyplot as plt\n",
    "import pandas as pd\n",
    "import scipy.fftpack as fft\n",
    "from astropy.io import fits\n",
    "from scipy import optimize\n",
    "from poppy import zernike\n",
    "from scipy import signal\n",
    "from scipy import interpolate\n",
    "import os\n",
    "import pytz\n",
    "import time\n",
    "import re"
   ]
  },
  {
   "cell_type": "markdown",
   "metadata": {},
   "source": [
    "# Telescope Dimensions"
   ]
  },
  {
   "cell_type": "code",
   "execution_count": 2,
   "metadata": {},
   "outputs": [],
   "source": [
    "outD = 7.77010            # primary diameter (m)\n",
    "inD = 1.024               # inner M2 diameter (m)\n",
    "n = 48                    # number sample points across the screen (Not the number of subapertures)\n",
    "nacross = 43              # number of subapertures across the aperture\n",
    "pscale = outD/(nacross)   # pixel size (m) of samples in pupil plane"
   ]
  },
  {
   "cell_type": "markdown",
   "metadata": {},
   "source": [
    "# Define Aperture"
   ]
  },
  {
   "cell_type": "code",
   "execution_count": 3,
   "metadata": {
    "scrolled": true
   },
   "outputs": [],
   "source": [
    "#  Aperture containing zeros\n",
    "x = np.linspace(-(n)/2,(n)/2,n)*pscale \n",
    "y = np.linspace(-(n)/2,(n)/2,n)*pscale\n",
    "mg = np.meshgrid(x,y)\n",
    "ar = np.sqrt(np.sum((m**2 for m in mg)))\n",
    "ap_outer = (ar <= (7.3)/2) #slightly oversized because GPI does not correct teh boundaries well\n",
    "ap_inner = (ar <= 1.5/2)   \n",
    "\n",
    "#ap_outer = (ar <= outD/2)\n",
    "#ap_inner = (ar <= inD/2)   \n",
    "ap = (ap_outer ^ ap_inner).astype(np.float)\n",
    "\n",
    "#  Aperture containing nans\n",
    "ap_nan = np.copy(ap.astype(np.float))  \n",
    "ap_nan[np.where(ap==0)] = np.nan"
   ]
  },
  {
   "cell_type": "markdown",
   "metadata": {},
   "source": [
    "# Make the spatial freq grid"
   ]
  },
  {
   "cell_type": "markdown",
   "metadata": {},
   "source": [
    "Will use to plot against spatial PSDs"
   ]
  },
  {
   "cell_type": "code",
   "execution_count": 4,
   "metadata": {
    "scrolled": true
   },
   "outputs": [],
   "source": [
    "kx = fft.fftshift(fft.fftfreq(n,pscale))\n",
    "ky = fft.fftshift(fft.fftfreq(n,pscale))\n",
    "mg = np.meshgrid(kx,ky)\n",
    "kr = np.sqrt(np.sum((m**2 for m in mg))) "
   ]
  },
  {
   "cell_type": "markdown",
   "metadata": {},
   "source": [
    "# Phase Sample"
   ]
  },
  {
   "cell_type": "markdown",
   "metadata": {},
   "source": [
    "1. name_list - list containing telemetry date strings\n",
    "2. fname_list - list containing path to telemetry files"
   ]
  },
  {
   "cell_type": "code",
   "execution_count": 10,
   "metadata": {},
   "outputs": [],
   "source": [
    "def path_manager(desktop_name):\n",
    "    \n",
    "    if desktop_name == 'gpi_cruncher':\n",
    "        rootdir = '/home/sda/mtallis/PhaseScripts/aotelem/Reduced/'\n",
    "        save_path = '/home/sda/mtallis/Results/c_Eri/'\n",
    "        samples_paths = '/home/sda/mtallis/samples/c_Eri_samples.txt'\n",
    "    \n",
    "    if desktop_name == 'kipac':\n",
    "        rootdir = '/Users/MelisaT/Documents/Research/GPIDomeSeeing/data/Results/c_Eri/'\n",
    "        save_path = '/Users/MelisaT/Documents/Research/GPIDomeSeeing/data/Results/c_Eri/'\n",
    "        samples_path = '/Users/MelisaT/Documents/Research/GPIDomeSeeing/data/datatables/c_Eri_samples.txt'\n",
    "        \n",
    "    if desktop_name == 'laptop':\n",
    "        rootdir = '/Users/melisatallis/Documents/Research/GPIDomeSeeing/data/Results/c_Eri/'\n",
    "        save_path = '/Users/melisatallis/Documents/Research/GPIDomeSeeing/data/Results/c_Eri/'\n",
    "        samples_path = '/Users/melisatallis/Documents/Research/GPIDomeSeeing/data/Results/c_Eri/c_Eri_samples.txt'\n",
    "\n",
    "    dstr = time.strftime('%Y%m%d')\n",
    "    return rootdir,save_path, samples_path, dstr"
   ]
  },
  {
   "cell_type": "code",
   "execution_count": 11,
   "metadata": {},
   "outputs": [],
   "source": [
    "rootdir, save_path, samples_path, dstr = path_manager('laptop')"
   ]
  },
  {
   "cell_type": "code",
   "execution_count": 15,
   "metadata": {},
   "outputs": [],
   "source": [
    "with open(samples_path,'r') as f:\n",
    "    sample = f.read().splitlines() #outputs as a list of strings"
   ]
  },
  {
   "cell_type": "code",
   "execution_count": null,
   "metadata": {
    "scrolled": true
   },
   "outputs": [],
   "source": [
    "fname_list = list()\n",
    "name_list = list()\n",
    "\n",
    "for i in sample:\n",
    "    for root, dirs, files in os.walk(rootdir):\n",
    "        for name in files:\n",
    "            (base,ext) = os.path.splitext(name)\n",
    "            if (ext in ('.fits')) and (i in base):\n",
    "                full_name = os.path.join(root,name)\n",
    "                #print(full_name)\n",
    "                fname_list.append(full_name)  \n",
    "                name_list.append(base[11:-12])"
   ]
  },
  {
   "cell_type": "markdown",
   "metadata": {},
   "source": [
    "# Analysis Functions"
   ]
  },
  {
   "cell_type": "markdown",
   "metadata": {},
   "source": [
    "1. processs_phase - Imports .fits & removes static aberrations in each phase  \n",
    "2. radialProfile - Computes mean inside each radial bin starting from center\n",
    "3. sp_power_spec - Computes time average of 2d DFT^2  \n",
    "4. temp_power_spec - Computes actuator timeseries DFT^2 and averages over aperture\n",
    "5. linear fit - fits a power law to psd. Behaves like a line in loglog space"
   ]
  },
  {
   "cell_type": "code",
   "execution_count": null,
   "metadata": {},
   "outputs": [],
   "source": [
    "def process_phase(filepath):\n",
    "\n",
    "    hdulist = fits.open(filepath,memmap=True)\n",
    "    phase = hdulist[0].data.astype('float')\n",
    "    avg_phase = np.nanmean(phase*ap_nan,axis=0)  # used to find average zernikes \n",
    "\n",
    "    # remove zernikes form cube\n",
    "    z_basis = zernike.zernike_basis_faster(nterms= 6, npix = 48)\n",
    "    z_coeff = zernike.opd_expand_nonorthonormal(avg_phase, aperture=ap, nterms=6)\n",
    "    thin_lens = np.sum(z_coeff[:,None,None]*z_basis[:,:,:],axis=0)\n",
    "\n",
    "    c_phase = (phase - thin_lens[None,:,:])*ap_nan\n",
    "    c_phase[np.isnan(c_phase)]=0.\n",
    "    \n",
    "    return c_phase"
   ]
  },
  {
   "cell_type": "code",
   "execution_count": null,
   "metadata": {},
   "outputs": [],
   "source": [
    "def radialProfile(image, center=None):\n",
    "    \"\"\"\n",
    "    Calculate the avearge radial profile.\n",
    "\n",
    "    image - The 2D image\n",
    "    center - The [x,y] pixel coordinates used as the center. The default is \n",
    "             None, which then uses the center of the image (including \n",
    "             fracitonal pixels).\n",
    "    \n",
    "    \"\"\"\n",
    "    ## Calculate the indices from the image\n",
    "    y,x = np.indices((image.shape)) # first determine radii of all pixels\n",
    "    \n",
    "    if not center:\n",
    "        center = np.array([(x.max()-x.min())/2.0, (y.max()-y.min())/2.0])\n",
    "     \n",
    "    r = np.hypot(x - center[0], y - center[1]).astype(np.int) \n",
    "    \n",
    "    n = np.bincount(r.ravel())\n",
    "    sy = np.bincount(r.ravel(), image.ravel())\n",
    "    mean = sy/n\n",
    "    \n",
    "    return mean"
   ]
  },
  {
   "cell_type": "code",
   "execution_count": null,
   "metadata": {},
   "outputs": [],
   "source": [
    "def sp_power_spec(phase):    \n",
    "    \n",
    "    timesteps, phx, phy = phase.shape \n",
    "    phFT = np.zeros((timesteps,phx,phy), dtype=complex)\n",
    "    for t in np.arange(timesteps):\n",
    "        phFT[t,:,:] = fft.fftshift(fft.fft2(phase[t,:,:]))*2.0/ap.sum()\n",
    "    print('Done with FT')\n",
    "    \n",
    "    # compute 2d psd cube\n",
    "    psd2D = np.zeros((timesteps, phx, phy),dtype=float)\n",
    "    for k in np.arange(phx):\n",
    "        for l in np.arange(phy):\n",
    "            psd2D[:,k,l] = np.square(np.abs(phFT[:,k,l]))\n",
    "    \n",
    "    avg_psd2D = np.mean(psd2D, axis=0)\n",
    "    print('Done with PSD')    \n",
    "    \n",
    "    # compute radial average of 2d psd cube and frequency\n",
    "    avg_psd1D =  radialProfile(avg_psd2D)\n",
    "    \n",
    "    return avg_psd1D"
   ]
  },
  {
   "cell_type": "code",
   "execution_count": null,
   "metadata": {},
   "outputs": [],
   "source": [
    "def temp_power_spec(Y,sample_spacing):\n",
    "    \n",
    "    n = len(Y)\n",
    "    dT = sample_spacing\n",
    "\n",
    "    w = signal.blackman(n)\n",
    "    P = np.fft.rfft(Y*w)\n",
    "    norm = 2.0/n\n",
    "    P = P * norm\n",
    "\n",
    "    P2 = np.square(np.abs(P))\n",
    "    k = np.fft.rfftfreq(n,dT)\n",
    "    \n",
    "    return k,P2"
   ]
  },
  {
   "cell_type": "code",
   "execution_count": null,
   "metadata": {},
   "outputs": [],
   "source": [
    "def linear_fit(Y,k,param):\n",
    "    \n",
    "    if param == 'space':\n",
    "        par = np.polyfit(np.log10(k[(k>1./(3.0)) & (k<1./(1.0))]), np.log10(Y[(k>1./(3.0)) & (k<1./(1.0))]), 1)\n",
    "        \n",
    "    if param == 'time':\n",
    "        par = np.polyfit(np.log10(k[(k>1.0)]), np.log10(k[(k>1.0)]), 1)\n",
    "\n",
    "    slope = par[0]\n",
    "    intercept = par[1]\n",
    "    return slope,intercept    "
   ]
  },
  {
   "cell_type": "markdown",
   "metadata": {},
   "source": [
    "# Perform Analysis "
   ]
  },
  {
   "cell_type": "markdown",
   "metadata": {},
   "source": [
    "Define spatial frequencies (34 bins)"
   ]
  },
  {
   "cell_type": "code",
   "execution_count": null,
   "metadata": {},
   "outputs": [],
   "source": [
    "k = radialProfile(kr)"
   ]
  },
  {
   "cell_type": "markdown",
   "metadata": {},
   "source": [
    "Store spatial PSD values in DataFrame for later analysis"
   ]
  },
  {
   "cell_type": "code",
   "execution_count": null,
   "metadata": {
    "scrolled": true
   },
   "outputs": [],
   "source": [
    "df_sp_psd = pd.DataFrame(columns = name_list)\n",
    "\n",
    "i=0\n",
    "for file in fname_list:\n",
    "    print(file)\n",
    "    print(name_list[i])\n",
    "    y_2D = process_phase(file)\n",
    "    y_psd = sp_power_spec(y_2D)\n",
    "    df_sp_psd[name_list[i]] = y_psd\n",
    "    i=i+1"
   ]
  },
  {
   "cell_type": "code",
   "execution_count": null,
   "metadata": {},
   "outputs": [],
   "source": [
    "df_sp_psd.to_csv(save_path+'sp_psd'+'_'+dstr+'.txt')"
   ]
  },
  {
   "cell_type": "markdown",
   "metadata": {},
   "source": [
    "Store temporal PSD values in DataFrame for later analysis.\n",
    "Key = 'telemetry date'\n",
    "columns = 'kt' & 't_psd' (Note varying timeseries lengths) "
   ]
  },
  {
   "cell_type": "code",
   "execution_count": null,
   "metadata": {
    "scrolled": true
   },
   "outputs": [],
   "source": [
    "df_kt = pd.DataFrame()\n",
    "df_t_psd = pd.DataFrame()\n",
    "\n",
    "i=0\n",
    "for file in fname_list:\n",
    "    y_2D = process_phase(file)\n",
    "    y_1D = np.mean(y_2D,axis=(1,2))\n",
    "    kt,y_psd = temp_power_spec(y_1D,.001)\n",
    "    y_smoothed = 10**signal.savgol_filter(np.log10(y_psd), 101, 5)\n",
    "    #df_t_psd[name_list[i],'dts'] = pd.to_datetime(name_list[i],format='%Y.%m.%d_%H.%M.%S',utc=True)\n",
    "    df_kt[name_list[i]] = pd.Series(kt)\n",
    "    df_t_psd[name_list[i]] = pd.Series(y_smoothed)\n",
    "    print(name_list[i])\n",
    "    i=i+1"
   ]
  },
  {
   "cell_type": "code",
   "execution_count": null,
   "metadata": {
    "scrolled": true
   },
   "outputs": [],
   "source": [
    "iterables = [name_list,['dts','kt','t_psd']]\n",
    "index = pd.MultiIndex.from_product(iterables)\n",
    "df_t_psd = pd.DataFrame(columns = index)\n",
    "\n",
    "i=0\n",
    "for file in fname_list:\n",
    "    y_2D = process_phase(file)\n",
    "    y_1D = np.mean(y_2D,axis=(1,2))\n",
    "    kt,y_psd = temp_power_spec(y_1D,.001)\n",
    "    y_smoothed = 10**signal.savgol_filter(np.log10(y_psd), 101, 5)\n",
    "    #df_t_psd[name_list[i],'dts'] = pd.to_datetime(name_list[i],format='%Y.%m.%d_%H.%M.%S',utc=True)\n",
    "    df_t_psd[name_list[i],'kt'] = pd.Series(kt)\n",
    "    df_t_psd[name_list[i],'t_psd'] = pd.Series(y_smoothed)\n",
    "    print(name_list[i])\n",
    "    i=i+1"
   ]
  },
  {
   "cell_type": "code",
   "execution_count": null,
   "metadata": {
    "scrolled": true
   },
   "outputs": [],
   "source": [
    "df_t_psd.to_csv(save_path+'t_psd'+'_'+dstr+'.txt')"
   ]
  },
  {
   "cell_type": "markdown",
   "metadata": {},
   "source": [
    "# Grouping of samples "
   ]
  },
  {
   "cell_type": "markdown",
   "metadata": {},
   "source": [
    "read in spatial or temporal psd samples"
   ]
  },
  {
   "cell_type": "code",
   "execution_count": null,
   "metadata": {},
   "outputs": [],
   "source": [
    "df_sp_psd = pd.read_csv(save_path+'sp_psd_20190303.txt',index_col=0)"
   ]
  },
  {
   "cell_type": "code",
   "execution_count": 99,
   "metadata": {
    "scrolled": true
   },
   "outputs": [],
   "source": [
    "df_t_psd = pd.read_csv(save_path+'t_psd_20190304.txt',index_col=0,header=[0,1])"
   ]
  },
  {
   "cell_type": "code",
   "execution_count": 100,
   "metadata": {},
   "outputs": [
    {
     "data": {
      "text/html": [
       "<div>\n",
       "<style scoped>\n",
       "    .dataframe tbody tr th:only-of-type {\n",
       "        vertical-align: middle;\n",
       "    }\n",
       "\n",
       "    .dataframe tbody tr th {\n",
       "        vertical-align: top;\n",
       "    }\n",
       "\n",
       "    .dataframe thead tr th {\n",
       "        text-align: left;\n",
       "    }\n",
       "</style>\n",
       "<table border=\"1\" class=\"dataframe\">\n",
       "  <thead>\n",
       "    <tr>\n",
       "      <th></th>\n",
       "      <th colspan=\"2\" halign=\"left\">2014.12.17_23.47.47</th>\n",
       "      <th colspan=\"2\" halign=\"left\">2014.12.18_0.6.47</th>\n",
       "      <th colspan=\"2\" halign=\"left\">2015.1.28_22.8.6</th>\n",
       "      <th colspan=\"2\" halign=\"left\">2015.1.28_22.18.47</th>\n",
       "      <th colspan=\"2\" halign=\"left\">2015.1.28_22.42.46</th>\n",
       "      <th>...</th>\n",
       "      <th colspan=\"2\" halign=\"left\">2017.11.11_3.25.46</th>\n",
       "      <th colspan=\"2\" halign=\"left\">2017.11.11_3.32.49</th>\n",
       "      <th colspan=\"2\" halign=\"left\">2017.11.11_3.34.15</th>\n",
       "      <th colspan=\"2\" halign=\"left\">2017.11.11_3.39.24</th>\n",
       "      <th colspan=\"2\" halign=\"left\">2017.11.11_3.41.15</th>\n",
       "    </tr>\n",
       "    <tr>\n",
       "      <th></th>\n",
       "      <th>kt</th>\n",
       "      <th>t_psd</th>\n",
       "      <th>kt</th>\n",
       "      <th>t_psd</th>\n",
       "      <th>kt</th>\n",
       "      <th>t_psd</th>\n",
       "      <th>kt</th>\n",
       "      <th>t_psd</th>\n",
       "      <th>kt</th>\n",
       "      <th>t_psd</th>\n",
       "      <th>...</th>\n",
       "      <th>kt</th>\n",
       "      <th>t_psd</th>\n",
       "      <th>kt</th>\n",
       "      <th>t_psd</th>\n",
       "      <th>kt</th>\n",
       "      <th>t_psd</th>\n",
       "      <th>kt</th>\n",
       "      <th>t_psd</th>\n",
       "      <th>kt</th>\n",
       "      <th>t_psd</th>\n",
       "    </tr>\n",
       "  </thead>\n",
       "  <tbody>\n",
       "    <tr>\n",
       "      <th>0</th>\n",
       "      <td>0.000000</td>\n",
       "      <td>0.000036</td>\n",
       "      <td>0.000000</td>\n",
       "      <td>0.000086</td>\n",
       "      <td>0.000000</td>\n",
       "      <td>0.000294</td>\n",
       "      <td>0.000000</td>\n",
       "      <td>0.000433</td>\n",
       "      <td>0.000000</td>\n",
       "      <td>0.000282</td>\n",
       "      <td>...</td>\n",
       "      <td>0.000000</td>\n",
       "      <td>0.000375</td>\n",
       "      <td>0.000000</td>\n",
       "      <td>0.020296</td>\n",
       "      <td>0.000000</td>\n",
       "      <td>0.000335</td>\n",
       "      <td>0.000000</td>\n",
       "      <td>0.000131</td>\n",
       "      <td>0.000000</td>\n",
       "      <td>0.007018</td>\n",
       "    </tr>\n",
       "    <tr>\n",
       "      <th>1</th>\n",
       "      <td>0.045245</td>\n",
       "      <td>0.000049</td>\n",
       "      <td>0.045448</td>\n",
       "      <td>0.000069</td>\n",
       "      <td>0.045253</td>\n",
       "      <td>0.000254</td>\n",
       "      <td>0.045257</td>\n",
       "      <td>0.000378</td>\n",
       "      <td>0.045039</td>\n",
       "      <td>0.000228</td>\n",
       "      <td>...</td>\n",
       "      <td>0.016753</td>\n",
       "      <td>0.000439</td>\n",
       "      <td>0.045267</td>\n",
       "      <td>0.010979</td>\n",
       "      <td>0.016694</td>\n",
       "      <td>0.000342</td>\n",
       "      <td>0.045662</td>\n",
       "      <td>0.000111</td>\n",
       "      <td>0.044897</td>\n",
       "      <td>0.004099</td>\n",
       "    </tr>\n",
       "    <tr>\n",
       "      <th>2</th>\n",
       "      <td>0.090490</td>\n",
       "      <td>0.000064</td>\n",
       "      <td>0.090897</td>\n",
       "      <td>0.000056</td>\n",
       "      <td>0.090506</td>\n",
       "      <td>0.000220</td>\n",
       "      <td>0.090514</td>\n",
       "      <td>0.000326</td>\n",
       "      <td>0.090078</td>\n",
       "      <td>0.000185</td>\n",
       "      <td>...</td>\n",
       "      <td>0.033505</td>\n",
       "      <td>0.000494</td>\n",
       "      <td>0.090535</td>\n",
       "      <td>0.006235</td>\n",
       "      <td>0.033387</td>\n",
       "      <td>0.000344</td>\n",
       "      <td>0.091324</td>\n",
       "      <td>0.000095</td>\n",
       "      <td>0.089795</td>\n",
       "      <td>0.002484</td>\n",
       "    </tr>\n",
       "    <tr>\n",
       "      <th>3</th>\n",
       "      <td>0.135734</td>\n",
       "      <td>0.000078</td>\n",
       "      <td>0.136345</td>\n",
       "      <td>0.000047</td>\n",
       "      <td>0.135759</td>\n",
       "      <td>0.000190</td>\n",
       "      <td>0.135771</td>\n",
       "      <td>0.000279</td>\n",
       "      <td>0.135117</td>\n",
       "      <td>0.000151</td>\n",
       "      <td>...</td>\n",
       "      <td>0.050258</td>\n",
       "      <td>0.000538</td>\n",
       "      <td>0.135802</td>\n",
       "      <td>0.003707</td>\n",
       "      <td>0.050081</td>\n",
       "      <td>0.000341</td>\n",
       "      <td>0.136986</td>\n",
       "      <td>0.000083</td>\n",
       "      <td>0.134692</td>\n",
       "      <td>0.001560</td>\n",
       "    </tr>\n",
       "    <tr>\n",
       "      <th>4</th>\n",
       "      <td>0.180979</td>\n",
       "      <td>0.000092</td>\n",
       "      <td>0.181793</td>\n",
       "      <td>0.000040</td>\n",
       "      <td>0.181012</td>\n",
       "      <td>0.000165</td>\n",
       "      <td>0.181028</td>\n",
       "      <td>0.000238</td>\n",
       "      <td>0.180156</td>\n",
       "      <td>0.000124</td>\n",
       "      <td>...</td>\n",
       "      <td>0.067011</td>\n",
       "      <td>0.000568</td>\n",
       "      <td>0.181069</td>\n",
       "      <td>0.002301</td>\n",
       "      <td>0.066775</td>\n",
       "      <td>0.000335</td>\n",
       "      <td>0.182648</td>\n",
       "      <td>0.000073</td>\n",
       "      <td>0.179590</td>\n",
       "      <td>0.001012</td>\n",
       "    </tr>\n",
       "  </tbody>\n",
       "</table>\n",
       "<p>5 rows × 284 columns</p>\n",
       "</div>"
      ],
      "text/plain": [
       "  2014.12.17_23.47.47           2014.12.18_0.6.47           2015.1.28_22.8.6  \\\n",
       "                   kt     t_psd                kt     t_psd               kt   \n",
       "0            0.000000  0.000036          0.000000  0.000086         0.000000   \n",
       "1            0.045245  0.000049          0.045448  0.000069         0.045253   \n",
       "2            0.090490  0.000064          0.090897  0.000056         0.090506   \n",
       "3            0.135734  0.000078          0.136345  0.000047         0.135759   \n",
       "4            0.180979  0.000092          0.181793  0.000040         0.181012   \n",
       "\n",
       "            2015.1.28_22.18.47           2015.1.28_22.42.46            \\\n",
       "      t_psd                 kt     t_psd                 kt     t_psd   \n",
       "0  0.000294           0.000000  0.000433           0.000000  0.000282   \n",
       "1  0.000254           0.045257  0.000378           0.045039  0.000228   \n",
       "2  0.000220           0.090514  0.000326           0.090078  0.000185   \n",
       "3  0.000190           0.135771  0.000279           0.135117  0.000151   \n",
       "4  0.000165           0.181028  0.000238           0.180156  0.000124   \n",
       "\n",
       "     ...    2017.11.11_3.25.46           2017.11.11_3.32.49            \\\n",
       "     ...                    kt     t_psd                 kt     t_psd   \n",
       "0    ...              0.000000  0.000375           0.000000  0.020296   \n",
       "1    ...              0.016753  0.000439           0.045267  0.010979   \n",
       "2    ...              0.033505  0.000494           0.090535  0.006235   \n",
       "3    ...              0.050258  0.000538           0.135802  0.003707   \n",
       "4    ...              0.067011  0.000568           0.181069  0.002301   \n",
       "\n",
       "  2017.11.11_3.34.15           2017.11.11_3.39.24            \\\n",
       "                  kt     t_psd                 kt     t_psd   \n",
       "0           0.000000  0.000335           0.000000  0.000131   \n",
       "1           0.016694  0.000342           0.045662  0.000111   \n",
       "2           0.033387  0.000344           0.091324  0.000095   \n",
       "3           0.050081  0.000341           0.136986  0.000083   \n",
       "4           0.066775  0.000335           0.182648  0.000073   \n",
       "\n",
       "  2017.11.11_3.41.15            \n",
       "                  kt     t_psd  \n",
       "0           0.000000  0.007018  \n",
       "1           0.044897  0.004099  \n",
       "2           0.089795  0.002484  \n",
       "3           0.134692  0.001560  \n",
       "4           0.179590  0.001012  \n",
       "\n",
       "[5 rows x 284 columns]"
      ]
     },
     "execution_count": 100,
     "metadata": {},
     "output_type": "execute_result"
    }
   ],
   "source": [
    "df_t_psd.head()"
   ]
  },
  {
   "cell_type": "code",
   "execution_count": 106,
   "metadata": {
    "scrolled": true
   },
   "outputs": [
    {
     "data": {
      "text/plain": [
       "2014.12.17_23.47.47  kt     0        0.000000\n",
       "                            1        0.045245\n",
       "                            2        0.090490\n",
       "                            3        0.135734\n",
       "                            4        0.180979\n",
       "                            5        0.226224\n",
       "                            6        0.271469\n",
       "                            7        0.316713\n",
       "                            8        0.361958\n",
       "                            9        0.407203\n",
       "                            10       0.452448\n",
       "                            11       0.497693\n",
       "                            12       0.542937\n",
       "                            13       0.588182\n",
       "                            14       0.633427\n",
       "                            15       0.678672\n",
       "                            16       0.723916\n",
       "                            17       0.769161\n",
       "                            18       0.814406\n",
       "                            19       0.859651\n",
       "                            20       0.904895\n",
       "                            21       0.950140\n",
       "                            22       0.995385\n",
       "                            23       1.040630\n",
       "                            24       1.085875\n",
       "                            25       1.131119\n",
       "                            26       1.176364\n",
       "                            27       1.221609\n",
       "                            28       1.266854\n",
       "                            29       1.312098\n",
       "                                       ...   \n",
       "2014.12.18_0.6.47    t_psd  11022         NaN\n",
       "                            11023         NaN\n",
       "                            11024         NaN\n",
       "                            11025         NaN\n",
       "                            11026         NaN\n",
       "                            11027         NaN\n",
       "                            11028         NaN\n",
       "                            11029         NaN\n",
       "                            11030         NaN\n",
       "                            11031         NaN\n",
       "                            11032         NaN\n",
       "                            11033         NaN\n",
       "                            11034         NaN\n",
       "                            11035         NaN\n",
       "                            11036         NaN\n",
       "                            11037         NaN\n",
       "                            11038         NaN\n",
       "                            11039         NaN\n",
       "                            11040         NaN\n",
       "                            11041         NaN\n",
       "                            11042         NaN\n",
       "                            11043         NaN\n",
       "                            11044         NaN\n",
       "                            11045         NaN\n",
       "                            11046         NaN\n",
       "                            11047         NaN\n",
       "                            11048         NaN\n",
       "                            11049         NaN\n",
       "                            11050         NaN\n",
       "                            11051         NaN\n",
       "Length: 44208, dtype: float64"
      ]
     },
     "execution_count": 106,
     "metadata": {},
     "output_type": "execute_result"
    }
   ],
   "source": [
    "df_t_psd.loc[:,['2014.12.17_23.47.47','2014.12.18_0.6.47']].unstack()"
   ]
  },
  {
   "cell_type": "markdown",
   "metadata": {},
   "source": [
    "Put dates into night groups"
   ]
  },
  {
   "cell_type": "code",
   "execution_count": null,
   "metadata": {},
   "outputs": [],
   "source": [
    "df = pd.DataFrame({'fname_list':fname_list,'name_list':name_list})\n",
    "df['dts'] = pd.to_datetime(df['name_list'],format='%Y.%m.%d_%H.%M.%S',utc=True)\n",
    "df['delta_t'] = df['dts']-df['dts'].shift(1)\n",
    "df.loc[0,'delta_t'] = pd.Timedelta(0)\n",
    "\n",
    "def bin_f(row):\n",
    "    if row['delta_t'] > pd.Timedelta('20H'):\n",
    "        return row['dts'].date()\n",
    "    \n",
    "df['bin']=df.apply(bin_f,axis = 1)\n",
    "df.loc[0:1,'bin']=df.loc[0,'dts'].date()\n",
    "df['bin']=df['bin'].fillna(method='ffill')\n",
    "g_df = df.groupby('bin')"
   ]
  },
  {
   "cell_type": "markdown",
   "metadata": {},
   "source": [
    "Create a dataframe with the average psd measured in each night window. Column names contain date at the start of the night "
   ]
  },
  {
   "cell_type": "code",
   "execution_count": null,
   "metadata": {},
   "outputs": [],
   "source": [
    "df_avg_sp_psd = pd.DataFrame()\n",
    "\n",
    "for name,group in g_df:\n",
    "    df_avg_sp_psd.loc[:,str(name)] = df_sp_psd.loc[:,group['name_list'].tolist()].mean(axis=1)"
   ]
  },
  {
   "cell_type": "markdown",
   "metadata": {},
   "source": [
    "# Fit power law to avg PSDs"
   ]
  },
  {
   "cell_type": "code",
   "execution_count": null,
   "metadata": {},
   "outputs": [],
   "source": [
    "df_linear_fit_psd = pd.DataFrame(columns=['sp_psd','t_psd'])\n",
    "df_linear_fit_psd['sp_psd'] = df_avg_sp_psd.apply(linear_fit, k=k, param='space',axis = 0)"
   ]
  },
  {
   "cell_type": "code",
   "execution_count": null,
   "metadata": {},
   "outputs": [],
   "source": [
    "df_avg_t_psd = pd.DataFrame()\n",
    "\n",
    "for name,group in g_df:\n",
    "    df_avg_t_psd.loc[:,str(name)] = df_sp_psd.loc[:,group['name_list'].tolist()].mean(axis=1)"
   ]
  },
  {
   "cell_type": "markdown",
   "metadata": {},
   "source": [
    "# Fit power law to average PSDS"
   ]
  },
  {
   "cell_type": "code",
   "execution_count": null,
   "metadata": {},
   "outputs": [],
   "source": [
    "df_linear_fit = pd.DataFrame(columns=['sp_psd','t_psd'])\n",
    "df_linear_fit['sp_psd'] = df_avg_sp_psd.apply(linear_fit,k = k, param='space',axis =0)"
   ]
  },
  {
   "cell_type": "code",
   "execution_count": null,
   "metadata": {},
   "outputs": [],
   "source": [
    "df_linear_fit"
   ]
  },
  {
   "cell_type": "code",
   "execution_count": null,
   "metadata": {},
   "outputs": [],
   "source": [
    "%matplotlib notebook\n",
    "df_avg_sp_psd.loc[:,['2016-09-18','2016-09-21']].plot(x=k,logx=True,logy=True,cmap=plt.cm.bwr)\n",
    "plt.axvline(x=.3,linestyle='--',color='silver')\n",
    "plt.axvline(x=1.,linestyle='--',color='silver')\n",
    "\n"
   ]
  },
  {
   "cell_type": "markdown",
   "metadata": {},
   "source": [
    "Plotting of PSDs"
   ]
  },
  {
   "cell_type": "code",
   "execution_count": null,
   "metadata": {},
   "outputs": [],
   "source": [
    "m, intercept = linear_fit(kt,y_smoothed,time = True, space = False)\n",
    "plt.loglog(kt,y_smoothed, label = name_list[i])\n",
    "plt.loglog(kt[kt>1.0], (10**intercept)*kt[kt>1.]**-1*m)\n",
    "\n",
    "plt.grid(axis='both')\n",
    "plt.axvline(x=1)\n",
    "plt.legend()"
   ]
  },
  {
   "cell_type": "markdown",
   "metadata": {},
   "source": [
    "# Quick check of standard deviation"
   ]
  },
  {
   "cell_type": "code",
   "execution_count": null,
   "metadata": {},
   "outputs": [],
   "source": [
    "for file in fname_list:\n",
    "    y_2D = process_phase(file)"
   ]
  }
 ],
 "metadata": {
  "anaconda-cloud": {},
  "kernelspec": {
   "display_name": "Python 3",
   "language": "python",
   "name": "python3"
  },
  "language_info": {
   "codemirror_mode": {
    "name": "ipython",
    "version": 3
   },
   "file_extension": ".py",
   "mimetype": "text/x-python",
   "name": "python",
   "nbconvert_exporter": "python",
   "pygments_lexer": "ipython3",
   "version": "3.6.5"
  }
 },
 "nbformat": 4,
 "nbformat_minor": 1
}
