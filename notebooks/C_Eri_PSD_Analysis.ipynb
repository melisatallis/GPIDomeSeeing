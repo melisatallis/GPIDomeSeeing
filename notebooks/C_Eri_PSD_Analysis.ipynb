{
 "cells": [
  {
   "cell_type": "code",
   "execution_count": null,
   "metadata": {
    "collapsed": true
   },
   "outputs": [],
   "source": [
    "import numpy as np\n",
    "import matplotlib.pyplot as plt\n",
    "import pandas as pd\n",
    "import scipy.fftpack as fft\n",
    "from astropy.io import fits\n",
    "from scipy import optimize\n",
    "from poppy import zernike\n",
    "from scipy import signal\n",
    "from scipy import interpolate\n",
    "import os\n",
    "import pytz\n",
    "import time\n",
    "import re"
   ]
  },
  {
   "cell_type": "markdown",
   "metadata": {},
   "source": [
    "# Telescope Dimensions"
   ]
  },
  {
   "cell_type": "code",
   "execution_count": null,
   "metadata": {
    "collapsed": true
   },
   "outputs": [],
   "source": [
    "outD = 7.77010            # primary diameter (m)\n",
    "inD = 1.024               # inner M2 diameter (m)\n",
    "n = 48                    # number sample points across the screen (Not the number of subapertures)\n",
    "nacross = 43              # number of subapertures across the aperture\n",
    "pscale = outD/(nacross)   # pixel size (m) of samples in pupil plane"
   ]
  },
  {
   "cell_type": "markdown",
   "metadata": {},
   "source": [
    "# Define Aperture"
   ]
  },
  {
   "cell_type": "code",
   "execution_count": null,
   "metadata": {
    "collapsed": false,
    "scrolled": true
   },
   "outputs": [],
   "source": [
    "#  Aperture containing zeros\n",
    "x = np.linspace(-(n)/2,(n)/2,n)*pscale \n",
    "y = np.linspace(-(n)/2,(n)/2,n)*pscale\n",
    "mg = np.meshgrid(x,y)\n",
    "ar = np.sqrt(np.sum((m**2 for m in mg)))\n",
    "ap_outer = (ar <= (7.3)/2) #slightly oversized because GPI does not correct teh boundaries well\n",
    "ap_inner = (ar <= 1.5/2)   \n",
    "\n",
    "#ap_outer = (ar <= outD/2)\n",
    "#ap_inner = (ar <= inD/2)   \n",
    "ap = (ap_outer ^ ap_inner).astype(np.float)\n",
    "\n",
    "#  Aperture containing nans\n",
    "ap_nan = np.copy(ap.astype(np.float))  \n",
    "ap_nan[np.where(ap==0)] = np.nan"
   ]
  },
  {
   "cell_type": "markdown",
   "metadata": {},
   "source": [
    "# Make the spatial freq grid"
   ]
  },
  {
   "cell_type": "markdown",
   "metadata": {},
   "source": [
    "Will use to plot against spatial PSDs"
   ]
  },
  {
   "cell_type": "code",
   "execution_count": null,
   "metadata": {
    "collapsed": false,
    "scrolled": true
   },
   "outputs": [],
   "source": [
    "kx = fft.fftshift(fft.fftfreq(n,pscale))\n",
    "ky = fft.fftshift(fft.fftfreq(n,pscale))\n",
    "mg = np.meshgrid(kx,ky)\n",
    "kr = np.sqrt(np.sum((m**2 for m in mg))) "
   ]
  },
  {
   "cell_type": "markdown",
   "metadata": {},
   "source": [
    "# Phase Sample"
   ]
  },
  {
   "cell_type": "markdown",
   "metadata": {},
   "source": [
    "1. name_list - list containing telemetry date strings\n",
    "2. fname_list - list containing path to telemetry files"
   ]
  },
  {
   "cell_type": "code",
   "execution_count": null,
   "metadata": {
    "collapsed": true
   },
   "outputs": [],
   "source": [
    "def path_manager(desktop_name):\n",
    "    \n",
    "    if desktop_name == 'gpi_cruncher':\n",
    "        rootdir = '/home/sda/mtallis/PhaseScripts/aotelem/Reduced/'\n",
    "        save_path = '/home/sda/mtallis/Results/c_Eri/'\n",
    "        samples_path = '/home/sda/mtallis/samples/c_Eri_samples.txt'\n",
    "    \n",
    "    if desktop_name == 'kipac':\n",
    "        rootdir = '/Users/MelisaT/Documents/Research/GPIDomeSeeing/data/Results/c_Eri/'\n",
    "        save_path = '/Users/MelisaT/Documents/Research/GPIDomeSeeing/data/Results/c_Eri/'\n",
    "        samples_path = '/Users/MelisaT/Documents/Research/GPIDomeSeeing/data/datatables/c_Eri_samples.txt'\n",
    "        \n",
    "    if desktop_name == 'laptop':\n",
    "        rootdir = '/Users/melisatallis/Documents/Research/GPIDomeSeeing/data/Results/c_Eri/'\n",
    "        save_path = '/Users/melisatallis/Documents/Research/GPIDomeSeeing/data/Results/c_Eri/'\n",
    "        samples_path = '/Users/melisatallis/Documents/Research/GPIDomeSeeing/data/Results/c_Eri/c_Eri_samples.txt'\n",
    "\n",
    "    dstr = time.strftime('%Y%m%d')\n",
    "    return rootdir,save_path, samples_path, dstr"
   ]
  },
  {
   "cell_type": "code",
   "execution_count": null,
   "metadata": {
    "collapsed": true
   },
   "outputs": [],
   "source": [
    "rootdir, save_path, samples_path, dstr = path_manager('gpi_cruncher')"
   ]
  },
  {
   "cell_type": "code",
   "execution_count": null,
   "metadata": {
    "collapsed": true
   },
   "outputs": [],
   "source": [
    "with open(samples_path,'r') as f:\n",
    "    sample = f.read().splitlines() #outputs as a list of strings"
   ]
  },
  {
   "cell_type": "code",
   "execution_count": null,
   "metadata": {
    "collapsed": true,
    "scrolled": true
   },
   "outputs": [],
   "source": [
    "fname_list = list()\n",
    "name_list = list()\n",
    "\n",
    "for i in sample:\n",
    "    for root, dirs, files in os.walk(rootdir):\n",
    "        for name in files:\n",
    "            (base,ext) = os.path.splitext(name)\n",
    "            if (ext in ('.fits')) and (i in base):\n",
    "                full_name = os.path.join(root,name)\n",
    "                #print(full_name)\n",
    "                fname_list.append(full_name)  \n",
    "                name_list.append(base[11:-12])"
   ]
  },
  {
   "cell_type": "markdown",
   "metadata": {},
   "source": [
    "# Analysis Functions"
   ]
  },
  {
   "cell_type": "markdown",
   "metadata": {},
   "source": [
    "1. processs_phase - Imports .fits & removes static aberrations in each phase  \n",
    "2. radialProfile - Computes mean inside each radial bin starting from center\n",
    "3. sp_power_spec - Computes time average of 2d DFT^2  \n",
    "4. temp_power_spec - Computes actuator timeseries DFT^2 and averages over aperture\n",
    "5. linear fit - fits a power law to psd. Behaves like a line in loglog space"
   ]
  },
  {
   "cell_type": "code",
   "execution_count": null,
   "metadata": {
    "collapsed": true
   },
   "outputs": [],
   "source": [
    "def process_phase(filepath):\n",
    "\n",
    "    hdulist = fits.open(filepath,memmap=True)\n",
    "    phase = hdulist[0].data.astype('float')\n",
    "    avg_phase = np.nanmean(phase*ap_nan,axis=0)  # used to find average zernikes \n",
    "\n",
    "    # remove zernikes form cube\n",
    "    z_basis = zernike.zernike_basis_faster(nterms= 6, npix = 48)\n",
    "    z_coeff = zernike.opd_expand_nonorthonormal(avg_phase, aperture=ap, nterms=6)\n",
    "    thin_lens = np.sum(z_coeff[:,None,None]*z_basis[:,:,:],axis=0)\n",
    "\n",
    "    c_phase = (phase - thin_lens[None,:,:])*ap_nan\n",
    "    c_phase[np.isnan(c_phase)]=0.\n",
    "    \n",
    "    return c_phase"
   ]
  },
  {
   "cell_type": "code",
   "execution_count": null,
   "metadata": {
    "collapsed": true
   },
   "outputs": [],
   "source": [
    "def radialProfile(image, center=None):\n",
    "    \"\"\"\n",
    "    Calculate the avearge radial profile.\n",
    "\n",
    "    image - The 2D image\n",
    "    center - The [x,y] pixel coordinates used as the center. The default is \n",
    "             None, which then uses the center of the image (including \n",
    "             fracitonal pixels).\n",
    "    \n",
    "    \"\"\"\n",
    "    ## Calculate the indices from the image\n",
    "    y,x = np.indices((image.shape)) # first determine radii of all pixels\n",
    "    \n",
    "    if not center:\n",
    "        center = np.array([(x.max()-x.min())/2.0, (y.max()-y.min())/2.0])\n",
    "     \n",
    "    r = np.hypot(x - center[0], y - center[1]).astype(np.int) \n",
    "    \n",
    "    n = np.bincount(r.ravel())\n",
    "    sy = np.bincount(r.ravel(), image.ravel())\n",
    "    mean = sy/n\n",
    "    \n",
    "    return mean"
   ]
  },
  {
   "cell_type": "code",
   "execution_count": null,
   "metadata": {
    "collapsed": true
   },
   "outputs": [],
   "source": [
    "def sp_power_spec(phase):    \n",
    "    \n",
    "    timesteps, phx, phy = phase.shape \n",
    "    phFT = np.zeros((timesteps,phx,phy), dtype=complex)\n",
    "    for t in np.arange(timesteps):\n",
    "        phFT[t,:,:] = fft.fftshift(fft.fft2(phase[t,:,:]))*5.55/ap.sum()\n",
    "    print('Done with FT')\n",
    "    \n",
    "    # compute 2d psd cube\n",
    "    psd2D = np.zeros((timesteps, phx, phy),dtype=float)\n",
    "    for k in np.arange(phx):\n",
    "        for l in np.arange(phy):\n",
    "            psd2D[:,k,l] = np.square(np.abs(phFT[:,k,l]))\n",
    "    \n",
    "    avg_psd2D = np.mean(psd2D, axis=0)\n",
    "    print('Done with PSD')    \n",
    "    \n",
    "    # compute radial average of 2d psd cube and frequency\n",
    "    avg_psd1D =  radialProfile(avg_psd2D)\n",
    "    \n",
    "    return avg_psd1D"
   ]
  },
  {
   "cell_type": "code",
   "execution_count": null,
   "metadata": {
    "collapsed": true
   },
   "outputs": [],
   "source": [
    "def temp_power_spec(Y,sample_spacing):\n",
    "    \n",
    "    n = len(Y)\n",
    "    dT = sample_spacing\n",
    "\n",
    "    w = signal.blackman(n)\n",
    "    P = np.fft.rfft(Y*w)\n",
    "    norm = 1000.0/n\n",
    "    P = P * norm\n",
    "\n",
    "    P2 = np.square(np.abs(P))\n",
    "    #k = np.fft.rfftfreq(n,dT)\n",
    "    \n",
    "    return P2"
   ]
  },
  {
   "cell_type": "code",
   "execution_count": null,
   "metadata": {
    "collapsed": true
   },
   "outputs": [],
   "source": [
    "def linear_fit(Y,k,param):\n",
    "    \n",
    "    if param == 'space':\n",
    "        par = np.polyfit(np.log10(k[(k>1./(3.0)) & (k<1./(1.0))]), np.log10(Y[(k>1./(3.0)) & (k<1./(1.0))]), 1)\n",
    "        \n",
    "    if param == 'time':\n",
    "        Y = Y.dropna()\n",
    "        n = Y.size\n",
    "        dT = .001\n",
    "        k = np.fft.fftfreq(n,dT)\n",
    "        par = np.polyfit(np.log10(k[(k>2.0)]), np.log10(Y[(k>2.0)]), 1)\n",
    "\n",
    "    slope = par[0]\n",
    "    intercept = par[1]\n",
    "    return slope,intercept    "
   ]
  },
  {
   "cell_type": "markdown",
   "metadata": {},
   "source": [
    "# Perform Analysis "
   ]
  },
  {
   "cell_type": "markdown",
   "metadata": {},
   "source": [
    "Define spatial frequencies (34 bins)"
   ]
  },
  {
   "cell_type": "code",
   "execution_count": null,
   "metadata": {
    "collapsed": true
   },
   "outputs": [],
   "source": [
    "k = radialProfile(kr)"
   ]
  },
  {
   "cell_type": "markdown",
   "metadata": {},
   "source": [
    "Store spatial PSD values in DataFrame for later analysis"
   ]
  },
  {
   "cell_type": "code",
   "execution_count": 130,
   "metadata": {
    "collapsed": false,
    "scrolled": true
   },
   "outputs": [
    {
     "name": "stdout",
     "output_type": "stream",
     "text": [
      "2014.12.17_23.47.47\n"
     ]
    },
    {
     "name": "stderr",
     "output_type": "stream",
     "text": [
      "/home/anaconda3/lib/python3.5/site-packages/ipykernel/__main__.py:5: RuntimeWarning: Mean of empty slice\n",
      "/home/anaconda3/lib/python3.5/site-packages/scipy/fftpack/basic.py:160: FutureWarning: Using a non-tuple sequence for multidimensional indexing is deprecated; use `arr[tuple(seq)]` instead of `arr[seq]`. In the future this will be interpreted as an array index, `arr[np.array(seq)]`, which will result either in an error or a different result.\n",
      "  z[index] = x\n"
     ]
    },
    {
     "name": "stdout",
     "output_type": "stream",
     "text": [
      "Done with FT\n",
      "Done with PSD\n",
      "2014.12.18_0.6.47\n",
      "Done with FT\n",
      "Done with PSD\n",
      "2015.1.28_22.8.6\n",
      "Done with FT\n",
      "Done with PSD\n",
      "2015.1.28_22.18.47\n",
      "Done with FT\n",
      "Done with PSD\n",
      "2015.1.28_22.42.46\n",
      "Done with FT\n",
      "Done with PSD\n",
      "2015.1.28_22.52.1\n",
      "Done with FT\n",
      "Done with PSD\n",
      "2015.1.28_23.10.27\n",
      "Done with FT\n",
      "Done with PSD\n",
      "2015.1.29_21.37.53\n",
      "Done with FT\n",
      "Done with PSD\n",
      "2015.1.29_21.54.49\n",
      "Done with FT\n",
      "Done with PSD\n",
      "2015.1.29_22.30.16\n",
      "Done with FT\n",
      "Done with PSD\n",
      "2015.1.30_21.41.53\n",
      "Done with FT\n",
      "Done with PSD\n",
      "2015.1.30_22.22.15\n",
      "Done with FT\n",
      "Done with PSD\n",
      "2015.1.30_22.36.5\n",
      "Done with FT\n",
      "Done with PSD\n",
      "2015.1.30_23.9.21\n",
      "Done with FT\n",
      "Done with PSD\n",
      "2015.8.30_6.31.37\n",
      "Done with FT\n",
      "Done with PSD\n",
      "2015.8.30_6.47.34\n",
      "Done with FT\n",
      "Done with PSD\n",
      "2015.8.30_6.58.42\n",
      "Done with FT\n",
      "Done with PSD\n",
      "2015.8.30_7.13.12\n",
      "Done with FT\n",
      "Done with PSD\n",
      "2015.8.30_7.33.49\n",
      "Done with FT\n",
      "Done with PSD\n",
      "2015.8.31_6.47.24\n",
      "Done with FT\n",
      "Done with PSD\n",
      "2015.8.31_6.58.19\n",
      "Done with FT\n",
      "Done with PSD\n",
      "2015.8.31_7.10.3\n",
      "Done with FT\n",
      "Done with PSD\n",
      "2015.8.31_7.22.9\n",
      "Done with FT\n",
      "Done with PSD\n",
      "2015.8.31_7.39.0\n",
      "Done with FT\n",
      "Done with PSD\n",
      "2015.9.1_5.41.31\n",
      "Done with FT\n",
      "Done with PSD\n",
      "2015.9.1_5.44.29\n",
      "Done with FT\n",
      "Done with PSD\n",
      "2015.9.1_5.56.16\n",
      "Done with FT\n",
      "Done with PSD\n",
      "2015.9.1_6.2.31\n",
      "Done with FT\n",
      "Done with PSD\n",
      "2015.9.1_6.10.44\n",
      "Done with FT\n",
      "Done with PSD\n",
      "2015.9.1_6.16.53\n",
      "Done with FT\n",
      "Done with PSD\n",
      "2015.9.1_6.28.6\n",
      "Done with FT\n",
      "Done with PSD\n",
      "2015.9.1_6.36.5\n",
      "Done with FT\n",
      "Done with PSD\n",
      "2015.9.1_6.53.10\n",
      "Done with FT\n",
      "Done with PSD\n",
      "2015.9.1_7.4.0\n",
      "Done with FT\n",
      "Done with PSD\n",
      "2015.9.1_7.13.49\n",
      "Done with FT\n",
      "Done with PSD\n",
      "2015.9.1_7.15.2\n",
      "Done with FT\n",
      "Done with PSD\n",
      "2015.9.1_7.25.12\n",
      "Done with FT\n",
      "Done with PSD\n",
      "2015.9.1_7.35.17\n",
      "Done with FT\n",
      "Done with PSD\n",
      "2015.11.5_5.37.38\n",
      "Done with FT\n",
      "Done with PSD\n",
      "2015.11.5_5.43.35\n",
      "Done with FT\n",
      "Done with PSD\n",
      "2015.11.5_5.50.51\n",
      "Done with FT\n",
      "Done with PSD\n",
      "2015.11.5_5.55.26\n",
      "Done with FT\n",
      "Done with PSD\n",
      "2015.11.5_5.58.56\n",
      "Done with FT\n",
      "Done with PSD\n",
      "2015.11.5_6.3.7\n",
      "Done with FT\n",
      "Done with PSD\n",
      "2015.11.6_1.51.52\n",
      "Done with FT\n",
      "Done with PSD\n",
      "2015.11.6_1.59.20\n",
      "Done with FT\n",
      "Done with PSD\n",
      "2015.11.6_2.6.21\n",
      "Done with FT\n",
      "Done with PSD\n",
      "2015.11.6_2.13.25\n",
      "Done with FT\n",
      "Done with PSD\n",
      "2015.11.6_2.19.5\n",
      "Done with FT\n",
      "Done with PSD\n",
      "2015.11.6_2.21.11\n",
      "Done with FT\n",
      "Done with PSD\n",
      "2015.11.6_2.29.32\n",
      "Done with FT\n",
      "Done with PSD\n",
      "2015.11.6_2.35.25\n",
      "Done with FT\n",
      "Done with PSD\n",
      "2015.11.6_2.38.12\n",
      "Done with FT\n",
      "Done with PSD\n",
      "2015.11.6_2.41.33\n",
      "Done with FT\n",
      "Done with PSD\n",
      "2015.11.6_2.45.24\n",
      "Done with FT\n",
      "Done with PSD\n",
      "2015.11.6_2.48.59\n",
      "Done with FT\n",
      "Done with PSD\n",
      "2015.11.6_2.51.54\n",
      "Done with FT\n",
      "Done with PSD\n",
      "2015.11.6_2.54.55\n",
      "Done with FT\n",
      "Done with PSD\n",
      "2015.11.6_2.56.23\n",
      "Done with FT\n",
      "Done with PSD\n",
      "2015.11.6_2.57.54\n",
      "Done with FT\n",
      "Done with PSD\n",
      "2015.11.6_2.59.37\n",
      "Done with FT\n",
      "Done with PSD\n",
      "2015.12.17_23.52.45\n",
      "Done with FT\n",
      "Done with PSD\n",
      "2015.12.18_0.19.36\n",
      "Done with FT\n",
      "Done with PSD\n",
      "2015.12.18_1.2.37\n",
      "Done with FT\n",
      "Done with PSD\n",
      "2015.12.18_1.16.45\n",
      "Done with FT\n",
      "Done with PSD\n",
      "2015.12.18_1.23.57\n",
      "Done with FT\n",
      "Done with PSD\n",
      "2015.12.18_2.26.3\n",
      "Done with FT\n",
      "Done with PSD\n",
      "2015.12.18_2.40.25\n",
      "Done with FT\n",
      "Done with PSD\n",
      "2015.12.18_2.53.16\n",
      "Done with FT\n",
      "Done with PSD\n",
      "2015.12.18_3.4.50\n",
      "Done with FT\n",
      "Done with PSD\n",
      "2015.12.18_3.8.16\n",
      "Done with FT\n",
      "Done with PSD\n",
      "2015.12.19_23.12.49\n",
      "Done with FT\n",
      "Done with PSD\n",
      "2015.12.19_23.18.24\n",
      "Done with FT\n",
      "Done with PSD\n",
      "2015.12.19_23.37.11\n",
      "Done with FT\n",
      "Done with PSD\n",
      "2015.12.19_23.42.57\n",
      "Done with FT\n",
      "Done with PSD\n",
      "2015.12.19_23.49.13\n",
      "Done with FT\n",
      "Done with PSD\n",
      "2015.12.19_23.56.16\n",
      "Done with FT\n",
      "Done with PSD\n",
      "2015.12.20_0.13.29\n",
      "Done with FT\n",
      "Done with PSD\n",
      "2015.12.20_0.19.39\n",
      "Done with FT\n",
      "Done with PSD\n",
      "2015.12.20_0.26.25\n",
      "Done with FT\n",
      "Done with PSD\n",
      "2015.12.20_0.33.2\n",
      "Done with FT\n",
      "Done with PSD\n",
      "2015.12.20_0.38.55\n",
      "Done with FT\n",
      "Done with PSD\n",
      "2015.12.20_0.50.18\n",
      "Done with FT\n",
      "Done with PSD\n",
      "2015.12.20_1.11.8\n",
      "Done with FT\n",
      "Done with PSD\n",
      "2015.12.20_1.17.29\n",
      "Done with FT\n",
      "Done with PSD\n",
      "2015.12.20_1.23.20\n",
      "Done with FT\n",
      "Done with PSD\n",
      "2015.12.20_1.29.15\n",
      "Done with FT\n",
      "Done with PSD\n",
      "2015.12.20_1.35.22\n",
      "Done with FT\n",
      "Done with PSD\n",
      "2015.12.20_2.15.12\n",
      "Done with FT\n",
      "Done with PSD\n",
      "2015.12.20_2.40.33\n",
      "Done with FT\n",
      "Done with PSD\n",
      "2015.12.20_2.52.17\n",
      "Done with FT\n",
      "Done with PSD\n",
      "2016.1.24_21.16.13\n",
      "Done with FT\n",
      "Done with PSD\n",
      "2016.1.24_21.46.21\n",
      "Done with FT\n",
      "Done with PSD\n",
      "2016.1.24_21.57.25\n",
      "Done with FT\n",
      "Done with PSD\n",
      "2016.1.24_22.5.10\n",
      "Done with FT\n",
      "Done with PSD\n",
      "2016.1.27_21.8.1\n",
      "Done with FT\n",
      "Done with PSD\n",
      "2016.1.27_21.20.43\n",
      "Done with FT\n",
      "Done with PSD\n",
      "2016.1.27_21.29.8\n",
      "Done with FT\n",
      "Done with PSD\n",
      "2016.1.27_21.51.22\n",
      "Done with FT\n",
      "Done with PSD\n",
      "2016.1.27_22.2.27\n",
      "Done with FT\n",
      "Done with PSD\n",
      "2016.1.27_22.11.6\n",
      "Done with FT\n",
      "Done with PSD\n",
      "2016.1.27_22.27.18\n",
      "Done with FT\n",
      "Done with PSD\n",
      "2016.1.27_22.47.51\n",
      "Done with FT\n",
      "Done with PSD\n",
      "2016.1.27_22.55.47\n",
      "Done with FT\n",
      "Done with PSD\n",
      "2016.9.18_5.27.44\n",
      "Done with FT\n",
      "Done with PSD\n",
      "2016.9.18_5.38.20\n",
      "Done with FT\n",
      "Done with PSD\n",
      "2016.9.18_5.49.31\n",
      "Done with FT\n",
      "Done with PSD\n",
      "2016.9.18_5.59.42\n",
      "Done with FT\n",
      "Done with PSD\n",
      "2016.9.18_6.23.59\n",
      "Done with FT\n",
      "Done with PSD\n",
      "2016.9.18_6.43.52\n",
      "Done with FT\n",
      "Done with PSD\n",
      "2016.9.18_6.52.15\n",
      "Done with FT\n",
      "Done with PSD\n",
      "2016.9.18_7.12.46\n",
      "Done with FT\n",
      "Done with PSD\n",
      "2016.9.21_5.6.30\n",
      "Done with FT\n",
      "Done with PSD\n",
      "2016.9.21_5.15.49\n",
      "Done with FT\n",
      "Done with PSD\n",
      "2016.9.21_5.22.22\n",
      "Done with FT\n",
      "Done with PSD\n",
      "2016.9.21_5.29.42\n",
      "Done with FT\n",
      "Done with PSD\n",
      "2016.9.21_5.36.40\n",
      "Done with FT\n",
      "Done with PSD\n",
      "2016.9.21_5.42.42\n",
      "Done with FT\n",
      "Done with PSD\n",
      "2016.9.21_5.49.42\n",
      "Done with FT\n",
      "Done with PSD\n",
      "2016.9.21_5.57.32\n",
      "Done with FT\n",
      "Done with PSD\n",
      "2016.9.21_6.5.17\n",
      "Done with FT\n",
      "Done with PSD\n",
      "2016.9.21_6.13.32\n",
      "Done with FT\n",
      "Done with PSD\n",
      "2016.9.21_6.26.3\n",
      "Done with FT\n",
      "Done with PSD\n",
      "2016.9.21_6.32.4\n",
      "Done with FT\n",
      "Done with PSD\n",
      "2016.9.21_6.44.44\n",
      "Done with FT\n",
      "Done with PSD\n",
      "2016.9.21_6.53.4\n",
      "Done with FT\n",
      "Done with PSD\n",
      "2016.9.21_7.0.50\n",
      "Done with FT\n",
      "Done with PSD\n",
      "2016.12.16_23.30.11\n",
      "Done with FT\n",
      "Done with PSD\n",
      "2016.12.16_23.53.3\n",
      "Done with FT\n",
      "Done with PSD\n",
      "2016.12.17_0.6.30\n",
      "Done with FT\n",
      "Done with PSD\n",
      "2016.12.17_1.2.13\n",
      "Done with FT\n",
      "Done with PSD\n",
      "2017.11.11_2.43.6\n",
      "Done with FT\n",
      "Done with PSD\n",
      "2017.11.11_3.0.14\n",
      "Done with FT\n",
      "Done with PSD\n",
      "2017.11.11_3.6.1\n",
      "Done with FT\n",
      "Done with PSD\n",
      "2017.11.11_3.14.54\n",
      "Done with FT\n",
      "Done with PSD\n",
      "2017.11.11_3.17.14\n",
      "Done with FT\n",
      "Done with PSD\n",
      "2017.11.11_3.21.22\n",
      "Done with FT\n",
      "Done with PSD\n",
      "2017.11.11_3.25.46\n",
      "Done with FT\n",
      "Done with PSD\n",
      "2017.11.11_3.32.49\n",
      "Done with FT\n",
      "Done with PSD\n",
      "2017.11.11_3.34.15\n",
      "Done with FT\n",
      "Done with PSD\n",
      "2017.11.11_3.39.24\n",
      "Done with FT\n",
      "Done with PSD\n",
      "2017.11.11_3.41.15\n",
      "Done with FT\n",
      "Done with PSD\n"
     ]
    }
   ],
   "source": [
    "df_sp_psd = pd.DataFrame(columns = name_list)\n",
    "\n",
    "i=0\n",
    "for file in fname_list:\n",
    "    print(name_list[i])\n",
    "    y_2D = process_phase(file)\n",
    "    y_psd = sp_power_spec(y_2D)\n",
    "    df_sp_psd[name_list[i]] = y_psd\n",
    "    i=i+1"
   ]
  },
  {
   "cell_type": "code",
   "execution_count": 131,
   "metadata": {
    "collapsed": true
   },
   "outputs": [],
   "source": [
    "df_sp_psd.to_csv(save_path+'sp_psd'+'_'+dstr+'.txt')"
   ]
  },
  {
   "cell_type": "markdown",
   "metadata": {},
   "source": [
    "Store temporal PSD values in DataFrame for later analysis.\n",
    "Key = 'telemetry date'\n",
    "columns = 'kt' & 't_psd' (Note varying timeseries lengths) "
   ]
  },
  {
   "cell_type": "code",
   "execution_count": null,
   "metadata": {
    "collapsed": false,
    "scrolled": true
   },
   "outputs": [],
   "source": [
    "df_t_psd = pd.DataFrame()\n",
    "\n",
    "i=0\n",
    "for file in fname_list:\n",
    "    y_2D = process_phase(file)\n",
    "    y_1D = np.mean(y_2D,axis=(1,2))\n",
    "    y_psd = temp_power_spec(y_1D,.001)\n",
    "    y_smoothed = 10**signal.savgol_filter(np.log10(y_psd), 101, 5)\n",
    "    #df_t_psd[name_list[i],'dts'] = pd.to_datetime(name_list[i],format='%Y.%m.%d_%H.%M.%S',utc=True)\n",
    "    new_df = pd.DataFrame({name_list[i]:y_smoothed})\n",
    "    df_t_psd = pd.concat([df_t_psd,new_df],axis=1)\n",
    "    print(name_list[i])\n",
    "    i=i+1"
   ]
  },
  {
   "cell_type": "code",
   "execution_count": null,
   "metadata": {
    "collapsed": false
   },
   "outputs": [],
   "source": [
    "df_t_psd"
   ]
  },
  {
   "cell_type": "code",
   "execution_count": null,
   "metadata": {
    "collapsed": false
   },
   "outputs": [],
   "source": [
    "%matplotlib notebook\n",
    "\n",
    "df_t_psd['kt'] = np.fft.fftfreq(len(df_t_psd),.001)\n",
    "df_t_psd.plot(logx=True,logy=True)"
   ]
  },
  {
   "cell_type": "code",
   "execution_count": null,
   "metadata": {
    "collapsed": true,
    "scrolled": true
   },
   "outputs": [],
   "source": [
    "df_t_psd.to_csv(save_path+'t_psd'+'_'+dstr+'.txt')"
   ]
  },
  {
   "cell_type": "markdown",
   "metadata": {},
   "source": [
    "# Grouping of samples "
   ]
  },
  {
   "cell_type": "markdown",
   "metadata": {},
   "source": [
    "read in spatial or temporal psd samples"
   ]
  },
  {
   "cell_type": "code",
   "execution_count": null,
   "metadata": {
    "collapsed": true
   },
   "outputs": [],
   "source": [
    "#df_sp_psd = pd.read_csv(save_path+'sp_psd_20190303.txt',index_col=0)\n",
    "df_t_psd = pd.read_csv(save_path+'t_psd_20190312.txt',index_col=0)"
   ]
  },
  {
   "cell_type": "markdown",
   "metadata": {},
   "source": [
    "Put dates into night groups"
   ]
  },
  {
   "cell_type": "code",
   "execution_count": null,
   "metadata": {
    "collapsed": true
   },
   "outputs": [],
   "source": [
    "df = pd.DataFrame({'fname_list':fname_list,'name_list':name_list})\n",
    "df['dts'] = pd.to_datetime(df['name_list'],format='%Y.%m.%d_%H.%M.%S',utc=True)\n",
    "df['delta_t'] = df['dts']-df['dts'].shift(1)\n",
    "df.loc[0,'delta_t'] = pd.Timedelta(0)\n",
    "\n",
    "def bin_f(row):\n",
    "    if row['delta_t'] > pd.Timedelta('20H'):\n",
    "        return row['dts'].date()\n",
    "    \n",
    "df['bin']=df.apply(bin_f,axis = 1)\n",
    "df.loc[0:1,'bin']=df.loc[0,'dts'].date()\n",
    "df['bin']=df['bin'].fillna(method='ffill')\n",
    "g_df = df.groupby('bin')"
   ]
  },
  {
   "cell_type": "markdown",
   "metadata": {},
   "source": [
    "Create a dataframe with the average psd measured in each night window. Column names contain date at the start of the night "
   ]
  },
  {
   "cell_type": "code",
   "execution_count": 132,
   "metadata": {
    "collapsed": true
   },
   "outputs": [],
   "source": [
    "df_avg_sp_psd = pd.DataFrame()\n",
    "\n",
    "for name,group in g_df:\n",
    "    df_avg_sp_psd.loc[:,str(name)] = df_sp_psd.loc[:,group['name_list'].tolist()].mean(axis=1)"
   ]
  },
  {
   "cell_type": "code",
   "execution_count": 133,
   "metadata": {
    "collapsed": true
   },
   "outputs": [],
   "source": [
    "df_avg_sp_psd.to_csv(save_path+'avg_sp_psd_'+dstr+'.txt')"
   ]
  },
  {
   "cell_type": "code",
   "execution_count": null,
   "metadata": {
    "collapsed": true
   },
   "outputs": [],
   "source": [
    "df_avg_t_psd = pd.DataFrame()\n",
    "\n",
    "for name,group in g_df:\n",
    "    df_avg_t_psd.loc[:,str(name)] = df_t_psd.loc[:,group['name_list'].tolist()].mean(axis=1)"
   ]
  },
  {
   "cell_type": "code",
   "execution_count": null,
   "metadata": {
    "collapsed": true,
    "scrolled": true
   },
   "outputs": [],
   "source": [
    "df_avg_t_psd.to_csv(save_path+'avg_t_psd_'+dstr+'.txt')"
   ]
  },
  {
   "cell_type": "markdown",
   "metadata": {},
   "source": [
    "# Read in avg psd dataframes"
   ]
  },
  {
   "cell_type": "code",
   "execution_count": null,
   "metadata": {
    "collapsed": true
   },
   "outputs": [],
   "source": [
    "df_avg_sp_psd = pd.read_csv(save_path+'avg_sp_psd_20190308.txt',index_col=0)\n",
    "df_avg_t_psd = pd.read_csv(save_path+'avg_t_psd_20190308.txt',index_col=0)"
   ]
  },
  {
   "cell_type": "code",
   "execution_count": null,
   "metadata": {
    "collapsed": true
   },
   "outputs": [],
   "source": [
    "df_avg_t_psd['kt'] = np.fft.fftfreq(len(df_avg_t_psd),.001)\n",
    "df_avg_sp_psd['ks'] = k"
   ]
  },
  {
   "cell_type": "markdown",
   "metadata": {},
   "source": [
    "# Fit power law to avg PSDs"
   ]
  },
  {
   "cell_type": "code",
   "execution_count": null,
   "metadata": {
    "collapsed": true
   },
   "outputs": [],
   "source": [
    "df_linear_fit_psd = pd.DataFrame(columns=['sp_psd','t_psd'])\n",
    "df_linear_fit_psd['sp_psd'] = df_avg_sp_psd.apply(linear_fit, k=df_avg_sp_psd['ks'], param='space',axis = 0)"
   ]
  },
  {
   "cell_type": "code",
   "execution_count": null,
   "metadata": {
    "collapsed": true,
    "scrolled": true
   },
   "outputs": [],
   "source": [
    "df_linear_fit_psd['t_psd'] = df_avg_t_psd.apply(linear_fit, k=None, param='time',axis = 0)"
   ]
  },
  {
   "cell_type": "code",
   "execution_count": null,
   "metadata": {
    "collapsed": true
   },
   "outputs": [],
   "source": [
    "df_linear_fit_psd.loc[['2016-09-18','2016-09-21']]"
   ]
  },
  {
   "cell_type": "markdown",
   "metadata": {},
   "source": [
    "# Plot PSDs"
   ]
  },
  {
   "cell_type": "code",
   "execution_count": null,
   "metadata": {
    "collapsed": true
   },
   "outputs": [],
   "source": [
    "m_sp_2016_09_18, int_sp_2016_09_18 = df_linear_fit_psd.loc[['2016-09-18']]['sp_psd'][0]\n",
    "m_sp_2016_09_21, int_sp_2016_09_21 = df_linear_fit_psd.loc[['2016-09-21']]['sp_psd'][0]"
   ]
  },
  {
   "cell_type": "code",
   "execution_count": null,
   "metadata": {
    "collapsed": true,
    "scrolled": false
   },
   "outputs": [],
   "source": [
    "%matplotlib notebook\n",
    "\n",
    "df_avg_sp_psd.loc[:,['ks','2016-09-18','2016-09-21']].plot(x='ks',logx=True,logy=True,cmap=plt.cm.bwr)\n",
    "plt.loglog(k[(k>1./(3.0)) & (k<1./(1.0))], (10**int_sp_2016_09_18)*k[(k>1./(3.0)) & (k<1./(1.0))]**m_sp_2016_09_18)\n",
    "\n",
    "\n",
    "\n",
    "df_avg_t_psd.loc[:,['kt','2016-09-18','2016-09-21']].plot(x='kt',logx=True,logy=True,cmap=plt.cm.bwr)\n",
    "plt.axvline(x=1.,linestyle='--',color='silver')\n",
    "plt.axvline(x=30.,linestyle='--',color='silver')\n"
   ]
  },
  {
   "cell_type": "markdown",
   "metadata": {},
   "source": [
    "Plotting of PSDs"
   ]
  },
  {
   "cell_type": "code",
   "execution_count": null,
   "metadata": {
    "collapsed": true
   },
   "outputs": [],
   "source": [
    "m, intercept = linear_fit(kt,y_smoothed,time = True, space = False)\n",
    "plt.loglog(kt,y_smoothed, label = name_list[i])\n",
    "plt.loglog(kt[kt>1.0], (10**intercept)*kt[kt>1.]**-1*m)\n",
    "\n",
    "plt.grid(axis='both')\n",
    "plt.axvline(x=1)\n",
    "plt.legend()"
   ]
  },
  {
   "cell_type": "markdown",
   "metadata": {},
   "source": [
    "# Quick check of standard deviation"
   ]
  },
  {
   "cell_type": "code",
   "execution_count": null,
   "metadata": {
    "collapsed": true
   },
   "outputs": [],
   "source": [
    "for file in fname_list:\n",
    "    y_2D = process_phase(file)"
   ]
  }
 ],
 "metadata": {
  "anaconda-cloud": {},
  "kernelspec": {
   "display_name": "Python [anaconda3]",
   "language": "python",
   "name": "Python [anaconda3]"
  },
  "language_info": {
   "codemirror_mode": {
    "name": "ipython",
    "version": 3
   },
   "file_extension": ".py",
   "mimetype": "text/x-python",
   "name": "python",
   "nbconvert_exporter": "python",
   "pygments_lexer": "ipython3",
   "version": "3.5.6"
  }
 },
 "nbformat": 4,
 "nbformat_minor": 1
}
