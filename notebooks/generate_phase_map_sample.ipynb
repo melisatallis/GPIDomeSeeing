{
 "cells": [
  {
   "cell_type": "markdown",
   "metadata": {},
   "source": [
    "# Import modules"
   ]
  },
  {
   "cell_type": "code",
   "execution_count": 17,
   "metadata": {
    "collapsed": true
   },
   "outputs": [],
   "source": [
    "import numpy as np\n",
    "import pandas as pd\n",
    "import matplotlib.pyplot as plt\n",
    "import matplotlib.dates as mdates\n",
    "import copy\n",
    "import pytz\n",
    "import datetime \n",
    "import astral\n",
    "import astropy.time as aptime\n",
    "import os\n",
    "import glob"
   ]
  },
  {
   "cell_type": "markdown",
   "metadata": {},
   "source": [
    "# Read in text files"
   ]
  },
  {
   "cell_type": "code",
   "execution_count": 28,
   "metadata": {
    "collapsed": false
   },
   "outputs": [
    {
     "name": "stdout",
     "output_type": "stream",
     "text": [
      "1310\n"
     ]
    }
   ],
   "source": [
    "#txt_file1 = pd.read_csv('IFS_AllOnSky_RawDistorcorr_aotelem_CleanSee30_20190226.txt')\n",
    "txt_file1= pd.read_csv('IFS_AllOnSky_RawDistorcorr_aotelem_CleanSee30_20190227.txt')\n",
    "txt_file1_copy = copy.copy(txt_file1)\n",
    "raw_contrast_data= pd.DataFrame(txt_file1_copy)\n",
    "print len(raw_contrast_data)\n",
    "\n",
    "raw_contrast_data['dts'] = aptime.Time(raw_contrast_data['MJDOBS'], format='mjd').datetime \n",
    "raw_contrast_data['dts'] = raw_contrast_data['dts'].dt.tz_localize(pytz.UTC)"
   ]
  },
  {
   "cell_type": "code",
   "execution_count": 29,
   "metadata": {
    "collapsed": false
   },
   "outputs": [
    {
     "data": {
      "text/html": [
       "<div>\n",
       "<table border=\"1\" class=\"dataframe\">\n",
       "  <thead>\n",
       "    <tr style=\"text-align: right;\">\n",
       "      <th></th>\n",
       "      <th>IMAG</th>\n",
       "      <th>AOWFE</th>\n",
       "      <th>MJDOBS</th>\n",
       "      <th>COADDS</th>\n",
       "      <th>DATAFILE</th>\n",
       "      <th>OBSMODE</th>\n",
       "      <th>CONTR040</th>\n",
       "      <th>phase_file</th>\n",
       "      <th>OBJNAME</th>\n",
       "      <th>whenstr</th>\n",
       "      <th>TAMBIENT</th>\n",
       "      <th>OMSATEMP</th>\n",
       "      <th>MASSSEE</th>\n",
       "      <th>MASSTAU</th>\n",
       "      <th>DIMMSEE</th>\n",
       "      <th>dts</th>\n",
       "    </tr>\n",
       "  </thead>\n",
       "  <tbody>\n",
       "    <tr>\n",
       "      <th>0</th>\n",
       "      <td>4.65</td>\n",
       "      <td>134.30</td>\n",
       "      <td>56971.152107</td>\n",
       "      <td>1</td>\n",
       "      <td>S20141110S0149.fits</td>\n",
       "      <td>H_coron</td>\n",
       "      <td>0.000081</td>\n",
       "      <td>ugp_When_2014.11.10_0.38.9_phase</td>\n",
       "      <td>HR 789</td>\n",
       "      <td>20141110003809</td>\n",
       "      <td>12.0</td>\n",
       "      <td>13.7188</td>\n",
       "      <td>NaN</td>\n",
       "      <td>NaN</td>\n",
       "      <td>NaN</td>\n",
       "      <td>2014-11-10 03:39:02.036160+00:00</td>\n",
       "    </tr>\n",
       "    <tr>\n",
       "      <th>1</th>\n",
       "      <td>4.65</td>\n",
       "      <td>134.30</td>\n",
       "      <td>56971.152107</td>\n",
       "      <td>1</td>\n",
       "      <td>S20141110S0149.fits</td>\n",
       "      <td>H_coron</td>\n",
       "      <td>0.000081</td>\n",
       "      <td>ugp_When_2014.11.10_0.39.7_phase</td>\n",
       "      <td>HR 789</td>\n",
       "      <td>20141110003907</td>\n",
       "      <td>12.0</td>\n",
       "      <td>13.7143</td>\n",
       "      <td>NaN</td>\n",
       "      <td>NaN</td>\n",
       "      <td>NaN</td>\n",
       "      <td>2014-11-10 03:39:02.036160+00:00</td>\n",
       "    </tr>\n",
       "    <tr>\n",
       "      <th>2</th>\n",
       "      <td>4.65</td>\n",
       "      <td>129.40</td>\n",
       "      <td>56971.152992</td>\n",
       "      <td>1</td>\n",
       "      <td>S20141110S0150.fits</td>\n",
       "      <td>H_coron</td>\n",
       "      <td>0.000098</td>\n",
       "      <td>ugp_When_2014.11.10_0.40.2_phase</td>\n",
       "      <td>HR 789</td>\n",
       "      <td>20141110004002</td>\n",
       "      <td>12.0</td>\n",
       "      <td>13.7143</td>\n",
       "      <td>NaN</td>\n",
       "      <td>NaN</td>\n",
       "      <td>NaN</td>\n",
       "      <td>2014-11-10 03:40:18.526079+00:00</td>\n",
       "    </tr>\n",
       "    <tr>\n",
       "      <th>3</th>\n",
       "      <td>4.65</td>\n",
       "      <td>131.83</td>\n",
       "      <td>56971.153902</td>\n",
       "      <td>1</td>\n",
       "      <td>S20141110S0151.fits</td>\n",
       "      <td>H_coron</td>\n",
       "      <td>0.000086</td>\n",
       "      <td>ugp_When_2014.11.10_0.41.2_phase</td>\n",
       "      <td>HR 789</td>\n",
       "      <td>20141110004102</td>\n",
       "      <td>12.0</td>\n",
       "      <td>13.7143</td>\n",
       "      <td>NaN</td>\n",
       "      <td>NaN</td>\n",
       "      <td>NaN</td>\n",
       "      <td>2014-11-10 03:41:37.158720+00:00</td>\n",
       "    </tr>\n",
       "    <tr>\n",
       "      <th>4</th>\n",
       "      <td>4.65</td>\n",
       "      <td>131.83</td>\n",
       "      <td>56971.153902</td>\n",
       "      <td>1</td>\n",
       "      <td>S20141110S0151.fits</td>\n",
       "      <td>H_coron</td>\n",
       "      <td>0.000086</td>\n",
       "      <td>ugp_When_2014.11.10_0.41.49_phase</td>\n",
       "      <td>HR 789</td>\n",
       "      <td>20141110004149</td>\n",
       "      <td>12.0</td>\n",
       "      <td>13.7143</td>\n",
       "      <td>NaN</td>\n",
       "      <td>NaN</td>\n",
       "      <td>NaN</td>\n",
       "      <td>2014-11-10 03:41:37.158720+00:00</td>\n",
       "    </tr>\n",
       "  </tbody>\n",
       "</table>\n",
       "</div>"
      ],
      "text/plain": [
       "   IMAG   AOWFE        MJDOBS  COADDS             DATAFILE  OBSMODE  CONTR040  \\\n",
       "0  4.65  134.30  56971.152107       1  S20141110S0149.fits  H_coron  0.000081   \n",
       "1  4.65  134.30  56971.152107       1  S20141110S0149.fits  H_coron  0.000081   \n",
       "2  4.65  129.40  56971.152992       1  S20141110S0150.fits  H_coron  0.000098   \n",
       "3  4.65  131.83  56971.153902       1  S20141110S0151.fits  H_coron  0.000086   \n",
       "4  4.65  131.83  56971.153902       1  S20141110S0151.fits  H_coron  0.000086   \n",
       "\n",
       "                          phase_file OBJNAME         whenstr  TAMBIENT  \\\n",
       "0   ugp_When_2014.11.10_0.38.9_phase  HR 789  20141110003809      12.0   \n",
       "1   ugp_When_2014.11.10_0.39.7_phase  HR 789  20141110003907      12.0   \n",
       "2   ugp_When_2014.11.10_0.40.2_phase  HR 789  20141110004002      12.0   \n",
       "3   ugp_When_2014.11.10_0.41.2_phase  HR 789  20141110004102      12.0   \n",
       "4  ugp_When_2014.11.10_0.41.49_phase  HR 789  20141110004149      12.0   \n",
       "\n",
       "   OMSATEMP  MASSSEE  MASSTAU  DIMMSEE                              dts  \n",
       "0   13.7188      NaN      NaN      NaN 2014-11-10 03:39:02.036160+00:00  \n",
       "1   13.7143      NaN      NaN      NaN 2014-11-10 03:39:02.036160+00:00  \n",
       "2   13.7143      NaN      NaN      NaN 2014-11-10 03:40:18.526079+00:00  \n",
       "3   13.7143      NaN      NaN      NaN 2014-11-10 03:41:37.158720+00:00  \n",
       "4   13.7143      NaN      NaN      NaN 2014-11-10 03:41:37.158720+00:00  "
      ]
     },
     "execution_count": 29,
     "metadata": {},
     "output_type": "execute_result"
    }
   ],
   "source": [
    "raw_contrast_data.head()"
   ]
  },
  {
   "cell_type": "code",
   "execution_count": 4,
   "metadata": {
    "collapsed": false
   },
   "outputs": [
    {
     "name": "stdout",
     "output_type": "stream",
     "text": [
      "2566\n"
     ]
    }
   ],
   "source": [
    "txt_file2 = pd.read_csv('AO_telem_20180207.txt')\n",
    "txt_file2_copy = copy.copy(txt_file2)\n",
    "ao_telem_data = pd.DataFrame(txt_file2_copy)\n",
    "print len(ao_telem_data)\n",
    "\n",
    "ao_telem_data['dts'] = pd.to_datetime(ao_telem_data['whenstr'], utc=True, format = '%Y%m%d%H%M%S')\n",
    "ao_telem_data['dts'] = ao_telem_data['dts'].dt.tz_convert(pytz.UTC)\n",
    "ao_telem_data['whenstr'] = ao_telem_data['whenstr'].astype('str')\n",
    "\n",
    "#phase filename\n",
    "ao_telem_data['phase_file'] = 'When_' \n",
    "ao_telem_data['phase_file'] = ao_telem_data['phase_file'] + ao_telem_data.loc[:,'dts'].dt.strftime('%Y.%-m.%-d_%-H.%-M.%-S')\n",
    "\n",
    "#phase directory \n",
    "ao_telem_data['phase_dir'] = ao_telem_data.loc[:,'whenstr'].str[0:8]"
   ]
  },
  {
   "cell_type": "markdown",
   "metadata": {},
   "source": [
    "# Merge IFS data with AO telemetry"
   ]
  },
  {
   "cell_type": "markdown",
   "metadata": {},
   "source": [
    "Fill missing IFS data with nan"
   ]
  },
  {
   "cell_type": "code",
   "execution_count": 63,
   "metadata": {
    "collapsed": true
   },
   "outputs": [],
   "source": [
    "ao_telem_raw_IFS_data =  pd.merge_asof(ao_telem_data, raw_contrast_data, by='OBJNAME',on='dts',tolerance=pd.Timedelta('1min'))"
   ]
  },
  {
   "cell_type": "code",
   "execution_count": 64,
   "metadata": {
    "collapsed": false,
    "scrolled": true
   },
   "outputs": [
    {
     "name": "stdout",
     "output_type": "stream",
     "text": [
      "2566\n",
      "4\n",
      "2566\n"
     ]
    }
   ],
   "source": [
    "print len(ao_telem_raw_IFS_data)\n",
    "print sum(np.isfinite(ao_telem_raw_IFS_data['MASSTAU']))\n",
    "print sum(np.isfinite(ao_telem_raw_IFS_data['WFE']))"
   ]
  },
  {
   "cell_type": "markdown",
   "metadata": {},
   "source": [
    "# Output into a list of files"
   ]
  },
  {
   "cell_type": "code",
   "execution_count": 4,
   "metadata": {
    "collapsed": true
   },
   "outputs": [],
   "source": [
    "phase_samples = raw_contrast_data.loc[:,'phase_file']\n",
    "phase_samples = phase_samples.drop_duplicates(keep='first').values\n",
    "phase_samples = pd.DataFrame({'phase_file':list(phase_samples)})"
   ]
  },
  {
   "cell_type": "code",
   "execution_count": 8,
   "metadata": {
    "collapsed": true
   },
   "outputs": [],
   "source": [
    "save_path = '/Users/MelisaT/Documents/Research/GPIDomeSeeing/data/datatables/'"
   ]
  },
  {
   "cell_type": "code",
   "execution_count": 7,
   "metadata": {
    "collapsed": true
   },
   "outputs": [],
   "source": [
    "phase_samples.to_csv(save_path+'phase_samples_20180226.txt',index=False,header=False)"
   ]
  },
  {
   "cell_type": "markdown",
   "metadata": {},
   "source": [
    "# Make a list that leaves out filenames already analyzed "
   ]
  },
  {
   "cell_type": "code",
   "execution_count": 9,
   "metadata": {
    "collapsed": true
   },
   "outputs": [],
   "source": [
    "new_phase_samples = raw_contrast_data.loc[:,'phase_file']\n",
    "new_phase_samples = new_phase_samples.drop_duplicates(keep='first').values"
   ]
  },
  {
   "cell_type": "code",
   "execution_count": 12,
   "metadata": {
    "collapsed": true
   },
   "outputs": [],
   "source": [
    "old_phase_samples = pd.read_csv('phase_samples_20181105.txt',header=None)\n",
    "old_phase_samples = pd.Series(old_phase_samples[0]).values"
   ]
  },
  {
   "cell_type": "code",
   "execution_count": 13,
   "metadata": {
    "collapsed": false
   },
   "outputs": [
    {
     "ename": "AttributeError",
     "evalue": "'numpy.ndarray' object has no attribute 'update'",
     "output_type": "error",
     "traceback": [
      "\u001b[0;31m---------------------------------------------------------------------------\u001b[0m",
      "\u001b[0;31mAttributeError\u001b[0m                            Traceback (most recent call last)",
      "\u001b[0;32m<ipython-input-13-c85640c402f1>\u001b[0m in \u001b[0;36m<module>\u001b[0;34m()\u001b[0m\n\u001b[0;32m----> 1\u001b[0;31m \u001b[0mnew_phase_samples\u001b[0m\u001b[0;34m.\u001b[0m\u001b[0mupdate\u001b[0m\u001b[0;34m(\u001b[0m\u001b[0mold_phase_samples\u001b[0m\u001b[0;34m)\u001b[0m\u001b[0;34m\u001b[0m\u001b[0m\n\u001b[0m",
      "\u001b[0;31mAttributeError\u001b[0m: 'numpy.ndarray' object has no attribute 'update'"
     ]
    }
   ],
   "source": [
    "new_phase_samples.update(old_phase_samples)"
   ]
  },
  {
   "cell_type": "markdown",
   "metadata": {},
   "source": [
    "new = set(new_phase_samples)\n",
    "old = set(old_phase_samples) "
   ]
  },
  {
   "cell_type": "code",
   "execution_count": null,
   "metadata": {
    "collapsed": true
   },
   "outputs": [],
   "source": [
    "phase_samples = pd.DataFrame({'phase_file':list(new_phase_samples)})"
   ]
  },
  {
   "cell_type": "markdown",
   "metadata": {},
   "source": [
    "# Reproduce IFS sample with AO telem data"
   ]
  },
  {
   "cell_type": "markdown",
   "metadata": {},
   "source": [
    "Fill missing ao telem data with nans"
   ]
  },
  {
   "cell_type": "code",
   "execution_count": 32,
   "metadata": {
    "collapsed": true
   },
   "outputs": [],
   "source": [
    "def filter_data(data, imag = 10., tau = 1., see = 2., all_cond = True):\n",
    "    \"This selects all rows of input dataframe that satisfy conditions set by the user\"\n",
    "    \n",
    "    date1 = datetime.date(year = 2014, month = 1, day =1)\n",
    "    \n",
    "    #  AO system requirements\n",
    "    cond1 = data['dts'] > date1 \n",
    "    cond2 = data['COADDS'] == 1\n",
    "    cond3 = (data['OBSMODE'] == 'H_coron')|(data['OBSMODE'] == 'Spec')\n",
    "    #cond4 = data['AOFRAMES'] == 1000\n",
    "\n",
    "    #  Good seeing conditions\n",
    "    cond5 = data['IMAG'] < imag #Bright Stars\n",
    "    cond6 = data['MASSTAU'] > tau  # slow moving turbulence [ms]\n",
    "    cond7 = data['DIMMSEE'] < see  # smaller scale turbulence [\"]\n",
    "    \n",
    "    if all_cond:\n",
    "        ind = np.where(cond1 & cond2 & cond3 & cond5 & cond6 & cond7)[0]  \n",
    "        print len(ind)\n",
    "    else:\n",
    "        ind = np.where(cond1 & cond2 & cond3 & cond4 & cond5)[0]  \n",
    "        print len(ind)\n",
    "\n",
    "    filtered_data = data.iloc[ind]\n",
    "    #filtered_data = filtered_data.dropna(subset = ['CONTR040','cal_wfe','M1_avg','TAMBIENT','Outside_OE_temperature'])\n",
    "    \n",
    "    new_ind = np.arange(len(filtered_data))\n",
    "    filtered_data = filtered_data.set_index(new_ind)\n",
    "        \n",
    "    return filtered_data"
   ]
  },
  {
   "cell_type": "code",
   "execution_count": 33,
   "metadata": {
    "collapsed": false
   },
   "outputs": [
    {
     "name": "stdout",
     "output_type": "stream",
     "text": [
      "282\n"
     ]
    }
   ],
   "source": [
    "r = filter_data(raw_contrast_data,all_cond=True)"
   ]
  },
  {
   "cell_type": "markdown",
   "metadata": {},
   "source": [
    "drop rows missing mass tau measurements and wfe measurements"
   ]
  },
  {
   "cell_type": "code",
   "execution_count": 19,
   "metadata": {
    "collapsed": true
   },
   "outputs": [],
   "source": [
    "raw_IFS_ao_telem_data =  pd.merge_asof(r, ao_telem_data, on='dts',tolerance=pd.Timedelta('1min')).dropna(subset=['WFE']).dropna(subset=['MASSTAU']).dropna(subset=['DIMMSEE'])"
   ]
  },
  {
   "cell_type": "markdown",
   "metadata": {},
   "source": [
    "# Instances of best and worst seeing"
   ]
  },
  {
   "cell_type": "code",
   "execution_count": 85,
   "metadata": {
    "collapsed": true
   },
   "outputs": [],
   "source": [
    "ao_telem_raw_IFS_data = ao_telem_raw_IFS_data.dropna(subset=['phase_file','M1_avg','TAMBIENT'])"
   ]
  },
  {
   "cell_type": "code",
   "execution_count": 72,
   "metadata": {
    "collapsed": false
   },
   "outputs": [
    {
     "data": {
      "text/plain": [
       "561"
      ]
     },
     "execution_count": 72,
     "metadata": {},
     "output_type": "execute_result"
    }
   ],
   "source": [
    "len(ao_telem_raw_IFS_data)"
   ]
  },
  {
   "cell_type": "code",
   "execution_count": 12,
   "metadata": {
    "collapsed": true
   },
   "outputs": [],
   "source": [
    "def search_for_dome_seeing(data, sample_size, presence = True):\n",
    "    \n",
    "    cut = sample_size\n",
    "    sample = set()\n",
    "    \n",
    "    if presence:\n",
    "        \n",
    "        while len(sample) <= sample_size:\n",
    "            tau0 = data.MASSTAU.sort_values(ascending = False)[0:cut]\n",
    "            mirror_to_air_temp = np.abs(data.M1_avg - data.T_twr).sort_values(ascending = False)[0:cut]\n",
    "            contrast = data.CONTR040.sort_values(ascending = False)[0:cut]\n",
    "            sample = set(tau0.index) & set(mirror_to_air_temp.index) & set(contrast.index)\n",
    "            cut = cut + 1\n",
    "            \n",
    "    else:\n",
    "        \n",
    "        while len(sample) <= sample_size:\n",
    "            tau0 = data.MASSTAU.sort_values(ascending = False)[0:cut]\n",
    "            mirror_to_air_temp = np.abs(data.M1_avg - data.T_twr).sort_values()[0:cut]\n",
    "            contrast = data.CONTR040.sort_values()[0:cut]\n",
    "            sample = set(tau0.index) & set(mirror_to_air_temp.index) & set(contrast.index)\n",
    "            cut = cut + 1\n",
    "    return list(sample)  "
   ]
  },
  {
   "cell_type": "code",
   "execution_count": 34,
   "metadata": {
    "collapsed": true
   },
   "outputs": [],
   "source": [
    "def search_for_dome_seeing(data, sample_size, presence = True):\n",
    "    \n",
    "    cut = sample_size\n",
    "    sample = set()\n",
    "    \n",
    "    if presence:\n",
    "        \n",
    "        while len(sample) <= sample_size:\n",
    "            tau0 = data.MASSTAU.sort_values(ascending = False)[0:cut]\n",
    "            mirror_to_air_temp = np.abs(data.OMSATEMP - data.TAMBIENT).sort_values(ascending = False)[0:cut]\n",
    "            contrast = data.CONTR040.sort_values(ascending = False)[0:cut]\n",
    "            sample = set(tau0.index) & set(mirror_to_air_temp.index) & set(contrast.index)\n",
    "            cut = cut + 1\n",
    "            \n",
    "    else:\n",
    "        \n",
    "        while len(sample) <= sample_size:\n",
    "            tau0 = data.MASSTAU.sort_values(ascending = False)[0:cut]\n",
    "            mirror_to_air_temp = np.abs(data.OMSATEMP - data.TAMBIENT).sort_values()[0:cut]\n",
    "            contrast = data.CONTR040.sort_values()[0:cut]\n",
    "            sample = set(tau0.index) & set(mirror_to_air_temp.index) & set(contrast.index)\n",
    "            cut = cut + 1\n",
    "    return list(sample)  "
   ]
  },
  {
   "cell_type": "code",
   "execution_count": 54,
   "metadata": {
    "collapsed": true,
    "scrolled": true
   },
   "outputs": [],
   "source": [
    "sample = r.loc[search_for_dome_seeing(r,50,presence=False),\n",
    "                       ['month','OBJNAME','dts','phase_file','CONTR040','OMSATEMP','TAMBIENT','MASSTAU','IMAG']].sort_values(\"CONTR040\",ascending = False)"
   ]
  },
  {
   "cell_type": "markdown",
   "metadata": {},
   "source": [
    "# Grouping"
   ]
  },
  {
   "cell_type": "code",
   "execution_count": 55,
   "metadata": {
    "collapsed": false
   },
   "outputs": [],
   "source": [
    "g = sample.groupby(['month','OBJNAME'])"
   ]
  },
  {
   "cell_type": "code",
   "execution_count": 56,
   "metadata": {
    "collapsed": false,
    "scrolled": true
   },
   "outputs": [
    {
     "name": "stdout",
     "output_type": "stream",
     "text": [
      "(3, 'HD 149813')\n",
      "(array(['ugp_When_2016.3.28_6.2.37_phase',\n",
      "       'ugp_When_2016.3.28_5.52.6_phase', 'ugp_When_2016.3.28_5.52.6_phase'], dtype=object), array([ 14.1607,  14.1473,  14.1473]), array([ 14.,  13.,  13.]))\n",
      "(3, 'HR 5008')\n",
      "(array(['ugp_When_2016.3.23_2.43.4_phase'], dtype=object), array([ 15.5982]), array([ 15.]))\n",
      "(9, '42 Cap')\n",
      "(array(['ugp_When_2016.9.17_23.28.43_phase',\n",
      "       'ugp_When_2016.9.17_23.18.35_phase'], dtype=object), array([ 13.3973,  13.3616]), array([ 13.,  13.]))\n",
      "(9, 'EP Eri')\n",
      "(array(['ugp_When_2016.9.20_5.22.10_phase',\n",
      "       'ugp_When_2016.9.20_4.58.26_phase',\n",
      "       'ugp_When_2016.9.20_4.55.22_phase',\n",
      "       'ugp_When_2016.9.20_5.37.16_phase'], dtype=object), array([ 16.3616,  16.3795,  16.3795,  16.3661]), array([ 15.,  15.,  15.,  15.]))\n",
      "(9, 'HD 11351')\n",
      "(array(['ugp_When_2016.9.22_3.3.40_phase'], dtype=object), array([ 15.067]), array([ 13.]))\n",
      "(9, 'HD 16699 A')\n",
      "(array(['ugp_When_2016.9.19_5.3.6_phase', 'ugp_When_2016.9.19_5.9.46_phase',\n",
      "       'ugp_When_2016.9.19_4.55.44_phase',\n",
      "       'ugp_When_2016.9.19_4.43.31_phase'], dtype=object), array([ 16.2723,  16.2812,  16.2768,  16.25  ]), array([ 15.,  15.,  16.,  16.]))\n",
      "(9, 'HD 200968 A')\n",
      "(array(['ugp_When_2016.9.18_23.25.3_phase',\n",
      "       'ugp_When_2016.9.18_23.14.56_phase',\n",
      "       'ugp_When_2016.9.18_23.40.52_phase'], dtype=object), array([ 15.9241,  15.9062,  15.9554]), array([ 16.,  16.,  16.]))\n",
      "(9, 'HD 206893')\n",
      "(array(['ugp_When_2016.9.21_23.38.39_phase'], dtype=object), array([ 15.2902]), array([ 13.]))\n",
      "(9, 'HD 30447')\n",
      "(array(['ugp_When_2016.9.20_6.6.43_phase',\n",
      "       'ugp_When_2016.9.20_6.13.50_phase',\n",
      "       'ugp_When_2016.9.20_6.6.43_phase',\n",
      "       'ugp_When_2016.9.20_6.21.43_phase',\n",
      "       'ugp_When_2016.9.20_6.30.29_phase',\n",
      "       'ugp_When_2016.9.20_6.21.43_phase'], dtype=object), array([ 16.3438,  16.3438,  16.3438,  16.3348,  16.3393,  16.3348]), array([ 15.,  15.,  15.,  15.,  15.,  15.]))\n",
      "(9, 'HD 8558')\n",
      "(array(['ugp_When_2016.9.19_3.31.20_phase'], dtype=object), array([ 16.2098]), array([ 16.]))\n",
      "(9, 'HR 1139')\n",
      "(array(['ugp_When_2016.9.18_4.46.16_phase',\n",
      "       'ugp_When_2016.9.18_4.25.56_phase',\n",
      "       'ugp_When_2016.9.18_4.55.0_phase',\n",
      "       'ugp_When_2016.9.18_4.55.0_phase', 'ugp_When_2016.9.18_5.4.9_phase'], dtype=object), array([ 14.0714,  14.0268,  14.0893,  14.0893,  14.1027]), array([ 14.,  13.,  13.,  13.,  14.]))\n",
      "(9, 'V834 Tau')\n",
      "(array(['ugp_When_2016.9.19_5.24.32_phase',\n",
      "       'ugp_When_2016.9.19_5.27.31_phase',\n",
      "       'ugp_When_2016.9.19_5.51.18_phase',\n",
      "       'ugp_When_2016.9.19_5.59.11_phase'], dtype=object), array([ 16.2857,  16.2768,  16.2634,  16.2589]), array([ 15.,  15.,  15.,  15.]))\n",
      "(9, 'c Eri')\n",
      "(array(['ugp_When_2016.9.18_5.38.20_phase',\n",
      "       'ugp_When_2016.9.18_7.12.46_phase',\n",
      "       'ugp_When_2016.9.18_5.27.44_phase',\n",
      "       'ugp_When_2016.9.18_6.43.52_phase',\n",
      "       'ugp_When_2016.9.18_6.23.59_phase',\n",
      "       'ugp_When_2016.9.18_6.52.15_phase',\n",
      "       'ugp_When_2016.9.18_5.59.42_phase',\n",
      "       'ugp_When_2016.9.18_5.49.31_phase'], dtype=object), array([ 14.1518,  14.3259,  14.1295,  14.2723,  14.2366,  14.2991,\n",
      "        14.192 ,  14.183 ]), array([ 14.,  14.,  14.,  14.,  14.,  14.,  14.,  14.]))\n",
      "(9, 'iot Del')\n",
      "(array(['ugp_When_2016.9.18_22.21.27_phase'], dtype=object), array([ 15.8259]), array([ 16.]))\n",
      "(9, 'omi Cap B')\n",
      "(array(['ugp_When_2016.9.20_22.0.32_phase',\n",
      "       'ugp_When_2016.9.20_22.6.37_phase',\n",
      "       'ugp_When_2016.9.20_22.24.16_phase',\n",
      "       'ugp_When_2016.9.20_21.47.59_phase',\n",
      "       'ugp_When_2016.9.20_22.18.15_phase',\n",
      "       'ugp_When_2016.9.20_22.21.24_phase',\n",
      "       'ugp_When_2016.9.20_21.53.54_phase'], dtype=object), array([ 15.7143,  15.7232,  15.7098,  15.6964,  15.7143,  15.7188,  15.6964]), array([ 14.,  14.,  14.,  14.,  14.,  14.,  14.]))\n",
      "(12, 'c Eri')\n",
      "(array(['ugp_When_2015.12.19_23.18.24_phase'], dtype=object), array([ 12.2946]), array([ 10.]))\n"
     ]
    }
   ],
   "source": [
    "no_dome_seeing_list = set()\n",
    "for name,group in g:\n",
    "    print(name)\n",
    "    print(group['phase_file'].values,group['OMSATEMP'].values,group['TAMBIENT'].values)\n",
    "    no_dome_seeing_list.update(group['OBJNAME'].values)"
   ]
  },
  {
   "cell_type": "code",
   "execution_count": 159,
   "metadata": {
    "collapsed": true
   },
   "outputs": [],
   "source": [
    "sample_list = pd.DataFrame({'phase_file':list(sample_list)})"
   ]
  },
  {
   "cell_type": "code",
   "execution_count": 160,
   "metadata": {
    "collapsed": true
   },
   "outputs": [],
   "source": [
    "sample_list.to_csv(save_path+'clean_seeing_phase_samples_20190205.txt',index=False,header=False)"
   ]
  },
  {
   "cell_type": "markdown",
   "metadata": {},
   "source": [
    "# Debugging"
   ]
  },
  {
   "cell_type": "code",
   "execution_count": 53,
   "metadata": {
    "collapsed": false
   },
   "outputs": [
    {
     "data": {
      "text/plain": [
       "{'HD 100546',\n",
       " 'HD 11351',\n",
       " 'HD 206893',\n",
       " 'HD 25953',\n",
       " 'HD 3821 A',\n",
       " 'HD 38397',\n",
       " 'HD 58192',\n",
       " 'HD 61033',\n",
       " 'HD 984',\n",
       " 'HR 4597',\n",
       " 'HR 8799',\n",
       " 'HR 9001',\n",
       " 'NX Aqr',\n",
       " 'V478 Hya',\n",
       " 'V592 Pup',\n",
       " 'c Eri',\n",
       " 'pi01 Ori'}"
      ]
     },
     "execution_count": 53,
     "metadata": {},
     "output_type": "execute_result"
    }
   ],
   "source": [
    "dome_seeing_list"
   ]
  },
  {
   "cell_type": "code",
   "execution_count": 57,
   "metadata": {
    "collapsed": false
   },
   "outputs": [
    {
     "data": {
      "text/plain": [
       "{'42 Cap',\n",
       " 'EP Eri',\n",
       " 'HD 11351',\n",
       " 'HD 149813',\n",
       " 'HD 16699 A',\n",
       " 'HD 200968 A',\n",
       " 'HD 206893',\n",
       " 'HD 30447',\n",
       " 'HD 8558',\n",
       " 'HR 1139',\n",
       " 'HR 5008',\n",
       " 'V834 Tau',\n",
       " 'c Eri',\n",
       " 'iot Del',\n",
       " 'omi Cap B'}"
      ]
     },
     "execution_count": 57,
     "metadata": {},
     "output_type": "execute_result"
    }
   ],
   "source": [
    "no_dome_seeing_list"
   ]
  },
  {
   "cell_type": "code",
   "execution_count": 58,
   "metadata": {
    "collapsed": false
   },
   "outputs": [
    {
     "data": {
      "text/plain": [
       "{'HD 11351', 'HD 206893', 'c Eri'}"
      ]
     },
     "execution_count": 58,
     "metadata": {},
     "output_type": "execute_result"
    }
   ],
   "source": [
    "dome_seeing_list.intersection(no_dome_seeing_list)"
   ]
  },
  {
   "cell_type": "code",
   "execution_count": 68,
   "metadata": {
    "collapsed": false,
    "scrolled": true
   },
   "outputs": [],
   "source": [
    "c_eri = r.iloc[np.where(r['OBJNAME']=='c Eri')]"
   ]
  },
  {
   "cell_type": "code",
   "execution_count": 69,
   "metadata": {
    "collapsed": false
   },
   "outputs": [
    {
     "data": {
      "application/javascript": [
       "/* Put everything inside the global mpl namespace */\n",
       "window.mpl = {};\n",
       "\n",
       "\n",
       "mpl.get_websocket_type = function() {\n",
       "    if (typeof(WebSocket) !== 'undefined') {\n",
       "        return WebSocket;\n",
       "    } else if (typeof(MozWebSocket) !== 'undefined') {\n",
       "        return MozWebSocket;\n",
       "    } else {\n",
       "        alert('Your browser does not have WebSocket support.' +\n",
       "              'Please try Chrome, Safari or Firefox ≥ 6. ' +\n",
       "              'Firefox 4 and 5 are also supported but you ' +\n",
       "              'have to enable WebSockets in about:config.');\n",
       "    };\n",
       "}\n",
       "\n",
       "mpl.figure = function(figure_id, websocket, ondownload, parent_element) {\n",
       "    this.id = figure_id;\n",
       "\n",
       "    this.ws = websocket;\n",
       "\n",
       "    this.supports_binary = (this.ws.binaryType != undefined);\n",
       "\n",
       "    if (!this.supports_binary) {\n",
       "        var warnings = document.getElementById(\"mpl-warnings\");\n",
       "        if (warnings) {\n",
       "            warnings.style.display = 'block';\n",
       "            warnings.textContent = (\n",
       "                \"This browser does not support binary websocket messages. \" +\n",
       "                    \"Performance may be slow.\");\n",
       "        }\n",
       "    }\n",
       "\n",
       "    this.imageObj = new Image();\n",
       "\n",
       "    this.context = undefined;\n",
       "    this.message = undefined;\n",
       "    this.canvas = undefined;\n",
       "    this.rubberband_canvas = undefined;\n",
       "    this.rubberband_context = undefined;\n",
       "    this.format_dropdown = undefined;\n",
       "\n",
       "    this.image_mode = 'full';\n",
       "\n",
       "    this.root = $('<div/>');\n",
       "    this._root_extra_style(this.root)\n",
       "    this.root.attr('style', 'display: inline-block');\n",
       "\n",
       "    $(parent_element).append(this.root);\n",
       "\n",
       "    this._init_header(this);\n",
       "    this._init_canvas(this);\n",
       "    this._init_toolbar(this);\n",
       "\n",
       "    var fig = this;\n",
       "\n",
       "    this.waiting = false;\n",
       "\n",
       "    this.ws.onopen =  function () {\n",
       "            fig.send_message(\"supports_binary\", {value: fig.supports_binary});\n",
       "            fig.send_message(\"send_image_mode\", {});\n",
       "            if (mpl.ratio != 1) {\n",
       "                fig.send_message(\"set_dpi_ratio\", {'dpi_ratio': mpl.ratio});\n",
       "            }\n",
       "            fig.send_message(\"refresh\", {});\n",
       "        }\n",
       "\n",
       "    this.imageObj.onload = function() {\n",
       "            if (fig.image_mode == 'full') {\n",
       "                // Full images could contain transparency (where diff images\n",
       "                // almost always do), so we need to clear the canvas so that\n",
       "                // there is no ghosting.\n",
       "                fig.context.clearRect(0, 0, fig.canvas.width, fig.canvas.height);\n",
       "            }\n",
       "            fig.context.drawImage(fig.imageObj, 0, 0);\n",
       "        };\n",
       "\n",
       "    this.imageObj.onunload = function() {\n",
       "        this.ws.close();\n",
       "    }\n",
       "\n",
       "    this.ws.onmessage = this._make_on_message_function(this);\n",
       "\n",
       "    this.ondownload = ondownload;\n",
       "}\n",
       "\n",
       "mpl.figure.prototype._init_header = function() {\n",
       "    var titlebar = $(\n",
       "        '<div class=\"ui-dialog-titlebar ui-widget-header ui-corner-all ' +\n",
       "        'ui-helper-clearfix\"/>');\n",
       "    var titletext = $(\n",
       "        '<div class=\"ui-dialog-title\" style=\"width: 100%; ' +\n",
       "        'text-align: center; padding: 3px;\"/>');\n",
       "    titlebar.append(titletext)\n",
       "    this.root.append(titlebar);\n",
       "    this.header = titletext[0];\n",
       "}\n",
       "\n",
       "\n",
       "\n",
       "mpl.figure.prototype._canvas_extra_style = function(canvas_div) {\n",
       "\n",
       "}\n",
       "\n",
       "\n",
       "mpl.figure.prototype._root_extra_style = function(canvas_div) {\n",
       "\n",
       "}\n",
       "\n",
       "mpl.figure.prototype._init_canvas = function() {\n",
       "    var fig = this;\n",
       "\n",
       "    var canvas_div = $('<div/>');\n",
       "\n",
       "    canvas_div.attr('style', 'position: relative; clear: both; outline: 0');\n",
       "\n",
       "    function canvas_keyboard_event(event) {\n",
       "        return fig.key_event(event, event['data']);\n",
       "    }\n",
       "\n",
       "    canvas_div.keydown('key_press', canvas_keyboard_event);\n",
       "    canvas_div.keyup('key_release', canvas_keyboard_event);\n",
       "    this.canvas_div = canvas_div\n",
       "    this._canvas_extra_style(canvas_div)\n",
       "    this.root.append(canvas_div);\n",
       "\n",
       "    var canvas = $('<canvas/>');\n",
       "    canvas.addClass('mpl-canvas');\n",
       "    canvas.attr('style', \"left: 0; top: 0; z-index: 0; outline: 0\")\n",
       "\n",
       "    this.canvas = canvas[0];\n",
       "    this.context = canvas[0].getContext(\"2d\");\n",
       "\n",
       "    var backingStore = this.context.backingStorePixelRatio ||\n",
       "\tthis.context.webkitBackingStorePixelRatio ||\n",
       "\tthis.context.mozBackingStorePixelRatio ||\n",
       "\tthis.context.msBackingStorePixelRatio ||\n",
       "\tthis.context.oBackingStorePixelRatio ||\n",
       "\tthis.context.backingStorePixelRatio || 1;\n",
       "\n",
       "    mpl.ratio = (window.devicePixelRatio || 1) / backingStore;\n",
       "\n",
       "    var rubberband = $('<canvas/>');\n",
       "    rubberband.attr('style', \"position: absolute; left: 0; top: 0; z-index: 1;\")\n",
       "\n",
       "    var pass_mouse_events = true;\n",
       "\n",
       "    canvas_div.resizable({\n",
       "        start: function(event, ui) {\n",
       "            pass_mouse_events = false;\n",
       "        },\n",
       "        resize: function(event, ui) {\n",
       "            fig.request_resize(ui.size.width, ui.size.height);\n",
       "        },\n",
       "        stop: function(event, ui) {\n",
       "            pass_mouse_events = true;\n",
       "            fig.request_resize(ui.size.width, ui.size.height);\n",
       "        },\n",
       "    });\n",
       "\n",
       "    function mouse_event_fn(event) {\n",
       "        if (pass_mouse_events)\n",
       "            return fig.mouse_event(event, event['data']);\n",
       "    }\n",
       "\n",
       "    rubberband.mousedown('button_press', mouse_event_fn);\n",
       "    rubberband.mouseup('button_release', mouse_event_fn);\n",
       "    // Throttle sequential mouse events to 1 every 20ms.\n",
       "    rubberband.mousemove('motion_notify', mouse_event_fn);\n",
       "\n",
       "    rubberband.mouseenter('figure_enter', mouse_event_fn);\n",
       "    rubberband.mouseleave('figure_leave', mouse_event_fn);\n",
       "\n",
       "    canvas_div.on(\"wheel\", function (event) {\n",
       "        event = event.originalEvent;\n",
       "        event['data'] = 'scroll'\n",
       "        if (event.deltaY < 0) {\n",
       "            event.step = 1;\n",
       "        } else {\n",
       "            event.step = -1;\n",
       "        }\n",
       "        mouse_event_fn(event);\n",
       "    });\n",
       "\n",
       "    canvas_div.append(canvas);\n",
       "    canvas_div.append(rubberband);\n",
       "\n",
       "    this.rubberband = rubberband;\n",
       "    this.rubberband_canvas = rubberband[0];\n",
       "    this.rubberband_context = rubberband[0].getContext(\"2d\");\n",
       "    this.rubberband_context.strokeStyle = \"#000000\";\n",
       "\n",
       "    this._resize_canvas = function(width, height) {\n",
       "        // Keep the size of the canvas, canvas container, and rubber band\n",
       "        // canvas in synch.\n",
       "        canvas_div.css('width', width)\n",
       "        canvas_div.css('height', height)\n",
       "\n",
       "        canvas.attr('width', width * mpl.ratio);\n",
       "        canvas.attr('height', height * mpl.ratio);\n",
       "        canvas.attr('style', 'width: ' + width + 'px; height: ' + height + 'px;');\n",
       "\n",
       "        rubberband.attr('width', width);\n",
       "        rubberband.attr('height', height);\n",
       "    }\n",
       "\n",
       "    // Set the figure to an initial 600x600px, this will subsequently be updated\n",
       "    // upon first draw.\n",
       "    this._resize_canvas(600, 600);\n",
       "\n",
       "    // Disable right mouse context menu.\n",
       "    $(this.rubberband_canvas).bind(\"contextmenu\",function(e){\n",
       "        return false;\n",
       "    });\n",
       "\n",
       "    function set_focus () {\n",
       "        canvas.focus();\n",
       "        canvas_div.focus();\n",
       "    }\n",
       "\n",
       "    window.setTimeout(set_focus, 100);\n",
       "}\n",
       "\n",
       "mpl.figure.prototype._init_toolbar = function() {\n",
       "    var fig = this;\n",
       "\n",
       "    var nav_element = $('<div/>')\n",
       "    nav_element.attr('style', 'width: 100%');\n",
       "    this.root.append(nav_element);\n",
       "\n",
       "    // Define a callback function for later on.\n",
       "    function toolbar_event(event) {\n",
       "        return fig.toolbar_button_onclick(event['data']);\n",
       "    }\n",
       "    function toolbar_mouse_event(event) {\n",
       "        return fig.toolbar_button_onmouseover(event['data']);\n",
       "    }\n",
       "\n",
       "    for(var toolbar_ind in mpl.toolbar_items) {\n",
       "        var name = mpl.toolbar_items[toolbar_ind][0];\n",
       "        var tooltip = mpl.toolbar_items[toolbar_ind][1];\n",
       "        var image = mpl.toolbar_items[toolbar_ind][2];\n",
       "        var method_name = mpl.toolbar_items[toolbar_ind][3];\n",
       "\n",
       "        if (!name) {\n",
       "            // put a spacer in here.\n",
       "            continue;\n",
       "        }\n",
       "        var button = $('<button/>');\n",
       "        button.addClass('ui-button ui-widget ui-state-default ui-corner-all ' +\n",
       "                        'ui-button-icon-only');\n",
       "        button.attr('role', 'button');\n",
       "        button.attr('aria-disabled', 'false');\n",
       "        button.click(method_name, toolbar_event);\n",
       "        button.mouseover(tooltip, toolbar_mouse_event);\n",
       "\n",
       "        var icon_img = $('<span/>');\n",
       "        icon_img.addClass('ui-button-icon-primary ui-icon');\n",
       "        icon_img.addClass(image);\n",
       "        icon_img.addClass('ui-corner-all');\n",
       "\n",
       "        var tooltip_span = $('<span/>');\n",
       "        tooltip_span.addClass('ui-button-text');\n",
       "        tooltip_span.html(tooltip);\n",
       "\n",
       "        button.append(icon_img);\n",
       "        button.append(tooltip_span);\n",
       "\n",
       "        nav_element.append(button);\n",
       "    }\n",
       "\n",
       "    var fmt_picker_span = $('<span/>');\n",
       "\n",
       "    var fmt_picker = $('<select/>');\n",
       "    fmt_picker.addClass('mpl-toolbar-option ui-widget ui-widget-content');\n",
       "    fmt_picker_span.append(fmt_picker);\n",
       "    nav_element.append(fmt_picker_span);\n",
       "    this.format_dropdown = fmt_picker[0];\n",
       "\n",
       "    for (var ind in mpl.extensions) {\n",
       "        var fmt = mpl.extensions[ind];\n",
       "        var option = $(\n",
       "            '<option/>', {selected: fmt === mpl.default_extension}).html(fmt);\n",
       "        fmt_picker.append(option)\n",
       "    }\n",
       "\n",
       "    // Add hover states to the ui-buttons\n",
       "    $( \".ui-button\" ).hover(\n",
       "        function() { $(this).addClass(\"ui-state-hover\");},\n",
       "        function() { $(this).removeClass(\"ui-state-hover\");}\n",
       "    );\n",
       "\n",
       "    var status_bar = $('<span class=\"mpl-message\"/>');\n",
       "    nav_element.append(status_bar);\n",
       "    this.message = status_bar[0];\n",
       "}\n",
       "\n",
       "mpl.figure.prototype.request_resize = function(x_pixels, y_pixels) {\n",
       "    // Request matplotlib to resize the figure. Matplotlib will then trigger a resize in the client,\n",
       "    // which will in turn request a refresh of the image.\n",
       "    this.send_message('resize', {'width': x_pixels, 'height': y_pixels});\n",
       "}\n",
       "\n",
       "mpl.figure.prototype.send_message = function(type, properties) {\n",
       "    properties['type'] = type;\n",
       "    properties['figure_id'] = this.id;\n",
       "    this.ws.send(JSON.stringify(properties));\n",
       "}\n",
       "\n",
       "mpl.figure.prototype.send_draw_message = function() {\n",
       "    if (!this.waiting) {\n",
       "        this.waiting = true;\n",
       "        this.ws.send(JSON.stringify({type: \"draw\", figure_id: this.id}));\n",
       "    }\n",
       "}\n",
       "\n",
       "\n",
       "mpl.figure.prototype.handle_save = function(fig, msg) {\n",
       "    var format_dropdown = fig.format_dropdown;\n",
       "    var format = format_dropdown.options[format_dropdown.selectedIndex].value;\n",
       "    fig.ondownload(fig, format);\n",
       "}\n",
       "\n",
       "\n",
       "mpl.figure.prototype.handle_resize = function(fig, msg) {\n",
       "    var size = msg['size'];\n",
       "    if (size[0] != fig.canvas.width || size[1] != fig.canvas.height) {\n",
       "        fig._resize_canvas(size[0], size[1]);\n",
       "        fig.send_message(\"refresh\", {});\n",
       "    };\n",
       "}\n",
       "\n",
       "mpl.figure.prototype.handle_rubberband = function(fig, msg) {\n",
       "    var x0 = msg['x0'] / mpl.ratio;\n",
       "    var y0 = (fig.canvas.height - msg['y0']) / mpl.ratio;\n",
       "    var x1 = msg['x1'] / mpl.ratio;\n",
       "    var y1 = (fig.canvas.height - msg['y1']) / mpl.ratio;\n",
       "    x0 = Math.floor(x0) + 0.5;\n",
       "    y0 = Math.floor(y0) + 0.5;\n",
       "    x1 = Math.floor(x1) + 0.5;\n",
       "    y1 = Math.floor(y1) + 0.5;\n",
       "    var min_x = Math.min(x0, x1);\n",
       "    var min_y = Math.min(y0, y1);\n",
       "    var width = Math.abs(x1 - x0);\n",
       "    var height = Math.abs(y1 - y0);\n",
       "\n",
       "    fig.rubberband_context.clearRect(\n",
       "        0, 0, fig.canvas.width, fig.canvas.height);\n",
       "\n",
       "    fig.rubberband_context.strokeRect(min_x, min_y, width, height);\n",
       "}\n",
       "\n",
       "mpl.figure.prototype.handle_figure_label = function(fig, msg) {\n",
       "    // Updates the figure title.\n",
       "    fig.header.textContent = msg['label'];\n",
       "}\n",
       "\n",
       "mpl.figure.prototype.handle_cursor = function(fig, msg) {\n",
       "    var cursor = msg['cursor'];\n",
       "    switch(cursor)\n",
       "    {\n",
       "    case 0:\n",
       "        cursor = 'pointer';\n",
       "        break;\n",
       "    case 1:\n",
       "        cursor = 'default';\n",
       "        break;\n",
       "    case 2:\n",
       "        cursor = 'crosshair';\n",
       "        break;\n",
       "    case 3:\n",
       "        cursor = 'move';\n",
       "        break;\n",
       "    }\n",
       "    fig.rubberband_canvas.style.cursor = cursor;\n",
       "}\n",
       "\n",
       "mpl.figure.prototype.handle_message = function(fig, msg) {\n",
       "    fig.message.textContent = msg['message'];\n",
       "}\n",
       "\n",
       "mpl.figure.prototype.handle_draw = function(fig, msg) {\n",
       "    // Request the server to send over a new figure.\n",
       "    fig.send_draw_message();\n",
       "}\n",
       "\n",
       "mpl.figure.prototype.handle_image_mode = function(fig, msg) {\n",
       "    fig.image_mode = msg['mode'];\n",
       "}\n",
       "\n",
       "mpl.figure.prototype.updated_canvas_event = function() {\n",
       "    // Called whenever the canvas gets updated.\n",
       "    this.send_message(\"ack\", {});\n",
       "}\n",
       "\n",
       "// A function to construct a web socket function for onmessage handling.\n",
       "// Called in the figure constructor.\n",
       "mpl.figure.prototype._make_on_message_function = function(fig) {\n",
       "    return function socket_on_message(evt) {\n",
       "        if (evt.data instanceof Blob) {\n",
       "            /* FIXME: We get \"Resource interpreted as Image but\n",
       "             * transferred with MIME type text/plain:\" errors on\n",
       "             * Chrome.  But how to set the MIME type?  It doesn't seem\n",
       "             * to be part of the websocket stream */\n",
       "            evt.data.type = \"image/png\";\n",
       "\n",
       "            /* Free the memory for the previous frames */\n",
       "            if (fig.imageObj.src) {\n",
       "                (window.URL || window.webkitURL).revokeObjectURL(\n",
       "                    fig.imageObj.src);\n",
       "            }\n",
       "\n",
       "            fig.imageObj.src = (window.URL || window.webkitURL).createObjectURL(\n",
       "                evt.data);\n",
       "            fig.updated_canvas_event();\n",
       "            fig.waiting = false;\n",
       "            return;\n",
       "        }\n",
       "        else if (typeof evt.data === 'string' && evt.data.slice(0, 21) == \"data:image/png;base64\") {\n",
       "            fig.imageObj.src = evt.data;\n",
       "            fig.updated_canvas_event();\n",
       "            fig.waiting = false;\n",
       "            return;\n",
       "        }\n",
       "\n",
       "        var msg = JSON.parse(evt.data);\n",
       "        var msg_type = msg['type'];\n",
       "\n",
       "        // Call the  \"handle_{type}\" callback, which takes\n",
       "        // the figure and JSON message as its only arguments.\n",
       "        try {\n",
       "            var callback = fig[\"handle_\" + msg_type];\n",
       "        } catch (e) {\n",
       "            console.log(\"No handler for the '\" + msg_type + \"' message type: \", msg);\n",
       "            return;\n",
       "        }\n",
       "\n",
       "        if (callback) {\n",
       "            try {\n",
       "                // console.log(\"Handling '\" + msg_type + \"' message: \", msg);\n",
       "                callback(fig, msg);\n",
       "            } catch (e) {\n",
       "                console.log(\"Exception inside the 'handler_\" + msg_type + \"' callback:\", e, e.stack, msg);\n",
       "            }\n",
       "        }\n",
       "    };\n",
       "}\n",
       "\n",
       "// from http://stackoverflow.com/questions/1114465/getting-mouse-location-in-canvas\n",
       "mpl.findpos = function(e) {\n",
       "    //this section is from http://www.quirksmode.org/js/events_properties.html\n",
       "    var targ;\n",
       "    if (!e)\n",
       "        e = window.event;\n",
       "    if (e.target)\n",
       "        targ = e.target;\n",
       "    else if (e.srcElement)\n",
       "        targ = e.srcElement;\n",
       "    if (targ.nodeType == 3) // defeat Safari bug\n",
       "        targ = targ.parentNode;\n",
       "\n",
       "    // jQuery normalizes the pageX and pageY\n",
       "    // pageX,Y are the mouse positions relative to the document\n",
       "    // offset() returns the position of the element relative to the document\n",
       "    var x = e.pageX - $(targ).offset().left;\n",
       "    var y = e.pageY - $(targ).offset().top;\n",
       "\n",
       "    return {\"x\": x, \"y\": y};\n",
       "};\n",
       "\n",
       "/*\n",
       " * return a copy of an object with only non-object keys\n",
       " * we need this to avoid circular references\n",
       " * http://stackoverflow.com/a/24161582/3208463\n",
       " */\n",
       "function simpleKeys (original) {\n",
       "  return Object.keys(original).reduce(function (obj, key) {\n",
       "    if (typeof original[key] !== 'object')\n",
       "        obj[key] = original[key]\n",
       "    return obj;\n",
       "  }, {});\n",
       "}\n",
       "\n",
       "mpl.figure.prototype.mouse_event = function(event, name) {\n",
       "    var canvas_pos = mpl.findpos(event)\n",
       "\n",
       "    if (name === 'button_press')\n",
       "    {\n",
       "        this.canvas.focus();\n",
       "        this.canvas_div.focus();\n",
       "    }\n",
       "\n",
       "    var x = canvas_pos.x * mpl.ratio;\n",
       "    var y = canvas_pos.y * mpl.ratio;\n",
       "\n",
       "    this.send_message(name, {x: x, y: y, button: event.button,\n",
       "                             step: event.step,\n",
       "                             guiEvent: simpleKeys(event)});\n",
       "\n",
       "    /* This prevents the web browser from automatically changing to\n",
       "     * the text insertion cursor when the button is pressed.  We want\n",
       "     * to control all of the cursor setting manually through the\n",
       "     * 'cursor' event from matplotlib */\n",
       "    event.preventDefault();\n",
       "    return false;\n",
       "}\n",
       "\n",
       "mpl.figure.prototype._key_event_extra = function(event, name) {\n",
       "    // Handle any extra behaviour associated with a key event\n",
       "}\n",
       "\n",
       "mpl.figure.prototype.key_event = function(event, name) {\n",
       "\n",
       "    // Prevent repeat events\n",
       "    if (name == 'key_press')\n",
       "    {\n",
       "        if (event.which === this._key)\n",
       "            return;\n",
       "        else\n",
       "            this._key = event.which;\n",
       "    }\n",
       "    if (name == 'key_release')\n",
       "        this._key = null;\n",
       "\n",
       "    var value = '';\n",
       "    if (event.ctrlKey && event.which != 17)\n",
       "        value += \"ctrl+\";\n",
       "    if (event.altKey && event.which != 18)\n",
       "        value += \"alt+\";\n",
       "    if (event.shiftKey && event.which != 16)\n",
       "        value += \"shift+\";\n",
       "\n",
       "    value += 'k';\n",
       "    value += event.which.toString();\n",
       "\n",
       "    this._key_event_extra(event, name);\n",
       "\n",
       "    this.send_message(name, {key: value,\n",
       "                             guiEvent: simpleKeys(event)});\n",
       "    return false;\n",
       "}\n",
       "\n",
       "mpl.figure.prototype.toolbar_button_onclick = function(name) {\n",
       "    if (name == 'download') {\n",
       "        this.handle_save(this, null);\n",
       "    } else {\n",
       "        this.send_message(\"toolbar_button\", {name: name});\n",
       "    }\n",
       "};\n",
       "\n",
       "mpl.figure.prototype.toolbar_button_onmouseover = function(tooltip) {\n",
       "    this.message.textContent = tooltip;\n",
       "};\n",
       "mpl.toolbar_items = [[\"Home\", \"Reset original view\", \"fa fa-home icon-home\", \"home\"], [\"Back\", \"Back to  previous view\", \"fa fa-arrow-left icon-arrow-left\", \"back\"], [\"Forward\", \"Forward to next view\", \"fa fa-arrow-right icon-arrow-right\", \"forward\"], [\"\", \"\", \"\", \"\"], [\"Pan\", \"Pan axes with left mouse, zoom with right\", \"fa fa-arrows icon-move\", \"pan\"], [\"Zoom\", \"Zoom to rectangle\", \"fa fa-square-o icon-check-empty\", \"zoom\"], [\"\", \"\", \"\", \"\"], [\"Download\", \"Download plot\", \"fa fa-floppy-o icon-save\", \"download\"]];\n",
       "\n",
       "mpl.extensions = [\"eps\", \"jpeg\", \"pdf\", \"png\", \"ps\", \"raw\", \"svg\", \"tif\"];\n",
       "\n",
       "mpl.default_extension = \"png\";var comm_websocket_adapter = function(comm) {\n",
       "    // Create a \"websocket\"-like object which calls the given IPython comm\n",
       "    // object with the appropriate methods. Currently this is a non binary\n",
       "    // socket, so there is still some room for performance tuning.\n",
       "    var ws = {};\n",
       "\n",
       "    ws.close = function() {\n",
       "        comm.close()\n",
       "    };\n",
       "    ws.send = function(m) {\n",
       "        //console.log('sending', m);\n",
       "        comm.send(m);\n",
       "    };\n",
       "    // Register the callback with on_msg.\n",
       "    comm.on_msg(function(msg) {\n",
       "        //console.log('receiving', msg['content']['data'], msg);\n",
       "        // Pass the mpl event to the overriden (by mpl) onmessage function.\n",
       "        ws.onmessage(msg['content']['data'])\n",
       "    });\n",
       "    return ws;\n",
       "}\n",
       "\n",
       "mpl.mpl_figure_comm = function(comm, msg) {\n",
       "    // This is the function which gets called when the mpl process\n",
       "    // starts-up an IPython Comm through the \"matplotlib\" channel.\n",
       "\n",
       "    var id = msg.content.data.id;\n",
       "    // Get hold of the div created by the display call when the Comm\n",
       "    // socket was opened in Python.\n",
       "    var element = $(\"#\" + id);\n",
       "    var ws_proxy = comm_websocket_adapter(comm)\n",
       "\n",
       "    function ondownload(figure, format) {\n",
       "        window.open(figure.imageObj.src);\n",
       "    }\n",
       "\n",
       "    var fig = new mpl.figure(id, ws_proxy,\n",
       "                           ondownload,\n",
       "                           element.get(0));\n",
       "\n",
       "    // Call onopen now - mpl needs it, as it is assuming we've passed it a real\n",
       "    // web socket which is closed, not our websocket->open comm proxy.\n",
       "    ws_proxy.onopen();\n",
       "\n",
       "    fig.parent_element = element.get(0);\n",
       "    fig.cell_info = mpl.find_output_cell(\"<div id='\" + id + \"'></div>\");\n",
       "    if (!fig.cell_info) {\n",
       "        console.error(\"Failed to find cell for figure\", id, fig);\n",
       "        return;\n",
       "    }\n",
       "\n",
       "    var output_index = fig.cell_info[2]\n",
       "    var cell = fig.cell_info[0];\n",
       "\n",
       "};\n",
       "\n",
       "mpl.figure.prototype.handle_close = function(fig, msg) {\n",
       "    var width = fig.canvas.width/mpl.ratio\n",
       "    fig.root.unbind('remove')\n",
       "\n",
       "    // Update the output cell to use the data from the current canvas.\n",
       "    fig.push_to_output();\n",
       "    var dataURL = fig.canvas.toDataURL();\n",
       "    // Re-enable the keyboard manager in IPython - without this line, in FF,\n",
       "    // the notebook keyboard shortcuts fail.\n",
       "    IPython.keyboard_manager.enable()\n",
       "    $(fig.parent_element).html('<img src=\"' + dataURL + '\" width=\"' + width + '\">');\n",
       "    fig.close_ws(fig, msg);\n",
       "}\n",
       "\n",
       "mpl.figure.prototype.close_ws = function(fig, msg){\n",
       "    fig.send_message('closing', msg);\n",
       "    // fig.ws.close()\n",
       "}\n",
       "\n",
       "mpl.figure.prototype.push_to_output = function(remove_interactive) {\n",
       "    // Turn the data on the canvas into data in the output cell.\n",
       "    var width = this.canvas.width/mpl.ratio\n",
       "    var dataURL = this.canvas.toDataURL();\n",
       "    this.cell_info[1]['text/html'] = '<img src=\"' + dataURL + '\" width=\"' + width + '\">';\n",
       "}\n",
       "\n",
       "mpl.figure.prototype.updated_canvas_event = function() {\n",
       "    // Tell IPython that the notebook contents must change.\n",
       "    IPython.notebook.set_dirty(true);\n",
       "    this.send_message(\"ack\", {});\n",
       "    var fig = this;\n",
       "    // Wait a second, then push the new image to the DOM so\n",
       "    // that it is saved nicely (might be nice to debounce this).\n",
       "    setTimeout(function () { fig.push_to_output() }, 1000);\n",
       "}\n",
       "\n",
       "mpl.figure.prototype._init_toolbar = function() {\n",
       "    var fig = this;\n",
       "\n",
       "    var nav_element = $('<div/>')\n",
       "    nav_element.attr('style', 'width: 100%');\n",
       "    this.root.append(nav_element);\n",
       "\n",
       "    // Define a callback function for later on.\n",
       "    function toolbar_event(event) {\n",
       "        return fig.toolbar_button_onclick(event['data']);\n",
       "    }\n",
       "    function toolbar_mouse_event(event) {\n",
       "        return fig.toolbar_button_onmouseover(event['data']);\n",
       "    }\n",
       "\n",
       "    for(var toolbar_ind in mpl.toolbar_items){\n",
       "        var name = mpl.toolbar_items[toolbar_ind][0];\n",
       "        var tooltip = mpl.toolbar_items[toolbar_ind][1];\n",
       "        var image = mpl.toolbar_items[toolbar_ind][2];\n",
       "        var method_name = mpl.toolbar_items[toolbar_ind][3];\n",
       "\n",
       "        if (!name) { continue; };\n",
       "\n",
       "        var button = $('<button class=\"btn btn-default\" href=\"#\" title=\"' + name + '\"><i class=\"fa ' + image + ' fa-lg\"></i></button>');\n",
       "        button.click(method_name, toolbar_event);\n",
       "        button.mouseover(tooltip, toolbar_mouse_event);\n",
       "        nav_element.append(button);\n",
       "    }\n",
       "\n",
       "    // Add the status bar.\n",
       "    var status_bar = $('<span class=\"mpl-message\" style=\"text-align:right; float: right;\"/>');\n",
       "    nav_element.append(status_bar);\n",
       "    this.message = status_bar[0];\n",
       "\n",
       "    // Add the close button to the window.\n",
       "    var buttongrp = $('<div class=\"btn-group inline pull-right\"></div>');\n",
       "    var button = $('<button class=\"btn btn-mini btn-primary\" href=\"#\" title=\"Stop Interaction\"><i class=\"fa fa-power-off icon-remove icon-large\"></i></button>');\n",
       "    button.click(function (evt) { fig.handle_close(fig, {}); } );\n",
       "    button.mouseover('Stop Interaction', toolbar_mouse_event);\n",
       "    buttongrp.append(button);\n",
       "    var titlebar = this.root.find($('.ui-dialog-titlebar'));\n",
       "    titlebar.prepend(buttongrp);\n",
       "}\n",
       "\n",
       "mpl.figure.prototype._root_extra_style = function(el){\n",
       "    var fig = this\n",
       "    el.on(\"remove\", function(){\n",
       "\tfig.close_ws(fig, {});\n",
       "    });\n",
       "}\n",
       "\n",
       "mpl.figure.prototype._canvas_extra_style = function(el){\n",
       "    // this is important to make the div 'focusable\n",
       "    el.attr('tabindex', 0)\n",
       "    // reach out to IPython and tell the keyboard manager to turn it's self\n",
       "    // off when our div gets focus\n",
       "\n",
       "    // location in version 3\n",
       "    if (IPython.notebook.keyboard_manager) {\n",
       "        IPython.notebook.keyboard_manager.register_events(el);\n",
       "    }\n",
       "    else {\n",
       "        // location in version 2\n",
       "        IPython.keyboard_manager.register_events(el);\n",
       "    }\n",
       "\n",
       "}\n",
       "\n",
       "mpl.figure.prototype._key_event_extra = function(event, name) {\n",
       "    var manager = IPython.notebook.keyboard_manager;\n",
       "    if (!manager)\n",
       "        manager = IPython.keyboard_manager;\n",
       "\n",
       "    // Check for shift+enter\n",
       "    if (event.shiftKey && event.which == 13) {\n",
       "        this.canvas_div.blur();\n",
       "        // select the cell after this one\n",
       "        var index = IPython.notebook.find_cell_index(this.cell_info[0]);\n",
       "        IPython.notebook.select(index + 1);\n",
       "    }\n",
       "}\n",
       "\n",
       "mpl.figure.prototype.handle_save = function(fig, msg) {\n",
       "    fig.ondownload(fig, null);\n",
       "}\n",
       "\n",
       "\n",
       "mpl.find_output_cell = function(html_output) {\n",
       "    // Return the cell and output element which can be found *uniquely* in the notebook.\n",
       "    // Note - this is a bit hacky, but it is done because the \"notebook_saving.Notebook\"\n",
       "    // IPython event is triggered only after the cells have been serialised, which for\n",
       "    // our purposes (turning an active figure into a static one), is too late.\n",
       "    var cells = IPython.notebook.get_cells();\n",
       "    var ncells = cells.length;\n",
       "    for (var i=0; i<ncells; i++) {\n",
       "        var cell = cells[i];\n",
       "        if (cell.cell_type === 'code'){\n",
       "            for (var j=0; j<cell.output_area.outputs.length; j++) {\n",
       "                var data = cell.output_area.outputs[j];\n",
       "                if (data.data) {\n",
       "                    // IPython >= 3 moved mimebundle to data attribute of output\n",
       "                    data = data.data;\n",
       "                }\n",
       "                if (data['text/html'] == html_output) {\n",
       "                    return [cell, data, j];\n",
       "                }\n",
       "            }\n",
       "        }\n",
       "    }\n",
       "}\n",
       "\n",
       "// Register the function which deals with the matplotlib target/channel.\n",
       "// The kernel may be null if the page has been refreshed.\n",
       "if (IPython.notebook.kernel != null) {\n",
       "    IPython.notebook.kernel.comm_manager.register_target('matplotlib', mpl.mpl_figure_comm);\n",
       "}\n"
      ],
      "text/plain": [
       "<IPython.core.display.Javascript object>"
      ]
     },
     "metadata": {},
     "output_type": "display_data"
    },
    {
     "data": {
      "text/html": [
       "<img src=\"data:image/png;base64,iVBORw0KGgoAAAANSUhEUgAABQAAAAPACAYAAABq3NR5AAAAAXNSR0IArs4c6QAAQABJREFUeAHs3W2MXFl6EODj7vbEnmALpGTwR7fAFoNYD712FlgR0oAQAmQnWUfayAl/SIItQGJRUAyKEFI+kCCIyECU5RdjsYkiQQYw2AQPCeJL6Qi0G5x2mjERicZAt+0J4UuTMOOMu9vct9dl1dZ2d1V3nbr33LrPkW6qbt1b57z3eTur8Vv3npOSRoAAAQIECBAgQIAAAQIECBAgQIAAAQIECBAgQIAAAQIECBAgQIAAAQIECBAgQIAAAQIECBAgQIAAAQIECBAgQIAAAQIECBAgQIAAAQIECBAgQIAAAQIECBAgQIAAAQIECBAgQIAAAQIECBAgQIAAAQIECBAgQIAAAQIECBAgQIAAAQIECBAgQIAAAQIECBAgQIAAAQIECBAgQIAAAQIECBAgQIAAAQIECBAgQIAAAQIECBAgQIAAAQIECBAgQIAAAQIECBAgQIAAAQIECBAgQIAAAQIECBAgQIAAAQIECBAgQIAAAQIECBAgQIAAAQIECBAgQIAAAQIECBAgQIAAAQIECBAgQIAAAQIECBAgQIAAAQIECBAgQIAAAQIECBAgQIAAAQIECBAgQIAAAQIECBAgQIAAAQIECBAgQIAAAQIECBAgQIAAAQIECBAgQIAAAQIECBAgQIAAAQIECBAgQIAAAQIECBAgQIAAAQIECBAgQIAAAQIECBAgQIAAAQIECBAgQIAAAQIECBAgQIAAAQIECBAgQIAAAQIECBAgQIAAAQIECBAgQIAAAQIECBAgQIAAAQIECBAgQIAAAQIECBAgQIAAAQIECBAgQIAAAQIECBAgQIAAAQIECBAgQIAAAQIECBAgQIAAAQIECBAgQIAAAQIECBAgQIAAAQIECBAgQIAAAQIECBAgQIAAAQIECBAgQIAAAQIECBAgQIAAAQIECBAgQIAAAQIECBAgQIAAAQIECBAgQIAAAQIECBAgQIAAAQIECBAgQIAAAQIECBAgQIAAAQIECBAgQIAAAQIECBAgQIAAAQIECBAgQIAAAQIECBAgQIAAAQIECBAgQIAAAQIECBAgQIAAAQIECBAgQIAAAQIECBAgQIAAAQIECBAgQIAAAQIECBAgQIAAAQIECBAgQIAAAQIECBAgQIAAAQIECBAgQIAAAQIECBAgQIAAAQIECBAgQIAAAQIECBAgQIAAAQIECBAgQIAAAQIECBAgQIAAAQIECBAgQIAAAQIECBAgQIAAAQIECBAgQIAAAQIECBAgQIAAAQIECBAgQIAAAQIECBAgQIAAAQIECBAgQIAAAQIECBAgQIAAAQIECBAgQIAAAQIECBAgQIAAAQIECBAgQIAAAQIECBAgQIAAAQIECBAgQIAAAQIECBAgQIAAAQIECBAgQIAAAQIECBAgQIAAAQIECBAgQIAAAQIECBAgQIAAAQIECBAgQIAAAQIECBAgQIAAAQIECBAgQIAAAQIECBAgQIAAAQIECBAgQIAAAQIECBAgQIAAAQIECBAgQIAAAQIECBAgQIAAAQIECBAgQIAAAQIECBAgQIAAAQIECBAgQIAAAQIECBAgQIAAAQIECBAgQIAAAQIECBAgQIAAAQIECBAgQIAAAQIECBAgQIAAAQIECBAgQIAAAQIECBAgQIAAAQIECBAgQIAAAQIECBAgQIAAAQIECBAgQIAAAQIECBAgQIAAAQIECBAgQIAAAQIECBAgQIAAAQIECBAgQIAAAQIECBAgQIAAAQIECBAgQIAAAQIECBAgQIAAAQIECBAgQIAAAQIECBAgQIAAAQIECBAgQIAAAQIECBAgQIAAAQIECBAgQIAAAQIECBAgQIAAAQIECBAgQIAAAQIECBAgQIAAAQIECBAgQIAAAQIECBAgQIAAAQIECBAgQIAAAQIECBAgQIAAAQIECBAgQIAAAQIECBAgQIAAAQIECBAgQIAAAQIECBAgQIAAAQIECBAgQIAAAQIECBAgQIAAAQIECBAgQIAAAQIECBAgQIAAAQIECBAgQIAAAQIECBAgQIAAAQIECBAgQIAAAQIECBAgQIAAAQIECBAgQIAAAQIECBAgQIAAAQIECBAgQIAAAQIECBAgQIAAAQIECBAgQIAAAQIECBAgQIAAAQIECBAgQIAAAQIECBAgQIAAAQIECBAgQIAAAQIECBAgQIAAAQIECBAgQIAAAQIECBAgQIAAAQIECBAgQIAAAQIECBAgQIAAAQIECBAgQIAAAQIECBAgQIAAAQIECBAgQIAAAQIECBAgQIAAAQIECBAgQIAAAQIECBAgQIAAAQIECBAgQIAAAQIECBAgQIAAAQIECBAgQIAAAQIECBAgQIAAAQIECBAgQIAAAQIECBAgQIAAAQIECBAgQIAAAQIECBAgQIAAAQIECBAgQIAAAQIECBAgQIAAAQIECBAgQIAAAQIECBAgQIAAAQIECBAgQIAAAQIECBAgQIAAAQIECBAgQIAAAQIECBAgQIAAAQIECBAgQIAAAQIECBAgQIAAAQIECBAgQIAAAQIECBAgQIAAAQIECBAgQIAAAQIECBAgQIAAAQIECBAgQIAAAQIECBAgQIAAAQIECBAgQIAAAQIECBAgQIAAAQIECBAgQIAAAQIECBAgQIAAAQIECBAgQIAAAQIECBAgQIAAAQIECBAgQIAAAQIECBAgQIAAAQIECBAgQIAAAQIECBAgQIAAAQIECBAgQIAAAQIECBAgQIAAAQIECBAgQIAAAQIECBAgQIAAAQIECBAgQIAAAQIECBAgQIAAAQIECBAgQIAAAQIECBAgQIAAAQIECBAgQIAAAQIECBAgQIAAAQIECBAgQIAAAQIECBAgQIAAAQIECBAgQIAAAQIECBAgQIAAAQIECBAgQIAAAQIECBAgQIAAAQIECBAgQIAAAQIECBAgQIAAAQIECBAgQIAAAQIECBAgQIAAAQIECBAgQIAAAQIECBAgQIAAAQIECBAgQIAAAQIECBAgQIAAAQIECBAgQIAAAQIECBAgQIAAAQIECBAgQIAAAQIECBAgQIAAAQIECBAgQIAAAQIECBAgQIAAAQIECBAgQIAAAQIECBAgQIAAAQIECBAgQIAAAQIECBAgQIAAAQIECBAgQIAAAQIECBAgQIAAAQIECBAgQIAAAQIECBAgQIAAAQIECBAgQIAAAQIECBAgQIAAAQIECBAgQIAAAQIECBAgQIAAAQIECBAgQIAAAQIECBAgQIAAAQIECBAgQIAAAQIECBAgQIAAAQIECBAgQIAAAQIECBAgQIAAAQIECBAgQIAAAQIECBAgQIAAAQIECBAgQIAAAQIECBAgQIAAAQIECBAgQIAAAQIECBAgQIAAAQIECBAgQIAAAQIECBAgQIAAAQIECBAgQIAAAQIECBAgQIAAAQIECBAgQIAAAQIECBAgQIAAAQIECBAgQIAAAQIECBAgQIAAAQIECBAgQIAAAQIECBAgQIAAAQIECBAgQIAAAQIECBAgQIAAAQIECBAgQIAAAQIECBAgQIAAAQIECBAgQIAAAQIECBAgQIAAAQIECBAgQIAAAQIECBAgQKBDAoc6dK0utSyBr6jCWXwR0q9Ur5tlhScaAgQIECBAgAABAgQIECAwFQKz1VV89YsrWa1ef30qrspF7Etgbl9nO5lAPoEo/n0hX3d6IkCAAAECBAgQIECAAAECBIYI/J7q+M8OOcfhKRSYmcJrckkECBAgQIAAAQIECBAgQIAAAQIECLwQcAegP4WmBOKx3+32+c9/Pp08ebK365UAAQIECBAgQIAAAQIECBDIJPDkyZP0yU9+stfby3+L9z7w2g0BBcBu5LnEq3w5518U/+bn50uMUUwECBAgQIAAAQIECBAgQGCaBF7+W3yaLsq1DBfwCPBwI2cQIECAAAECBAgQIECAAAECBAgQaK2AAmBrUydwAgQIECBAgAABAgQIECBAgAABAsMFFACHGzmDAAECBAgQIECAAAECBAgQIECAQGsFFABbmzqBEyBAgAABAgQIECBAgAABAgQIEBguoAA43MgZBAgQIECAAAECBAgQIECAAAECBForoADY2tQJnAABAgQIECBAgAABAgQIECBAgMBwAQXA4UbOIECAAAECBAgQIECAAAECBAgQINBaAQXA1qZO4AQIECBAgAABAgQIECBAgAABAgSGCygADjdyBgECBAgQIECAAAECBAgQIECAAIHWCigAtjZ1AidAgAABAgQIECBAgAABAgQIECAwXEABcLiRMwgQIECAAAECBAgQIECAAAECBAi0VkABsLWpEzgBAgQIECBAgAABAgQIECBAgACB4QIKgMONnEGAAAECBAgQIECAAAECBAgQIECgtQIKgK1NncAJECBAgAABAgQIECBAgAABAgQIDBdQABxu5AwCBAgQIECAAAECBAgQIECAAAECrRVQAGxt6gROgAABAgQIECBAgAABAgQIECBAYLiAAuBwI2cQIECAAAECBAgQIECAAAECBAgQaK2AAmBrUydwAgQIECBAgAABAgQIECBAgAABAsMFFACHGzmDAAECBAgQIECAAAECBAgQIECAQGsFFABbmzqBEyBAgAABAgQIECBAgAABAgQIEBguoAA43MgZBAgQIECAAAECBAgQIECAAAECBForoADY2tQJnAABAgQIECBAgAABAgQIECBAgMBwAQXA4UbOIECAAAECBAgQIECAAAECBAgQINBaAQXA1qZO4AQIECBAgAABAgQIECBAgAABAgSGCygADjdyBgECBAgQIECAAAECBAgQIECAAIHWCigAtjZ1AidAgAABAgQIECBAgMAXBba2nqcPPtpI8aoRIECAAIFBgbnBD+wTIECAAAECBAgQIECAQDsEHjx+P725/G56e/W99OGzzXT08Gy6uHgiXVs6m86dOt6OixAlAQIECExcQAFw4sQGIECAAAECBAgQIECAQH6B2yuP0vW37qeNvrv+ogh4696jdGflcbpx5Xy6fOF0/oH1SIAAAQKtE/AIcOtSJmACBAgQIECAAAECBLouEHf+DRb/+k2iKBjH4zyNAAECBAgoAPobIECAAAECBAgQIECAQMsE4rHf/jv/dgo/jt9cfrjTIZ8RIECAQMcEFAA7lnCXS4AAAQIECBAgQIBAuwVioY+Y82+Udnf1iYVBRoFyDgECBKZcQAFwyhPs8ggQIECAAAECBAgQmC6Bpxub2wt+jHJVMSdgnK8RIECAQLcFFAC7nX9XT4AAAQIECBAgQIBAywSOzM1ur/Y7StixKnCcrxEgQIBAtwUUALudf1dPgAABAgQIECBAgEDLBGZmDqWLiydGivrS4skU52sECBAg0G0BBcBu59/VEyBAgAABAgQIECDQQoFrS2fT3JDCXhy/unSmhVcnZAIECBDILaAAmFtUfwQIECBAgAABAgQIEJiwwLlTx9ONK+d3LQJG8S+Ox3kaAQIECBCYQ0CAAAECBAgQIECAAAEC7RO4fOF0ev21Y+nm8sMUq/3Ggh8x51889ht3/in+tS+nIiZAgMCkBEwGMSlZ/Q4TmK9OWIuT1tbW0vx87GoECBAgQIAAAQIECBxEYGvr+fZqv7Hghzn/DiLoOwSmV2B9fT0tLCz0LjDerPd2vHZHwB2A3cm1KyVAgAABAgQIECBAYEoFouj36iv+eTel6XVZBAgQGFvAHIBjE+qAAAECBAgQIECAAAECBAgQIECAQLkCCoDl5kZkBAgQIECAAAECBAgQIECAAAECBMYWUAAcm1AHBAgQIECAAAECBAgQIECAAAECBMoVUAAsNzciI0CAAAECBAgQIECAAAECBAgQIDC2gALg2IQ6IECAAAECBAgQIECAAAECBAgQIFCugAJgubkRGQECBAgQIECAAAECBAgQIECAAIGxBRQAxybUAQECBAgQIECAAAECBAgQIECAAIFyBRQAy82NyAgQIECAAAECBAgQIECAAAECBAiMLaAAODahDggQIECAAAECBAgQIECAAAECBAiUK6AAWG5uREaAAAECBAgQIECAAAECBAgQIEBgbAEFwLEJdUCAAAECBAgQIECAAAECBAgQIECgXAEFwHJzIzICBAgQIECAAAECBAgQIECAAAECYwsoAI5NqAMCBAgQIECAAAECBAgQIECAAAEC5QooAJabG5ERIECAAAECBAgQIECAAAECBAgQGFtAAXBsQh0QIECAAAECBAgQIECAAAECBAgQKFdAAbDc3IiMAAECBAgQIECAAAECBAgQIECAwNgCCoBjE+qAAAECBAgQIECAAAECBAgQIECAQLkCCoDl5kZkBAgQIECAAAECBAgQIECAAAECBMYWUAAcm1AHBAgQIECAAAECBAgQIECAAAECBMoVUAAsNzciI0CAAAECBAgQIECAAAECBAgQIDC2gALg2IQ6IECAAAECBAgQIECAAAECBAgQIFCugAJgubkRGQECBAgQIECAAAECBAgQIECAAIGxBRQAxybUAQECBAgQIECAAAECBAgQIECAAIFyBRQAy82NyAgQIECAAAECBAgQIECAAAECBAiMLaAAODahDggQIECAAAECBAgQIECAAAECBAiUK6AAWG5uREaAAAECBAgQIECAAAECBAgQIEBgbAEFwLEJdUCAAAECBAgQIECAAAECBAgQIECgXIG5ckMT2ZQJvDNwPf72BkDsEiBAgAABAgQIECBAgAABAgQmIeAOwEmo6pMAAQIECBAgQIAAAQIECBAgQIBAIQLuwiokER0I442Ba5yv9tcGPrNLgAABAgQIECBAgAABAgQIECCQWcAdgJlBdUeAAAECBAgQIECAAAECBAgQIECgJAEFwJKyIRYCBAgQIECAAAECBAgQIECAAAECmQUUADOD6o4AAQIECBAgQIAAAQIECBAgQIBASQIKgCVlQywECBAgQIAAAQIECBAgQIAAAQIEMgsoAGYG1R0BAgQIECBAgAABAgQIECBAgACBkgQUAEvKhlgIECBAgAABAgQIECBAgAABAgQIZBZQAMwMqjsCBAgQIECAAAECBAgQIECAAAECJQkoAJaUDbEQIECAAAECBAgQIECAAAECBAgQyCygAJgZVHcECBAgQIAAAQIECBAgQIAAAQIEShJQACwpG2IhQIAAAQIECBAgQIAAAQIECBAgkFlAATAzqO4IECBAgAABAgQIECBAgAABAgQIlCSgAFhSNsRCgAABAgQIECBAgAABAgQIECBAILOAAmBmUN0RIECAAAECBAgQIECAAAECBAgQKElAAbCkbIiFAAECBAgQIECAAAECBAgQIECAQGYBBcDMoLojQIAAAQIECBAgQIAAAQIECBAgUJKAAmBJ2RALAQIECBAgQIAAAQIECBAgQIAAgcwCCoCZQXVHgAABAgQIECBAgAABAgQIECBAoCQBBcCSsiEWAgQIECBAgAABAgQIECBAgAABApkFFAAzg+qOAAECBAgQIECAAAECBAgQIECAQEkCCoAlZUMsBAgQIECAAAECBAgQIECAAAECBDILKABmBtUdAQIECBAgQIAAAQIECBAgQIAAgZIEFABLyoZYCBAgQIAAAQIECBAgQIAAAQIECGQWUADMDKo7AgQIECBAgAABAgQIECBAgAABAiUJKACWlA2xECBAgAABAgQIECBAgAABAgQIEMgsoACYGVR3BAgQIECAAAECBAgQIECAAAECBEoSUAAsKRtiIUCAAAECBAgQIECAAAECBAgQIJBZQAEwM6juCBAgQIAAAQIECBAgQIAAAQIECJQkoABYUjbEQoAAAQIECBAgQIAAAQIECBAgQCCzgAJgZlDdESBAgAABAgQIECBAgAABAgQIEChJQAGwpGyIhQABAgQIECBAgAABAgQIECBAgEBmAQXAzKC6I0CAAAECBAgQIECAAAECBAgQIFCSgAJgSdkQCwECBAgQIECAAAECBAgQIECAAIHMAgqAmUF1R4AAAQIECBAgQIAAAQIECBAgQKAkAQXAkrIhFgIECBAgQIAAAQIECBAgQIAAAQKZBRQAM4PqjgABAgQIECBAgAABAgQIECBAgEBJAgqAJWVDLAQIECBAgAABAgQIECBAgAABAgQyCygAZgbVHQECBAgQIECAAAECBAgQIECAAIGSBBQAS8qGWAgQIECAAAECBAgQIECAAAECBAhkFlAAzAyqOwIECBAgQIAAAQIECBAgQIAAAQIlCSgAlpQNsRAgQIAAAQIECBAgQIAAAQIECBDILKAAmBlUdwQIECBAgAABAgQIECBAgAABAgRKElAALCkbYiFAgAABAgQIECBAgAABAgQIECCQWUABMDOo7ggQIECAAAECBAgQIECAAAECBAiUJKAAWFI2xEKAAAECBAgQIECAAAECBAgQIEAgs4ACYGZQ3REgQIAAAQIECBAgQIAAAQIECBAoSUABsKRsiIUAAQIECBAgQIAAAQIECBAgQIBAZgEFwMyguiNAgAABAgQIECBAgAABAgQIECBQkoACYEnZEAsBAgQIECBAgAABAgQIECBAgACBzAIKgJlBdUeAAAECBAgQIECAAAECBAgQIECgJAEFwJKyIRYCBAgQIECAAAECBAgQIECAAAECmQUUADOD6o4AAQIECBAgQIAAAQIECBAgQIBASQIKgCVlQywECBAgQIAAAQIECBAgQIAAAQIEMgsoAGYG1R0BAgQIECBAgAABAgQIECBAgACBkgQUAEvKhlgIECBAgAABAgQIECBAgAABAgQIZBZQAMwMqjsCBAgQIECAAAECBAgQIECAAAECJQkoAJaUDbEQIECAAAECBAgQIECAAAECBAgQyCygAJgZVHcECBAgQIAAAQIECBAgQIAAAQIEShJQACwpG2IhQIAAAQIECBAgQIAAAQIECBAgkFlAATAzqO4IECBAgAABAgQIECBAgAABAgQIlCSgAFhSNsRCgAABAgQIECBAgAABAgQIECBAILOAAmBmUN0RIECAAAECBAgQIECAAAECBAgQKElAAbCkbIiFAAECBAgQIECAAAECBAgQIECAQGYBBcDMoLojQIAAAQIECBAgQIAAAQIECBAgUJKAAmBJ2RALAQIECBAgQIAAAQIECBAgQIAAgcwCCoCZQXVHgAABAgQIECBAgAABAgQIECBAoCQBBcCSsiEWAgQIECBAgAABAgQIECBAgAABApkFFAAzg+qOAAECBAgQIECAAAECBAgQIECAQEkCCoAlZUMsBAgQIECAAAECBAgQIECAAAECBDILKABmBtUdAQIECBAgQIAAAQIECBAgQIAAgZIEFABLyoZYCBAgQIAAAQIECBAgQIAAAQIECGQWUADMDKo7AgQIECBAgAABAgQIECBAgAABAiUJKACWlA2xECBAgAABAgQIECBAgAABAgQIEMgsoACYGVR3BAgQIECAAAECBAgQIECAAAECBEoSUAAsKRtiIUCAAAECBAgQIECAAAECBAgQIJBZQAEwM6juCBAgQIAAAQIECBAgQIAAAQIECJQkoABYUjbEQoAAAQIECBAgQIAAAQIECBAgQCCzgAJgZlDdESBAgAABAgQIECBAgAABAgQIEChJQAGwpGyIhQABAgQIECBAgAABAgQIECBAgEBmAQXAzKC6I0CAAAECBAgQIECAAAECBAgQIFCSgAJgSdkQCwECBAgQIECAAAECBAgQIECAAIHMAgqAmUF1R4AAAQIECBAgQIAAAQIECBAgQKAkAQXAkrIhFgIECBAgQIAAAQIECBAgQIAAAQKZBRQAM4PqjgABAgQIECBAgAABAgQIECBAgEBJAgqAJWVDLAQIECBAgAABAgQIECBAgAABAgQyCygAZgbVHQECBAgQIECAAAECBAgQIECAAIGSBBQAS8qGWAgQIECAAAECBAgQIECAAAECBAhkFlAAzAyqOwIECBAgQIAAAQIECBAgQIAAAQIlCSgAlpQNsRAgQIAAAQIECBAgQIAAAQIECBDILKAAmBlUdwQIECBAgAABAgQIECBAgAABAgRKElAALCkbYiFAgAABAgQIECBAgAABAgQIECCQWUABMDOo7ggQIECAAAECBAgQIECAAAECBAiUJKAAWFI2xEKAAAECBAgQIECAAAECBAgQIEAgs4ACYGZQ3REgQIAAAQIECBAgQIAAAQIECBAoSUABsKRsiIUAAQIECBAgQIAAAQIECBAgQIBAZgEFwMyguiNAgAABAgQIECBAgAABAgQIECBQkoACYEnZEAsBAgQIECBAgAABAgQIECBAgACBzAIKgJlBdUeAAAECBAgQIECAAAECBAgQIECgJAEFwJKyIRYCBAgQIECAAAECBAgQIECAAAECmQUUADOD6o4AAQIECBAgQIAAAQIECBAgQIBASQIKgCVlQywECBAgQIAAAQIECBAgQIAAAQIEMgsoAGYG1R0BAgQIECBAgAABAgQIECBAgACBkgQUAEvKhlgIECBAgAABAgQIECBAgAABAgQIZBZQAMwMqjsCBAgQIECAAAECBAgQIECAAAECJQkoAJaUDbEQIECAAAECBAgQIECAAAECBAgQyCygAJgZVHcECBAgQIAAAQIECBAgQIAAAQIEShJQACwpG2IhQIAAAQIECBAgQIAAAQIECBAgkFlAATAzqO4IECBAgAABAgQIECBAgAABAgQIlCSgAFhSNsRCgAABAgQIECBAgAABAgQIECBAILOAAmBmUN0RIECAAAECBAgQIECAAAECBAgQKElAAbCkbIiFAAECBAgQIECAAAECBAgQIECAQGYBBcDMoLojQIAAAQIECBAgQIAAAQIECBAgUJKAAmBJ2RALAQIECBAgQIAAAQIECBAgQIAAgcwCc5n70x2B3QTeGTjgb28AxC4BAgQIECBAgAABAgQIECBAYBIC7gCchKo+CRAgQIAAAQIECBAgQIAAAQIECBQi4C6sQhLRgTDeGLjG+Wp/beAzuwQIECBAgAABAgQIECBAgAABApkF3AGYGVR3BAgQIECAAAECBAgQIECAAAECBEoSUAAsKRtiIUCAAAECBAgQIECAAAECBAgQIJBZQAEwM6juCBAgQIAAAQIECBAgQIAAAQIECJQkoABYUjbEQoAAAQIECBAgQIAAAQIECBAgQCCzgAJgZlDdESBAgAABAgQIECBAgAABAgQIEChJQAGwpGyIhQABAgQIECBAgAABAgQIECBAgEBmAQXAzKC6I0CAAAECBAgQIECAAAECBAgQIFCSgAJgSdkQCwECBAgQIECAAAECBAgQIECAAIHMAgqAmUF1R4AAAQIECBAgQIAAAQIECBAgQKAkAQXAkrIhFgIECBAgQIAAAQIECBAgQIAAAQKZBRQAM4PqjgABAgQIECBAgAABAgQIECBAgEBJAgqAJWVDLAQIECBAgAABAgQIECBAgAABAgQyCygAZgbVHQECBAgQIECAAAECBAgQIECAAIGSBBQAS8qGWAgQIECAAAECBAgQIECAAAECBAhkFlAAzAyqOwIECBAgQIAAAQIECBAgQGB6Bba2nqcPPtpI8aoRaIvAXFsCFScBAgQIECBAgAABAgQIECBAoCmBB4/fT28uv5veXn0vffhsMx09PJsuLp5I15bOpnOnjjcVlnEJjCSgADgSk5MIECBAgAABAgQIECBAgACBrgrcXnmUrr91P2303fUXRcBb9x6lOyuP040r59PlC6e7yuO6WyDgEeAWJEmIBAgQIECAAAECBAgQIECAQDMCceffYPGvP5IoCsbxOE8jUKqAAmCpmREXAQIECBAgQIAAAQIECBAg0LhAPPbbf+ffTgHF8ZvLD3c65DMCRQgoABaRBkEQIECAAAECBAgQIECAAAECpQnEQh8x598o7e7qEwuDjALlnEYEFAAbYTcoAQIECBAgQIAAAQIECBAgULrA043N7QU/Rokz5gSM8zUCJQooAJaYFTERIECAAAECBAgQIECAAAECjQscmZvdXu13lEBiVeA4XyNQooACYIlZERMBAgQIECBAgAABAgQIECDQuMDMzKF0cfHESHFcWjyZ4nyNQIkCCoAlZkVMBAgQIECAAAECBAgQIECAQBEC15bOprkhhb04fnXpTBHxCoLATgIKgDup+IwAAQIECBAgQIAAAQIECBAgUAmcO3U83bhyftciYBT/4nicpxEoVWCu1MDERYAAAQIECBAgQIAAAQIECBAoQeDyhdPp9deOpZvLD1Os9hsLfsScf/HYb9z5p/hXQpbEsJeAh9P30nFskgLzVedrMcDa2lqan49djQABAgQIECBAgAABAgQIlC2wtfV8e7XfWPCjDXP+ra+vp4WFhR5qvFnv7XjtjoA7ALuTa1dKgAABAgQIECBAgAABAgQIjCkQRb9XX1FOGZPR12sWMAdgzeCGI0CAAAECBAgQIECAAAECBAgQIFCngAJgndrGIkCAAAECBAgQIECAAAECBAgQIFCzgAJgzeCGI0CAAAECBAgQIECAAAECBAgQIFCngAJgndrGIkCAAAECBAgQIECAAAECBAgQIFCzgAJgzeCGa7dArPb0wUcbKV41AgQIECBAgAABAgQIECBAgEAbBCxb04YsibFxgQeP309vLr+b3l59L334bDMdPTybLi6eSNeWzqZzp443Hp8ACBAgQIAAAQIECBAgQIAAAQK7CSgA7ibjcwIvBG6vPErX37qfNvru+osi4K17j9KdlcfpxpXz6fKF07wIECBAgAABAgQIECBAgAABAkUKeAS4yLQIqhSBuPNvsPjXH1sUBeN4nKcRIECAAAECBAgQIECAAAECBEoUUAAsMStiKkYgHvvtv/Nvp8Di+M3lhzsd8hkBAgQIECBAgAABAgQIECBAoHEBBcDGUyCAUgVioY+Y82+Udnf1iYVBRoFyDgECBAgQIECAAAECBAgQIFC7gAJg7eQGbIvA043N7QU/Rok35gSM8zUCBAgQIECAAAECBAgQIECAQGkCCoClZUQ8xQgcmZvdXu13lIBiVeA4XyNAgAABAgQIECBAgAABAgQIlCagAFhaRsRTjMDMzKF0cfHESPFcWjyZ4nyNAAECBAgQIECAAAECBAgQIFCagAJgaRkRT1EC15bOprkhhb04fnXpTFFxC4YAAQIECBAgQIAAAQIECBAg0BNQAOxJeCWwg8C5U8fTjSvndy0CRvEvjsd5GgECBAgQIECAAAECBAgQIECgRIG5EoMSE4GSBC5fOJ1ef+1Yurn8MMVqv7HgR8z5F4/9xp1/in8lZUssBAgQIECAAAECBAgQIECAwKCAScsGRezXJTBfDbQWg62traX5+dgtv21tPd9e7TcW/DDnX/n5EiEBAgQIECBAgAABAgS6LrC+vp4WFhZ6DPFmvbfjtTsC7gDsTq5daQaBKPq9+or/t8lAqQsCBAgQIECAAAECBAgQIECgJgFzANYEbRgCBAgQIECAAAECBAgQIECAAAECTQgoADahbkwCBAgQIECAAAECBAgQIECAAAECNQkoANYEbRgCBAgQIECAAAECBAgQIECAAAECTQgoADahbkwCBAgQIECAAAECBAgQIECAAAECNQkoANYEbRgCBAgQIECAAAECBAgQIECAAAECTQgoADahbkwCBAgQIECAAAECBAgQIECAAAECNQkoANYEbRgCBAgQIECAAAECBAgQIECAAAECTQgoADahbkwCBAgQIECAAAECBAgQIECAAAECNQkoANYEbRgCBAgQIECAAAECBAgQIECAAAECTQgoADahbkwCBAgQIECAAAECBAgQIECAAAECNQkoANYEbRgCBAgQIECAAAECBAgQIECAAAECTQgoADahbkwCBAgQIECAAAECBAgQIECAAAECNQkoANYEbRgCBAgQIECAAAECBAgQIECAAAECTQgoADahbkwCBAgQIECAAAECBAgQIECAAAECNQkoANYEbRgCBAgQIECAAAECBAgQIECAAAECTQgoADahbkwCBAgQIECAAAECBAgQIECAAAECNQkoANYEbRgCBAgQIECAAAECBAgQIECAAAECTQgoADahbkwCBAgQIECAAAECBAgQIECAAAECNQkoANYEbRgCBAgQIECAAAECBAgQIECAAAECTQgoADahbkwCBAgQIECAAAECBAgQIECAAAECNQkoANYEbRgCBAgQIECAAAECBAgQIECAAAECTQgoADahbkwCBAgQIECAAAECBAgQIECAAAECNQkoANYEbRgCBAgQIECAAAECBAgQIECAAAECTQgoADahbkwCBAgQIECAAAECBAgQIECAAAECNQkoANYEbRgCBAgQIECAAAECBAgQIECAAAECTQgoADahbkwCBAgQIECAAAECBAgQIECAAAECNQkoANYEbRgCBAgQIECAAAECBAgQIECAAAECTQgoADahbkwCBAgQIECAAAECBAgQIECAAAECNQkoANYEbRgCBAgQIECAAAECBAgQIECAAAECTQgoADahbkwCBAgQIECAAAECBAgQIECAAAECNQkoANYEbRgCBAgQIECAAAECBAgQIECAAAECTQgoADahbkwCBAgQIECAAAECBAgQIECAAAECNQkoANYEbRgCBAgQIECAAAECBAgQIECAAAECTQgoADahbkwCBAgQIECAAAECBAgQIECAAAECNQkoANYEbRgCBAgQIECAAAECBAgQIECAAAECTQgoADahbkwCBAgQIECAAAECBAgQIECAAAECNQkoANYEbRgCBAgQIECAAAECBAgQIECAAAECTQgoADahbkwCBAgQIECAAAECBAgQIECAAAECNQkoANYEbRgCBAgQIECAAAECBAgQIECAAAECTQgoADahbkwCBAgQIECAAAECBAgQIECAAAECNQkoANYEbRgCBAgQIECAAAECBAgQIECAAAECTQgoADahbkwCBAgQIECAAAECBAgQIECAAAECNQkoANYEbRgCBAgQIECAAAECBAgQIECAAAECTQgoADahbkwCBAgQIECAAAECBAgQIECAAAECNQkoANYEbRgCBAgQIECAAAECBAgQIECAAAECTQgoADahbkwCBAgQIECAAAECBAgQIECAAAECNQkoANYEbRgCBAgQIECAAAECBAgQIECAAAECTQgoADahbkwCBAgQIECAAAECBAgQIECAAAECNQkoANYEbRgCBAgQIECAAAECBAgQIECAAAECTQgoADahbkwCBAgQIECAAAECBAgQIECAAAECNQkoANYEbRgCBAgQIECAAAECBAgQIECAAAECTQgoADahbkwCBAgQIECAAAECBAgQIECAAAECNQkoANYEbRgCBAgQIECAAAECBAgQIECAAAECTQgoADahbkwCBAgQIECAAAECBAgQIECAAAECNQkoANYEbRgCBAgQIECAAAECBAgQIECAAAECTQgoADahbkwCBAgQIECAAAECBAgQIECAAAECNQkoANYEbRgCBAgQIECAAAECBAgQIECAAAECTQgoADahbkwCBAgQIECAAAECBAgQIECAAAECNQkoANYEbRgCBAgQIECAAAECBAgQIECAAAECTQgoADahbkwCBAgQIECAAAECBAgQIECAAAECNQkoANYEbRgCBAgQIECAAAECBAgQIECAAAECTQgoADahbkwCBAgQIECAAAECBAgQIECAAAECNQkoANYEbRgCBAgQIECAAAECBAgQIECAAAECTQgoADahbkwCBAgQIECAAAECBAhkFNjaep4++GgjxatGgAABAgQGBeYGP7BPgAABAgQIECBAgAABAu0QePD4/fTm8rvp7dX30ofPNtPRw7Pp4uKJdG3pbDp36ng7LkKUBAgQIDBxAQXAiRMbgAABAgQIECBAgAABAvkFbq88Stffup82+u76iyLgrXuP0p2Vx+nGlfPp8oXT+QfWIwECBAi0TsAjwK1LmYAJECBAgAABAgQIEOi6QNz5N1j86zeJomAcj/M0AgQIECCgAOhvgAABAgQIECBAgAABAi0TiMd+++/82yn8OH5z+eFOh3xGgAABAh0TUADsWMJdLgECBAgQIECAAAEC7RaIhT5izr9R2t3VJxYGGQXKOQQIEJhyAQXAKU+wyyNAgAABAgQIECBAYLoEnm5sbi/4McpVxZyAcb5GgAABAt0WUADsdv5dPQECBAgQIECAAAECLRM4MjebZmcOjRR1nBfnawQIECDQbQEFwG7n39UTIECAAAECBAgQINBGgecjBj3qeSN25zQCBAgQaKeAAmA78yZqAgQIECBAgAABAgQ6KhCP9G4+H62yF+d5BLijfygumwABAn0CCoB9GN4SIECAAAECBAgQIECgdIF4pPfo4dEe643zPAJcekbFR4AAgckLKABO3tgIBAgQIECAAAECBAgQyCYwU83rd3HxxEj9XVo8meJ8jQABAgS6LaAA2O38u3oCBAgQIECAAAECBFoocG3pbJobUtiL41eXzrTw6oRMgAABArkFFABzi+qPAAECBAgQIECAAAECExY4d+p4unHl/K5FwCj+xfE4TyNAgAABAnMICBAgQIAAAQIECBAgQKB9ApcvnE6vv3Ys3Vx+mO6uPkkfPtvcnhswHvuNO/8U/9qXUxETIEBgUgImg5iUrH6HCcxXJ6zFSWtra2l+PnY1AgQIECBAgAABAgQOIrC19cXVfmPBD3P+HUTQdwhMr8D6+npaWFjoXWC8We/teO2OgDsAu5NrV0qAAAECBAgQIECAwJQKRNHv1Vf8825K0+uyCBAgMLaAOQDHJtQBAQIECBAgQIAAAQIECBAgQIAAgXIFFADLzY3ICBAgQIAAAQIECBAgQIAAAQIECIwtoAA4NqEOCBAgQIAAAQIECBAgQIAAAQIECJQroABYbm5ERoAAAQIECBAgQIAAAQIECBAgQGBsAQXAsQl1QIAAAQIECBAgQIAAAQIECBAgQKBcAQXAcnMjMgIECBAgQIAAAQIECBAgQIAAAQJjCygAjk2oAwIECBAgQIAAAQIECBAgQIAAAQLlCigAlpsbkREgQIAAAQIECBAgQIAAAQIECBAYW0ABcGxCHRAgQIAAAQIECBAgQIAAAQIECBAoV0ABsNzciIwAAQIECBAgQIAAAQIECBAgQIDA2AIKgGMT6oAAAQIECBAgQIAAAQIECBAgQIBAuQIKgOXmRmQECBAgQIAAAQIECBAgQIAAAQIExhZQABybUAcECBAgQIAAAQIECBAgQIAAAQIEyhVQACw3NyIjQIAAAQIECBAgQIAAAQIECBAgMLaAAuDYhDogQIAAAQIECBAgQIAAAQIECBAgUK6AAmC5uREZAQIECBAgQIAAAQIECBAgQIAAgbEFFADHJtQBAQIECBAgQIAAAQIECBAgQIAAgXIFFADLzY3ICBAgQIAAAQIECBAgQIAAAQIECIwtoAA4NqEOCBAgQIAAAQIECBAgQIAAAQIECJQroABYbm5ERoAAAQIECBAgQIAAAQIECBAgQGBsAQXAsQl1QIAAAQIECBAgQIAAAQIECBAgQKBcAQXAcnMjMgIECBAgQIAAAQIECBAgQIAAAQJjCygAjk2oAwIECBAgQIAAAQIECBAgQIAAAQLlCigAlpsbkREgQIAAAQIECBAgQIAAAQIECBAYW0ABcGxCHRAgQIAAAQIECBAgQIAAAQIECBAoV0ABsNzciIwAAQIECBAgQIAAAQIECBAgQIDA2AIKgGMT6oAAAQIECBAgQIAAAQIECBAgQIBAuQIKgOXmRmQECBAgQIAAAQIECBAgQIBAIQJbW8/TBx9tpHjVCLRNYK5tAYuXAAECBAgQIECAAAECBAgQIFCXwIPH76c3l99Nb6++lz58tpmOHp5NFxdPpGtLZ9O5U8frCsM4BMYSUAAci8+XCRAgQIAAAQIECBAgQIAAgWkVuL3yKF1/637a6LvrL4qAt+49SndWHqcbV86nyxdOT+vlu64pEvAI8BQl06UQIECAAAECBAgQIECAAAECeQTizr/B4l9/z1EUjONxnkagdAEFwNIzJL4iBcz9UGRaBEWAAAECBAgQIECAAIFsAvHYb/+dfzt1HMdvLj/c6ZDPCBQl4BHgotIhmNIFzP1QeobER4AAAQIECBAgQIAAgfEF4qaPmPNvlHZ39Un6wW/+eJqZOTTK6c4h0IiAOwAbYTdoGwVi7odPfXZ5e66HmPMhWm/uh/g8jmsECBAgQIAAAQIECBAg0H6Bpxub2//eG+VK4t+Fcb5GoGQBBcCSsyO2YgTM/VBMKgRCgAABAgQIECAwIGB6mgEQuwQyCByZm91e7XeUrmJV4DhfI1CygEeAS86O2IoR2M/cD7EKlEaAAAECBAgQIEBg0gKmp5m0sP67LBCP815cPLH9BNgwh0uLJz3+OwzJ8cYF3AHYeAoEULrAfud+iPM1AgQIECBAgAABApMUMD3NJHX1TeCLAteWzqa5IfP6xfGrS2eQESheQAGw+BQJsGkBcz80nQHjEyBAgAABAgQI9AuYnqZfw3sCkxM4d+p4iie8disCxudxPM7TCJQuoABYeobE17iAuR8aT4EACBAgQIAAAQIE+gT2Mz1N39e8JUDgAAKXL5xOdz6zlD79ifmXcwLGnH+xH5/HcY1AGwTMAdiGLImxUQFzPzTKb3ACBAgQIECAAIE+gf1OT/OD3/xxc5P1+XlL4CACvTsB4/+f4gmxuEkk/p2oEWiTgDsA25QtsTYmYO6HxugNTIAAAQIECBAg0Cdgepo+DG8J1CwQRb9XX5lT/KvZ3XB5BBQA8zjqZcoFer/4mPthyhPt8ggQIECAAAEChQuYnqbwBAmPAAEChQooABaaGGGVJ2Duh/JyIiICBAgQIECAQNcEetPTjHLdlxZPulNpFCjnECBAoAMC5gDsQJJdYj6B3p2A5n7IZ6onAgQIECBAgACB/QnE9DR3Vh6nja3nu34xnly5unRm1+MOECBAgEC3BNwB2K18u9pMAuZ+yASpGwIECBAgQIAAgX0L9H6UNj3Nvul8gQABAp0VcAdgZ1PvwgkQIECAAAECBAgQaKtATE/z+mvH0s3lh+nu6pP04bPNdPTwbIrHfuPOvygSagQIECBAoCdg3eqehNe6BearAddi0LW1tTQ/H7saAQIECBAgQIAAAQL7FdiqHgWO1YFjgZB4UkUjQIBAv8D6+npaWFjofRRv1ns7Xrsj4A7A7uTalRIgQIAAAQIECBAgMIUCvelppvDSXBIBAgQIZBIwB2AmSN0QIECAAAECBAgQIECAAAECBAgQKFFAAbDErIiJAAECBAgQIECAAAECBAgQIECAQCYBBcBMkLohQIAAAQIECBAgQIAAAQIECBAgUKKAAmCJWRETAQIECBAgQIAAAQIECBAgQIAAgUwCCoCZIHVDgAABAgQIECBAgAABAgQIECBAoEQBBcASsyImAgQIECBAgAABAgQIECBAgAABApkEFAAzQeqGAAECBAgQIECAAAECBAgQIECAQIkCCoAlZqX5mL67CuH5i+33Nh+OCAgQIECAAAECBAgQIECAAAECBA4qoAB4ULnp/d7vrC7t+6vt/03vJboyAgQIECBAgAABAgQIECBAgEB3BBQAu5PrUa70cHXSj1TbSrX9k1G+4BwCBAgQIECAAAECBAgQIECAAIGyBRQAy85P3dH95WrAN6rtT1bbZt2DG48AAQIECBAgQIAAAQIECBAgQCC/gALgeKavVV//hmr7K9X2drX9z2rrzZ33uer9ftpvqU6+UW2/UG3x+O3/rrYvVNtfrLZXq23S7RPVAFEAjMd/H0x6MP0TIECAAAECBAgQIECAAAECBAjUIzBXzzBTO8ovZ7qyb6z6+bFqO97XXxT9fveL7Vr1+vXV9kvVNon2FVWnP1pt8ejv35jEAPokQIAAAQIECBAgQIAAAQIECBBoRsAdgPnc/3vV1U8doLuvqb7z49UWxb9fq7a4C+/3Vdsfrra/W23Rfnu1/fNqOxY7E2hxB+Pr1fYd1ebR3wkA65IAAQIECBAgQIAAAQIECBAg0JSAOwDHk4/CWTymG1vcDfhbq+1hte2n/VB18tFq26i2P1pt/77aeu1fV29+sdrirrwoAl6vtu+rtsEWjw7HXXyjthgz+o32tdX2F6rt+6rtP1WbRoAAAQIECBAgQIAAAQIECBAgMEUCCoDjJfN7x/t6+mT1/d//oo+b1Wt/8a/XdRT34s68j1Xbd1bbX622Z9XW3/50tfOV/R8Mef+PquNRAIz8/0i1/Xy1/fVq0wgQIECAAAECBAgQIECAAAECBKZMwCPAzSb0m/qG/3t97/vfblU7P/rig99Yvf6h/oMv3v+G6vXQPrZ/2/e9ePT3QrV9VG3P+7Zvq95Hi6JkfN4fa3yuESBAgAABAgQIECBAgAABAgQItEDAHYDNJmnpxfCx6u9/3COUf9d37Ouq9weZa7Cvi5dvf716F3ce7tT+QPVhFAfvVNuvVNt/rTaNAAECBAgQIECAAAECBAgQIECgZQIKgM0mLB7rjRar+8YcgLu1X+g70PtO30cHfvth9c1ru3z7c9XnUQD8gWr7D9WmESBAgAABAgQIECBAgAABAgQItFBAAbC5pB2phv6qF8OvDwnj/1TH4y7BmOdvYci5pRyeHxLIiSHHHSZAgAABAgQIECBAgAABAgQIEMggoACYAfGAXRzr+96v9b3f7W2vABjz/bWhrbUhSDESIECAAAECBAgQIECAAAECBKZdwCIgzWU47gDstViAY1iL+fqiHf3iy8T/77dXI8TCIh7/nTi1AQgQIECAAAECBAgQIECAAAECkxNwB+DkbIf1/LTvhFf63u/29iteHIh5+9rQhj2qHI8Af6ENFyJGAgQIECBAgAABAgQIECBAgECbBRQAm8ver/YNPcpjvTH/X7RRHhf+4pnN/t9h8xo2G53RCRAgQIAAAQIECBAgQIAAAQIdEfAIcHOJjjsA/9eL4YctmPGbqvN6BUBz6zWXMyMTIECAAAECBAgQIECAAAECBFonoADYbMoevBj+t1Wve92N+Tv6wvzPfe+9JUCAAAECBAgQIECAAAECBAgQILCngALgnjwTP7j8YoS4u+937THaH+w79jN9770lQIAAAQIECBAgQIAAAQIECBAgsKeAAuCePBM/+E/7RviOvvf9byNHf+LFB/+3ev03/Qe9J0CAAAECBAgQIECAAAECBAgQILCXgALgXjqTP/b5aoiffjHM1er1a3cY8nr12cdefP5D1euzHc7xEQECBAgQIECAAAECBAgQIECAAIEdBfaad27HL/jwSwSWqr2Yv6/Xvqr3pnqNz7+9bz/efm5gP3a/s9risd6j1fZT1fbXqi3u8ov9b622P1Vt0f5Ltd3Yfuf/ECBAgAABAgQIECBAgAABAgQIEBhRQAFwRKhdTrtWff5tuxz7uurz2Prb5/p3Xrz/uer1W6rtx6rteLVFAXCwRfHv66vtVwcP2CdAgAABAgQIECBAgAABAgQIECCwl4BHgPfSqe/YP6uG+ni1/a1qi2LfB9UW8/39bLV9d7V9TbX9UrVpBAgQIECAAAECBAgQIECAAAECBPYl4A7AfXF92cnfXn0SW47236pOvuvFlqM/fRAgQIAAAQIECBAgQIAAAQIECBBI7gD0R0CAAAECBAgQIECAAAECBAgQIEBgigUUAKc4uS6NAAECBAgQIECAAAECBAgQIECAgAKgvwECBAgQIECAAAECBAgQIECAAAECUyygADjFyXVpBAgQIECAAAECBAgQIECAAAECBBQA/Q0QIECAAAECBAgQIECAAAECBAgQmGIBBcApTq5LI0CAAAECBAgQIECAAAECBAgQIKAA6G+AAAECBAgQIECAAAECBAgQIECAwBQLKABOcXJdGgECBAgQIECAAAECBAgQIECAAAEFQH8DBAgQIBr0z5IAAEAASURBVECAAAECBAgQIECAAAECBKZYQAFwipPr0ggQIECAAAECBAgQIECAAAECBAgoAPobIECAAAECBAgQIECAAAECBAgQIDDFAgqAU5xcl0aAAAECBAgQIECAAAECBAgQIEBAAdDfAAECBAgQIECAAAECBAgQIECAAIEpFlAAnOLkujQCBAgQIECAAAECBAgQIECAAAECCoD+BggQIECAAAECBAgQIECAAAECBAhMsYAC4BQn16URIECAAAECBAgQIECAAAECBAgQUAD0N0CAAAECBAgQIECAAAECBAgQIEBgigXmpvjaXFpZAu8MhONvbwDELgECBAgQIECAAAECBAgQIEBgEgLuAJyEqj4JECBAgAABAgQIECBAgAABAgQIFCLgLqxCEtGBMN4YuMb5an9t4DO7BAgQIECAAAECBAgQIECAAAECmQXcAZgZVHcECBAgQIAAAQIECBCoW2Br63n64KONFK8aAQIECBAYFHAH4KCIfQIECBAgQIAAAQIECLRE4MHj99Oby++mt1ffSx8+20xHD8+mi4sn0rWls+ncqeMtuQphEiBAgMCkBRQAJy2s/84IxK+tTzc205G52TQzc6gz1+1CCRAgQIAAAQIEmhG4vfIoXX/rftrou+svioC37j1Kd1YepxtXzqfLF043E5xRCRAgQKAoAQXAotIhmDYK+NW1jVkTMwECBAgQIECg3QLx36CDxb/+K4qiYBx//bVj7gTsh/GeAAECHRUwB2BHE++y8wjEr66f+uzy9q+s8WtrtN6vrvF5HNcIECBAgAABAgQI5BaIx3777/zbqf84fnP54U6HfEaAAAECHRNQAOxYwl1uPoFRf3WN8zQCBAgQIECAAAECuQRi6pmY82+Udnf1iYVBRoFyDgECBKZcQAFwyhPs8iYn4FfXydnqmQABAgQIECBAYHeBmHe69/TJ7md98UicF+drBAgQINBtAQXAbuff1R9QwK+uB4TzNQIECBAgQIAAgbEFYtG5WO13lBbnxfkaAQIECHRbQAGw2/l39QcU8KvrAeF8jQABAgQIECBAYGyBmZlD6eLiiZH6ubR4MsX5GgECBAh0W0ABsNv5d/UHFPCr6wHhfI0AAQIECBAgQCCLwLWls2luSGEvjl9dOpNlPJ0QIECAQLsFFADbnT/RNyTgV9eG4A1LgAABAgQIECCwLXDu1PF048r5XYuAUfyL43GeRoAAAQIEFAD9DRA4oIBfXQ8I52sECBAgQIAAAQJZBC5fOJ3ufGYpffoT8y/nBIw5/2I/Po/jGgECBAgQCAGTQfg7aEpgvhp4LQZfW1tL8/Ox2752e+VRuv7W/bSx9fzLgu/96uo/vL6MxgcECBAgQIAAAQKZBWKRupinOqaqMedfZlzdEWi5wPr6elpYWOhdRbxZ7+147Y6AOwC7k2tXmlkg/iPrj5z7zen2n/06v7pmttUdAQIECBAgQIDA/gSi6PfqK3OKf/tjczYBAgQ6IzDXmSt1oQQyCTx4/H56c/nd9Pbqe+nDZ5vbj1vEKmz/8M98bTr71V/pV9dMzrohQIAAAQIECBAgQIAAAQIE8gi4AzCPo146IhCP/H7qs8vp1r1H28W/uOwoAsb+N/2dn0n/8sEv+9W1I38LLpMAAQIECBAgQIAAAQIECLRFQAGwLZkSZ+MCceffbvP9RXAxD2Acj/M0AgQIECBAgAABAgQIECBAgEApAgqApWRCHMULxGO/Oy320R94HL+5/LD/I+8JECBAgAABAgQIECBAgAABAo0KKAA2ym/wtgjEgh8x598o7e7qkxTnawQIECBAgAABAgQIECBAgACBEgQUAEvIghiKF3i6sflyzr9hwcacgHG+RoAAAQIECBAgQIAAAQIECBAoQUABsIQsiKF4gSNzs9ur/Y4S6NHDs9srAY9yrnMIECBAgAABAgQIECBAgAABApMWUACctLD+p0JgZuZQurh4YqRrubR40krAI0k5iQABAgQIECBAgAABAgQIEKhDQAGwDmVjTIXAtaWzaa4qBO7V4vjVpTN7neIYAQIECBAgQIAAAQIECBAgQKBWAQXAWrkN1maBc6eOpxtXzu9aBIziXxyP8zQCBAgQIECAAAECBAgQIECAQCkCc6UEIg4CbRC4fOF0ev21Y+nm8sMUq/3Ggh8x51889ht3/in+tSGLYiRAgAABAgQIECBAgAABAt0S2Pt5xm5ZuNp6Bear4dZiyLW1tTQ/H7vtaltbz7dX+40FQmKOQI0AAQIECBAgQIBAXQL+W7QuaeMQaL/A+vp6WlhY6F1IvFnv7XjtjoA7ALuTa1eaWSCKfq++4v+FMrPqjgABAgQIECBAYA+BB4/fT28uv5veXn3v5dMosVhdzFftaZQ94BwiQIBAxwVULzr+B+DyCRAgQIAAAQIECBBoh8DtlUfp+lv300b1JEqvxZQ0t+49SndWHm/PRx1T1mgECBAgQGBQwCIggyL2CRAgQIAAAQIECBAgUJhA3Pk3WPzrDzGKgnE8ztMIECBAgMCggALgoIh9AgQIECBAgAABAgQIFCYQj/323/m3U3hxPBar0wgQIECAwKCAAuCgiP1JCbxTddy//atJDaRfAgQIECBAgAABAtMkEAt+xJx/o7S7q09SnK8RIECAAIF+AQXAfg3vCRAgQIAAAQIECBAgUJjA043N7QU/Rgkr5gSM8zUCBAgQINAvYBGQfg3vJynwxkDn89X+2sBndgkQIECAAAECBAgQGBA4Mjebjh6eHakIGOfF+RoBAgQIEOgXcAdgv4b3BAgQIECAAAECBAgQKExgZuZQurh4YqSoLi2eTHG+RoAAAQIE+gUUAPs1vCdAgAABAgQIECBAgECBAteWzqa5IYW9OH516UyB0QuJAAECBJoWUABsOgPGJ0CAAAECBAgQIECAwBCBc6eOpxtXzu9aBIziXxyP8zQCBAgQIDAoYA7AQRH7BAgQIECAAAECBAgQKFDg8oXT6fXXjqWbyw9TrPYbC37EnH/x2G/c+af4V2DShESAAIFCBEwOUUgiOhjGy0VA1tbW0vx87GoECBAgQIAAAQIECIwisLX1fHu131jww5x/o4g5h0B3BdbX19PCwkIPIN6s93a8dkfAHYDdybUrJUCAAAECBAgQIEBgSgSi6PfqK/45NyXpdBkECBCYuIA5ACdObAACBAgQIECAAAECBAgQIECAAAECzQkoADZnb2QCBAgQIECAAAECBAgQIECAAAECExdQAJw4sQEIECBAgACBaRKIebc++GgjxatGgAABAgQIECBAoA0CJo1oQ5bESIAAAQIECDQu8ODx++nN5XfT26vvvVx58+LiiXRt6ayVNxvPjgAIECBAgAABAgT2ElAA3EvHMQIECBAgQIBAJXB75VG6/tb9tNF319+HzzbTrXuP0p2Vx+nGlfPp8oXTrAgQIECAAAECBAgUKeAR4CLTIigCBAgQIECgFIG482+w+NcfWxQF43icpxEgQGDSAqYhmLSw/gkQIDCdAu4AnM68uioCBAgQIEAgk0A89tt/599O3cbxm8sPt+8E3Om4zwgQIDCugGkIxhX0fQIECHRbwB2A3c6/qydAgAABAgT2EIg7bWLOv1Ha3dUnFgYZBco5BAjsWyCmIfjUZ5e3px2I6Qei9aYh+MYf/untaQr23akvECBAgECnBBQAO5VuF0uAAAECBAjsR+Dpxub2P7JH+U78YzzO1wgQIJBTYNg0BJvVguR//h+spJ+4/zjnsPoiQIAAgSkTUACcsoS6HAIECBAgQCCfwJG52XT08OxIHcZ5cb5GgACBnAKjTENQ1QDTn/v7P+dOwJzw+iJAgMCUCSgATllCXQ4BAgQIECCQT2Bm5lC6uHhipA4vLZ5Mcb5GgACBXAL7mYYgioAWJMolrx8CBAhMn4AC4PTl1BU1IGA1tgbQDUmAAIGaBK4tnU1zQwp7cfzq0pmaIjIMAQJdEdjPNARh0luQqCs+rpMAAQIERhdQABzdypkEvkwg5mT5rrdW0hvf+5Pp3Pf85PZr7MfnGgECBAhMh8C5U8e3V/fdrQgYn9+4cj7FeRoBAgRyCuxnGoLeuBYk6kl4JUCAAIF+AQXAfg3vCexDYK/V2GKVtjiuESBAgMB0CFy+cDrd+cxS+vQn5l/OCRhz/sV+fB7HNQIECOQW2M80BL2xLUjUk/BKgAABAv0Cc/073hMgMJrAsNXY4vGLmIPl9deOuSNkNFJnESBAoHiB3p2AP/jNH99e7TfuzDHnX/FpEyCB1gvENAS3f+5RitV+R2kWJBpFyTkECBDonoA7ALuXc1ecQWCU1djMwZIBWhcECBAoUCCKfq++Mqf4V2BuhERgGgXix4e/+S0X0qhLDFmQaBr/ClwTAQIExhdQABzfUA8dE9jPamzmYOnYH4fLJUCAAAECBAhMQCCmGfjhP/41Q4uAFiSaAL4uCRAgMCUCCoBTkkiXUZ/AflZjMwdLfXkxEgECBAgQIEBgmgW+4fyp9Le/9cKuq5JbkGias+/aCBAgML6AOQDHN9RDxwR6q7FFcW9YMwfLMCHHCRAgQIAAAQIERhWIOwFjjumbyw9TPGkS/z0a/70Zj/1eXTpj7ulRIZ1HgACBDgooAHYw6S55PIHeamy37g1f5dccLONZ+zYBAgQIECBAgMCXCliQ6Es97BEgQIDAaAIeAR7NyVkEvkQgVmOLxyz2auZg2UvHMQIECBAgQIAAgXEELEg0jp7vEiBAoHsCCoDdy7krziDQ++V1tyKgOVgyIOuCAAECBAgQIECAAAECBAgQyCLgEeAsjDrpooA5WLqYdddMgAABAgQIECBAgAABAgTaJ7D3M4ztux4Rt0dgvgp1LcJdW1tL8/Ox2962tfU8xerAsUBIPI6hESBAgAABAgQIECBAgACBEgTW19fTwsJCL5R4s97b8dodAXcAdifXrnSCAr05WCY4hK4JECBAgAABAgQIECBAgAABAgcSMAfggdh8iQABAgQIECBAgAABAgQIECBAgEA7BBQA25EnURIgQIAAAQIECBAgQIAAAQIECBA4kIAC4IHYfIkAAQIECBAgQIAAAQIECBAgQIBAOwQUANuRJ1ESIECAAAECBAgQIECAAAECBAgQOJCARUAOxOZLBxB4Z+A7/vYGQOwSIECAAAECBAgQIECAAAECBCYh4A7ASajqkwABAgQIECBAgAABAgQIECBAgEAhAu7CKiQRHQjjjYFrnK/21wY+s0uAAAECBAgQIECAAAECBAgQIJBZwB2AmUF1R4AAAQIECBAgQIAAAQIECBAgQKAkAQXAkrIhFgIECBAgQIAAAQIECBAgQIAAAQKZBRQAM4PqjgABAgQIECBAgAABAgQIECBAgEBJAgqAJWVDLAQIECBAgAABAgQIENinwNbW8/TBRxspXjUCBAgQILCTgEVAdlLxGQECBAgQIECAAAECBAoXePD4/fTm8rvp7dX30ofPNtPRw7Pp4uKJdG3pbDp36njh0QuPAAECBOoUUACsU9tYBAgQIECAAAECBAgQyCBwe+VRuv7W/bTRd9dfFAFv3XuU7qw8TjeunE+XL5zOMJIuCBAgQGAaBDwCPA1ZdA0ECBAgQIAAAQIECHRGIO78Gyz+9V98FAXjeJynESBAgACBEFAA9HdAgAABAgQIECBAgACBFgnEY7/9d/7tFHocv7n8cKdDPiNAgACBDgooAHYw6S6ZAAECBAgQIECAAIF2CsRCHzHn3yjt7uoTC4OMAuUcAgQIdEBAAbADSXaJBAgQIECAAAECBAhMh8DTjc3tBT9GuZqYEzDO1wgQIECAgAKgvwECBAgQIECAwAgCcdfNBx9tuJtmBCunECAwOYEjc7Pbq/2OMkKsChznawQIECBAwCrA/gYIECBAgAABAnsIxCT6Md9WPHIXd9PEP6gvLp5I15bOpnOnju/xTYcIECCQX2Bm5tD2/wbFar/D2qXFkynO1wgQIECAgDsA/Q0QIECAAAECBHYRuL3yKH3qs8sp/qEdxb9o8Rr78Xkc1wgQIFC3QPwAMTuksDdXHb+6dKbu0IxHgAABAoUKKAAWmhhhESBAgAABAs0KxJ1/19+6v+tKm7HCZhyP8zQCBAjUKfCL/+NX0/Pnz3cdMmqDN66cd5fyrkIOECBAoHsCCoDdy7krJkCAAAECBEYQiMd+o8i3V4vjN5cf7nWKYwQIEMgq0PtxYq//eYqHfl9/7VjWcXVGgAABAu0WUABsd/5ET4AAAQIECExAIBb8iDn/Rml3V59YGGQUKOcQIJBFYJQfJzar3y78OJGFWycECBCYGgEFwKlJpQshQIAAAQIEcgk83dh8OeffsD5jTsA4XyNAgMCkBfbz48RP/PxjP05MOiH6J0CAQIsEFABblCyhEiBAgAABAvUIHJmb3V7td5TRYlXgOF8jQIDApAX28+PEr29spX98b33SIemfAAECBFoioADYkkQJkwABAgQIEKhPYKaaQf/i4omRBry0eDLF+RoBAgQmLbCfHycilr90a9VCRZNOiv4JECDQEgEFwJYkSpgECBAgQIBAvQLXls6muSGFvTh+delMvYEZjQCBzgrs58eJQLJQUWf/VFw4AQIEvkxAAfDLSHxAgAABAgQIEEjp3Knj6caV87sWAaP4F8fjPI0AAQJ1CcSPE7P7uOnYQkV1ZcY4BAgQKFtAAbDs/IiOAAECBAgQaFDg8oXT6c5nltKnPzH/ck7AmPMv9uPzOK4RIECgToH40eEHPr048pAWKhqZyokECBCYaoF9/HY01Q4urn6B+WrItRh2bW0tzc/HrkaAAAECBMoViNU3YwL+mIPLnH/l5klkBLogEP979LHv+RcpFvoY1uJHi3e+/4/5361hUI4TmGKB9fX1tLCw0LvCeGOFoJ5Gh17dAdihZLtUAgQIECBA4OACUfR79ZU5/4g+OKFvEiCQSSD+9+jrP35ypN4sVDQSk5MIECAw9QIKgFOfYhdIgAABAgQIECBAgMC0CVioaNoy6noIECAwWQEFwMn66p0AAQIECBAgQIAAAQLZBSxUlJ1UhwQIEJhqgbmpvjoXR4AAAQIECBAgQIAAgSkViIWIXn/tWLq5/DDFar+x4EfM+ReP/V5dOmOV8inNu8siQIDAQQQsAnIQNd/JIWARkByK+iBAgAABAgQIECBQCVioyJ8BAQK7CVgEZDeZbn3uDsBu5dvVEiBAgAABAgQIECAwhQK9hYqm8NJcEgECBAhkEDAHYAZEXRAgQIAAAQIECBAgQIAAAQIECBAoVUABsNTMiIsAAQIECBAoSiAer/vgo43tx+yKCkwwBAgQIECAAAECBIYIeAR4CJDDBAgQIECAQLcFHjx+P725/G56e/W9lxPsX1w8ka4tnTXBfrf/NFw9AQIECBAgQKA1AgqArUmVQAkQIECAAIG6BW6vPErX37qfNqq7/3otVtm8de9RurPyON24cj7FKpwaAQIECBAgQIAAgZIFPAJccnbERoAAAQIECDQmEHf+DRb/+oOJomAcj/M0AgQIECBAgAABAiULKACWnB2xESBAgAABAo0JxGO//Xf+7RRIHL+5/HCnQz4jQIAAAQIECBAgUIyAAmAxqRAIAQIECBAgUIpALPgRc/6N0u6uPrEwyChQziFAYKICFiqaKK/OCRAg0HoBcwC2PoUugAABAgQIEMgt8HRjc3vBj1H6jTkB4/xXX/GfVaN4OYcAgbwCFirK66k3AgQITKuAOwCnNbOuiwABAgQIEDiwwJG52XT08OxI34/z4nyNAAECdQvEQkWf+uzy9sJE8WNEtN5CRfF5HNcIECBAgEAIKAD6OyBAgAABAgQIDAjMzBxKFxdPDHy68+6lxZMpztcIECBQp4CFiurUNhYBAgTaL6AA2P4cugICBAgQIEBgAgLXls6muSGFvTh+denMBEbXJQECBPYWsFDR3j6OEiBAgMCXCigAfqmHPQIECBAgQIDAtsC5U8fTjSvndy0CRvEvjsd5GgECBOoUsFBRndrGIkCAwHQImK16OvLYhqt4ZyBIf3sDIHYJEPj/7d19kF3nWRjwY2ltbINEWkDI0i7YAkNRoki0hPKhNuKztQsREFDTQjsq1qR/lLZQNy1DZ8qWKbTToJZ20hnaWoOgHWCcwcUu2CV8mXQ7ZRpwZVQMpMEK7Eo2CR/BJLZjr6Q+z3qPdff63rvnfr937++dvL7n4z3nvOf33JNdPXvOeQkQKE/g5LGD1d379lTnVi5VOdpvvlsr3/mXj/3mnX+Sf+XFTI8IzIOAgYrmIcrOkQABAqMVkIQZrae9ESBAgAABAjtMoL4T8J3f+MaN0X5zwA/v/NthQXY6BGZMoB6oqB74o1f3DVTUS8c6AgQIzI+AR4DnJ9bTPtPXRwda61dMu0OOT4AAAQIE+hHIpN/ttyxI/vWDpi0BAmMRMFDRWFjtlAABAjtaQAJwR4fXyREgQIAAAQIECBAgsBMFDFS0E6PqnAgQIDA+AQnA8dnaMwECBAgQIECAAAECBMYiUL+eoNto5QYqGgu7nRIgQGBmBbwDcGZDp+MECBAgQIAAAQIECMyzgIGK5jn6zp0AAQL9CdzUX3OtCYxMYDH2tJp7W11drRYXc1YhQIAAAQIECBAgQGAQgWvXrhuoaBA42xCYA4G1tbVqaWmpPtOcWKtnfM6PgDsA5yfWzpQAAQIECBAgQIAAgR0qUA9UtENPz2kRIECAwJAC3gE4JKDNCRAgQIAAAQIECBAgMGmBvOPv+ZfWq/xUCBAgQIDAdgLuANxOyHoCBAgQIECAAAECBAgUIvDUleeqB1aerh67+Gz1wstXq9tu3l3dc2R/laMC58AgCgECBAgQ6CQgAdhJxTICBAgQIECAAAECBAgUJvDwhcvV/Q8+Wa233PWXScCHnrhcPXLhSnX21NEqBwZRCBAgQIBAu4BHgNtFzBMgQIAAAQIECBAgQKAwgbzzrz3519rFTArm+mynECBAgACBdgEJwHYR8wQIECBAgAABAgQIEChMIB/7bb3zr1P3cv25lUudVllGgAABAnMuIAE4518Ap0+AAAECBAgQIECAQNkCOdBHvvOvSXn04jMGBmkCpQ0BAgTmTEACcM4C7nQJECBAgAABAgQIEJgtgRfXr24M+NGk1/lOwGyvECBAgACBVgEJwFYN0wQIECBAgAABAgQIEChM4NaF3Ruj/TbpVo4KnO0VAgQIECDQKiAB2KphmgABAgQ2BPJRo+dfWvcIke8DAQIECBAoQGDXrpuqe47sb9STe4/cUWV7hQABAgQItAostM6YJkCAAIH5FsiRA/Ml4/meoXyEKO8iyH9wnDl+qDp8YO984zh7AgQIECAwRYH8WfzIhSs9BwJZiMTffcfvmmIvHZoAAQIEShVwB2CpkdEvAgQITFjg4QuXq7e8a6V66InLr75nKJOAOZ/Lc71CgAABAgQITEcg/xB39tTRKpN8nUouz/X+YNdJxzICBAgQcAeg7wABAgQIVHnn3/0PPtn1roL1eCQ419+9b49/WPi+ECBAgACBKQmcPHZw42fxuZVLVY72W9+tn4/95p1/kn9TCozDEiBAYAYEJABnIEi6SIAAgXEL5GO/meTrVXJ9/oMj7y5QCBAgQIAAgekI1HcCvvMb37gx2m8O+OGdf9OJhaMSIEBglgQ8AjxL0dJXAgQIjEEgB/zId/41KXm3QbZXCBAgQIAAgekKZNLv9lsWJP+mGwZHJ0CAwMwISADOTKh0lAABAuMReHH96qvv/NvuCPmoUbZXCBAgQIAAAQIECBAgQGB2BCQAZydWekqAAIGxCOSjQznab5OS7bK9QoAAAQIECBAgQIAAAQKzIyABODux0lMCBAiMRSAfIbrnyP5G+86XjHvPUCMqjQgQIECAAAECBAgQIFCMgARgMaHQEQIECExP4MzxQ9VCJAJ7lVyfIwwqBAgQIECAAAECBAgQIDBbAhKAsxUvvSVAgMBYBOoRBbslAXN5jv6b7RQCBAgQIECAAAECBAgQmC2Bhdnqrt4SIECAwLgETh47WN29b091buVSlaP95oAf+c6/fOw37/yT/BuXvP0SIECAAAECBAgQIEBgvAK9n/ca77Htfb4FFuP0V5NgdXW1WlzMWYUAgVIErl27vjHabw744Z1/pURFPwgQIECAAAECBAj0L7C2tlYtLS3VG+bEWj3jc34E3AE4P7F2pgQIEGgskEm/22/xI6IxmIYECBAgQIAAAQIECBAoWMA7AAsOjq4RIECAAAECBAgQIECAAAECBAgQGFZAAnBYQdsTIECAAAECBAgQIECAAAECBAgQKFhAArDg4OgaAQIECBAgQIAAAQIECBAgQIAAgWEFJACHFbQ9AQIECBAgQIAAAQIECBAgQIAAgYIFJAALDo6uESBAgAABAgQIECBAgAABAgQIEBhWQAJwWEHbEyBAgAABAgQIECBAgAABAgQIEChYQAKw4ODoGgECBAgQIECAAAECBAgQIECAAIFhBSQAhxW0PQECBAgQIECAAAECBAgQIECAAIGCBSQACw6OrhEgQIAAAQIECBAgQIAAAQIECBAYVkACcFhB2xMgQIAAAQIECBAgQIAAAQIECBAoWEACsODg6BoBAgQIECBAgAABAgQIECBAgACBYQUkAIcVtD0BAgQIECBAgAABAgQIECBAgACBggUkAAsOjq4RIECAAAECBAgQIECAAAECBAgQGFZAAnBYQdsTIECAAAECBAgQIECAAAECBAgQKFhAArDg4OgaAQIECBAgQIAAAQIECBAgQIAAgWEFJACHFbQ9AQIECBAgQIAAAQIECBAgQIAAgYIFJAALDo6uESBAgAABAgQIECBAgAABAgQIEBhWQAJwWEHbEyBAgAABAgQIECBAgAABAgQIEChYQAKw4ODoGgECBAgQIECAAAECBAgQIECAAIFhBSQAhxW0PQECBAgQIECAAAECBAgQIECAAIGCBSQACw6OrhEgQIAAAQIECBAgQIAAAQIECBAYVkACcFhB2xMgQIAAAQIECBAgQIAAAQIECBAoWGCh4L7p2s4S+PW20/HdawMxS4AAAQIECBAgQIAAAQIECBAYh4A7AMehap8ECBAgQIAAAQIECBAgQIAAAQIEChFwF1YhgZiDbry+7RwXY361bZlZAgQIECBAgAABAgQIECBAgACBEQu4A3DEoHZHgAABAgQI7GyBa9euV8+/tF7lp0KAAAECBAgQIEBgFgTcATgLUdJHAgQIECBAYOoCT115rnpg5enqsYvPVi+8fLW67ebd1T1H9ldnjh+qDh/YO/X+6QABAgQIECBAgACBbgISgN1kLCdAgAABAgQIbAo8fOFydf+DT1brLXf9ZRLwoScuV49cuFKdPXW0OnnsIC8CBAgQIECAAAECRQp4BLjIsOgUAQIECBAgUIpA3vnXnvxr7VsmBXN9tlMIECBAgAABAgQIlCggAVhiVPSJAAECBAgQKEYgH/ttvfOvU8dy/bmVS51WWUaAAAECBAgQIEBg6gISgFMPgQ4QIECAAAECpQrkQB/5zr8m5dGLzxgYpAmUNgQIECBAgAABAhMXkACcOLkDEiBAgAABArMi8OL61Y0BP5r0N98JmO0VAgQIECBAgAABAqUJSACWFhH9IUCAAAECBIoRuHVh98Zov006lKMCZ3uFAAECBAgQIECAQGkCEoClRUR/CBAgQIAAgWIEdu26qbrnyP5G/bn3yB1VtlcIECBAgAABAgQIlCYgAVhaRPSHAAECBAgQKErgzPFD1cI2ib1cf9/xu4rqt84QIECAAAECBAgQqAUkAGsJnwQIECBAgACBDgKHD+ytzp462jUJmMm/XJ/tFAIECBAgQIAAAQIlCiyU2Cl9IkCAAAECBAiUJHDy2MHq7n17qnMrl6oc7TcH/Mh3/uVjv3nnn+RfSdHSFwIECBAgQIAAgXYBL6ppFzE/KYHFONBqHmx1dbVaXMxZhQABAgQIlC9w7dr1jdF+c8AP7/wrP156SIAAAQIE5l1gbW2tWlpaqhlyYq2e8Tk/Au4AnJ9YO1MCBAgQIEBgBAKZ9Lv9Fr9CjYDSLggQIECAAAECBCYk4B2AE4J2GAIECBAgQIAAAQIECBAgQIAAAQLTEJAAnIa6YxIgQIAAAQIECBAgQIAAAQIECBCYkIAE4ISgHYYAAQIECBAgQIAAAQIECBAgQIDANAQkAKeh7pgECBAgQIAAAQIECBAgQIAAAQIEJiQgATghaIchQIAAAQIECBAgQIAAAQIECBAgMA0BCcBpqDsmAQIECBAgQIAAAQIECBAgQIAAgQkJSABOCNphCBAgQIAAAQIECBAgQIAAAQIECExDQAJwGuqOSYAAAQIECBAgQIAAAQIECBAgQGBCAhKAE4J2GAIECBAgQIAAAQIECBAgQIAAAQLTEJAAnIa6YxIgQIAAAQIECBAgQIAAAQIECBCYkIAE4ISgHYYAAQIECBAgQIAAAQIECBAgQIDANAQkAKeh7pgECBAgQIAAAQIECBAgQIAAAQIEJiQgATghaIchQIAAAQIECBAgQIAAAQIECBAgMA0BCcBpqDsmAQIECAwlcO3a9er5l9ar/FQIECBAgAABAgQIECBAoLfAQu/V1hIgQIAAgXIEnrryXPXAytPVYxefrV54+Wp12827q3uO7K/OHD9UHT6wt5yO6gkBAgQIECBAgAABAgQKEpAALCgYukKAAAEC3QUevnC5uv/BJ6v1lrv+Mgn40BOXq0cuXKnOnjpanTx2sPsOrCFAgAABAgQIECBAgMCcCngEeE4D77QJECAwSwJ551978q+1/5kUzPXZTiFAgAABAgQIECBAgACBrQISgFs9zBEgQIBAgQL52G/rnX+dupjrz61c6rTKMgIECBAgQIAAAQIECMy1gATgXIffyRMgULqAwS6qjYE+8p1/TcqjF58xMEgTKG0IECBAgAABAgQIEJgrAe8AnKtwO1kCBGZFwGAXNyL14vrVjQE/bizpPpXvBMz2t9/ix1t3JWsIECBAgAABAgQIEJg3AXcAzlvEnS8BAsUL5GAXb3nXysbgFpnQylIPdpHLc/08lVsXdm+M9tvknHNU4GyvECBAgAABAgQIECBAgMANAQnAGxamCBAgMHUBg128NgS7dt1U3XNk/2tXdFhy75E7qmyvECBAgAABAgQIECBAgMANAQnAGxamCBAgMHUBg110DsGZ44eqhW0Se7n+vuN3dd6BpQQIECBAgAABAgQIEJhjAQnAOQ6+UydAoCyBHPDDYBedY3L4wN7q7KmjXZOAmfzL9dlOIUCAAAECBAgQIECAAIGtAt6SvtXDHAECBKYmYLCL3vQnjx2s7t63pzq3cqnK0X7zvYj5zr987Dfv/JP86+1nLQECBAgQIECAAAEC8ysgATi/sXfmBAgUJlAPdlEP/NGre/M62EV9J+A7v/GNG6P9ppl3/vX6plhHgAABAgQIECBAgACBqvIIsG8BAQIEChEw2EXzQKTV7bcsSP41J9OSAAECBAgQIECAAIE5FpAAnOPgO3UCBMoTMNhFeTHRIwIECBAgQIAAAQIECMy6gATgrEdQ/wkQ2FEC9SOu3Ua8NdjFjgq3kyFAgAABAgQIECBAgMBEBLwDcCLMDkKAAIHmAga7aG6lJQECBAgQIECAAAECBAhsL3DT9k20IDAWgcXY62rueXV1tVpczFmFAIF2gWvXrhvsoh3FPAECBAgQIECAAAECjQXW1taqpaWlun1OrNUzPudHwB2A8xNrZ0qAwAwK1INdzGDXdZkAAQIECBAgQIAAAQIEChHwDsBCAqEbBAgQIECAAAECBAgQIECAAAECBMYhIAE4DlX7JECAAAECBAgQIECAAAECBAgQIFCIgARgIYHQDQIECBAgQIAAAQIECBAgQIAAAQLjEJAAHIeqfRIgQIAAAQIECBAgQIAAAQIECBAoREACsJBA6AYBAgQIECBAgAABAgQIECBAgACBcQhIAI5D1T4JECBAgAABAgQIECBAgAABAgQIFCIgAVhIIHSDAAECBAgQIECAAAECBAgQIECAwDgEJADHoWqfBAgQIECAAAECBAgQIECAAAECBAoRkAAsJBC6QYAAAQIECBAgQIAAAQIECBAgQGAcAhKA41C1TwIECBAgQGDHC1y7dr16/qX1Kj8VAgQIECBAgAABAiULLJTcOX0jQIAAAQIECJQm8NSV56oHVp6uHrv4bPXCy1er227eXd1zZH915vih6vCBvaV1V38IECBAgAABAgQIVBKAvgQECBAgQIAAgYYCD1+4XN3/4JPVestdf5kEfOiJy9UjF65UZ08drU4eO9hwb5oRIECAAAECBAgQmIyAR4An4+woBAgQIECAwIwL5J1/7cm/1lPKpGCuz3YKAQIECBAgQIAAgZIEJABLioa+ECBAgAABAsUK5GO/rXf+deporj+3cqnTKssIECBAgAABAgQITE1AAnBq9HN34F+PM26tPz93Ak6YAAECBGZWIAf6yHf+NSmPXnzGwCBNoLQhQIAAAQIECBCYmIAE4MSoHYgAAQIECBCYVYEX169uDPjRpP/5TsBsrxAgQIAAAQIECBAoRcAgIKVEYuf34/Vtp7gY86tty8wSIECAAIEiBW5d2L0x2m8m97YrOSpwtlcIECBAgAABAgQIlCLgDsBSIqEfBAgQIECAQLECu3bdVN1zZH+j/t175I4q2ysECBAgQIAAAQIEShGQACwlEvpBgAABAgQIFC1w5vihamGbxF6uv+/4XUWfh84RIECAAAECBAjMn4AE4PzF3BkTIECAAAECAwgcPrC3OnvqaNckYCb/cn22UwgQIECAAAECBAiUJOAdgCVFQ18IECBAgACBogVOHjtY3b1vT3Vu5VKVo/3mOwHznX/52G/e+Sf5V3T4dI4AAQIECBAgMLcCXlAzt6Gf+om/OgjI6upqtbiYswoBAgQIEJgdgWvXrm+M9psDfnjn3+zETU8JECBAgMC8CaytrVVLS0v1aefEWj3jc34E3AE4P7F2pgQIECBAgMAIBTLpd/stfpUaIaldESBAgAABAgQIjEnAOwDHBGu3BAgQIECAAAECBAgQIECAAAECBEoQkAAsIQr6QIAAAQIECMycQD4C/PxL61V+KgQIECBAgAABAgRKFvDcSsnR0TcCBAgQIECgOIGnrjxXPbDydPXYxWdfHQTkniP7qzPHDxkEpLho6RABAgQIECBAgEAKSAD6HhAgQGDOBQxkMOdfAKffl8DDFy5X9z/4ZLXectdfjgT80BOXq0cuXKnOnjpa5UjBCgECBAgQIECAAIGSBCQAS4qGvhAgQGCCAu5imiC2Q+0Igbxm2pN/rSeWScFcf/e+Pe4EbIUxTYAAAQIECBAgMHUB7wCcegh0gAABApMXyLuY3vKulY27lvLupSz1XUy5PNcrBAhsFcjHflvv/Nu69pW5XH9u5VKnVZYRIECAAAECBAgQmJqABODU6B2YAAEC0xFoehdTtlMIEHhFIB+Vz3f+NSmPXnzGwCBNoLQhQIAAAQIECBCYmIAE4MSoHYgAAQJlCLiLqYw46MVsCby4fnXjLtkmvc67abO9QoAAAQIECBAgQKAUAQnAUiKhHwQIEJiAgLuYJoDsEDtS4NaF3dVtN+9udG7ZLtsrBAgQIECAAAECBEoRkAAsJRL6QYAAgQkIuItpAsgOsSMFdu26qbrnyP5G53bvkTuqbK8QIECAAAECBAgQKEVAArCUSOgHAQIEJiDgLqYJIDvEjhU4c/xQtbBNYi/X33f8rh1r4MQIECBAgAABAgRmU0ACcDbjptcECBAYSMBdTAOx2YjAhsDhA3urs6eOdk0CZvIv12c7hQABAgQIECBAgEBJAhKAJUVDXwgQIDABAXcxTQDZIXaswMljB6tHvu149dY/u/jqOwHznX85n8tzvUKAAAECBAgQIECgNAEvqCktIvPTn8U41dU83dXV1WpxMWcVAgQmJfDwhcvV/Q8+Wa1fu/6aQ9Z3MUlkvIbGAgJbBHJQnXyvZj5a751/W2jMECBAgAABAgUJrK2tVUtLS3WPcmKtnvE5PwIL83OqzpQAAQIEaoFM7t29b091buVS9ejFZ6oXXr66cTdTDl6Q7y/zCGMt5ZNAd4FM+t1+i1+lugtZQ4AAAQIECBAgUIqAOwBLicT89cMdgPMXc2dcqIC7mAoNjG4RIECAAAECBAgQGIGAOwBHgLgDduHP1jsgiE6BAAECwwi4i2kYPdsSIECAAAECBAgQIECgfAGDgJQfIz0kQIAAAQIECBAgQIAAAQIECBAgMLCABODAdDYkQIAAAQIECBAgQIAAAQIECBAgUL6ABGD5MdJDAgQIECBAgAABAgQIECBAgAABAgMLSAAOTGdDAgQIECBAgAABAgQIECBAgAABAuULSACWHyM9JECAAAECBAgQIECAAAECBAgQIDCwgATgwHQ2JECAAAECBAgQIECAAAECBAgQIFC+gARg+THSQwIECBAgQIAAAQIECBAgQIAAAQIDC0gADkxnQwIECBAgQIAAAQIECBAgQIAAAQLlC0gAlh8jPSRAgAABAgQIECBAgAABAgQIECAwsIAE4MB0NiRAgAABAgQIECBAgAABAgQIECBQvoAEYPkx0kMCBAgQIECAAAECBAgQIECAAAECAwtIAA5MZ0MCBAgQIECAAAECBAgQIECAAAEC5QtIAJYfIz0kQIAAAQIECBAgQIAAAQIECBAgMLCABODAdDYkQIAAAQIECBAgQIAAAQIECBAgUL6ABGD5MdJDAgQIECBAgAABAgQIECBAgAABAgMLSAAOTGdDAgQIECBAgAABAgQIECBAgAABAuULSACWHyM9JECAAAECBAgQIECAAAECBAgQIDCwgATgwHQ2JECAAIFRCVy7dr16/qX1Kj8VAgQIECBAgAABAgQIEBitwMJod2dvBAgQIECgucBTV56rHlh5unrs4rPVCy9frW67eXd1z5H91Znjh6rDB/Y235GWBAgQIECAAAECBAgQINBVQAKwK40VBAgQIDBOgYcvXK7uf/DJar3lrr9MAj70xOXqkQtXqrOnjlYnjx0cZxfsmwABAgQIECBAgAABAnMh4BHguQizkyRAgEBZAnnnX3vyr7WHmRTM9dlOIUCAAAECBAgQIECAAIHhBCQAh/OzNQECBAgMIJCP/bbe+ddpF7n+3MqlTqssI0CAAAECBAgQIECAAIE+BCQA+8DSlAABAgQGE2gd5COn851/TcpP/9qV6qMvvmxwkCZY2hAgQIAAAQIECBAgQKCLgHcAdoGxmAABAgS2F8hk3ovrV6tbF3ZXu3bd9JoNOg3y8VWH920M+PGaxh0WvLh+rXrD8nsMDtLBxiICBAgQIECAAAECBAg0FXjtv9aabqkdgeEEFmPz1dzF6upqtbiYswoBArMi0Cmx1z56b6dBPoY9v4VIMhocZFhF2xMgQIAAAQIECMyTwNraWrW0tFSfck6s1TM+50fAHYDzE2tnSoAAgZEIdErstY/ee/e+PT0H+Ri0I/XgILn/wwf2Drob2xEgQIAAAQIECBAgQGCuBLwDcK7C7WQJECAwnEDT0XvPvue3th3kY9CeGBxkUDnbESBAgAABAgQIECAwrwISgPMaeedNgACBAQSajt77+Ps/PMDem2/y6MVnDAzSnEtLAgQIECBAgAABAgTmXEACcM6/AE6fAAECTQX6Gb33agwO0rR83bEDG4N8NG2f7fKR4xx8RCFAgAABAgQIECBAgACB7QW8A3B7Iy0IECBAIAQy4ZaJt1GW227eXf3rU8c2dvn8S+vVm7735xsdI7fLkYcVAgQIECBAgAABAgQIENhewB2A2xtpQYAAAQIhkAm3TLw1KbtvajbI/L1H7qh2xci+WT/p1purHEm4Sam3a9JWGwIECBAgQIAAAQIECMy7gATgvH8DnD8BAgQaCmSSrmmC7sTnflq1EO17lVx/3/G7tjQ5c/zQQNtt2YkZAgQIECBAgAABAgQIENgiIAG4hcMMAQIECPQSaJqgu/+rP7c6e+po12ReJv9y/eEDe7ccLucH2W7LTswQIECAAAECBAgQIECAwBYB7wDcwmGGAAECBHoJZILu+7/paPUP3/1ktd5hoI/WxF62vXvfnurcyqUqR+3N9wfmI8T5+G7e+dee/KuPe/LYwYG2q7f3SYAAAQIECBAgQIAAAQJbBXo/n7W1rTkCoxRYjJ2t5g5XV1erxcWcVQgQKFngqSvPVQ+sPF09dvHZjWTexnv+4qdIjvi7XWIvRxDOQUTyPYL5KHHTMuh2TfevHQECBAgQIECAAIGdLrC2tlYtLS3Vp5kTa/WMz/kRcAfg/MTamRIgQGBggYcvXK7uf3DrXX9Xr1+vqvjf7sjnfd83vKH6+s/vnsjPpN/tt/T/I2fQ7QY+URsSIECAAAECBAgQIEBgBwp4B+AODKpTIkCAwCgF8s6/9uRf6/6vRhLwHe/+tSrbKQQIECBAgAABAgQIECBQnoAEYHkx0SMCBAgUJZCP/XZ6319rJ3N9vutPIUCAAAECBAgQIECAAIHyBCQAy4uJHhEgQKAYgXwHX77zr0nJgT6yvUKAAAECBAgQIECAAAECZQlIAJYVD70hQIBAUQI5cEeO3tukZLtsrxAgQIAAAQIECBAgQIBAWQISgGXFQ28IECBQlECO2psj/DYp2S7bKwQIECBAgAABAgQIECBQloAEYFnx0BsCBAgUJZCj8N5zZH+jPt175I4q2ysECBAgQIAAAQIECBAgUJaABGBZ8dAbAgQIFCdw5vihamGbxF6uv+/4XcX1XYcIECBAgAABAgQIECBAoKokAH0LCBAgQKCnwOEDe6uzp452TQJm8i/XZzuFAAECBAgQIECAAAECBMoTWCivS3pEgAABAqUJnDx2sLp7357q3MqlKkf7zQE/8p1/+dhv3vkn+VdaxPSHAAECBAgQIECAAAECNwS8rOmGhanJCizG4VbzkKurq9XiYs4qBAjMgsC1a9c3RvvNAT+8828WIqaPBAgQIECAAAEC8yywtrZWLS0t1QQ5sVbP+JwfAXcAzk+snSkBAgRGIpBJv9tv8eNjJJh2QoAAAQIECBAgQIAAgQkIeAfgBJAdggABAgQIECBAgAABAgQIECBAgMC0BCQApyXvuAQIECBAgAABAgQIECBAgAABAgQmICABOAFkhyBAgAABAgQIECBAgAABAgQIECAwLQEJwGnJOy4BAgQIECBAgAABAgQIECBAgACBCQhIAE4A2SEIECBAgAABAgQIECBAgAABAgQITEtAAnBa8o5LgAABAgQIECBAgAABAgQIECBAYAICEoATQHYIAgQIECBAgAABAgQIECBAgAABAtMSkACclrzjEiBAgAABAgQIECBAgAABAgQIEJiAwMIEjuEQBFLg19sYfPfaQMwSIECAAAECBAgQIECAAAECBMYh4A7AcajaJwECBAgQIECAAAECBAgQIECAAIFCBNyFVUgg5qAbr287x8WYX21bZpYAAQIECBAgQIAAAQIECBAgQGDEAu4AHDGo3REgQIAAAQIECBAgQIAAAQIECBAoSUACsKRo6AsBAgQIECBAgAABAgQIECBAgACBEQtIAI4Y1O4IECBAgAABAgQIECBAgAABAgQIlCQgAVhSNPSFAAECBAgQIECAAAECBAgQIECAwIgFJABHDGp3BAgQIECAAAECBAgQIECAAAECBEoSkAAsKRr6QoAAAQIECBAgQIAAAQIECBAgQGDEAhKAIwa1OwIECBAgQIAAAQIECBAgQIAAAQIlCUgAlhQNfSFAgAABAgQIECBAgAABAgQIECAwYgEJwBGD2h0BAgQIECBAgAABAgQIECBAgACBkgQkAEuKhr4QIECAAAECBAgQIECAAAECBAgQGLGABOCIQe2OAAECBAgQIECAAAECBAgQIECAQEkCEoAlRUNfCBAgQIAAAQIECBAgQIAAAQIECIxYYGHE+7M7Ak0FdtcNn3nmmXrSJwECBAgQIECAAAECBAgQIDBCgbZ/c7/6b/ERHsKuZkDgphnooy7uTIEviNN63848NWdFgAABAgQIECBAgAABAgSKFHhT9OpXiuyZTo1VwCPAY+W1cwIECBAgQIAAAQIECBAgQIAAAQLTFXAH4HT95/nonxAnf2QT4MPxeXWeMUZw7vtjH/UdlfkXnWdHsE+7mLyAOE7efBxHFMdxqE5+n+I4efNxHFEcx6E6+X2K4+TNx3FEcRyH6uT3KY6TNx/FEfOx30/b3NHF+Pz4KHZqHwQIECAweYHFOOT1zZrTymwKiONsxq291+LYLjKb8+I4m3Fr77U4tovM5rw4zmbc2nstju0iszkvjrMZN70mUHkE2JeAAAECBAgQIECAAAECBAgQIECAwA4WkADcwcF1agQIECBAgAABAgQIECBAgAABAgQkAH0HCBAgQIAAAQIECBAgQIAAAQIECOxgAQnAHRxcp0aAAAECBAgQIECAAAECBAgQIEBAAtB3gAABAgQIECBAgAABAgQIECBAgMAOFpAA3MHBdWoECBAgQIAAAQIECBAgQIAAAQIEJAB9BwgQIECAAAECBAgQIECAAAECBAgQIECAAAECBAgQIECAAAECBAgQIECAAAECBAgQIECAAAECBAgQIECAAAECBAgQIECAAAECBAgQIECAAAECBAgQIECAAAECBAgQIECAAAECBAgQIECAAAECBAgQIECAAAECBAgQIECAAAECBAgQIECAAAECBAgQIECAAAECBAgQIECAAAECBAgQIECAAAECBAgQIECAAAECBAgQIECAAAECBAgQIECAAAECBAgQIECAAAECBAgQIECAAAECBAgQIECAAAECBAgQIECAAAECBAgQIECAAAECBAgQIECAAAECBAgQIECAAAECBAgQIECAAAECBAgQIECAAAEC8yFwe5zmP4r6vqh/GPVjUX8z6tmonxl12HIidnC9YV2OdspWgYxBxiJjkrHJGGWs3hE1Yzeq8tdiR++J+mzUF6P+TtT/EvWLoyrDC4wzjsvRvabX2InhT2Xu9rAvzvhron5P1Mei/n7U2vt8TI+juB5HrzqpOC5H1+vvx3afJ0Z/mjt+j18QZ/hPo+bPq7WoH4/60ajvj/pDUY9HHXVxPY5atKomFcfl6Pp212G9/sToT3NH73FvnN3boubvqL8U9QNR/zjqS1E/FPXxqPnvi0+JOqriWhyVpP0QIECAwFwKfHacdf7SXP/y0/6ZP8jzH77DlBOxcft+u80vD3OgHbjt18Y5ZQy6ef1WrMsYDlNui41/Omq3Y1yNdd89zAFsW407jsth3C1+7ctPiEffAu2GrfPn+95b7w1cj719hlnbGrf26fPD7Lht2+WYb99/t/kTbdua7S3w3ljdzbJ1+Q9Hu1t676rRWtdjI6a+G00yjsvRu9bvRq/pE32fyXxv8JUNbT8c7f7SkFSuxSEBbU6AAAECBPYEQSaQ6l+G/mNMf3nUL476XVH/JGquy7vOjkUdtJyIDetj/K2YfkOPmndoKK8IfH58PB817TIWGZOMTcYoY1WbZgwzloOWH4sN6339QkyfjPqmqN8aNf+aW697e0wr/QtMIo7L0a06Tr2ur1z3if2fwtxvUdvmZ94Z+zNR62XnY3qUxfU4Ss2t+6pjNu44Lsdh62O5HrfGYNi5+mfS5djRD0R9a9T8efVFUb8jat4RWNv/aEwPW1yPwwp23n6ScVyOLtTfCddj53gMujQTgL8bNRPufy/q10fNa/FLop6K+mDU9ajp//GoR6MOWlyLg8rZjgABAgQIbAp8T3zWvxS9o4NK/gB/ebPN4x3WN110IhrWx8lppZnAe6NZumUMMvHXXjJmtetJoH1FAAATWElEQVRy+8qG81/eso9HYnp323afGvOZ8Mjj/FHUPxVV6U9gEnFcji7V34X+eqd1E4F/Fo2+Juqnbza+Mz5r7/Oby0bx4XochWL3fUwqjsvRhfr70b031gwi8FOxUSYW2n9W1fvKn1n5R7Ha/y/WKwb4dD0OgNZwk0nGcTn6VH8fGnZPs4YC3a7D1s2/LmZq/4daV/Qx7VrsA0tTAgQIECDQSeDmWPiRqPlD+amou6J2Kj8YC+sf3PlX9kHKidio3kdOK9sLfGE0qc0yBp1Kxixjl+0yOZcx7bc8Ghvk9plkXOyy8ds222S7ToniLptZHAKTiuNyHKv+voAfv8CdLd7nR3g41+MIMRvs6s5oU1835xu0b9pkORrW+226jXajE8hkfe3/74bYretxCLwRbDqqOC5HX+rvwwi6ZRcDCPzmZgzyUeBBimtxEDXbEJiAQLcEwgQO7RAECPQp8GXR/pM3t/nh+LzWZfvzLcvz1n5lMgL5F9O6/FA90faZMfuRzWWvi8+MaT8lHxv+is0Nfi4+89GpTiX/Yvvc5grfgU5C3ZdNIo7dj27NLAm4HmcpWvpassAvtnTus1qm+5l0PfajNZ62o4jjeHpmr/0K5Gtsstz6ykdf/3Ut9sWlMYHJCkgATtbb0QgMI3C8ZeNfaplun/yVWPD85sIvbV9pfmwCdXw+Fkf41R5HaY1dv/HJOzrrl6S37qf9cC/Fgl/eXJjbDHKnYfs+52V+EnGcF8udfp6ux50eYec3KYFPaDlQDmI1SHE9DqI22m1GEcfR9sjeBhH43Njo2OaGeSdgv8W12K+Y9gQmKCABOEFshyIwpMDhlu17/UBej3Yf2Gz7eS3bDDr5vbHh70TNlwHnY6v/J+q/ifo5UZUbArV12mcMupXW2NXbdGvbvrzpdyC3q4+zENN3t+/IfFeBOibjjGP7wd8TCz4UNRO3+fl41O+M6v2NgVBwcT0WHJwhuuZ6HAJvwE3f3LLdb7RM9zPpeuxHazxtRxHH9p65HttFxjN/e+w2f1f8B1HzD8z5u2OWH3jlo6//uhb74tKYwGQFJAAn6+1oBIYRWNzc+GPx+ZFtdrS6uf7T4rP1L7LbbNZx9ZfE0s+ImneevS5q/lXw26PmL+nLUW+KOu8lH5HIF5ln6fZY7itrX0miZgyzLL3y0fi/9XcgN9juOPV3INv2e5zcZh7LpOLYbvtVsSCv1Zs3P/MfUf8i6tNRT0ZVyhRwPZYZl2F75XocVrC/7fPfIvkHj7o8WE/0+el67BNsxM1HFcf2brke20VGN386dnV9s+bvpe+PejZqPXjWv4zpH43ab3Et9iumPYEJCtTZ/Qke0qEIEBhQIN+pkeWjr3z0/G+dYMpGnxQ1797rtzwTG+S75FaiZiJiPWomAvMlz38zaiYrvjtqJga/K+o8lzo2adA0Pp8YbTM2/ZR+jtP+HejnOPPath/fNErjQeJY+16MiZ+M+r+jXoma11Q+evPNUb86aibcfyLq10Z9LKpSlkA/3xfXY1mx69Qb12MnlfEv+444xBduHiZ/5/jVAQ/pehwQbkSbjSqOdXdcj7XE5D8vxCHfHvV9Ax7atTggnM0IECBAgECrwG/HTP6l7ndbF3aZ/pHNttm+9S9xXZq/ZnEmNTIZ0a3kL+sfiZr7vxb1aNR5LnmHXVpkTfvtSsYw235gu4Zt689tbpfbHmpb1z77rS1tv6V9pfmOApOKYx48k3u9yt+OlfV36nJM592JyuACd8amtef5wXezZUvX4xaOiczcGUcZdRyz467HVJh8eXMcMke0z5j+XtR9UQctrsdB5YbfbpRxzN64HoePSZM9pPMbNuub4vNtUTMJn9dj/n6af/AfpLgWB1GzDYEJCeya0HEchsA8CeQPzmHr6Q5gL24uyzvutiuf0NLghZbpppN5t0r+Ut6t5B1L37a5Mh8Brqe7td/py+vY5Hn2E59+Y9PPcYb9Duz0mHU6v358c/vauN845rYfyf/0KP8h1uUv0VkORH3rxpT/lCTQz/el/q5k/wf5vpR03juxL67HyUf19XHI/xo1n0bKa+mbon4o6qDF9Tio3HDbjTqO2RvX43Axabp1Ov/fzZp3+/141G+Imk/55B+ZH456Omq/xbXYr5j2BCYoIAE4QWyHIjCkwJ9sbv9JDfaTd/DVpckjqXXbfj7zF4XnNjfIv/7Oc6ljkwb9xKff2PRznEl8B3ZazPvxzXOvjfuNY1O3TALWZd6vsdqhpM9+vi/1dyX7P67vS0k2O7EvrsfRRfWu2NV7ouZAR1ejvi3qe6MOU1yPw+gNtu044ti0J67HplL9t/vPscm7o2ae4F1R/3TUfoprsR8tbQlMWMA7ACcM7nBzIVCPIjrMyT7TYeO1WPbno+Y/JF8XtddfSJdifZYPR/34xtTo/7Meu8wXBn9B1IOj3/1M7TH/2vkHUT8l6uI2Pc9/8NTJgNaBOrbZbGN1fgfqksf5lXqmw2f9HchV/R6nw+7mYtGk4tgU86mWhvN+jbVQFDPpeiwmFBPpiOtxNMx5R/PPRc3PfFriW6PmnUbDFtfjsIL9bT+uODbtheuxqdRg7fKaPBU1f1/9y1F/NGrT4lpsKqUdgSkILEzhmA5JYKcL/OaYTjB/2Xnr5r7/THz+cpfj5HX9WZvrfqNLm1Etzl/elVcEMj5/IepnR80YZIK0U8nY1aXf+LT+wtu6n3p/rZ/1+uzH/2tdYbqnwCTi2LMDLStdXy0YBU66HgsMyhi75HocHvdTYxc/G/XQ5q7+bnz+yOb0sB+ux2EFm28/zjg27YXrsanUYO3yBoK6fGY90fDTtdgQSjMC0xDIW3sVAgRmQ2ClpZtvbplun8w78uo7zP5n+8oRzmeS63M293dlhPud1V3V8Un7P9fjJFpj12983hf7fWlz3637aT9cvofwizYX5jYvtzcw31VgEnHsevC2FYdb5l1jLRiFTLoeCwnEhLrhehwO+pNj85+JWjt+Z0z/++F2uWVr1+MWjrHNjDuOTTtef4+yvZ+PTdWat2t96uCjzTfbaOla7BNMcwIECBAg0Ekgkzr52O/1qPnXtRx8o1P5wViYbbLmqF7jKt8cO66P88C4DjJD+/3CFo+MQaeSf3TJ2KXbH0XtNdJyrO5YHo2luX0m9RY7tnjlfUp1bN7RpY3FnQUmFcfOR9+69D/FbB3Hb9m6ylyfAndG+9ryfJ/b9mrueuylM/p1d8YuxxHHJj11PTZR6tzm9licf1ypY/fPOzcbeqnrcWjCnjuYVBx7dmJzpeuxidLgbX46Nq2v1xMD7Ma1OACaTQgQIECAQLvA98SC+gdyp8TOF8f6TAxlm8ejdip3xsJ6H493aJDvqDvRYXnrokySZAIr93Mtaq873mL13JT3xpmmScYgY9FeMma1/XL7ypg/HbXX+tzky1va5DtadufClpKP5vxO1NxPxijjqfQnMO44HonufPY2XXp7rK+/C/lO0E/cpr3VvQXujNW15/neTV9dezqm6m2WX126dcL1uNVj3HN3xgHqmJxveLDTLdssd9jG9dgBZYSL8o+XeedfHbcfGHDfp1v2sdxlH67HLjAjWDypOLoeRxCsHrs4Hetu7bE+V31H1Pp6fTqm23/PPN2yfjmmOxXXYicVywgUILBQQB90gQCB5gLvjKZ/NernRP1XUTOJ8ONRX4j6ZVG/K2pe1zn/7VEHKfl4xy9G/bWoPxn1V6NmAiJH6vuMqF8T9W9EzV8Gs3x/1GyjVNXfD4R8rPe2qO+J+n1R0zLn3xb17VGzvD/q2Y2p/v/zC7FJxjz395aoPxs1/0F1JWr+4vxPomacsvzjqJkEVPoTGHccM2Ged83md+OxqBej/kHUvHbz3Y3fHPWro2bJ6y6/Nx/LGaWxwPFomf//WJdMjNcll5+uZzY/z7fNN511PTaVGqzdJOLoehwsNk23+rFoWP//WV4v56K+ocfG+ZqL/Bk5SHE9DqLWbJtJxdH12Cweg7Zajg3z98+fiLoS9bej5iO+e6IeiZq/f3xp1Cx5LebvH/l7SL/FtdivmPYECBAgQKCLQP7jNX85rv861/75x7Euk3Tdyp2xot7m8Q6NWtfX7Tp9rse23x2126PIHXY9F4u+Ns4yY9DJLJf9VtTWxETMvlpOx1S93fKrS187kQnF1scz6m3qz/xlbfm1m1nSh8A443g6+lHHqtfn70e7k330WdMbAudjspdt+7obW96YOt2yj+Ubi18z5Xp8DcnIFpyPPbXHqtd8pwOfbtnHcocGret77dv12AGvwaJepp3WfbDLPk/H8rr9cpc2udj12ANniFW1fdPPD3Y51ulYXu9juUOb1vV1u06frscOeA0WfTDadPJsX7Ya7b6qy/5Ot+xjuUubXOxa7IFjFYFpCSxM68COS4DAwAIfiC0/P+rfifpNUTOZdEvU/GGd79z4t1HzEdBBy5XYMPebj7Dmo74Ho+bdM/nIQCa2MoH1eNQHon4wqrJV4L/F7Buj5l1kfyXqYtT8K2rG7d1R3xX1+ajDlLzDM/f916Oejno06uui/l7U/xE1j/G/oiqDC4wzjnmd3hc1r7G8lj896qdEzWT6H0Z9Mup/j3o+6nNRlbIFXI9lx2e73rketxOarfWux9mKV3tvXY/tIqOd/4rY3VdGzaeGPi9q/ftHXjcfinoh6k9FfTCq31UDQSFAgAABAgQIECBAgAABAgQIECBAgAABAgQIECBAgAABAgQIECBAgAABAgQIECBAgAABAgQIECBAgAABAgQIECBAgAABAgQIECBAgAABAgQIECBAgAABAgQIECBAgAABAgQIECBAgAABAgQIECBAgAABAgQIECBAgAABAgQIECBAgAABAgQIECBAgAABAgQIECBAgAABAgQIECBAgAABAgQIECBAgAABAgQIECBAgAABAgQIECBAgAABAgQIECBAgAABAgQIECBAgAABAgQIECBAgAABAgQIECBAgAABAgQIECBAgAABAgQIECBAgAABAgQIECBAgAABAgQIECBAgAABAgQIECBAgAABAgQIECBAgAABAgQIECBAgAABAgQIECBAgAABAgQIECBAgAABAgQIECBAgAABAgQIECBAgAABAgQIECBAgAABAgQIECBAgAABAgQIECBAgAABAgQIECBAgAABAgQIECBAgAABAgQIECBAgAABAgQIECBAgAABAgQIECBAgAABAgQIECBAgAABAgQIECBAgAABAgQIECBAgAABAgQIECBAgAABAgQIECBAgAABAgQIECBAgAABAgQIECBAgAABAgQIECBAgAABAgQIECBAgAABAgQIECBAgAABAgQIECBAgAABAgQIECBAgAABAgQIECBAgAABAgQIECBAgAABAgQIECBAgAABAgQIECBAgAABAgQIECBAgAABAgQIECBAgAABAgQIECBAgAABAgQIECBAgAABAgQIECBAgAABAgQIECBAgAABAgQIECBAgAABAgQIECBAgAABAgQIECBAgAABAgQIECBAgAABAgQIECBAgAABAgQIECBAgAABAgQIECBAgAABAgQIECBAgAABAgQIECBAgAABAgQIECBAgAABAgQIECBAgAABAgQIECBAgAABAgQIECBAgAABAgQIECBAgAABAgQIECBAgAABAgQIECBAgAABAgQIECBAgAABAgQIECBAgAABAgQIECBAgAABAgQIECBAgAABAgQIECBAgAABAgQIECBAgAABAgQIECBAgAABAgQIECBAgAABAgQIECBAgAABAgQIECBAgAABAgQIECBAgAABAgQIECBAgAABAgQIECBAgAABAgQIECBAgAABAgQIECBAgAABAgQIECBAgAABAgQIECBAgAABAgQIECBAgAABAgQIECBAgAABAgQIECBAgAABAgQIECBAgAABAgQIECBAgAABAgQIECBAgAABAgQIECBAgAABAgQIECBAgAABAgQIECBAgAABAgQIECBAgAABAgQIECBAgAABAgQIECBAgAABAgQIECBAgAABAgQIECBAgAABAgQIECBAgAABAgQIECBAgAABAgQIECBAgAABAgQIECBAgAABAgQIECBAgAABAgQIECBAgAABAgQIECBAgAABAgQIECBAgAABAgQIECBAgAABAgQIECBAgAABAgQIECBAgAABAgQIECBAgAABAgQIECBAgAABAgQIECBAgAABAgQIECBAgAABAgQIECBAgAABAgQIECBAgAABAgQIECBAgAABAgQIECBAgAABAgQIECBAgAABAgQIECBAgAABAgQIECBAgAABAgQIECBAgAABAgQIECBAgAABAgQIECBAgAABAgQIECBAgAABAgQIECBAgAABAgQIECBAgAABAgQIECBAgAABAgQIECBAgAABAgQIECBAgAABAgQIECBAgAABAgQIECBAgAABAgQIECBAgAABAgQIECBAgAABAgQIECBAgAABAgQIECBAgAABAgQIECBAgAABAgQIECBAgAABAgQIECBAgAABAgQIECBAgAABAgQIECBAgAABAgQIECBAgAABAgQIECBAgAABAgQIECBAgAABAgQIECBAgAABAgQIENhe4P8DLY7vJ9tgY9UAAAAASUVORK5CYII=\" width=\"640\">"
      ],
      "text/plain": [
       "<IPython.core.display.HTML object>"
      ]
     },
     "metadata": {},
     "output_type": "display_data"
    }
   ],
   "source": [
    "%matplotlib notebook\n",
    "\n",
    "plt.figure(1)\n",
    "plt.plot(c_eri['OMSATEMP']-c_eri['TAMBIENT'],c_eri['CONTR040'],'.')\n",
    "plt.yscale('log')"
   ]
  },
  {
   "cell_type": "code",
   "execution_count": 89,
   "metadata": {
    "collapsed": true
   },
   "outputs": [],
   "source": [
    "aotelem = pd.read_csv('aotelem_20190226.txt')"
   ]
  },
  {
   "cell_type": "code",
   "execution_count": 105,
   "metadata": {
    "collapsed": false
   },
   "outputs": [],
   "source": [
    "Eri_list =list(aotelem.loc[np.where(aotelem['objname']=='c Eri')[0],'datafile'])"
   ]
  },
  {
   "cell_type": "code",
   "execution_count": 155,
   "metadata": {
    "collapsed": false
   },
   "outputs": [],
   "source": [
    "result = [re.search('ugp_(.*)_phase', n).group(1) for n in Eri_list]"
   ]
  },
  {
   "cell_type": "code",
   "execution_count": 156,
   "metadata": {
    "collapsed": false
   },
   "outputs": [],
   "source": [
    "result = set(result)"
   ]
  },
  {
   "cell_type": "code",
   "execution_count": 117,
   "metadata": {
    "collapsed": true
   },
   "outputs": [],
   "source": [
    "sample_list = pd.DataFrame({'phase_file':list(result)})\n",
    "sample_list.to_csv(save_path+'c_Eri_samples.txt',index=False,header=False)"
   ]
  },
  {
   "cell_type": "code",
   "execution_count": 148,
   "metadata": {
    "collapsed": false
   },
   "outputs": [],
   "source": [
    "l1 = set(pd.read_csv(save_path+'phase_samples_20181116.txt',header=None)[0].values)\n",
    "l2 = set(pd.read_csv(save_path+'phase_samples_20181116.txt',header=None)[0].values)\n",
    "l3 = set(pd.read_csv(save_path+'phase_samples_20181116.txt',header=None)[0].values)"
   ]
  },
  {
   "cell_type": "code",
   "execution_count": 157,
   "metadata": {
    "collapsed": false,
    "scrolled": true
   },
   "outputs": [],
   "source": [
    "l123=set()\n",
    "l123.update(l1)\n",
    "l123.update(l2)\n",
    "l123.update(l3)"
   ]
  },
  {
   "cell_type": "code",
   "execution_count": 144,
   "metadata": {
    "collapsed": false
   },
   "outputs": [],
   "source": [
    "l123.intersection_update(set(result))"
   ]
  },
  {
   "cell_type": "code",
   "execution_count": 153,
   "metadata": {
    "collapsed": false
   },
   "outputs": [],
   "source": [
    "s = result &= l123"
   ]
  }
 ],
 "metadata": {
  "kernelspec": {
   "display_name": "Python 3",
   "language": "python",
   "name": "python3"
  },
  "language_info": {
   "codemirror_mode": {
    "name": "ipython",
    "version": 3
   },
   "file_extension": ".py",
   "mimetype": "text/x-python",
   "name": "python",
   "nbconvert_exporter": "python",
   "pygments_lexer": "ipython3",
   "version": "3.6.5"
  }
 },
 "nbformat": 4,
 "nbformat_minor": 2
}
